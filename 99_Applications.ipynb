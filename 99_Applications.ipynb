{
 "cells": [
  {
   "cell_type": "markdown",
   "metadata": {
    "collapsed": false
   },
   "source": [
    "## Milagro\n",
    "\n",
    "http://milagro.incubator.apache.org/\n",
    "\n",
    "https://github.com/miracl/milagro-crypto-c\n",
    "\n",
    "## Demo\n",
    "\n",
    "http://tcb.miracl.com/#\n",
    "\n",
    "https://m-pindemo.certivox.org/\n",
    "\n",
    "awesome iot"
   ]
  },
  {
   "cell_type": "code",
   "execution_count": null,
   "metadata": {
    "collapsed": true
   },
   "outputs": [],
   "source": []
  }
 ],
 "metadata": {
  "kernelspec": {
   "display_name": "Python 2 (SageMath)",
   "language": "python",
   "name": "python2"
  },
  "language_info": {
   "codemirror_mode": {
    "name": "ipython",
    "version": 2
   },
   "file_extension": ".py",
   "mimetype": "text/x-python",
   "name": "python",
   "nbconvert_exporter": "python",
   "pygments_lexer": "ipython2",
   "version": "2.7.10"
  }
 },
 "nbformat": 4,
 "nbformat_minor": 0
}
