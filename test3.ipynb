{
 "cells": [
  {
   "cell_type": "code",
   "execution_count": 22,
   "metadata": {
    "collapsed": false
   },
   "outputs": [],
   "source": [
    "from Crypto.Random import random\n",
    "\n",
    "def randbytes(k):\n",
    "    return random.getrandbits(8*k).to_bytes(k, byteorder='big')\n",
    "\n",
    "def padPKCS7(x, k):\n",
    "    ch = k - (len(x) % k)\n",
    "    return x + bytes([ch] * ch)"
   ]
  },
  {
   "cell_type": "code",
   "execution_count": 23,
   "metadata": {
    "collapsed": false
   },
   "outputs": [],
   "source": [
    "# Taken from https://github.com/sfstpala/SlowSHA\n",
    "class SHA1 (object):\n",
    "    _default_h0, _default_h1, _default_h2, _default_h3, _default_h4, = (\n",
    "        0x67452301, 0xefcdab89, 0x98badcfe, 0x10325476, 0xc3d2e1f0)\n",
    "\n",
    "    def __init__(self, message, h0 = _default_h0, h1 = _default_h1, h2 = _default_h2, h3 = _default_h3, h4 = _default_h4, length = None):\n",
    "        self._h0 = h0\n",
    "        self._h1 = h1\n",
    "        self._h2 = h2\n",
    "        self._h3 = h3\n",
    "        self._h4 = h4\n",
    "        if length is None:\n",
    "            length = len(message) * 8\n",
    "        length = bin(length)[2:].rjust(64, \"0\")\n",
    "        while len(message) > 64:\n",
    "            self._handle(''.join(bin(i)[2:].rjust(8, \"0\")\n",
    "                for i in message[:64]))\n",
    "            message = message[64:]\n",
    "        message = ''.join(bin(i)[2:].rjust(8, \"0\") for i in message) + \"1\"\n",
    "        message += \"0\" * ((448 - len(message) % 512) % 512) + length\n",
    "        for i in range(len(message) // 512):\n",
    "            self._handle(message[i * 512:i * 512 + 512])\n",
    "\n",
    "\n",
    "    def _handle(self, chunk):\n",
    "\n",
    "        lrot = lambda x, n: (x << n) | (x >> (32 - n))\n",
    "        w = []\n",
    "\n",
    "        for j in range(len(chunk) // 32):\n",
    "            w.append(int(chunk[j * 32:j * 32 + 32], 2))\n",
    "\n",
    "        for i in range(16, 80):\n",
    "            w.append(lrot(w[i - 3] ^ w[i - 8] ^ w[i - 14] ^ w[i - 16], 1)\n",
    "                & 0xffffffff)\n",
    "\n",
    "        a = self._h0\n",
    "        b = self._h1\n",
    "        c = self._h2\n",
    "        d = self._h3\n",
    "        e = self._h4\n",
    "\n",
    "        for i in range(80):\n",
    "\n",
    "            if i <= i <= 19:\n",
    "                f, k = d ^ (b & (c ^ d)), 0x5a827999\n",
    "            elif 20 <= i <= 39:\n",
    "                f, k = b ^ c ^ d, 0x6ed9eba1\n",
    "            elif 40 <= i <= 59:\n",
    "                f, k = (b & c) | (d & (b | c)), 0x8f1bbcdc\n",
    "            elif 60 <= i <= 79:\n",
    "                f, k = b ^ c ^ d, 0xca62c1d6\n",
    "\n",
    "            temp = lrot(a, 5) + f + e + k + w[i] & 0xffffffff\n",
    "            a, b, c, d, e = temp, a, lrot(b, 30), c, d\n",
    "\n",
    "        self._h0 = (self._h0 + a) & 0xffffffff\n",
    "        self._h1 = (self._h1 + b) & 0xffffffff\n",
    "        self._h2 = (self._h2 + c) & 0xffffffff\n",
    "        self._h3 = (self._h3 + d) & 0xffffffff\n",
    "        self._h4 = (self._h4 + e) & 0xffffffff\n",
    "\n",
    "    def _digest(self):\n",
    "        return (self._h0, self._h1, self._h2, self._h3, self._h4)\n",
    "\n",
    "    def hexdigest(self):\n",
    "        return ''.join(hex(i)[2:].rjust(8, \"0\")\n",
    "            for i in self._digest())\n",
    "\n",
    "    def digest(self):\n",
    "        hexdigest = self.hexdigest()\n",
    "        return bytes(int(hexdigest[i * 2:i * 2 + 2], 16)\n",
    "            for i in range(len(hexdigest) // 2))\n",
    "\n",
    "def authSHA1(key, message):\n",
    "    return SHA1(key + message).digest()"
   ]
  },
  {
   "cell_type": "code",
   "execution_count": 41,
   "metadata": {
    "collapsed": false
   },
   "outputs": [
    {
     "name": "stdout",
     "output_type": "stream",
     "text": [
      "b'e\\xd2\\xa4\\xc4\\xe8\\x17\\xbf`|]\\xe0\\tA\\x87D\\x19\\xacN\\xcc\\x18' (1708303556, 3893870432, 2086526985, 1099383833, 2890845208)\n",
      "b'e\\xd2\\xa4\\xc4\\xe8\\x17\\xbf`|]\\xe0\\tA\\x87D\\x19\\xacN\\xcc\\x18' (1708303556, 3893870432, 2086526985, 1099383833, 2890845208)\n",
      "b'e\\xd2\\xa4\\xc4\\xe8\\x17\\xbf`|]\\xe0\\tA\\x87D\\x19\\xacN\\xcc\\x18' (1708303556, 3893870432, 2086526985, 1099383833, 2890845208)\n",
      "b'e\\xd2\\xa4\\xc4\\xe8\\x17\\xbf`|]\\xe0\\tA\\x87D\\x19\\xacN\\xcc\\x18' (1708303556, 3893870432, 2086526985, 1099383833, 2890845208)\n",
      "b'e\\xd2\\xa4\\xc4\\xe8\\x17\\xbf`|]\\xe0\\tA\\x87D\\x19\\xacN\\xcc\\x18' (1708303556, 3893870432, 2086526985, 1099383833, 2890845208)\n",
      "b'e\\xd2\\xa4\\xc4\\xe8\\x17\\xbf`|]\\xe0\\tA\\x87D\\x19\\xacN\\xcc\\x18' (1708303556, 3893870432, 2086526985, 1099383833, 2890845208)\n",
      "b'e\\xd2\\xa4\\xc4\\xe8\\x17\\xbf`|]\\xe0\\tA\\x87D\\x19\\xacN\\xcc\\x18' (1708303556, 3893870432, 2086526985, 1099383833, 2890845208)\n",
      "(b'comment1=cooking%20MCs;userdata=foo;comment2=%20like%20a%20pound%20of%20bacon\\x80\\x00\\x00\\x00\\x00\\x00\\x00\\x00\\x00\\x00\\x00\\x00\\x00\\x00\\x00\\x00\\x00\\x00\\x00\\x00\\x00\\x00\\x00\\x00\\x00\\x00\\x00\\x00\\x00\\x00\\x00\\x00\\x00\\x00\\x00\\x00\\x00\\x00\\x00\\x00\\x00\\x00\\x00\\x02\\x98;admin=true', b'\\x05S\\xaf\\x0c`\\x1bQ\\xa5\\xa4l\\xfc<\\xf2\\xb1\\xa8\\xab7\\x9aW/')\n"
     ]
    }
   ],
   "source": [
    "from Crypto.Random import random\n",
    "import struct\n",
    "\n",
    "def padSHA1(s):\n",
    "    l = len(s) * 8\n",
    "    s += b'\\x80'\n",
    "    s += b'\\x00' * ((56 - (len(s) % 64)) % 64)\n",
    "    s += struct.pack('>Q', l)\n",
    "    return s\n",
    "\n",
    "keylen = random.randint(0, 100)\n",
    "key = randbytes(keylen)\n",
    "\n",
    "def validate(message, digest):\n",
    "    return authSHA1(key, message) == digest\n",
    "\n",
    "message = b'comment1=cooking%20MCs;userdata=foo;comment2=%20like%20a%20pound%20of%20bacon'\n",
    "messageDigest = authSHA1(key, message)\n",
    "\n",
    "def forgeHash(keylen, message, digest, suffix):\n",
    "    paddedForgedMessageWithKey = padSHA1(key + message) + suffix\n",
    "    forgedMessage = paddedForgedMessageWithKey[keylen:]\n",
    "    h = struct.unpack('>5I', digest)\n",
    "    print (digest,h)\n",
    "    forgedDigest = SHA1(suffix, h[0], h[1], h[2], h[3], h[4], len(paddedForgedMessageWithKey) * 8).digest()\n",
    "    return (forgedMessage, forgedDigest)\n",
    "\n",
    "def forgeValidatingHash(maxkeylen, message, digest, suffix):\n",
    "    for i in range(maxkeylen):\n",
    "        (forgedMessage, forgedDigest) = forgeHash(i, message, digest, suffix)\n",
    "        if validate(forgedMessage, forgedDigest):\n",
    "            return(forgedMessage, forgedDigest)\n",
    "    raise Exception('unexpected')\n",
    "\n",
    "print(forgeValidatingHash(100, message, messageDigest, b';admin=true'))"
   ]
  },
  {
   "cell_type": "code",
   "execution_count": 43,
   "metadata": {
    "collapsed": false
   },
   "outputs": [
    {
     "ename": "AttributeError",
     "evalue": "'bytes' object has no attribute 'encode'",
     "output_type": "error",
     "traceback": [
      "\u001b[1;31m\u001b[0m",
      "\u001b[1;31mAttributeError\u001b[0mTraceback (most recent call last)",
      "\u001b[1;32m<ipython-input-43-ed84d540bb80>\u001b[0m in \u001b[0;36m<module>\u001b[1;34m()\u001b[0m\n\u001b[1;32m----> 1\u001b[1;33m \u001b[0mSHA1\u001b[0m\u001b[1;33m(\u001b[0m\u001b[1;34m\"\"\u001b[0m\u001b[1;33m)\u001b[0m\u001b[1;33m.\u001b[0m\u001b[0mdigest\u001b[0m\u001b[1;33m(\u001b[0m\u001b[1;33m)\u001b[0m\u001b[1;33m.\u001b[0m\u001b[0mencode\u001b[0m\u001b[1;33m(\u001b[0m\u001b[1;34m'hex'\u001b[0m\u001b[1;33m)\u001b[0m \u001b[1;31m# https://en.wikipedia.org/wiki/SHA-1\u001b[0m\u001b[1;33m\u001b[0m\u001b[0m\n\u001b[0m",
      "\u001b[1;31mAttributeError\u001b[0m: 'bytes' object has no attribute 'encode'"
     ]
    }
   ],
   "source": [
    "SHA1(\"\").digest() # https://en.wikipedia.org/wiki/SHA-1"
   ]
  },
  {
   "cell_type": "code",
   "execution_count": 46,
   "metadata": {
    "collapsed": false
   },
   "outputs": [
    {
     "ename": "TypeError",
     "evalue": "string argument without an encoding",
     "output_type": "error",
     "traceback": [
      "\u001b[1;31m\u001b[0m",
      "\u001b[1;31mTypeError\u001b[0mTraceback (most recent call last)",
      "\u001b[1;32m<ipython-input-46-c4246acd07d2>\u001b[0m in \u001b[0;36m<module>\u001b[1;34m()\u001b[0m\n\u001b[1;32m----> 1\u001b[1;33m \u001b[0mbytes\u001b[0m\u001b[1;33m(\u001b[0m\u001b[1;34m'da39a3ee5e6b4b0d3255bfef95601890afd80709'\u001b[0m\u001b[1;33m)\u001b[0m\u001b[1;33m\u001b[0m\u001b[0m\n\u001b[0m",
      "\u001b[1;31mTypeError\u001b[0m: string argument without an encoding"
     ]
    }
   ],
   "source": [
    "bytes('da39a3ee5e6b4b0d3255bfef95601890afd80709', h)"
   ]
  },
  {
   "cell_type": "code",
   "execution_count": null,
   "metadata": {
    "collapsed": true
   },
   "outputs": [],
   "source": []
  }
 ],
 "metadata": {
  "kernelspec": {
   "display_name": "Anaconda (Python 3)",
   "language": "python",
   "name": "anaconda3"
  },
  "language_info": {
   "codemirror_mode": {
    "name": "ipython",
    "version": 3
   },
   "file_extension": ".py",
   "mimetype": "text/x-python",
   "name": "python",
   "nbconvert_exporter": "python",
   "pygments_lexer": "ipython3",
   "version": "3.5.1"
  }
 },
 "nbformat": 4,
 "nbformat_minor": 0
}
