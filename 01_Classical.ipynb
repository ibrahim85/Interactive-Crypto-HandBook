{
 "cells": [
  {
   "cell_type": "markdown",
   "metadata": {
    "collapsed": false
   },
   "source": [
    "## Caesar shift\n",
    "首先介紹shift cipher的代表，加密是透過shift字母固定長度，此長度為key，例如: “A” -> “C”,  “B” -> “D”"
   ]
  },
  {
   "cell_type": "code",
   "execution_count": 1,
   "metadata": {
    "collapsed": true
   },
   "outputs": [],
   "source": [
    "from functools import partial\n",
    "\n",
    "alpha = \"abcdefghijklmnopqrstuvwxyz\".upper()\n",
    "punct = \",.?:;'\\n \"\n",
    "\n",
    "def shift(l, s=2):\n",
    "    l = l.upper()\n",
    "    return alpha[(alpha.index(l) + s) % 26]\n",
    "\n",
    "def caesar_shift_encrypt(m, s=2):\n",
    "    m = m.upper()\n",
    "    c = \"\".join(map(partial(shift, s=s), m))\n",
    "    return c\n",
    "\n",
    "def caesar_shift_decrypt(c, s=-2):\n",
    "    c = c.upper()\n",
    "    m = \"\".join(map(partial(shift, s=s), c))\n",
    "    return m"
   ]
  },
  {
   "cell_type": "code",
   "execution_count": 2,
   "metadata": {
    "collapsed": false
   },
   "outputs": [
    {
     "name": "stdout",
     "output_type": "stream",
     "text": [
      "Original Message:\n",
      "TobeornottobethatisthequestionWhethertisNoblerinthemindtosufferTheSlingsandArrowsofoutrageousFortuneOrtotakeArmsagainstaSeaoftroublesAndbyopposingendthem\n",
      "\n",
      "Ciphertext:\n",
      "VQDGQTPQVVQDGVJCVKUVJGSWGUVKQPYJGVJGTVKUPQDNGTKPVJGOKPFVQUWHHGTVJGUNKPIUCPFCTTQYUQHQWVTCIGQWUHQTVWPGQTVQVCMGCTOUCICKPUVCUGCQHVTQWDNGUCPFDAQRRQUKPIGPFVJGO\n",
      "Decrypted second message:\n",
      "TOBEORNOTTOBETHATISTHEQUESTIONWHETHERTISNOBLERINTHEMINDTOSUFFERTHESLINGSANDARROWSOFOUTRAGEOUSFORTUNEORTOTAKEARMSAGAINSTASEAOFTROUBLESANDBYOPPOSINGENDTHEM\n"
     ]
    }
   ],
   "source": [
    "m = \"\"\"To be, or not to be, that is the question:\n",
    "Whether 'tis Nobler in the mind to suffer\n",
    "The Slings and Arrows of outrageous Fortune,\n",
    "Or to take Arms against a Sea of troubles,\n",
    "And by opposing end them.\"\"\"\n",
    "\n",
    "m = \"\".join([l for l in m if not l in punct])\n",
    "\n",
    "print \"Original Message:\"\n",
    "print m\n",
    "\n",
    "print\n",
    "print \"Ciphertext:\"\n",
    "tobe_ciphertext = caesar_shift_encrypt(m)\n",
    "print tobe_ciphertext\n",
    "print \"Decrypted second message:\"\n",
    "print caesar_shift_decrypt(tobe_ciphertext)"
   ]
  },
  {
   "cell_type": "markdown",
   "metadata": {},
   "source": [
    "此種加密法key space為26"
   ]
  },
  {
   "cell_type": "markdown",
   "metadata": {},
   "source": [
    "## Substitution cipher\n",
    "接下來的cipher改進的方法是建構出一個對照表， “A” -> “G” , “B” -> “E”，也就是替代的方法不是純粹的shift"
   ]
  },
  {
   "cell_type": "code",
   "execution_count": 3,
   "metadata": {
    "collapsed": false
   },
   "outputs": [
    {
     "name": "stdout",
     "output_type": "stream",
     "text": [
      "ABCDEFGHIJKLMNOPQRSTUVWXYZ\n",
      "ZMJLIEVQFDNGHAWBKORCSXYUTP\n"
     ]
    }
   ],
   "source": [
    "import random\n",
    "permutation = list(alpha)\n",
    "random.shuffle(permutation)\n",
    "# Display the new table\n",
    "print alpha\n",
    "subs = \"\".join(permutation)\n",
    "print subs"
   ]
  },
  {
   "cell_type": "code",
   "execution_count": 4,
   "metadata": {
    "collapsed": true
   },
   "outputs": [],
   "source": [
    "def subs_cipher_encrypt(m):\n",
    "    m = \"\".join([l.upper() for l in m if not l in punct])\n",
    "    return \"\".join([subs[alpha.find(l)] for l in m])\n",
    "\n",
    "def subs_cipher_decrypt(c):\n",
    "    c = \"\".join([l.upper() for l in c if not l in punct])\n",
    "    return \"\".join([alpha[subs.find(l)] for l in c])"
   ]
  },
  {
   "cell_type": "code",
   "execution_count": 5,
   "metadata": {
    "collapsed": false
   },
   "outputs": [
    {
     "name": "stdout",
     "output_type": "stream",
     "text": [
      "Original message:\n",
      "TobeornottobethatisthequestionWhethertisNoblerinthemindtosufferTheSlingsandArrowsofoutrageousFortuneOrtotakeArmsagainstaSeaoftroublesAndbyopposingendthem\n",
      "\n",
      "Encrypted Message:\n",
      "CWMIWOAWCCWMICQZCFRCQIKSIRCFWAYQICQIOCFRAWMGIOFACQIHFALCWRSEEIOCQIRGFAVRZALZOOWYRWEWSCOZVIWSREWOCSAIWOCWCZNIZOHRZVZFARCZRIZWECOWSMGIRZALMTWBBWRFAVIALCQIH\n",
      "\n",
      "Decrypted Message:\n",
      "TOBEORNOTTOBETHATISTHEQUESTIONWHETHERTISNOBLERINTHEMINDTOSUFFERTHESLINGSANDARROWSOFOUTRAGEOUSFORTUNEORTOTAKEARMSAGAINSTASEAOFTROUBLESANDBYOPPOSINGENDTHEM\n"
     ]
    }
   ],
   "source": [
    "print \"Original message:\"\n",
    "print m\n",
    "\n",
    "print\n",
    "c2 = subs_cipher_encrypt(m)\n",
    "print \"Encrypted Message:\"\n",
    "print c2\n",
    "\n",
    "print\n",
    "print \"Decrypted Message:\"\n",
    "print subs_cipher_decrypt(c2)"
   ]
  },
  {
   "cell_type": "markdown",
   "metadata": {},
   "source": [
    "不過此種加密法的缺點是他無法改變字母出現的頻率，也就是說我們的語言中，字母出現的頻率不同，進一步來說diagram, triagram(一次看兩到三個字母)也存在相同特性，因此我們可以分析密文中的頻率而不是直接去攻擊26!的key space"
   ]
  },
  {
   "cell_type": "markdown",
   "metadata": {},
   "source": [
    "## Enigma"
   ]
  },
  {
   "cell_type": "code",
   "execution_count": 6,
   "metadata": {
    "collapsed": true
   },
   "outputs": [],
   "source": [
    "from random import shuffle,randint,choice  \n",
    "from copy import copy  \n",
    "num_alphabet = range(26)   \n",
    "    \n",
    "def en_shift(l, n):                         # Rotate cogs and arrays\n",
    "    return l[n:] + l[:n]  \n",
    "      \n",
    "    \n",
    "class Cog:                                  # Each cog has a substitution cipher  \n",
    "    def __init__(self):  \n",
    "        self.shuf = copy(num_alphabet)  \n",
    "        shuffle(self.shuf)                  # Create the individual substition cipher\n",
    "        return                              # Really, these were not random\n",
    "    \n",
    "    def subs_in(self,i):                    # Perform a substition\n",
    "        return self.shuf[i] \n",
    "    \n",
    "    def subs_out(self,i):                   # Perform a reverse substition\n",
    "        return self.shuf.index(i)\n",
    "    \n",
    "    def rotate(self):                       # Rotate the cog by 1.\n",
    "        self.shuf = en_shift(self.shuf, 1)\n",
    "        \n",
    "    def setcog(self,a):                     # Set up a particular substitution\n",
    "        self.shuf = a  \n",
    "\n",
    "        \n",
    "class Enigma:  \n",
    "    def __init__(self, numcogs,readability=True):  \n",
    "        self.readability = readability  \n",
    "        self.numcogs = numcogs  \n",
    "        self.cogs = []  \n",
    "        self.oCogs = []                     # \"Original Cog positions\"  \n",
    "          \n",
    "        for i in range(0,self.numcogs):     # Create the cogs\n",
    "            self.cogs.append(Cog())\n",
    "            self.oCogs.append(self.cogs[i].shuf)  \n",
    "            \n",
    "        refabet = copy(num_alphabet) \n",
    "        self.reflector = copy(num_alphabet)  \n",
    "        while len(refabet) > 0:             # Pair letters in the reflector\n",
    "            a = choice(refabet)  \n",
    "            refabet.remove(a)  \n",
    "            \n",
    "            b = choice(refabet)  \n",
    "            refabet.remove(b)  \n",
    "            \n",
    "            self.reflector[a] = b  \n",
    "            self.reflector[b] = a\n",
    "            \n",
    "  \n",
    "    def print_setup(self): # Print out substituion setup.\n",
    "        print \"Enigma Setup:\\nCogs: \",self.numcogs,\"\\nCog arrangement:\"  \n",
    "        for i in range(0,self.numcogs):  \n",
    "            print self.cogs[i].shuf  \n",
    "        print \"Reflector arrangement:\\n\",self.reflector,\"\\n\"  \n",
    "          \n",
    "    def reset(self):  \n",
    "        for i in range(0,self.numcogs):  \n",
    "            self.cogs[i].setcog(self.oCogs[i])  \n",
    "              \n",
    "    def encode(self,text):  \n",
    "        t = 0     # Ticker counter  \n",
    "        ciphertext=\"\"  \n",
    "        for l in text.lower():  \n",
    "            num = ord(l) % 97  \n",
    "            # Handle special characters for readability\n",
    "            if (num>25 or num<0):  \n",
    "                if (self.readability):\n",
    "                    ciphertext += l   \n",
    "                else:  \n",
    "                    pass  \n",
    "            \n",
    "            else:\n",
    "                # Pass through cogs, reflect, then return through cogs\n",
    "                t += 1  \n",
    "                for i in range(self.numcogs): \n",
    "                    num = self.cogs[i].subs_in(num)  \n",
    "                      \n",
    "                num = self.reflector[num]  \n",
    "                  \n",
    "                for i in range(self.numcogs):  \n",
    "                    num = self.cogs[self.numcogs-i-1].subs_out(num)  \n",
    "                ciphertext += \"\" + chr(97+num)\n",
    "                  \n",
    "                # Rotate cogs\n",
    "                for i in range(self.numcogs):\n",
    "                    if ( t % ((i*6)+1) == 0 ):\n",
    "                        self.cogs[i].rotate()  \n",
    "        return ciphertext.upper()  "
   ]
  },
  {
   "cell_type": "code",
   "execution_count": 7,
   "metadata": {
    "collapsed": false
   },
   "outputs": [
    {
     "name": "stdout",
     "output_type": "stream",
     "text": [
      "Original Message:\n",
      "WHEN PLACED IN AN ENIGMA, EACH ROTOR CAN BE SET TO ONE OF 26 POSSIBLE POSITIONS. WHEN INSERTED, IT CAN BE TURNED BY HAND USING THE GROOVED FINGER-WHEEL, WHICH PROTRUDES FROM THE INTERNAL ENIGMA COVER WHEN CLOSED. SO THAT THE OPERATOR CAN KNOW THE ROTOR'S POSITION, EACH HAD AN ALPHABET TYRE (OR LETTER RING) ATTACHED TO THE OUTSIDE OF THE ROTOR DISK, WITH 26 CHARACTERS (TYPICALLY LETTERS); ONE OF THESE COULD BE SEEN THROUGH THE WINDOW, THUS INDICATING THE ROTATIONAL POSITION OF THE ROTOR. IN EARLY MODELS, THE ALPHABET RING WAS FIXED TO THE ROTOR DISK. A LATER IMPROVEMENT WAS THE ABILITY TO ADJUST THE ALPHABET RING RELATIVE TO THE ROTOR DISK. THE POSITION OF THE RING WAS KNOWN AS THE RINGSTELLUNG (\"RING SETTING\"), AND WAS A PART OF THE INITIAL SETTING PRIOR TO AN OPERATING SESSION. IN MODERN TERMS IT WAS A PART OF THE INITIALIZATION VECTOR.\n",
      "\n",
      "Encrypted Message\n",
      "CDBC NAXMON FK KH RCLRIP, QSHR HWJJM RTU PC CXX GC GFM MM 26 QPDZGSKG YXAUCEPOT. YUIF WGHLTHHG, MG OZH RX LNJYBA UB YFOK ECJXU FIM FYMYNAZ JEICPJ-VVHHV, JNXTZ WSVVGIXFY SCDK CVW GSGRKUKS VALDLX EMHZE VQII FGRANM. BU NNXV XBB NQQQGMPK BBF JZPM AEU BDAGY'Y WVVHQURD, DEGP RWJ TR ZPIKKRWB VVLO (CQ YNVFSD GKCI) LNXWTPKJ XR ISX TGFEFVF IT PKZ HWREP GMGG, YEJW 26 DLBBQGPBPH (LIEQIKTPE GZBHPPD); KJN TH QNOUU AYKEK LG KPOD UKPQLBT YQB RXRCKI, WWRH QYKSKFPVRT OXA ANGCNYGFCD JHBTAUXU CC KTT FIIZG. JJ NXWAD IPUWCU, RKP LSYCISZK OYVW ADT PSKRQ DB IMF CRXZV LTHO. F WUKMT AXTTBZIOZQW QTZ QYY TAKIGDH YZ GKCQVE YUC YKWDYPRG XUAR GPYDANSK QM JWB QMAXM PEFM. GGR AZWOCPHG EV RAL BTYZ CKP PQDXB MR SVB XBZZJYFEVKMB (\"HAQE PCSOEBL\"), BVK YWL B SJPD LQ CZZ LBBRBHI BXALXUD DPRUH AG DD TXHDFYNZM UKQJRBG. EF EDUOKY FSDFK MM HHW Z TUBG UJ KIU JPNKOZFZOPGMMM QXFUFS.\n",
      "\n",
      "Decrypted Message:\n",
      "WHEN PLACED IN AN ENIGMA, EACH ROTOR CAN BE SET TO ONE OF 26 POSSIBLE POSITIONS. WHEN INSERTED, IT CAN BE TURNED BY HAND USING THE GROOVED FINGER-WHEEL, WHICH PROTRUDES FROM THE INTERNAL ENIGMA COVER WHEN CLOSED. SO THAT THE OPERATOR CAN KNOW THE ROTOR'S POSITION, EACH HAD AN ALPHABET TYRE (OR LETTER RING) ATTACHED TO THE OUTSIDE OF THE ROTOR DISK, WITH 26 CHARACTERS (TYPICALLY LETTERS); ONE OF THESE COULD BE SEEN THROUGH THE WINDOW, THUS INDICATING THE ROTATIONAL POSITION OF THE ROTOR. IN EARLY MODELS, THE ALPHABET RING WAS FIXED TO THE ROTOR DISK. A LATER IMPROVEMENT WAS THE ABILITY TO ADJUST THE ALPHABET RING RELATIVE TO THE ROTOR DISK. THE POSITION OF THE RING WAS KNOWN AS THE RINGSTELLUNG (\"RING SETTING\"), AND WAS A PART OF THE INITIAL SETTING PRIOR TO AN OPERATING SESSION. IN MODERN TERMS IT WAS A PART OF THE INITIALIZATION VECTOR.\n"
     ]
    }
   ],
   "source": [
    "plaintext=\"\"\"When placed in an Enigma, each rotor can be set to one of 26 possible positions. \n",
    "When inserted, it can be turned by hand using the grooved finger-wheel, which protrudes from \n",
    "the internal Enigma cover when closed. So that the operator can know the rotor's position, \n",
    "each had an alphabet tyre (or letter ring) attached to the outside of the rotor disk, with \n",
    "26 characters (typically letters); one of these could be seen through the window, thus indicating \n",
    "the rotational position of the rotor. In early models, the alphabet ring was fixed to the rotor \n",
    "disk. A later improvement was the ability to adjust the alphabet ring relative to the rotor disk. \n",
    "The position of the ring was known as the Ringstellung (\"ring setting\"), and was a part of the \n",
    "initial setting prior to an operating session. In modern terms it was a part of the \n",
    "initialization vector.\"\"\"\n",
    "\n",
    "# Remove newlines for encryption\n",
    "pt = \"\".join([l.upper() for l in plaintext if not l == \"\\n\"])\n",
    "# pt = \"\".join([l.upper() for l in plaintext if not l in punct])\n",
    "  \n",
    "x=Enigma(4)  \n",
    "#x.print_setup()  \n",
    "  \n",
    "print \"Original Message:\"\n",
    "print pt\n",
    "\n",
    "print\n",
    "ciphertext = x.encode(pt)  \n",
    "print \"Encrypted Message\"\n",
    "print ciphertext\n",
    "\n",
    "print\n",
    "# Decryption and encryption are symmetric, so to decode we reset and re-encrypt.\n",
    "x.reset()  \n",
    "decipheredtext = x.encode(ciphertext)  \n",
    "print \"Decrypted Message:\"\n",
    "print decipheredtext"
   ]
  },
  {
   "cell_type": "code",
   "execution_count": 8,
   "metadata": {
    "collapsed": false
   },
   "outputs": [
    {
     "data": {
      "application/json": {
       "Software versions": [
        {
         "module": "Python",
         "version": "2.7.10 64bit [GCC 5.2.1 20151010]"
        },
        {
         "module": "IPython",
         "version": "5.0.0"
        },
        {
         "module": "OS",
         "version": "Linux 4.2.0 30 generic x86_64 with Ubuntu 15.10 wily"
        },
        {
         "module": "numpy",
         "version": "1.8.2"
        },
        {
         "module": "scipy",
         "version": "0.14.1"
        },
        {
         "module": "matplotlib",
         "version": "1.4.2"
        },
        {
         "module": "version_information",
         "version": "1.0.3"
        }
       ]
      },
      "text/html": [
       "<table><tr><th>Software</th><th>Version</th></tr><tr><td>Python</td><td>2.7.10 64bit [GCC 5.2.1 20151010]</td></tr><tr><td>IPython</td><td>5.0.0</td></tr><tr><td>OS</td><td>Linux 4.2.0 30 generic x86_64 with Ubuntu 15.10 wily</td></tr><tr><td>numpy</td><td>1.8.2</td></tr><tr><td>scipy</td><td>0.14.1</td></tr><tr><td>matplotlib</td><td>1.4.2</td></tr><tr><td>version_information</td><td>1.0.3</td></tr><tr><td colspan='2'>Wed Jul 20 11:44:24 2016 UTC</td></tr></table>"
      ],
      "text/latex": [
       "\\begin{tabular}{|l|l|}\\hline\n",
       "{\\bf Software} & {\\bf Version} \\\\ \\hline\\hline\n",
       "Python & 2.7.10 64bit [GCC 5.2.1 20151010] \\\\ \\hline\n",
       "IPython & 5.0.0 \\\\ \\hline\n",
       "OS & Linux 4.2.0 30 generic x86\\_64 with Ubuntu 15.10 wily \\\\ \\hline\n",
       "numpy & 1.8.2 \\\\ \\hline\n",
       "scipy & 0.14.1 \\\\ \\hline\n",
       "matplotlib & 1.4.2 \\\\ \\hline\n",
       "version_information & 1.0.3 \\\\ \\hline\n",
       "\\hline \\multicolumn{2}{|l|}{Wed Jul 20 11:44:24 2016 UTC} \\\\ \\hline\n",
       "\\end{tabular}\n"
      ],
      "text/plain": [
       "Software versions\n",
       "Python 2.7.10 64bit [GCC 5.2.1 20151010]\n",
       "IPython 5.0.0\n",
       "OS Linux 4.2.0 30 generic x86_64 with Ubuntu 15.10 wily\n",
       "numpy 1.8.2\n",
       "scipy 0.14.1\n",
       "matplotlib 1.4.2\n",
       "version_information 1.0.3\n",
       "Wed Jul 20 11:44:24 2016 UTC"
      ]
     },
     "execution_count": 8,
     "metadata": {},
     "output_type": "execute_result"
    }
   ],
   "source": [
    "%reload_ext version_information\n",
    "%version_information numpy, scipy, matplotlib, version_information"
   ]
  },
  {
   "cell_type": "code",
   "execution_count": null,
   "metadata": {
    "collapsed": true
   },
   "outputs": [],
   "source": []
  }
 ],
 "metadata": {
  "kernelspec": {
   "display_name": "Python 2 (Ubuntu, plain)",
   "language": "python",
   "name": "python2-ubuntu"
  },
  "language_info": {
   "codemirror_mode": {
    "name": "ipython",
    "version": 2
   },
   "file_extension": ".py",
   "mimetype": "text/x-python",
   "name": "python",
   "nbconvert_exporter": "python",
   "pygments_lexer": "ipython2",
   "version": "2.7.10"
  }
 },
 "nbformat": 4,
 "nbformat_minor": 0
}
