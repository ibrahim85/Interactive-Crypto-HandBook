{
 "cells": [
  {
   "cell_type": "markdown",
   "metadata": {
    "collapsed": false
   },
   "source": [
    "# The crypto challenge\n",
    "https://cryptopals.com/\n",
    "\n",
    "第五部分開始!!\n",
    "\n",
    "# Set5\n",
    "\n",
    "## Diffi\n",
    "雖然說是密碼學，不過第一個set大多是在處理資料轉換\n",
    "\n",
    "> 處理 ``raw bytes`` 不要 encode 之後再處理， base64和 hex是印出來給大家看用的\n",
    "\n",
    "用``binascii`` 這個函式庫做資料轉換\n",
    "\n",
    "bytes([text[i] ^ text[32 + i] for i in range(16)]) ->"
   ]
  },
  {
   "cell_type": "code",
   "execution_count": null,
   "metadata": {
    "collapsed": false
   },
   "outputs": [],
   "source": [
    "import binascii\n",
    "import base64\n",
    "\n",
    "x = '49276d206b696c6c696e6720796f757220627261696e206c696b65206120706f69736f6e6f7573206d757368726f6f6d' # raw hex\n",
    "expectedY = 'SSdtIGtpbGxpbmcgeW91ciBicmFpbiBsaWtlIGEgcG9pc29ub3VzIG11c2hyb29t' # base64\n",
    "decoded = binascii.unhexlify(x) # 傳回ascii string \n",
    "print decoded\n",
    "print base64.b64decode(expectedY)\n",
    "print decoded.encode('hex')\n",
    "print base64.b64encode(decoded)\n",
    "print decoded.encode('base64') # 有帶換行\n",
    "y = base64.b64encode(decoded)\n",
    "if y != expectedY:\n",
    "    raise Exception(y + ' != ' + expectedY)"
   ]
  },
  {
   "cell_type": "code",
   "execution_count": null,
   "metadata": {
    "collapsed": false
   },
   "outputs": [],
   "source": [
    "from binascii import a2b_hex, b2a_base64\n",
    "## a2b_hex == binascii.unhexlify\n",
    "print a2b_hex(x) \n",
    "print b2a_base64(a2b_hex(x))"
   ]
  },
  {
   "cell_type": "markdown",
   "metadata": {},
   "source": [
    "### Fixed XOR"
   ]
  },
  {
   "cell_type": "code",
   "execution_count": null,
   "metadata": {
    "collapsed": false
   },
   "outputs": [],
   "source": [
    "from Crypto.Util.strxor import strxor\n",
    "\n",
    "encodedS = '1c0111001f010100061a024b53535009181c' # 相同長度\n",
    "encodedT = '686974207468652062756c6c277320657965'\n",
    "encodedExpectedU = '746865206b696420646f6e277420706c6179'\n",
    "\n",
    "s = binascii.unhexlify(encodedS)\n",
    "t = binascii.unhexlify(encodedT)\n",
    "expectedU = binascii.unhexlify(encodedExpectedU)\n",
    "\n",
    "u = strxor(s, t)\n",
    "print u\n",
    "print expectedU"
   ]
  },
  {
   "cell_type": "markdown",
   "metadata": {},
   "source": [
    "也許可用syntax sugar但crypto每一function都要小心運用"
   ]
  },
  {
   "cell_type": "code",
   "execution_count": null,
   "metadata": {
    "collapsed": false
   },
   "outputs": [],
   "source": [
    "print hex(int(encodedS, 16)^int(encodedT, 16))\n",
    "\"0x%0.2X\" % (int(encodedS, 16)^int(encodedT, 16))"
   ]
  },
  {
   "cell_type": "markdown",
   "metadata": {},
   "source": [
    "## Frequency of Characters\n",
    "著名的頻率分析攻擊法，也就是說程式在求解的過程中怎樣才知道他解對了?\n",
    "\n",
    "用英文字母的頻率來猜看看最有可能的``plaintext``"
   ]
  },
  {
   "cell_type": "code",
   "execution_count": null,
   "metadata": {
    "collapsed": false
   },
   "outputs": [],
   "source": [
    "from Crypto.Util.strxor import strxor_c\n",
    "import binascii\n",
    "from Crypto.Util.strxor import strxor_c\n",
    "\n",
    "# From http://www.data-compression.com/english.html\n",
    "freqs = {\n",
    "    'a': 0.0651738,\n",
    "    'b': 0.0124248,\n",
    "    'c': 0.0217339,\n",
    "    'd': 0.0349835,\n",
    "    'e': 0.1041442,\n",
    "    'f': 0.0197881,\n",
    "    'g': 0.0158610,\n",
    "    'h': 0.0492888,\n",
    "    'i': 0.0558094,\n",
    "    'j': 0.0009033,\n",
    "    'k': 0.0050529,\n",
    "    'l': 0.0331490,\n",
    "    'm': 0.0202124,\n",
    "    'n': 0.0564513,\n",
    "    'o': 0.0596302,\n",
    "    'p': 0.0137645,\n",
    "    'q': 0.0008606,\n",
    "    'r': 0.0497563,\n",
    "    's': 0.0515760,\n",
    "    't': 0.0729357,\n",
    "    'u': 0.0225134,\n",
    "    'v': 0.0082903,\n",
    "    'w': 0.0171272,\n",
    "    'x': 0.0013692,\n",
    "    'y': 0.0145984,\n",
    "    'z': 0.0007836,\n",
    "    ' ': 0.1918182 \n",
    "}\n",
    "\n",
    "def score(s):\n",
    "    score = 0\n",
    "    for i in s:\n",
    "        c = i.lower()\n",
    "        if c in freqs:\n",
    "            score += freqs[c]\n",
    "    return score\n",
    "\n",
    "encodedS = '1b37373331363f78151b7f2b783431333d78397828372d363c78373e783a393b3736'\n",
    "s = binascii.unhexlify(encodedS)\n",
    "s"
   ]
  },
  {
   "cell_type": "code",
   "execution_count": null,
   "metadata": {
    "collapsed": false
   },
   "outputs": [],
   "source": [
    "def breakSingleByteXOR(s):\n",
    "    curr_score = 0\n",
    "    best_str = \"\"\n",
    "    number = 0\n",
    "    for i in range(0, 256):\n",
    "        if(score(strxor_c(s, i)) > curr_score):\n",
    "            best_str = strxor_c(s, i)\n",
    "            curr_score = score(strxor_c(s, i))\n",
    "            number = i\n",
    "    return [number, best_str]\n",
    "\n",
    "\n",
    "print breakSingleByteXOR(s)"
   ]
  },
  {
   "cell_type": "markdown",
   "metadata": {},
   "source": [
    "### Detecting the single char"
   ]
  },
  {
   "cell_type": "code",
   "execution_count": null,
   "metadata": {
    "collapsed": false
   },
   "outputs": [],
   "source": [
    "import binascii\n",
    "\n",
    "def decodeLines(filename):\n",
    "    f = open(filename, 'r')\n",
    "    for line in f:\n",
    "        if line[-1] == '\\n':\n",
    "            line = line[:-1]\n",
    "        s = binascii.unhexlify(line)\n",
    "        yield s\n",
    "\n",
    "def findSingleByteXOR(lines):\n",
    "    brokenLines = [breakSingleByteXOR(l)[1] for l in lines]\n",
    "    curr_score = 0\n",
    "    number = 0\n",
    "    best_str = \"\"\n",
    "    for i in range(len(brokenLines)):\n",
    "        if score(brokenLines[i]) > curr_score:\n",
    "            curr_score = score(brokenLines[i])\n",
    "            best_str =  brokenLines[i]\n",
    "    return best_str\n",
    "\n",
    "print findSingleByteXOR(decodeLines('Text/4.txt'))"
   ]
  },
  {
   "cell_type": "markdown",
   "metadata": {},
   "source": [
    "### Repeating-key XOR\n",
    "\n",
    "ord('') 得到ascii值\n",
    "\n",
    "chr(97) 得到ascii字元"
   ]
  },
  {
   "cell_type": "code",
   "execution_count": null,
   "metadata": {
    "collapsed": false
   },
   "outputs": [],
   "source": [
    "import binascii\n",
    "from Crypto.Util.strxor import strxor_c\n",
    "\n",
    "def encodeRepeatingKeyXor(s, key):\n",
    "    return \"\".join([strxor_c(x[i] , ord(key[i % len(key)])) for i in range(len(x))])\n",
    "\n",
    "x = b'''Burning 'em, if you ain't quick and nimble\n",
    "I go crazy when I hear a cymbal'''\n",
    "key = b'ICE'\n",
    "encodedExpectedY = '0b3637272a2b2e63622c2e69692a23693a2a3c6324202d623d63343c2a26226324272765272a282b2f20430a652e2c652a3124333a653e2b2027630c692b20283165286326302e27282f'\n",
    "Y = encodeRepeatingKeyXor(x, key)\n",
    "encodedY = Y.encode('hex')\n",
    "print encodedY\n",
    "if encodedY != encodedExpectedY:\n",
    "    raise Exception(encodedY + ' != ' + encodedExpectedY)"
   ]
  },
  {
   "cell_type": "markdown",
   "metadata": {},
   "source": [
    "## Break the repeating XOR\n",
    "\n",
    "challenge 6 是破解 Vigenere Cipher\n",
    "\n",
    "先找出最可能的key長度(看slice後的hamming distance)"
   ]
  },
  {
   "cell_type": "code",
   "execution_count": null,
   "metadata": {
    "collapsed": false
   },
   "outputs": [],
   "source": [
    "import base64\n",
    "import itertools\n",
    "from Crypto.Util.strxor import strxor\n",
    "\n",
    "def getHammingDistance(x, y):\n",
    "    return sum([bin(ord(x[i]) ^ ord(y[i])).count('1') for i in range(len(x))])\n",
    "\n",
    "x = b'this is a test'\n",
    "y = b'wokka wokka!!!'\n",
    "expectedD = 37\n",
    "d = getHammingDistance(x, y)\n",
    "print d\n",
    "if d != expectedD:\n",
    "    raise Exception(encodedD + ' != ' + encodedExpectedD)"
   ]
  },
  {
   "cell_type": "code",
   "execution_count": null,
   "metadata": {
    "collapsed": false
   },
   "outputs": [],
   "source": [
    "x = base64.b64decode(open('Text/6.txt', 'r').read())\n",
    "def breakRepeatingKeyXor(x, k):\n",
    "    blockstring = []\n",
    "    blocks = [x[i:i+k] for i in range(0, len(x), k)]\n",
    "    transposedBlocks = list(itertools.izip_longest(*blocks, fillvalue='0'))\n",
    "    for i in range(len(transposedBlocks)):\n",
    "        tmpblock = \"\".join([a for a in transposedBlocks[i]])\n",
    "        blockstring.append(tmpblock)\n",
    "    key = \"\".join([chr(breakSingleByteXOR(x)[0]) for x in blockstring])\n",
    "    return key\n",
    "\n",
    "def normalizedEditDistance(x, k):\n",
    "    blocks = [x[i:i+k] for i in range(0, len(x), k)][0:4]\n",
    "    pairs = list(itertools.combinations(blocks, 2))\n",
    "    scores = [getHammingDistance(p[0], p[1])/float(k) for p in pairs][0:6]\n",
    "    return sum(scores) / len(scores)\n",
    "\n",
    "k = min(range(2, 41), key=lambda k: normalizedEditDistance(x, k))\n",
    "k"
   ]
  },
  {
   "cell_type": "markdown",
   "metadata": {},
   "source": [
    "再將原文slice後分成k組逐一攻破"
   ]
  },
  {
   "cell_type": "code",
   "execution_count": null,
   "metadata": {
    "collapsed": false
   },
   "outputs": [],
   "source": [
    "key = breakRepeatingKeyXor(x, k)\n",
    "y = encodeRepeatingKeyXor(x, key)\n",
    "print key\n",
    "print y"
   ]
  },
  {
   "cell_type": "markdown",
   "metadata": {},
   "source": [
    "## AES\n",
    "\n",
    "簡單的用Pycrypto AES練習"
   ]
  },
  {
   "cell_type": "code",
   "execution_count": null,
   "metadata": {
    "collapsed": false
   },
   "outputs": [],
   "source": [
    "import base64\n",
    "from Crypto.Cipher import AES\n",
    "\n",
    "x = base64.b64decode(open('Text/7.txt', 'r').read())\n",
    "\n",
    "key = b'YELLOW SUBMARINE'\n",
    "cipher = AES.new(key, AES.MODE_ECB)\n",
    "y = cipher.decrypt(x)\n",
    "print(y)"
   ]
  },
  {
   "cell_type": "code",
   "execution_count": null,
   "metadata": {
    "collapsed": false
   },
   "outputs": [],
   "source": [
    "import itertools\n",
    "\n",
    "lines = decodeLines('Text/8.txt')\n",
    "\n",
    "def score(x):\n",
    "    k = 16\n",
    "    blocks = [x[i:i+k] for i in range(0, len(x), k)]\n",
    "    pairs = itertools.combinations(blocks, 2)\n",
    "    same = 0\n",
    "    count = 0\n",
    "    for p in pairs:\n",
    "        if p[0] == p[1]:\n",
    "            same += 1\n",
    "    return same\n",
    "\n",
    "lineNumber = 1\n",
    "for l in lines:\n",
    "    if score(l) > 0:\n",
    "        print(lineNumber)\n",
    "    lineNumber += 1"
   ]
  },
  {
   "cell_type": "markdown",
   "metadata": {},
   "source": [
    "# Set 2\n",
    "\n",
    "## Padding\n",
    "\n",
    "比較下列在python 2.7的行為"
   ]
  },
  {
   "cell_type": "code",
   "execution_count": null,
   "metadata": {
    "collapsed": false
   },
   "outputs": [],
   "source": [
    "chr(97), chr(4), str(4)"
   ]
  },
  {
   "cell_type": "code",
   "execution_count": 3,
   "metadata": {
    "collapsed": false
   },
   "outputs": [
    {
     "name": "stdout",
     "output_type": "stream",
     "text": [
      "YELLOW SUBMARINE\u0004\u0004\u0004\u0004\n",
      "YELLOW SUBMARINE\u0004\u0004\u0004\u0004\n"
     ]
    }
   ],
   "source": [
    "from Crypto.Random import random\n",
    "\n",
    "def to_bytes(n, length, endianess='big'):\n",
    "    h = '%x' % n\n",
    "    s = ('0'*(len(h) % 2) + h).zfill(length*2).decode('hex')\n",
    "    return s if endianess == 'big' else s[::-1]\n",
    "\n",
    "def randbytes(k):\n",
    "    return to_bytes(random.getrandbits(8*k), k)\n",
    "\n",
    "def padPKCS7(x, k):\n",
    "    ch = k - (len(x) % k)\n",
    "    return x + chr(ch) * ch\n",
    "\n",
    "\n",
    "x = b'YELLOW SUBMARINE'\n",
    "expectedY = b'YELLOW SUBMARINE\\x04\\x04\\x04\\x04'\n",
    "y = padPKCS7(x, 20)\n",
    "\n",
    "print y\n",
    "print expectedY\n",
    "\n",
    "if y != expectedY:\n",
    "    raise Exception(y + b' != ' + expectedY)"
   ]
  },
  {
   "cell_type": "code",
   "execution_count": null,
   "metadata": {
    "collapsed": false
   },
   "outputs": [],
   "source": [
    "import base64\n",
    "from Crypto.Cipher import AES\n",
    "from Crypto.Util.strxor import strxor\n",
    "\n",
    "class CBC:\n",
    "    def __init__(self, ECB, IV):\n",
    "        self._ECB = ECB\n",
    "        self._IV = IV\n",
    "        self._blocksize = 16\n",
    "\n",
    "    def _getBlocks(self, s):\n",
    "        return [s[i:i+self._blocksize] for i in range(0, len(s), self._blocksize)]\n",
    "\n",
    "    def encrypt(self, plaintext):\n",
    "        plainblocks = self._getBlocks(plaintext)\n",
    "        ciphertext = b'' #binary string\n",
    "        prev = self._IV\n",
    "        for i in range(len(plainblocks)):\n",
    "            plainblock = plainblocks[i]\n",
    "            cipherblock = self._ECB.encrypt(strxor(plainblock, prev))\n",
    "            ciphertext += cipherblock\n",
    "            prev = cipherblock\n",
    "        return ciphertext\n",
    "\n",
    "    def decrypt(self, ciphertext):\n",
    "        cipherblocks = self._getBlocks(ciphertext)\n",
    "        plaintext = b''\n",
    "        prev = self._IV\n",
    "        for i in range(len(cipherblocks)):\n",
    "            cipherblock = cipherblocks[i]\n",
    "            plainblock = strxor(self._ECB.decrypt(cipherblock), prev)\n",
    "            plaintext += plainblock\n",
    "            prev = cipherblock\n",
    "        return plaintext\n",
    "\n",
    "x = base64.b64decode(open('Text/10.txt', 'r').read())\n",
    "key = b'YELLOW SUBMARINE'\n",
    "cipher = CBC(AES.new(key, AES.MODE_ECB), chr(0) * 16) # IV 全 ascii 0!\n",
    "y = cipher.decrypt(x)\n",
    "print(y)\n",
    "z = cipher.encrypt(y)\n",
    "if x != z:\n",
    "    raise Exception(x + b' != ' + z)"
   ]
  },
  {
   "cell_type": "markdown",
   "metadata": {},
   "source": [
    "### ECB, CBC Oracl"
   ]
  },
  {
   "cell_type": "code",
   "execution_count": null,
   "metadata": {
    "collapsed": false
   },
   "outputs": [],
   "source": [
    "from Crypto.Cipher import AES\n",
    "from Crypto.Random import random\n",
    "\n",
    "def encryption_oracle(s):\n",
    "    key = randbytes(16)\n",
    "    cipher = AES.new(key, AES.MODE_ECB)\n",
    "    if random.randint(0, 1) == 0:\n",
    "        print('Encrypting with ECB')\n",
    "    else:\n",
    "        print('Encrypting with CBC')\n",
    "        IV = randbytes(16)\n",
    "        cipher = CBC(cipher, IV)\n",
    "    s = randbytes(random.randint(5, 10)) + s + randbytes(random.randint(5, 10))\n",
    "    s = padPKCS7(s, 16)\n",
    "    return cipher.encrypt(s)\n",
    "\n",
    "def detectMethod(encryption_oracle):\n",
    "    s = chr(0) * 47 # s = bytes([0] * 47) in python 3\n",
    "    t = encryption_oracle(s)\n",
    "    if t[16:32] == t[32:48]:\n",
    "        return 'ECB'\n",
    "    return 'CBC'\n",
    "\n",
    "print(detectMethod(encryption_oracle))"
   ]
  },
  {
   "cell_type": "markdown",
   "metadata": {},
   "source": [
    "## Breaking ECB\n",
    "\n",
    "第二個經典的例子破解ECB\n",
    "\n",
    "```\n",
    "AES-128-ECB(your-string || unknown-string, random-key)\n",
    "```\n",
    "\n",
    "1. Feed identical bytes of your-string to the function 1 at a time --- start with 1 byte (\"A\"), then \"AA\", then \"AAA\" and so on. Discover the block size of the cipher. You know it, but do this step anyway.\n",
    "\n",
    "2. Detect that the function is using ECB. You already know, but do this step anyways.\n",
    "\n",
    "3. Knowing the block size, craft an input block that is exactly 1 byte short (for instance, if the block size is 8 bytes, make \"AAAAAAA\"). Think about what the oracle function is going to put in that last byte position.\n",
    "\n",
    "4. Make a dictionary of every possible last byte by feeding different strings to the oracle; for instance, \"AAAAAAAA\", \"AAAAAAAB\", \"AAAAAAAC\", remembering the first block of each invocation.\n",
    "\n",
    "5. Match the output of the one-byte-short input to one of the entries in your dictionary. You've now discovered the first byte of unknown-string.\n",
    "\n",
    "6. Repeat for the next byte."
   ]
  },
  {
   "cell_type": "code",
   "execution_count": null,
   "metadata": {
    "collapsed": false
   },
   "outputs": [],
   "source": [
    "from Crypto.Cipher import AES\n",
    "import base64\n",
    "\n",
    "encodedSuffix = b'''Um9sbGluJyBpbiBteSA1LjAKV2l0aCBteSByYWctdG9wIGRvd24gc28gbXkg\n",
    "aGFpciBjYW4gYmxvdwpUaGUgZ2lybGllcyBvbiBzdGFuZGJ5IHdhdmluZyBq\n",
    "dXN0IHRvIHNheSBoaQpEaWQgeW91IHN0b3A/IE5vLCBJIGp1c3QgZHJvdmUg\n",
    "YnkK'''\n",
    "key = None\n",
    "\n",
    "def encryption_oracle(s):\n",
    "    global key\n",
    "    if key is None:\n",
    "        key = randbytes(16)\n",
    "    cipher = AES.new(key, AES.MODE_ECB)\n",
    "    s = padPKCS7(s + base64.b64decode(encodedSuffix), 16)\n",
    "    return cipher.encrypt(s)\n",
    "\n",
    "def findBlockSize(encryption_oracle):\n",
    "    l = len(encryption_oracle(b'')) # 利用會padded的性質\n",
    "    i = 1\n",
    "    while True:\n",
    "        s = chr(0) * i\n",
    "        t = encryption_oracle(s)\n",
    "        if len(t) != l:\n",
    "            return len(t) - l\n",
    "        i += 1\n",
    "\n",
    "def confirmECB(encryption_oracle, blocksize):\n",
    "    s = randbytes(blocksize) * 2\n",
    "    t = encryption_oracle(s)\n",
    "    if t[0:blocksize] != t[blocksize:2*blocksize]:\n",
    "        raise Exception('Not using ECB')\n",
    "\n",
    "def findNextByte(encryption_oracle, blocksize, knownBytes):\n",
    "    s = chr(0) * (blocksize - (len(knownBytes) % blocksize) - 1)\n",
    "    d = {}\n",
    "    for i in range(256):\n",
    "        t = encryption_oracle(s + knownBytes + chr(i))\n",
    "        d[t[0:len(s) + len(knownBytes) + 1]] = i # 建構一個dictionary，利用ECB 明文對照密文會固定的特性\n",
    "    t = encryption_oracle(s)\n",
    "    u = t[0:len(s) + len(knownBytes) + 1]\n",
    "    if u in d:\n",
    "        return d[u]\n",
    "    return None\n",
    "\n",
    "blocksize = findBlockSize(encryption_oracle)\n",
    "blocksize"
   ]
  },
  {
   "cell_type": "code",
   "execution_count": null,
   "metadata": {
    "collapsed": false
   },
   "outputs": [],
   "source": [
    "confirmECB(encryption_oracle, blocksize) #若不是將產生exception\n",
    "s = b''\n",
    "while True:\n",
    "    b = findNextByte(encryption_oracle, blocksize, s)\n",
    "    if b is None:\n",
    "        break\n",
    "    s += chr(b)\n",
    "print(s)"
   ]
  },
  {
   "cell_type": "markdown",
   "metadata": {},
   "source": [
    "### Parsing Cookie"
   ]
  },
  {
   "cell_type": "code",
   "execution_count": null,
   "metadata": {
    "collapsed": false
   },
   "outputs": [],
   "source": [
    "from Crypto.Cipher import AES\n",
    "\n",
    "def encode_profile(profile):\n",
    "    s = b''\n",
    "    def sanitize(s):\n",
    "        return s.replace(b'&', b'').replace(b'=', b'')\n",
    "    for kv in profile:\n",
    "        sanitizedKV = [sanitize(x.encode('ascii')) for x in kv]\n",
    "        if s != b'':\n",
    "            s += b'&'\n",
    "        s += sanitizedKV[0] + b'=' + sanitizedKV[1]\n",
    "    return s\n",
    "\n",
    "def profile_for(email):\n",
    "    profile = [\n",
    "        ['email', email],\n",
    "        ['uid', '10'],\n",
    "        ['role', 'user']\n",
    "        ]\n",
    "    return encode_profile(profile)\n",
    "\n",
    "key = randbytes(16)\n",
    "\n",
    "def encrypt_profile_for(email):\n",
    "    cipher = AES.new(key, AES.MODE_ECB)\n",
    "    encoded_profile = padPKCS7(profile_for(email), 16)\n",
    "    return cipher.encrypt(encoded_profile)\n",
    "\n",
    "def unpadPKCS7(s):\n",
    "    i = s[-1]\n",
    "    return s[0:-ord(i)]\n",
    "\n",
    "def decrypt_profile(s):\n",
    "    cipher = AES.new(key, AES.MODE_ECB)\n",
    "    decrypted_profile = unpadPKCS7(cipher.decrypt(s))\n",
    "    pairs = decrypted_profile.split(b'&')\n",
    "    profile = []\n",
    "    for p in pairs:\n",
    "        profile += [[x.decode('ascii') for x in p.split(b'=')]]\n",
    "    return profile\n",
    "\n",
    "email1 = 'foo@bar.coadmin' + ('\\x0b' * 11) #直接cut and paste來取得admin的密文~~~\n",
    "x1 = encrypt_profile_for(email1)\n",
    "email2 = 'foo@bar.commm'\n",
    "x2 = encrypt_profile_for(email2)\n",
    "x = x2[0:32] + x1[16:32]\n",
    "y = decrypt_profile(x)\n",
    "print y"
   ]
  },
  {
   "cell_type": "markdown",
   "metadata": {},
   "source": [
    "多加一串 random 在前面\n",
    "\n",
    "```\n",
    "AES-128-ECB(random-prefix || attacker-controlled || target-bytes, random-key)\n",
    "```"
   ]
  },
  {
   "cell_type": "code",
   "execution_count": null,
   "metadata": {
    "collapsed": false
   },
   "outputs": [],
   "source": [
    "from Crypto.Cipher import AES\n",
    "from Crypto.Random import random\n",
    "import base64\n",
    "\n",
    "key = None\n",
    "prefix = None\n",
    "\n",
    "def encryption_oracle(s):\n",
    "    global key\n",
    "    global prefix\n",
    "    if key is None:\n",
    "        key = randbytes(16)\n",
    "    if prefix is None:\n",
    "        # TODO(phonchi): Extend to arbitrary sizes.\n",
    "        randcount = random.randint(16, 32)\n",
    "        prefix = randbytes(randcount)\n",
    "    cipher = AES.new(key, AES.MODE_ECB)\n",
    "    s = padPKCS7(prefix + s + base64.b64decode(encodedSuffix), 16)\n",
    "    return cipher.encrypt(s)\n",
    "\n",
    "def getBlocks(s, blocksize):\n",
    "    return [s[i:i+blocksize] for i in range(0, len(s), blocksize)]\n",
    "\n",
    "def findPrefixBlock(encryption_oracle, blocksize):\n",
    "    x1 = encryption_oracle(b'')\n",
    "    x2 = encryption_oracle(b'0')\n",
    "    blocks1 = getBlocks(x1, blocksize)\n",
    "    blocks2 = getBlocks(x2, blocksize)\n",
    "    for i in range(len(blocks1)):\n",
    "        if blocks1[i] != blocks2[i]:\n",
    "            return i\n",
    "\n",
    "def findPrefixSizeModBlockSize(encryption_oracle, blocksize):\n",
    "    def has_equal_block(blocks):\n",
    "        for i in range(len(blocks) - 1):\n",
    "            if blocks[i] == blocks[i+1]:\n",
    "                return True\n",
    "        return False\n",
    "\n",
    "    for i in range(blocksize):\n",
    "        s = chr(0) * (2*blocksize + i)\n",
    "        t = encryption_oracle(s)\n",
    "        blocks = getBlocks(t, blocksize)\n",
    "        if has_equal_block(blocks):\n",
    "            return blocksize - i\n",
    "\n",
    "    raise Exception('Not using ECB')\n",
    "\n",
    "def findPrefixSize(encryption_oracle, blocksize):\n",
    "    return blocksize*findPrefixBlock(encryption_oracle, blocksize) + findPrefixSizeModBlockSize(encryption_oracle, blocksize)\n",
    "\n",
    "def findNextByte(encryption_oracle, blocksize, prefixsize, knownBytes):\n",
    "    k1 = blocksize - (prefixsize % blocksize)\n",
    "    k2 = blocksize - (len(knownBytes) % blocksize) - 1\n",
    "    k3 = prefixsize - (prefixsize % blocksize)\n",
    "    s = chr(0) * (k1 + k2)\n",
    "    d = {}\n",
    "    for i in range(256):\n",
    "        t = encryption_oracle(s + knownBytes + chr(i))\n",
    "        d[t[k3+k1:k3+k1+k2 + len(knownBytes) + 1]] = i\n",
    "    t = encryption_oracle(s)\n",
    "    u = t[k3+k1:k3+k1+k2 + len(knownBytes) + 1]\n",
    "    if u in d:\n",
    "        return d[u]\n",
    "    return None\n",
    "\n",
    "blocksize = findBlockSize(encryption_oracle)\n",
    "prefixsize = findPrefixSize(encryption_oracle, blocksize)\n",
    "s = b''\n",
    "while True:\n",
    "    b = findNextByte(encryption_oracle, blocksize, prefixsize, s)\n",
    "    if b is None:\n",
    "        break\n",
    "    s +=chr(b)\n",
    "print(s)"
   ]
  },
  {
   "cell_type": "markdown",
   "metadata": {},
   "source": [
    "### Padding Validation"
   ]
  },
  {
   "cell_type": "code",
   "execution_count": null,
   "metadata": {
    "collapsed": false
   },
   "outputs": [],
   "source": [
    "s = b'ICE ICE BABY\\x04\\x04\\x04\\x04'\n",
    "chr(0)"
   ]
  },
  {
   "cell_type": "code",
   "execution_count": null,
   "metadata": {
    "collapsed": false
   },
   "outputs": [],
   "source": [
    "def unpadPKCS7(s):\n",
    "    i = s[-1]\n",
    "    if (i == chr(0)) or (s[-ord(i):] != i * ord(i)):\n",
    "        raise ValueError('bad padding')\n",
    "    return s[0:-ord(i)]\n",
    "\n",
    "\n",
    "print(unpadPKCS7(b'ICE ICE BABY\\x04\\x04\\x04\\x04'))\n",
    "try:\n",
    "    unpadPKCS7(b'ICE ICE BABY\\x05\\x05\\x05\\x05')\n",
    "    raise Exception('passes unexpectedly')\n",
    "except ValueError:\n",
    "    print \"value error 1\"\n",
    "try:\n",
    "    unpadPKCS7(b'ICE ICE BABY\\x01\\x02\\x03\\x04')\n",
    "    raise Exception('passes unexpectedly')\n",
    "except ValueError:\n",
    "    print \"value error 2\""
   ]
  },
  {
   "cell_type": "markdown",
   "metadata": {},
   "source": [
    "## CBC bitflipping attacks\n",
    "\n",
    "產生一把隨機的 AES key.\n",
    "\n",
    "用前面的 padding 和 CBC來寫兩個 function\n",
    "\n",
    "- 第一個 function 可以輸入任意一字串然後前面附加\n",
    "```\n",
    "\"comment1=cooking%20MCs;userdata=\"\n",
    "```\n",
    "後面附加\n",
    "```\n",
    "\";comment2=%20like%20a%20pound%20of%20bacon\"\n",
    "```\n",
    "function 必須 quote out the \";\" and \"=\" 字元\n",
    "\n",
    "function 要pad 到16-byte AES 位元長 然後用該 random AES key加密\n",
    "\n",
    "- 第二個function 去 decrypt 字串然後找看看 \";admin=true;\" 有沒有在裡面，並回傳 True 或 False\n",
    "\n",
    "用 crypto性質來破解，而不要直接從 user input 下手(第一個function 要判斷合法 input)，也就是說在不知道key的情況下來改變我們想要的ciphertext。\n",
    "\n",
    "> CBC mode的性質為在ciphertext block的 1-bit error會:\n",
    "> 1. 完全打亂該error存在的block \n",
    "> 2. 產生相同的 1-bit error 在下一個 ciphertext block."
   ]
  },
  {
   "cell_type": "code",
   "execution_count": null,
   "metadata": {
    "collapsed": false
   },
   "outputs": [],
   "source": [
    "from Crypto.Cipher import AES\n",
    "\n",
    "x = \"\"\n",
    "key = randbytes(16)\n",
    "iv = randbytes(16)\n",
    "\n",
    "def encryptParams(userdata):\n",
    "    userdata = userdata.replace(';', '%3B').replace('=', '%3D')\n",
    "    x1 = b'comment1=cooking%20MCs;userdata='\n",
    "    x2 = b';comment2=%20like%20a%20pound%20of%20bacon'\n",
    "    params = x1 + userdata.encode('ascii') + x2\n",
    "    cipher = CBC(AES.new(key, AES.MODE_ECB), iv)\n",
    "    return cipher.encrypt(padPKCS7(params, 16))\n",
    "\n",
    "def decryptParamsAndCheckAdmin(encryptedParams):\n",
    "    cipher = CBC(AES.new(key, AES.MODE_ECB), iv)\n",
    "    paddedParams = cipher.decrypt(encryptedParams)\n",
    "    params = unpadPKCS7(paddedParams)\n",
    "    print params\n",
    "    return params.find(b';admin=true;') != -1\n",
    "encryptParams('XXXXXXXXXXXXXXXX:admin<true:XXXX')[1], len(encryptParams('XXXXXXXXXXXXXXXX:admin<true:XXXX'))\n",
    "x = list(encryptParams('XXXXXXXXXXXXXXXX:admin<true:XXXX'))"
   ]
  },
  {
   "cell_type": "code",
   "execution_count": null,
   "metadata": {
    "collapsed": false
   },
   "outputs": [],
   "source": [
    "x[32] = strxor_c(x[32], 1)\n",
    "x[38] = strxor_c(x[38], 1)\n",
    "x[43] = strxor_c(x[43], 1)\n",
    "\"\".join(x)"
   ]
  },
  {
   "cell_type": "code",
   "execution_count": null,
   "metadata": {
    "collapsed": false
   },
   "outputs": [],
   "source": [
    "print decryptParamsAndCheckAdmin(\"\".join(x))"
   ]
  },
  {
   "cell_type": "markdown",
   "metadata": {},
   "source": [
    "# Set 3\n",
    "## CBC Padding Oracle\n",
    "\n",
    "利用padding oracl的 side channel(對或錯來破解)"
   ]
  },
  {
   "cell_type": "code",
   "execution_count": null,
   "metadata": {
    "collapsed": false
   },
   "outputs": [],
   "source": [
    "from Crypto.Util.strxor import strxor_c\n",
    "from Crypto.Util.strxor import strxor\n",
    "chr(5)"
   ]
  },
  {
   "cell_type": "code",
   "execution_count": null,
   "metadata": {
    "collapsed": false
   },
   "outputs": [],
   "source": [
    "from Crypto.Cipher import AES\n",
    "from Crypto.Random import random\n",
    "import base64\n",
    "from Crypto.Util.strxor import strxor_c\n",
    "\n",
    "strings = [\n",
    "    b'MDAwMDAwTm93IHRoYXQgdGhlIHBhcnR5IGlzIGp1bXBpbmc=',\n",
    "    b'MDAwMDAxV2l0aCB0aGUgYmFzcyBraWNrZWQgaW4gYW5kIHRoZSBWZWdhJ3MgYXJlIHB1bXBpbic=',\n",
    "    b'MDAwMDAyUXVpY2sgdG8gdGhlIHBvaW50LCB0byB0aGUgcG9pbnQsIG5vIGZha2luZw==',\n",
    "    b'MDAwMDAzQ29va2luZyBNQydzIGxpa2UgYSBwb3VuZCBvZiBiYWNvbg==',\n",
    "    b'MDAwMDA0QnVybmluZyAnZW0sIGlmIHlvdSBhaW4ndCBxdWljayBhbmQgbmltYmxl',\n",
    "    b'MDAwMDA1SSBnbyBjcmF6eSB3aGVuIEkgaGVhciBhIGN5bWJhbA==',\n",
    "    b'MDAwMDA2QW5kIGEgaGlnaCBoYXQgd2l0aCBhIHNvdXBlZCB1cCB0ZW1wbw==',\n",
    "    b'MDAwMDA3SSdtIG9uIGEgcm9sbCwgaXQncyB0aW1lIHRvIGdvIHNvbG8=',\n",
    "    b'MDAwMDA4b2xsaW4nIGluIG15IGZpdmUgcG9pbnQgb2g=',\n",
    "    b'MDAwMDA5aXRoIG15IHJhZy10b3AgZG93biBzbyBteSBoYWlyIGNhbiBibG93'\n",
    "]\n",
    "\n",
    "key = randbytes(16)\n",
    "\n",
    "def ciphertext_oracle():\n",
    "    s = base64.b64decode(random.choice(strings))\n",
    "    iv = randbytes(16)\n",
    "    cipher = CBC(AES.new(key, AES.MODE_ECB), iv)\n",
    "    return (iv, cipher.encrypt(padPKCS7(s, 16)))\n",
    "\n",
    "def padding_oracle(iv, s):\n",
    "    cipher = CBC(AES.new(key, AES.MODE_ECB), iv)\n",
    "    paddedT = cipher.decrypt(s)\n",
    "    try:\n",
    "        t = unpadPKCS7(paddedT)\n",
    "    except ValueError:\n",
    "        return False\n",
    "    return True\n",
    "\n",
    "def decipher_last_block_previous_byte(iv, s, padding_oracle, knownI, knownP):\n",
    "    k = len(knownI) + 1\n",
    "    prefix = randbytes(16 - k)\n",
    "    for i in range(256):\n",
    "        c1 = s[-32:-16] if len(s) > 16 else iv\n",
    "        if k == 16:\n",
    "            c1p = chr(i) + \"\".join([strxor_c(ch , k) for ch in knownI])\n",
    "        else:\n",
    "            c1p = prefix + chr(i) + \"\".join([strxor_c(ch , k) for ch in knownI])            \n",
    "        sp = s[:-32] + c1p + s[-16:]\n",
    "        if padding_oracle(iv, sp):\n",
    "            iPrev = i ^ k\n",
    "            pPrev = strxor_c(c1[-k], iPrev)\n",
    "            return chr(iPrev) + knownI , pPrev + knownP\n",
    "    raise Exception('unexpected')\n",
    "\n",
    "def decipher_last_block(iv, s, padding_oracle):\n",
    "    knownI = b''\n",
    "    knownP = b''\n",
    "    for i in range(16):\n",
    "        (knownI, knownP) = decipher_last_block_previous_byte(iv, s, padding_oracle, knownI, knownP)\n",
    "    return knownP\n",
    "\n",
    "def decipher(iv, s, padding_oracle):\n",
    "    knownP = b''\n",
    "    for i in range(len(s) / 16):\n",
    "        st = s if i == 0 else s[:-i * 16]\n",
    "        knownP = decipher_last_block(iv, st, padding_oracle) + knownP\n",
    "    return unpadPKCS7(knownP)\n",
    "\n",
    "(iv, s) = ciphertext_oracle()\n",
    "print decipher(iv, s, padding_oracle)"
   ]
  },
  {
   "cell_type": "markdown",
   "metadata": {},
   "source": [
    "### CTR Mode\n",
    "\n",
    "```\n",
    "key=YELLOW SUBMARINE\n",
    "nonce=0\n",
    "format=64 bit unsigned little endian nonce,64 bit little endian block count (byte count / 16)\n",
    "```"
   ]
  },
  {
   "cell_type": "code",
   "execution_count": null,
   "metadata": {
    "collapsed": false
   },
   "outputs": [],
   "source": [
    "import base64\n",
    "import struct\n",
    "from Crypto.Cipher import AES\n",
    "from Crypto.Util.strxor import strxor\n",
    "\n",
    "class CTR:\n",
    "    def __init__(self, ECB, nonce):\n",
    "        self._ECB = ECB\n",
    "        self._nonce = nonce\n",
    "        self._blocksize = 16\n",
    "        self._keybytes = b''\n",
    "        self._blockcount = 0\n",
    "\n",
    "    def encrypt(self, plaintext):\n",
    "        # Work around strxor() not handling zero-length strings\n",
    "        # gracefully.\n",
    "        if len(plaintext) == 0:\n",
    "            return b''\n",
    "\n",
    "        keystream = self._keybytes\n",
    "        while len(keystream) < len(plaintext):\n",
    "            keyblock = self._ECB.encrypt(struct.pack('<QQ', self._nonce, self._blockcount))\n",
    "            keystream += keyblock\n",
    "            self._blockcount += 1\n",
    "\n",
    "        if len(keystream) > len(plaintext):\n",
    "            self._keybytes = keystream[len(plaintext):]\n",
    "            keystream = keystream[:len(plaintext)]\n",
    "\n",
    "        return strxor(plaintext, keystream)\n",
    "\n",
    "    def decrypt(self, ciphertext):\n",
    "        return self.encrypt(ciphertext)\n",
    "\n",
    "x = base64.b64decode('L77na/nrFsKvynd6HzOoG7GHTLXsTVu9qvY/2syLXzhPweyyMTJULu/6/kXX0KSvoOLSFQ==')\n",
    "\n",
    "key = b'YELLOW SUBMARINE'\n",
    "cipher1 = CTR(AES.new(key, AES.MODE_ECB), 0)\n",
    "y = cipher1.decrypt(x)\n",
    "print(y)\n",
    "cipher2 = CTR(AES.new(key, AES.MODE_ECB), 0)\n",
    "z = cipher2.encrypt(y)\n",
    "if x != z:\n",
    "    raise Exception(x + b' != ' + z)"
   ]
  },
  {
   "cell_type": "code",
   "execution_count": null,
   "metadata": {
    "collapsed": false
   },
   "outputs": [],
   "source": [
    "from Crypto.Cipher import AES\n",
    "from Crypto.Util.strxor import strxor\n",
    "import base64\n",
    "import binascii\n",
    "import itertools\n",
    "\n",
    "strings = [\n",
    "    b'SSBoYXZlIG1ldCB0aGVtIGF0IGNsb3NlIG9mIGRheQ==',\n",
    "    b'Q29taW5nIHdpdGggdml2aWQgZmFjZXM=',\n",
    "    b'RnJvbSBjb3VudGVyIG9yIGRlc2sgYW1vbmcgZ3JleQ==',\n",
    "    b'RWlnaHRlZW50aC1jZW50dXJ5IGhvdXNlcy4=',\n",
    "    b'SSBoYXZlIHBhc3NlZCB3aXRoIGEgbm9kIG9mIHRoZSBoZWFk',\n",
    "    b'T3IgcG9saXRlIG1lYW5pbmdsZXNzIHdvcmRzLA==',\n",
    "    b'T3IgaGF2ZSBsaW5nZXJlZCBhd2hpbGUgYW5kIHNhaWQ=',\n",
    "    b'UG9saXRlIG1lYW5pbmdsZXNzIHdvcmRzLA==',\n",
    "    b'QW5kIHRob3VnaHQgYmVmb3JlIEkgaGFkIGRvbmU=',\n",
    "    b'T2YgYSBtb2NraW5nIHRhbGUgb3IgYSBnaWJl',\n",
    "    b'VG8gcGxlYXNlIGEgY29tcGFuaW9u',\n",
    "    b'QXJvdW5kIHRoZSBmaXJlIGF0IHRoZSBjbHViLA==',\n",
    "    b'QmVpbmcgY2VydGFpbiB0aGF0IHRoZXkgYW5kIEk=',\n",
    "    b'QnV0IGxpdmVkIHdoZXJlIG1vdGxleSBpcyB3b3JuOg==',\n",
    "    b'QWxsIGNoYW5nZWQsIGNoYW5nZWQgdXR0ZXJseTo=',\n",
    "    b'QSB0ZXJyaWJsZSBiZWF1dHkgaXMgYm9ybi4=',\n",
    "    b'VGhhdCB3b21hbidzIGRheXMgd2VyZSBzcGVudA==',\n",
    "    b'SW4gaWdub3JhbnQgZ29vZCB3aWxsLA==',\n",
    "    b'SGVyIG5pZ2h0cyBpbiBhcmd1bWVudA==',\n",
    "    b'VW50aWwgaGVyIHZvaWNlIGdyZXcgc2hyaWxsLg==',\n",
    "    b'V2hhdCB2b2ljZSBtb3JlIHN3ZWV0IHRoYW4gaGVycw==',\n",
    "    b'V2hlbiB5b3VuZyBhbmQgYmVhdXRpZnVsLA==',\n",
    "    b'U2hlIHJvZGUgdG8gaGFycmllcnM/',\n",
    "    b'VGhpcyBtYW4gaGFkIGtlcHQgYSBzY2hvb2w=',\n",
    "    b'QW5kIHJvZGUgb3VyIHdpbmdlZCBob3JzZS4=',\n",
    "    b'VGhpcyBvdGhlciBoaXMgaGVscGVyIGFuZCBmcmllbmQ=',\n",
    "    b'V2FzIGNvbWluZyBpbnRvIGhpcyBmb3JjZTs=',\n",
    "    b'SGUgbWlnaHQgaGF2ZSB3b24gZmFtZSBpbiB0aGUgZW5kLA==',\n",
    "    b'U28gc2Vuc2l0aXZlIGhpcyBuYXR1cmUgc2VlbWVkLA==',\n",
    "    b'U28gZGFyaW5nIGFuZCBzd2VldCBoaXMgdGhvdWdodC4=',\n",
    "    b'VGhpcyBvdGhlciBtYW4gSSBoYWQgZHJlYW1lZA==',\n",
    "    b'QSBkcnVua2VuLCB2YWluLWdsb3Jpb3VzIGxvdXQu',\n",
    "    b'SGUgaGFkIGRvbmUgbW9zdCBiaXR0ZXIgd3Jvbmc=',\n",
    "    b'VG8gc29tZSB3aG8gYXJlIG5lYXIgbXkgaGVhcnQs',\n",
    "    b'WWV0IEkgbnVtYmVyIGhpbSBpbiB0aGUgc29uZzs=',\n",
    "    b'SGUsIHRvbywgaGFzIHJlc2lnbmVkIGhpcyBwYXJ0',\n",
    "    b'SW4gdGhlIGNhc3VhbCBjb21lZHk7',\n",
    "    b'SGUsIHRvbywgaGFzIGJlZW4gY2hhbmdlZCBpbiBoaXMgdHVybiw=',\n",
    "    b'VHJhbnNmb3JtZWQgdXR0ZXJseTo=',\n",
    "    b'QSB0ZXJyaWJsZSBiZWF1dHkgaXMgYm9ybi4=',\n",
    "]\n",
    "\n",
    "# Generated randomly.\n",
    "key = b'\\xa3\\xc9\\xe7\\xedmZU\\x1e\\xac\\x15\\xe2\\xaf\\xb4$\\xa9{'\n",
    "\n",
    "def encryptString(s):\n",
    "    cipher = CTR(AES.new(key, AES.MODE_ECB), 0)\n",
    "    return cipher.encrypt(s)\n",
    "\n",
    "encryptedStrings = [encryptString(base64.b64decode(s)) for s in strings]\n",
    "\n",
    "def getPrintableKeyChar(encryptedStrings, i):\n",
    "    for j in range(256):\n",
    "        decrypted = [strxor_c(x[i], j) for x in encryptedStrings]\n",
    "        if all([x in 'abcdefghijklmnopqrstuvwxyzABCDEFGHIJKLMNOPQRSTUVWXYZ ,' for x in decrypted]):\n",
    "            yield j # 產生iterator\n",
    "\n",
    "def extendKey(k, ciphertext, guess):\n",
    "    return k + \"\".join([ strxor(guess[i], ciphertext[len(k) + i]) for i in range(len(guess))])\n",
    "\n",
    "ks = [getPrintableKeyChar(encryptedStrings, i) for i in range(10)]\n",
    "ks"
   ]
  },
  {
   "cell_type": "code",
   "execution_count": null,
   "metadata": {
    "collapsed": false
   },
   "outputs": [],
   "source": [
    "# k = \"\".join(list(itertools.islice(itertools.product(*ks), 1))[0])\n",
    "k = \"\".join([chr(strk) for strk in list(itertools.islice(itertools.product(*ks), 1))[0]])\n",
    "k"
   ]
  },
  {
   "cell_type": "code",
   "execution_count": null,
   "metadata": {
    "collapsed": false
   },
   "outputs": [],
   "source": [
    "k = extendKey(k, encryptedStrings[1], b'h ')\n",
    "k = extendKey(k, encryptedStrings[3], b'entury ')\n",
    "k = extendKey(k, encryptedStrings[5], b'ss ')\n",
    "k = extendKey(k, encryptedStrings[3], b'se')\n",
    "k = extendKey(k, encryptedStrings[5], b'rds')\n",
    "k = extendKey(k, encryptedStrings[0], b' ')\n",
    "k = extendKey(k, encryptedStrings[29], b'ght')\n",
    "k = extendKey(k, encryptedStrings[4], b' ')\n",
    "k = extendKey(k, encryptedStrings[27], b'd')\n",
    "k = extendKey(k, encryptedStrings[4], b'ead')\n",
    "k = extendKey(k, encryptedStrings[37], b'n,')\n",
    "kl = len(k)\n",
    "decrypted = [strxor(x[:kl], k[:len(x)]) + x[kl:] for x in encryptedStrings]\n",
    "for i in range(len(decrypted)):\n",
    "    if decrypted[i] != base64.b64decode(strings[i]):\n",
    "        raise Exception('Invalid decryption')\n",
    "    print(decrypted[i])"
   ]
  },
  {
   "cell_type": "code",
   "execution_count": 17,
   "metadata": {
    "collapsed": false
   },
   "outputs": [
    {
     "ename": "NameError",
     "evalue": "name 'encryptString' is not defined",
     "output_type": "error",
     "traceback": [
      "\u001b[1;31m---------------------------------------------------------------------------\u001b[0m",
      "\u001b[1;31mNameError\u001b[0m                                 Traceback (most recent call last)",
      "\u001b[1;32m<ipython-input-17-5720fe67f1cf>\u001b[0m in \u001b[0;36m<module>\u001b[1;34m()\u001b[0m\n\u001b[0;32m      6\u001b[0m \u001b[0mstrings\u001b[0m \u001b[1;33m=\u001b[0m \u001b[0mstrings\u001b[0m\u001b[1;33m[\u001b[0m\u001b[1;33m:\u001b[0m\u001b[1;33m-\u001b[0m\u001b[1;36m1\u001b[0m\u001b[1;33m]\u001b[0m\u001b[1;33m\u001b[0m\u001b[0m\n\u001b[0;32m      7\u001b[0m \u001b[1;33m\u001b[0m\u001b[0m\n\u001b[1;32m----> 8\u001b[1;33m \u001b[0mencryptedStrings\u001b[0m \u001b[1;33m=\u001b[0m \u001b[1;33m[\u001b[0m\u001b[0mencryptString\u001b[0m\u001b[1;33m(\u001b[0m\u001b[0ms\u001b[0m\u001b[1;33m)\u001b[0m \u001b[1;32mfor\u001b[0m \u001b[0ms\u001b[0m \u001b[1;32min\u001b[0m \u001b[0mstrings\u001b[0m\u001b[1;33m]\u001b[0m\u001b[1;33m\u001b[0m\u001b[0m\n\u001b[0m\u001b[0;32m      9\u001b[0m \u001b[0mtransposedStrings\u001b[0m \u001b[1;33m=\u001b[0m \u001b[0mlist\u001b[0m\u001b[1;33m(\u001b[0m\u001b[0mzip\u001b[0m\u001b[1;33m(\u001b[0m\u001b[1;33m*\u001b[0m\u001b[0mstrings\u001b[0m\u001b[1;33m)\u001b[0m\u001b[1;33m)\u001b[0m\u001b[1;33m\u001b[0m\u001b[0m\n\u001b[0;32m     10\u001b[0m \u001b[1;34m\"\"\u001b[0m\u001b[1;33m.\u001b[0m\u001b[0mjoin\u001b[0m\u001b[1;33m(\u001b[0m\u001b[0mtransposedStrings\u001b[0m\u001b[1;33m[\u001b[0m\u001b[1;36m0\u001b[0m\u001b[1;33m]\u001b[0m\u001b[1;33m)\u001b[0m\u001b[1;33m\u001b[0m\u001b[0m\n",
      "\u001b[1;31mNameError\u001b[0m: name 'encryptString' is not defined"
     ]
    }
   ],
   "source": [
    "from Crypto.Util.strxor import strxor\n",
    "import base64\n",
    "import itertools\n",
    "\n",
    "strings = [base64.b64decode(x) for x in open('Text/20.txt', 'r').read().split('\\n')]\n",
    "strings = strings[:-1]\n",
    "\n",
    "encryptedStrings = [encryptString(s) for s in strings]\n",
    "transposedStrings = list(zip(*strings))\n",
    "\"\".join(transposedStrings[0])"
   ]
  },
  {
   "cell_type": "code",
   "execution_count": null,
   "metadata": {
    "collapsed": false
   },
   "outputs": [],
   "source": [
    "def breakSameKey(strings):\n",
    "    transposedStrings = list(zip(*strings))\n",
    "    key = [chr(breakSingleByteXOR(\"\".join(x))[0]) for x in transposedStrings]\n",
    "    return \"\".join(key)\n",
    "key = breakSameKey(encryptedStrings)\n",
    "key"
   ]
  },
  {
   "cell_type": "code",
   "execution_count": null,
   "metadata": {
    "collapsed": false
   },
   "outputs": [],
   "source": [
    "key = strxor_c(encryptedStrings[0][0] , ord('I')) + key[1:]\n",
    "key = extendKey(key, encryptedStrings[13], b'-M ')\n",
    "key = extendKey(key, encryptedStrings[16], b'ime ')\n",
    "key = extendKey(key, encryptedStrings[1], b'htnin')\n",
    "key = extendKey(key, encryptedStrings[2], b'y')\n",
    "key = extendKey(key, encryptedStrings[6], b'ty')\n",
    "key = extendKey(key, encryptedStrings[0], b'i')\n",
    "key = extendKey(key, encryptedStrings[3], b'n up')\n",
    "key = extendKey(key, encryptedStrings[7], b'ession')\n",
    "key = extendKey(key, encryptedStrings[4], b'or ')\n",
    "key = extendKey(key, encryptedStrings[1], b'ghtenin')\n",
    "key = extendKey(key, encryptedStrings[17], b'able')\n",
    "key = extendKey(key, encryptedStrings[11], b'st')\n",
    "key = extendKey(key, encryptedStrings[2], b'k')\n",
    "key = extendKey(key, encryptedStrings[12], b'nk')\n",
    "key = extendKey(key, encryptedStrings[26], b've ')\n",
    "key = extendKey(key, encryptedStrings[41], b'll')\n",
    "key = extendKey(key, encryptedStrings[21], b'ace')\n",
    "key = extendKey(key, encryptedStrings[26], b'hole scenery')\n",
    "kl = len(key)\n",
    "for i in range(len(encryptedStrings)):\n",
    "    s = encryptedStrings[i]\n",
    "    decrypted = strxor(s[:kl], key[:len(s)]) + s[kl:]\n",
    "    if decrypted != strings[i]:\n",
    "        raise Exception('Invalid decryption')\n",
    "    print(i, decrypted)"
   ]
  },
  {
   "cell_type": "markdown",
   "metadata": {},
   "source": [
    "## MT19937"
   ]
  },
  {
   "cell_type": "code",
   "execution_count": null,
   "metadata": {
    "collapsed": true
   },
   "outputs": [],
   "source": [
    "class MT19937:\n",
    "    def __init__(self, seed):\n",
    "        self._index = 0\n",
    "        self._MT = [0] * 624\n",
    "        self._MT[0] = seed & 0xffffffff\n",
    "        for i in range(1, 624):\n",
    "            self._MT[i] = ((0x6c078965 * (self._MT[i-1] ^ (self._MT[i-1] >> 30))) + i) & 0xffffffff\n",
    "\n",
    "    def uint32(self):\n",
    "        if self._index == 0:\n",
    "            self.generate_numbers()\n",
    "\n",
    "        y = self._MT[self._index]\n",
    "        y ^= (y >> 11)\n",
    "        y ^= ((y << 7) & 0x9d2c5680)\n",
    "        y ^= ((y << 15) & 0xefc60000)\n",
    "        y ^= (y >> 18)\n",
    "\n",
    "        self._index = (self._index + 1) % 624\n",
    "        return y\n",
    "\n",
    "    def generate_numbers(self):\n",
    "        for i in range(624):\n",
    "            y = (self._MT[i] & 0x80000000) + (self._MT[(i+1) % 624] & 0x7fffffff)\n",
    "            self._MT[i] = self._MT[(i + 397) % 624] ^ (y >> 1)\n",
    "            if y % 2 != 0:\n",
    "                self._MT[i] ^= 0x9908b0df\n",
    "\n",
    "\n",
    "expectedNumbers = [int(x) for x in open('Text/21.txt', 'r').read().split('\\n')[:-1]]\n",
    "seed = 5489\n",
    "x = MT19937(seed)\n",
    "for i in range(1000):\n",
    "    a = x.uint32()\n",
    "    if a != expectedNumbers[i]:\n",
    "        raise Exception(str(i) + ' ' + a + ' != ' + expectedNumbers[i])"
   ]
  },
  {
   "cell_type": "code",
   "execution_count": null,
   "metadata": {
    "collapsed": false
   },
   "outputs": [],
   "source": [
    "from Crypto.Random import random\n",
    "import time\n",
    "\n",
    "t = int(time.time())\n",
    "t += random.randint(40, 1000)\n",
    "seed = int(t)\n",
    "print(seed)\n",
    "rng = MT19937(seed)\n",
    "x = rng.uint32()\n",
    "print(x)\n",
    "\n",
    "t += random.randint(40, 1000)\n",
    "for i in range(2000):\n",
    "    k = t - i\n",
    "    rng2 = MT19937(k)\n",
    "    y = rng2.uint32()\n",
    "    if x == y:\n",
    "        print(k)"
   ]
  },
  {
   "cell_type": "markdown",
   "metadata": {},
   "source": [
    "### Clone an MT19937 RNG from its output"
   ]
  },
  {
   "cell_type": "code",
   "execution_count": null,
   "metadata": {
    "collapsed": true
   },
   "outputs": [],
   "source": [
    "from Crypto.Random import random\n",
    "\n",
    "def getMSB(x, n):\n",
    "    if n < 0:\n",
    "        return 0\n",
    "    return (x >> (31 - n)) & 1\n",
    "\n",
    "def setMSB(x, n, b):\n",
    "    return x | (b << (31 - n))\n",
    "\n",
    "def undoRightShiftXor(y, s):\n",
    "    z = 0\n",
    "    for i in range(32):\n",
    "        z = setMSB(z, i, getMSB(y, i) ^ getMSB(z, i - s))\n",
    "    return z\n",
    "\n",
    "def getLSB(x, n):\n",
    "    if n < 0:\n",
    "        return 0\n",
    "    return (x >> n) & 1\n",
    "\n",
    "def setLSB(x, n, b):\n",
    "    return x | (b << n)\n",
    "\n",
    "def undoLeftShiftXorAnd(y, s, k):\n",
    "    z = 0\n",
    "    for i in range(32):\n",
    "       z = setLSB(z, i, getLSB(y, i) ^ (getLSB(z, i - s) & getLSB(k, i)))\n",
    "    return z\n",
    "\n",
    "def untemper(y):\n",
    "    y = undoRightShiftXor(y, 18)\n",
    "    y = undoLeftShiftXorAnd(y, 15, 0xefc60000)\n",
    "    y = undoLeftShiftXorAnd(y, 7, 0x9d2c5680)\n",
    "    y = undoRightShiftXor(y, 11)\n",
    "    return y\n",
    "\n",
    "seed = random.getrandbits(32)\n",
    "rng = MT19937(seed)\n",
    "MT = [0] * 624\n",
    "for i in range(624):\n",
    "    MT[i] = untemper(rng.uint32())\n",
    "rng2 = MT19937(0)\n",
    "rng2._MT = MT\n",
    "\n",
    "for i in range(1000):\n",
    "    a = rng.uint32()\n",
    "    b = rng2.uint32()\n",
    "    if a != b:\n",
    "        raise Exception(str(i) + ' ' + str(a) + ' != ' + str(b))"
   ]
  },
  {
   "cell_type": "markdown",
   "metadata": {},
   "source": [
    "### Create the MT19937 stream cipher"
   ]
  },
  {
   "cell_type": "code",
   "execution_count": null,
   "metadata": {
    "collapsed": false
   },
   "outputs": [],
   "source": [
    "from Crypto.Util.strxor import strxor\n",
    "from Crypto.Random import random\n",
    "import struct\n",
    "import time\n",
    "\n",
    "class MT19937Cipher:\n",
    "    def __init__(self, key):\n",
    "        self._rng = MT19937(key & 0xffff)\n",
    "        self._keybytes = b''\n",
    "\n",
    "    def encrypt(self, plaintext):\n",
    "        # Work around strxor() not handling zero-length strings\n",
    "        # gracefully.\n",
    "        if len(plaintext) == 0:\n",
    "            return b''\n",
    "\n",
    "        keystream = self._keybytes\n",
    "        while len(keystream) < len(plaintext):\n",
    "            keyblock = struct.pack('<L', self._rng.uint32())\n",
    "            keystream += keyblock\n",
    "\n",
    "        if len(keystream) > len(plaintext):\n",
    "            self._keybytes = keystream[len(plaintext):]\n",
    "            keystream = keystream[:len(plaintext)]\n",
    "\n",
    "        return strxor(plaintext, keystream)\n",
    "\n",
    "    def decrypt(self, ciphertext):\n",
    "        return self.encrypt(ciphertext)\n",
    "\n",
    "key = random.getrandbits(16)\n",
    "\n",
    "def encryption_oracle(plaintext):\n",
    "    prefix = randbytes(random.randint(4, 20))\n",
    "    cipher = MT19937Cipher(key)\n",
    "    return cipher.encrypt(prefix + plaintext)\n",
    "\n",
    "def recover_key(encryption_oracle):\n",
    "    plaintext = b'0' * 14\n",
    "    ciphertext = encryption_oracle(plaintext)\n",
    "    prefix_len = len(ciphertext) - len(plaintext)\n",
    "    for i in range(2**16-1):\n",
    "        cipher = MT19937Cipher(i)\n",
    "        s = cipher.encrypt(b'0' * len(ciphertext))\n",
    "        if ciphertext[prefix_len:] == s[prefix_len:]:\n",
    "            return i\n",
    "    raise Exception('unexpected')\n",
    "\n",
    "print(key, recover_key(encryption_oracle))\n",
    "\n",
    "def token_oracle():\n",
    "    seed = int(time.time())\n",
    "    cipher = MT19937Cipher(seed)\n",
    "    plaintext = b'0' * random.randint(4, 20)\n",
    "    return cipher.encrypt(plaintext)\n",
    "\n",
    "def is_token_for_current_time(token):\n",
    "    seed = int(time.time())\n",
    "    cipher = MT19937Cipher(seed)\n",
    "    plaintext = b'0' * len(token)\n",
    "    return cipher.encrypt(plaintext) == token\n",
    "\n",
    "x = token_oracle()\n",
    "print(x, is_token_for_current_time(x))"
   ]
  },
  {
   "cell_type": "markdown",
   "metadata": {},
   "source": [
    "# Set4\n",
    "## Stream Cipher"
   ]
  },
  {
   "cell_type": "code",
   "execution_count": null,
   "metadata": {
    "collapsed": false
   },
   "outputs": [],
   "source": [
    "from Crypto.Cipher import AES\n",
    "from Crypto.Random import random\n",
    "import base64\n",
    "import struct\n",
    "\n",
    "key = randbytes(16)\n",
    "nonce = random.getrandbits(64)\n",
    "\n",
    "def ciphertext_oracle():\n",
    "    ecb_ciphertext = base64.b64decode(open('Text/25.txt', 'r').read())\n",
    "    ecb_key = b'YELLOW SUBMARINE'\n",
    "    ecb_cipher = AES.new(ecb_key, AES.MODE_ECB)\n",
    "    plaintext = ecb_cipher.decrypt(ecb_ciphertext)\n",
    "    cipher = CTR(AES.new(key, AES.MODE_ECB), nonce)\n",
    "    return cipher.encrypt(plaintext)\n",
    "\n",
    "def edit(ciphertext, offset, newtext):\n",
    "    cipher = CTR(AES.new(key, AES.MODE_ECB), nonce)\n",
    "    cipher.encrypt(b'\\x00' * offset)\n",
    "    return ciphertext[0:offset] + cipher.encrypt(newtext)\n",
    "\n",
    "ciphertext = ciphertext_oracle()\n",
    "plaintext = edit(ciphertext, 0, ciphertext)\n",
    "print(plaintext)"
   ]
  },
  {
   "cell_type": "markdown",
   "metadata": {},
   "source": [
    "### CTR bitflipping"
   ]
  },
  {
   "cell_type": "code",
   "execution_count": null,
   "metadata": {
    "collapsed": false
   },
   "outputs": [],
   "source": [
    "from Crypto.Cipher import AES\n",
    "from Crypto.Random import random\n",
    "\n",
    "\n",
    "key = randbytes(16)\n",
    "nonce = random.getrandbits(64)\n",
    "\n",
    "def encryptParams(userdata):\n",
    "    userdata = userdata.replace(';', '%3B').replace('=', '%3D')\n",
    "    x1 = b'comment1=cooking%20MCs;userdata='\n",
    "    x2 = b';comment2=%20like%20a%20pound%20of%20bacon'\n",
    "    params = x1 + userdata.encode('ascii') + x2\n",
    "    cipher = CTR(AES.new(key, AES.MODE_ECB), nonce)\n",
    "    return cipher.encrypt(padPKCS7(params, 16))\n",
    "\n",
    "def decryptParamsAndCheckAdmin(encryptedParams):\n",
    "    cipher = CTR(AES.new(key, AES.MODE_ECB), nonce)\n",
    "    paddedParams = cipher.decrypt(encryptedParams)\n",
    "    params = unpadPKCS7(paddedParams)\n",
    "    return params.find(b';admin=true;') != -1\n",
    "\n",
    "x = list(encryptParams(':admin<true:'))\n",
    "x[32] = strxor_c(x[32], 1)\n",
    "x[38] = strxor_c(x[38], 1)\n",
    "x[43] = strxor_c(x[43], 1)\n",
    "\n",
    "print(decryptParamsAndCheckAdmin(\"\".join(x)))\n",
    "#x[32] ^= 1\n",
    "#x[38] ^= 1\n",
    "#x[43] ^= 1\n",
    "#print(decryptParamsAndCheckAdmin(bytes(x)))"
   ]
  },
  {
   "cell_type": "markdown",
   "metadata": {
    "collapsed": true
   },
   "source": [
    "### Recover the key from CBC with IV=Key\n",
    "\n",
    "為了省頻寬用 key 和 IV 相同是不安全的, Attacker 可以修改 ciphertext 來得到Key~"
   ]
  },
  {
   "cell_type": "code",
   "execution_count": null,
   "metadata": {
    "collapsed": false
   },
   "outputs": [],
   "source": [
    "from Crypto.Cipher import AES\n",
    "\n",
    "key = randbytes(16)\n",
    "\n",
    "def encryptParams(userdata):\n",
    "    userdata = userdata.replace(';', '%3B').replace('=', '%3D')\n",
    "    x1 = b'comment1=cooking%20MCs;userdata='\n",
    "    x2 = b';comment2=%20like%20a%20pound%20of%20bacon'\n",
    "    params = x1 + userdata.encode('ascii') + x2\n",
    "    cipher = CBC(AES.new(key, AES.MODE_ECB), key)\n",
    "    return cipher.encrypt(padPKCS7(params, 16))\n",
    "\n",
    "def decryptParamsAndCheckAdmin(encryptedParams):\n",
    "    cipher = CBC(AES.new(key, AES.MODE_ECB), key)\n",
    "    paddedParams = cipher.decrypt(encryptedParams)\n",
    "    params = unpadPKCS7(paddedParams)\n",
    "    if any([x > 127 for x in params]):\n",
    "        raise ValueError(params)\n",
    "    return params.find(b';admin=true;') != -1\n",
    "\n",
    "c = encryptParams('')\n",
    "c = c[0:16] + (b'\\x00' * 16) + c[0:16] + c[48:]\n",
    "try:\n",
    "    decryptParamsAndCheckAdmin(c)\n",
    "    raise Exception('unexpected')\n",
    "except ValueError as e:\n",
    "    text = e.args[0]\n",
    "    extracted_key = \"\".join([strxor(text[i], text[32 + i]) for i in range(16)])\n",
    "    print(extracted_key)\n",
    "    if extracted_key != key:\n",
    "        raise Exception(extracted_key + ' != ' + key)"
   ]
  },
  {
   "cell_type": "code",
   "execution_count": 23,
   "metadata": {
    "collapsed": false
   },
   "outputs": [
    {
     "data": {
      "text/plain": [
       "1732584193"
      ]
     },
     "execution_count": 23,
     "metadata": {},
     "output_type": "execute_result"
    }
   ],
   "source": [
    "message = b'comment1=cooking%20MCs;userdata=foo;comment2=%20like%20a%20pound%20of%20bacon'\n",
    "a = [ord(i) for i in message[:64]]\n",
    "b = 0x67452301 ^ 0xefcdab89\n",
    "b ^ 0xefcdab89"
   ]
  },
  {
   "cell_type": "markdown",
   "metadata": {},
   "source": [
    "### SHA1\n",
    "To do fix it..."
   ]
  },
  {
   "cell_type": "code",
   "execution_count": 56,
   "metadata": {
    "collapsed": false
   },
   "outputs": [],
   "source": [
    "from Crypto.Util.strxor import strxor\n",
    "# Taken from https://github.com/sfstpala/SlowSHA\n",
    "class SHA1 (object):\n",
    "    _default_h0, _default_h1, _default_h2, _default_h3, _default_h4, = (\n",
    "        0x67452301, 0xefcdab89, 0x98badcfe, 0x10325476, 0xc3d2e1f0)\n",
    "\n",
    "    def __init__(self, message, h0 = _default_h0, h1 = _default_h1, h2 = _default_h2, h3 = _default_h3, h4 = _default_h4, length = None):\n",
    "        self._h0 = h0\n",
    "        self._h1 = h1\n",
    "        self._h2 = h2\n",
    "        self._h3 = h3\n",
    "        self._h4 = h4\n",
    "        if length is None:\n",
    "            length = len(message) * 8\n",
    "        length = bin(length)[2:].rjust(64, \"0\")\n",
    "        while len(message) > 64:\n",
    "            self._handle(''.join(bin(ord(i))[2:].rjust(8, \"0\") for i in message[:64]))\n",
    "            message = message[64:]\n",
    "        message = ''.join(bin(ord(i))[2:].rjust(8, \"0\") for i in message) + \"1\"\n",
    "        message += \"0\" * ((448 - len(message) % 512) % 512) + length\n",
    "        for i in range(len(message) // 512):\n",
    "            self._handle(message[i * 512:i * 512 + 512])\n",
    "\n",
    "\n",
    "    def _handle(self, chunk):\n",
    "\n",
    "        lrot = lambda x, n: (x << n) | (x >> (32 - n))\n",
    "        w = []\n",
    "\n",
    "        for j in range(len(chunk) // 32):\n",
    "            w.append(int(chunk[j * 32:j * 32 + 32], 2))\n",
    "\n",
    "        for i in range(16, 80):\n",
    "            w.append(lrot(w[i - 3] ^ w[i - 8] ^ w[i - 14] ^ w[i - 16], 1)\n",
    "                & 0xffffffff)\n",
    "\n",
    "        a = self._h0\n",
    "        b = self._h1\n",
    "        c = self._h2\n",
    "        d = self._h3\n",
    "        e = self._h4\n",
    "        for i in range(80):\n",
    "\n",
    "            if i <= i <= 19:\n",
    "                f, k = d ^ (b & (c ^ d)), 0x5a827999\n",
    "            elif 20 <= i <= 39:\n",
    "                f, k = b ^ c ^ d, 0x6ed9eba1\n",
    "            elif 40 <= i <= 59:\n",
    "                f, k = (b & c) | (d & (b | c)), 0x8f1bbcdc\n",
    "            elif 60 <= i <= 79:\n",
    "                f, k = b ^ c ^ d, 0xca62c1d6\n",
    "                \n",
    "            temp = lrot(a, 5) + f + e + k + w[i] & 0xffffffff\n",
    "            a, b, c, d, e = temp, a, lrot(b, 30), c, d\n",
    "\n",
    "        self._h0 = (self._h0 + a) & 0xffffffff\n",
    "        self._h1 = (self._h1 + b) & 0xffffffff\n",
    "        self._h2 = (self._h2 + c) & 0xffffffff\n",
    "        self._h3 = (self._h3 + d) & 0xffffffff\n",
    "        self._h4 = (self._h4 + e) & 0xffffffff\n",
    "\n",
    "    def _digest(self):\n",
    "        return (self._h0, self._h1, self._h2, self._h3, self._h4)\n",
    "\n",
    "    def hexdigest(self):\n",
    "        return ''.join(hex(i)[2:].rjust(8, \"0\")\n",
    "            for i in self._digest())\n",
    "\n",
    "    def digest(self):\n",
    "        hexdigest = self.hexdigest()\n",
    "        tmpstr = []\n",
    "        for i in range(len(hexdigest)/ 2):\n",
    "            tmpstr.append(hexdigest[i * 2:i * 2 + 2])\n",
    "        return tmpstr\n",
    "\n",
    "def authSHA1(key, message):\n",
    "    return SHA1(key + message).digest()"
   ]
  },
  {
   "cell_type": "code",
   "execution_count": 57,
   "metadata": {
    "collapsed": false
   },
   "outputs": [
    {
     "data": {
      "text/plain": [
       "['da',\n",
       " '39',\n",
       " 'a3',\n",
       " 'ee',\n",
       " '5e',\n",
       " '6b',\n",
       " '4b',\n",
       " '0d',\n",
       " '32',\n",
       " '55',\n",
       " 'bf',\n",
       " 'ef',\n",
       " '95',\n",
       " '60',\n",
       " '18',\n",
       " '90',\n",
       " 'af',\n",
       " 'd8',\n",
       " '07',\n",
       " '09']"
      ]
     },
     "execution_count": 57,
     "metadata": {},
     "output_type": "execute_result"
    }
   ],
   "source": [
    "SHA1(\"\").digest() # https://en.wikipedia.org/wiki/SHA-1"
   ]
  },
  {
   "cell_type": "code",
   "execution_count": 59,
   "metadata": {
    "collapsed": false
   },
   "outputs": [
    {
     "name": "stdout",
     "output_type": "stream",
     "text": [
      "(['7c', '3b', '1f', '86', '70', 'c3', '1c', '6f', '6d', '9a', 'e6', '51', '39', '63', '9d', 'e0', 'ef', '69', '33', 'c5'], ['f0', 'c4', '3e', '31', '77', '4e', 'e9', '20', 'cc', '01', 'a2', '48', '2d', '72', '4b', 'fe', 'd0', '86', '67', '46'])\n",
      "(['0b', '85', 'da', 'eb', '8a', '8f', 'e6', 'c5', '88', '2f', 'b4', 'b8', 'd9', '7f', '84', '3a', 'a0', '87', '0a', 'de'], ['f0', 'c4', '3e', '31', '77', '4e', 'e9', '20', 'cc', '01', 'a2', '48', '2d', '72', '4b', 'fe', 'd0', '86', '67', '46'])\n",
      "(['7d', 'bd', '15', '0b', 'd8', 'c6', 'db', 'd6', '9f', '14', '6d', 'f9', '69', 'd9', '77', 'cb', 'bb', 'e6', 'b3', 'cd'], ['f0', 'c4', '3e', '31', '77', '4e', 'e9', '20', 'cc', '01', 'a2', '48', '2d', '72', '4b', 'fe', 'd0', '86', '67', '46'])\n",
      "(['1b', '25', 'b4', 'db', '7c', '34', 'ad', '28', '3b', '95', 'ee', '8e', '41', '7b', '1e', '00', '2b', '1c', 'a4', '11'], ['f0', 'c4', '3e', '31', '77', '4e', 'e9', '20', 'cc', '01', 'a2', '48', '2d', '72', '4b', 'fe', 'd0', '86', '67', '46'])\n",
      "(['f0', '70', 'c6', '96', 'f0', '61', '08', 'd4', '4f', '64', 'e5', '55', 'bb', '49', '79', '8b', '49', '3d', 'f5', 'e8'], ['f0', 'c4', '3e', '31', '77', '4e', 'e9', '20', 'cc', '01', 'a2', '48', '2d', '72', '4b', 'fe', 'd0', '86', '67', '46'])\n",
      "(['07', '72', '29', 'd8', '84', '77', '39', '52', '5f', '16', 'd4', '5b', 'b8', 'b7', '1b', 'd7', 'a8', '08', 'bb', '18'], ['f0', 'c4', '3e', '31', '77', '4e', 'e9', '20', 'cc', '01', 'a2', '48', '2d', '72', '4b', 'fe', 'd0', '86', '67', '46'])\n",
      "(['8f', 'a2', 'ce', 'b6', 'dc', '4e', 'b4', 'ec', 'd8', '5d', '95', '10', 'e7', 'b3', '81', 'bc', 'f6', 'ee', '4e', '12'], ['f0', 'c4', '3e', '31', '77', '4e', 'e9', '20', 'cc', '01', 'a2', '48', '2d', '72', '4b', 'fe', 'd0', '86', '67', '46'])\n",
      "(['c2', '85', '2f', '26', 'ac', '73', 'cf', 'bc', '11', '59', 'ae', 'c3', '6f', '1b', 'd2', '93', '58', '24', '7b', '5c'], ['f0', 'c4', '3e', '31', '77', '4e', 'e9', '20', 'cc', '01', 'a2', '48', '2d', '72', '4b', 'fe', 'd0', '86', '67', '46'])\n",
      "(['f0', 'b1', '2a', '09', 'a4', '0c', 'ef', 'fa', 'ce', '46', 'f3', 'a9', 'ac', 'b8', '54', '02', 'f2', '5f', '0d', '9b'], ['f0', 'c4', '3e', '31', '77', '4e', 'e9', '20', 'cc', '01', 'a2', '48', '2d', '72', '4b', 'fe', 'd0', '86', '67', '46'])\n",
      "(['06', '08', '7f', '40', '89', '05', 'f0', '23', 'ba', '34', '7b', '20', 'b8', '2e', '60', '3c', 'db', '2d', '75', '14'], ['f0', 'c4', '3e', '31', '77', '4e', 'e9', '20', 'cc', '01', 'a2', '48', '2d', '72', '4b', 'fe', 'd0', '86', '67', '46'])\n",
      "(['11', '2e', '20', '72', 'af', 'f5', '67', 'cc', '7a', '42', 'b9', '6f', '5d', '81', '77', 'a7', 'ab', 'd2', 'e1', 'ca'], ['f0', 'c4', '3e', '31', '77', '4e', 'e9', '20', 'cc', '01', 'a2', '48', '2d', '72', '4b', 'fe', 'd0', '86', '67', '46'])\n",
      "(['ed', 'c4', '9e', 'cb', '0e', 'f9', '13', 'b4', 'e9', '21', '6b', 'f5', '9c', '98', '01', '69', '63', '15', '83', '36'], ['f0', 'c4', '3e', '31', '77', '4e', 'e9', '20', 'cc', '01', 'a2', '48', '2d', '72', '4b', 'fe', 'd0', '86', '67', '46'])\n",
      "(['12', '00', '4f', '98', 'df', '0d', 'f8', '9a', '56', 'd0', 'ec', '6d', '34', '22', '5f', '8f', 'c1', 'eb', '28', '59'], ['f0', 'c4', '3e', '31', '77', '4e', 'e9', '20', 'cc', '01', 'a2', '48', '2d', '72', '4b', 'fe', 'd0', '86', '67', '46'])\n",
      "(['c7', '06', '0b', 'bf', 'fc', '63', '27', '9e', '15', 'ec', 'ed', '97', '68', 'f9', '00', 'e1', '88', 'ea', '71', '4b'], ['f0', 'c4', '3e', '31', '77', '4e', 'e9', '20', 'cc', '01', 'a2', '48', '2d', '72', '4b', 'fe', 'd0', '86', '67', '46'])\n",
      "(['c6', 'bd', '81', 'e1', 'f4', '8b', '1d', '9a', '53', 'b8', '2a', 'da', 'a0', '4e', '0f', '05', 'a3', '81', '62', '88'], ['f0', 'c4', '3e', '31', '77', '4e', 'e9', '20', 'cc', '01', 'a2', '48', '2d', '72', '4b', 'fe', 'd0', '86', '67', '46'])\n",
      "(['fd', '50', 'af', '90', '8b', '4a', 'a3', '66', 'd8', '06', 'a2', '6f', '10', 'd0', 'db', '3a', 'c4', '39', '32', '2b'], ['f0', 'c4', '3e', '31', '77', '4e', 'e9', '20', 'cc', '01', 'a2', '48', '2d', '72', '4b', 'fe', 'd0', '86', '67', '46'])\n",
      "(['68', 'ca', 'dc', '4f', '7e', 'bf', '60', '72', 'af', '11', 'ae', '08', '64', 'd1', '15', 'c5', 'fb', '43', '1c', 'b4'], ['f0', 'c4', '3e', '31', '77', '4e', 'e9', '20', 'cc', '01', 'a2', '48', '2d', '72', '4b', 'fe', 'd0', '86', '67', '46'])\n",
      "(['db', '74', '90', 'd3', '14', 'ac', '30', '7d', '7a', '7d', 'a4', '82', '0d', '32', 'f3', '7c', '11', 'c4', 'd9', '2f'], ['f0', 'c4', '3e', '31', '77', '4e', 'e9', '20', 'cc', '01', 'a2', '48', '2d', '72', '4b', 'fe', 'd0', '86', '67', '46'])\n",
      "(['2e', 'af', 'f6', '17', '99', '7d', 'e5', 'f1', 'b9', '22', 'bd', '64', '16', '49', 'a5', '0f', '4b', '1f', '36', 'e8'], ['f0', 'c4', '3e', '31', '77', '4e', 'e9', '20', 'cc', '01', 'a2', '48', '2d', '72', '4b', 'fe', 'd0', '86', '67', '46'])\n",
      "(['7d', 'f8', '41', '88', '26', '45', 'a7', '4b', '6b', 'a0', '1a', '2e', '40', '99', '9d', '00', '95', '8a', '91', 'e1'], ['f0', 'c4', '3e', '31', '77', '4e', 'e9', '20', 'cc', '01', 'a2', '48', '2d', '72', '4b', 'fe', 'd0', '86', '67', '46'])\n",
      "(['df', 'b4', '2c', '91', '85', '2e', '63', '16', 'fb', '53', '8a', '41', 'a1', 'f3', 'ff', 'a1', '8d', '80', 'ae', 'a3'], ['f0', 'c4', '3e', '31', '77', '4e', 'e9', '20', 'cc', '01', 'a2', '48', '2d', '72', '4b', 'fe', 'd0', '86', '67', '46'])\n",
      "(['32', 'ef', 'c7', '0b', 'bc', '07', '9a', 'a2', 'ca', '3a', '8c', '49', 'bc', 'a8', 'a3', '75', 'b9', 'ae', 'fd', '56'], ['f0', 'c4', '3e', '31', '77', '4e', 'e9', '20', 'cc', '01', 'a2', '48', '2d', '72', '4b', 'fe', 'd0', '86', '67', '46'])\n",
      "(['d0', '14', '0e', 'e0', '4d', 'f5', '7e', 'ec', 'd8', '26', '72', 'f6', '01', '25', '70', 'e4', '53', 'da', '16', '4f'], ['f0', 'c4', '3e', '31', '77', '4e', 'e9', '20', 'cc', '01', 'a2', '48', '2d', '72', '4b', 'fe', 'd0', '86', '67', '46'])\n",
      "(['20', '6f', '17', 'dc', '3c', '57', '04', '7f', '01', '21', '9c', '2a', '2d', '75', '11', 'e5', '85', 'dc', '42', '7b'], ['f0', 'c4', '3e', '31', '77', '4e', 'e9', '20', 'cc', '01', 'a2', '48', '2d', '72', '4b', 'fe', 'd0', '86', '67', '46'])\n",
      "(['b3', '65', 'a0', 'b4', '86', '79', '8a', 'ec', 'f0', 'ba', '7d', '20', 'b0', '4d', '75', '63', 'dd', '9f', 'ab', 'b6'], ['f0', 'c4', '3e', '31', '77', '4e', 'e9', '20', 'cc', '01', 'a2', '48', '2d', '72', '4b', 'fe', 'd0', '86', '67', '46'])\n",
      "(['87', 'f2', 'c6', '62', '87', '96', 'e8', '30', 'c3', '1f', '85', 'b0', '36', '77', '29', 'c8', 'cf', '72', '77', '0a'], ['f0', 'c4', '3e', '31', '77', '4e', 'e9', '20', 'cc', '01', 'a2', '48', '2d', '72', '4b', 'fe', 'd0', '86', '67', '46'])\n",
      "(['7e', 'f0', '64', 'e2', '1f', '4e', '01', '5d', 'c8', 'c1', '21', '1d', '56', 'b2', '25', '4a', '55', 'e9', 'f2', '85'], ['f0', 'c4', '3e', '31', '77', '4e', 'e9', '20', 'cc', '01', 'a2', '48', '2d', '72', '4b', 'fe', 'd0', '86', '67', '46'])\n",
      "(['b9', '4b', 'f5', '91', '6c', '4e', '7c', '29', '3b', '1d', 'd2', '2e', '90', 'c3', '8a', '5f', '48', '88', 'f5', 'b5'], ['f0', 'c4', '3e', '31', '77', '4e', 'e9', '20', 'cc', '01', 'a2', '48', '2d', '72', '4b', 'fe', 'd0', '86', '67', '46'])\n",
      "(['d4', 'af', 'c9', '1d', '29', 'e9', '10', '8a', '0c', '5a', '2d', '12', '52', '35', 'fb', 'a8', '23', '0c', '5f', '95'], ['f0', 'c4', '3e', '31', '77', '4e', 'e9', '20', 'cc', '01', 'a2', '48', '2d', '72', '4b', 'fe', 'd0', '86', '67', '46'])\n",
      "(['a7', '84', 'e4', '02', '80', '57', '25', 'ec', 'd6', '38', '50', 'dc', '16', 'eb', '3d', '60', 'c9', '25', '2a', '4f'], ['f0', 'c4', '3e', '31', '77', '4e', 'e9', '20', 'cc', '01', 'a2', '48', '2d', '72', '4b', 'fe', 'd0', '86', '67', '46'])\n",
      "(['4a', 'ce', '82', '22', '86', '16', '16', '70', 'e7', 'f2', 'b5', '6e', '9d', '32', 'f9', '7e', 'd3', 'ce', 'ab', '42'], ['f0', 'c4', '3e', '31', '77', '4e', 'e9', '20', 'cc', '01', 'a2', '48', '2d', '72', '4b', 'fe', 'd0', '86', '67', '46'])\n",
      "(['a0', '22', '83', '65', '61', 'ba', '94', 'df', '87', '6a', '32', '10', '38', '37', 'cd', '15', 'd6', '2c', '09', 'ba'], ['f0', 'c4', '3e', '31', '77', '4e', 'e9', '20', 'cc', '01', 'a2', '48', '2d', '72', '4b', 'fe', 'd0', '86', '67', '46'])\n",
      "(['a0', '40', 'c2', '6a', '29', 'a6', '5d', '44', '40', 'd7', 'c4', '9b', '3f', '9e', '06', 'dc', '60', '4d', '31', 'a5'], ['f0', 'c4', '3e', '31', '77', '4e', 'e9', '20', 'cc', '01', 'a2', '48', '2d', '72', '4b', 'fe', 'd0', '86', '67', '46'])\n",
      "(['fb', '30', 'f1', '80', 'cf', '3d', 'd6', '78', '7b', '6c', '9c', '90', 'bc', 'b6', 'b5', 'ec', 'f5', '8f', 'bb', '17'], ['f0', 'c4', '3e', '31', '77', '4e', 'e9', '20', 'cc', '01', 'a2', '48', '2d', '72', '4b', 'fe', 'd0', '86', '67', '46'])\n",
      "(['2d', 'db', 'c5', '3c', '20', 'a4', '84', '47', 'c0', 'e0', '21', '03', '71', '62', 'a5', '25', 'a6', '81', '44', '7a'], ['f0', 'c4', '3e', '31', '77', '4e', 'e9', '20', 'cc', '01', 'a2', '48', '2d', '72', '4b', 'fe', 'd0', '86', '67', '46'])\n",
      "(['e9', '84', 'd5', '27', '68', '44', 'f6', '73', 'dd', '4b', '46', '24', '9c', '66', '7c', '4f', '7f', 'c0', 'bc', 'a2'], ['f0', 'c4', '3e', '31', '77', '4e', 'e9', '20', 'cc', '01', 'a2', '48', '2d', '72', '4b', 'fe', 'd0', '86', '67', '46'])\n",
      "(['5f', 'd1', 'fe', '94', '1e', 'f5', 'f0', '15', '59', '9a', '7f', '1a', 'a7', '11', '5f', '66', '8e', 'a9', '4a', '65'], ['f0', 'c4', '3e', '31', '77', '4e', 'e9', '20', 'cc', '01', 'a2', '48', '2d', '72', '4b', 'fe', 'd0', '86', '67', '46'])\n",
      "(['3e', 'b8', '56', '9c', 'ad', '69', '8d', '99', '7e', '03', '87', '5d', '30', '9d', '9e', '5f', '14', 'e0', '95', 'ed'], ['f0', 'c4', '3e', '31', '77', '4e', 'e9', '20', 'cc', '01', 'a2', '48', '2d', '72', '4b', 'fe', 'd0', '86', '67', '46'])\n",
      "(['51', '4e', 'ff', '6a', '40', '0e', '9a', '1f', '2c', '16', '8b', '5d', 'a8', 'c5', 'f8', '08', '57', '88', '79', '25'], ['f0', 'c4', '3e', '31', '77', '4e', 'e9', '20', 'cc', '01', 'a2', '48', '2d', '72', '4b', 'fe', 'd0', '86', '67', '46'])\n",
      "(['35', '35', '37', '2e', '13', '03', '5c', 'e8', '6c', '13', '33', 'b6', 'd8', '46', '94', 'eb', '62', '21', 'c2', '46'], ['f0', 'c4', '3e', '31', '77', '4e', 'e9', '20', 'cc', '01', 'a2', '48', '2d', '72', '4b', 'fe', 'd0', '86', '67', '46'])\n",
      "(['00', '89', '5a', '2f', 'b1', '7c', 'c9', '0d', '08', '44', 'b2', '2b', '6c', 'ea', '82', '22', '90', '65', '4d', '24'], ['f0', 'c4', '3e', '31', '77', '4e', 'e9', '20', 'cc', '01', 'a2', '48', '2d', '72', '4b', 'fe', 'd0', '86', '67', '46'])\n",
      "(['22', '16', '34', '78', 'a9', '04', '91', 'dc', '9a', '78', '58', '81', 'bc', '82', 'a6', '96', '06', '96', 'fe', 'ce'], ['f0', 'c4', '3e', '31', '77', '4e', 'e9', '20', 'cc', '01', 'a2', '48', '2d', '72', '4b', 'fe', 'd0', '86', '67', '46'])\n",
      "(['93', 'bd', 'f1', 'c1', 'd2', '71', '75', '39', 'ae', 'bf', 'c1', '24', '06', '04', 'a8', 'df', 'ce', '37', '60', '00'], ['f0', 'c4', '3e', '31', '77', '4e', 'e9', '20', 'cc', '01', 'a2', '48', '2d', '72', '4b', 'fe', 'd0', '86', '67', '46'])\n",
      "(['68', '0d', '38', 'ee', '23', 'e5', '93', 'fb', 'ba', '2b', '8d', '25', '41', '3b', 'f5', '8a', '57', '06', '71', '58'], ['f0', 'c4', '3e', '31', '77', '4e', 'e9', '20', 'cc', '01', 'a2', '48', '2d', '72', '4b', 'fe', 'd0', '86', '67', '46'])\n",
      "(['77', '83', '95', '4e', '43', '2d', 'c3', 'ac', '3c', '62', 'e6', 'c2', 'a2', '99', '18', '41', 'f1', 'fd', '58', 'd0'], ['f0', 'c4', '3e', '31', '77', '4e', 'e9', '20', 'cc', '01', 'a2', '48', '2d', '72', '4b', 'fe', 'd0', '86', '67', '46'])\n",
      "(['b3', '05', 'e6', '42', '3e', 'af', '3b', '4e', '1f', '81', '29', '67', 'c7', 'd8', '6a', 'f0', 'c4', '06', 'db', 'af'], ['f0', 'c4', '3e', '31', '77', '4e', 'e9', '20', 'cc', '01', 'a2', '48', '2d', '72', '4b', 'fe', 'd0', '86', '67', '46'])\n",
      "(['55', '39', '28', '64', '4d', '58', 'b4', '7d', 'd4', '8d', 'de', '04', 'a9', 'e1', 'd0', '31', 'a8', 'b9', 'bd', 'c0'], ['f0', 'c4', '3e', '31', '77', '4e', 'e9', '20', 'cc', '01', 'a2', '48', '2d', '72', '4b', 'fe', 'd0', '86', '67', '46'])\n",
      "(['64', '2c', 'b8', '63', 'fc', 'af', '64', '7c', '44', 'f1', 'ae', '9f', '00', 'a8', '65', 'c2', '57', '20', '1a', 'c3'], ['f0', 'c4', '3e', '31', '77', '4e', 'e9', '20', 'cc', '01', 'a2', '48', '2d', '72', '4b', 'fe', 'd0', '86', '67', '46'])\n",
      "(['8c', '5d', 'fa', '56', '08', 'e2', '75', 'bb', '1a', 'f0', 'e0', '83', 'ba', '1c', '47', '1b', '5a', '4b', '5a', 'ba'], ['f0', 'c4', '3e', '31', '77', '4e', 'e9', '20', 'cc', '01', 'a2', '48', '2d', '72', '4b', 'fe', 'd0', '86', '67', '46'])\n",
      "(['d1', 'e3', '37', 'f3', '2d', '1c', 'ea', '95', 'f8', 'aa', '51', 'c5', '96', '8e', 'f5', 'f6', '91', 'aa', 'd2', 'fc'], ['f0', 'c4', '3e', '31', '77', '4e', 'e9', '20', 'cc', '01', 'a2', '48', '2d', '72', '4b', 'fe', 'd0', '86', '67', '46'])\n",
      "(['7c', 'b7', '38', '82', '73', '69', '67', 'de', 'f6', '6d', 'a7', '09', '30', 'ed', 'a1', '36', '95', '16', '03', '07'], ['f0', 'c4', '3e', '31', '77', '4e', 'e9', '20', 'cc', '01', 'a2', '48', '2d', '72', '4b', 'fe', 'd0', '86', '67', '46'])\n",
      "(['59', 'af', '02', 'd6', '72', 'd6', '16', '47', '0c', 'fa', '54', 'b7', '2f', 'f8', '91', '9c', 'e7', '84', '42', 'cc'], ['f0', 'c4', '3e', '31', '77', '4e', 'e9', '20', 'cc', '01', 'a2', '48', '2d', '72', '4b', 'fe', 'd0', '86', '67', '46'])\n",
      "(['c0', 'c3', '9e', 'ab', 'f5', '9f', '43', '4b', 'd9', '41', 'cf', '69', '47', 'c4', 'e9', '49', 'd0', '1e', '1a', '86'], ['f0', 'c4', '3e', '31', '77', '4e', 'e9', '20', 'cc', '01', 'a2', '48', '2d', '72', '4b', 'fe', 'd0', '86', '67', '46'])\n",
      "(['fe', 'ae', '99', '3f', '2d', 'c5', '27', '94', 'cd', '28', '37', '5b', '98', '19', '7b', '24', '68', '21', '38', '18'], ['f0', 'c4', '3e', '31', '77', '4e', 'e9', '20', 'cc', '01', 'a2', '48', '2d', '72', '4b', 'fe', 'd0', '86', '67', '46'])\n",
      "(['01', '56', 'a5', '2e', 'e7', 'ff', 'e7', '1d', 'b8', '7b', '72', '9c', '3b', '86', '18', 'ff', '37', '9e', '28', '37'], ['f0', 'c4', '3e', '31', '77', '4e', 'e9', '20', 'cc', '01', 'a2', '48', '2d', '72', '4b', 'fe', 'd0', '86', '67', '46'])\n",
      "(['73', 'ae', '15', '76', '9e', '63', '01', '78', '63', 'f3', 'ab', 'e5', '3e', '37', 'f2', '7e', '9b', '66', 'dd', 'd2'], ['f0', 'c4', '3e', '31', '77', '4e', 'e9', '20', 'cc', '01', 'a2', '48', '2d', '72', '4b', 'fe', 'd0', '86', '67', '46'])\n",
      "(['bc', '5d', 'c3', '04', '5b', 'f8', 'cc', '0a', '36', 'b2', 'cb', 'ab', '95', 'ac', '2a', 'b0', '68', '0e', '75', '37'], ['f0', 'c4', '3e', '31', '77', '4e', 'e9', '20', 'cc', '01', 'a2', '48', '2d', '72', '4b', 'fe', 'd0', '86', '67', '46'])\n",
      "(['37', '80', '5b', '92', 'ca', 'e6', 'ec', 'a2', '0a', '40', '19', '03', 'd5', '67', 'a9', 'a5', 'ed', '34', '52', '75'], ['f0', 'c4', '3e', '31', '77', '4e', 'e9', '20', 'cc', '01', 'a2', '48', '2d', '72', '4b', 'fe', 'd0', '86', '67', '46'])\n",
      "(['8f', 'f0', 'b9', '75', 'bd', '70', 'e6', 'ab', '66', 'f6', 'd6', '73', '6d', '97', '39', '32', '23', '51', '64', 'cc'], ['f0', 'c4', '3e', '31', '77', '4e', 'e9', '20', 'cc', '01', 'a2', '48', '2d', '72', '4b', 'fe', 'd0', '86', '67', '46'])\n",
      "(['9d', '27', '62', '03', '22', '30', '4a', 'dc', 'ab', '95', 'ff', '5a', '87', '88', 'a5', '64', '7c', '82', '74', '4f'], ['f0', 'c4', '3e', '31', '77', '4e', 'e9', '20', 'cc', '01', 'a2', '48', '2d', '72', '4b', 'fe', 'd0', '86', '67', '46'])\n",
      "(['08', 'ac', '7d', '60', 'cd', 'f8', '20', 'c8', 'c0', 'cc', '3d', '22', '67', 'a4', '87', '30', 'be', '58', '58', '55'], ['f0', 'c4', '3e', '31', '77', '4e', 'e9', '20', 'cc', '01', 'a2', '48', '2d', '72', '4b', 'fe', 'd0', '86', '67', '46'])\n",
      "(['35', '8f', 'b4', '14', '0f', '1d', '14', '0d', '8a', '9a', '95', '8c', '5e', 'c5', '4a', '6a', 'b1', '67', '7a', '6b'], ['f0', 'c4', '3e', '31', '77', '4e', 'e9', '20', 'cc', '01', 'a2', '48', '2d', '72', '4b', 'fe', 'd0', '86', '67', '46'])\n",
      "(['cd', 'd1', 'e7', '02', '3e', 'd7', 'a0', '3c', 'ee', 'df', '89', '8e', '4b', '48', '98', '78', '64', '73', 'c7', 'ac'], ['f0', 'c4', '3e', '31', '77', '4e', 'e9', '20', 'cc', '01', 'a2', '48', '2d', '72', '4b', 'fe', 'd0', '86', '67', '46'])\n",
      "(['f6', '03', '46', 'bb', 'bf', 'f1', '44', '0b', '5c', '02', '4d', 'be', '79', 'be', '3e', '82', 'e8', 'f2', '96', '2b'], ['f0', 'c4', '3e', '31', '77', '4e', 'e9', '20', 'cc', '01', 'a2', '48', '2d', '72', '4b', 'fe', 'd0', '86', '67', '46'])\n",
      "(['da', 'f2', 'a8', 'bc', '9c', '5b', '6c', '5e', 'ea', '14', 'c5', '93', 'b2', 'e7', 'f8', 'd1', 'b6', 'f2', '81', 'fa'], ['f0', 'c4', '3e', '31', '77', '4e', 'e9', '20', 'cc', '01', 'a2', '48', '2d', '72', '4b', 'fe', 'd0', '86', '67', '46'])\n",
      "(['3b', 'e0', 'cc', 'f8', '0d', '6a', '65', 'd2', 'd9', 'e3', 'eb', 'e9', '3a', 'd0', 'c1', '21', '65', '8f', '1e', '4f'], ['f0', 'c4', '3e', '31', '77', '4e', 'e9', '20', 'cc', '01', 'a2', '48', '2d', '72', '4b', 'fe', 'd0', '86', '67', '46'])\n",
      "(['c3', '6d', '10', '89', '4d', '0b', '6f', '1d', '1e', '22', '32', 'd8', '72', '89', '85', 'e6', '44', 'cd', '91', 'bb'], ['f0', 'c4', '3e', '31', '77', '4e', 'e9', '20', 'cc', '01', 'a2', '48', '2d', '72', '4b', 'fe', 'd0', '86', '67', '46'])\n",
      "(['cc', 'f8', '81', '42', '40', 'e2', 'd1', 'e5', 'ff', '5c', '48', '1c', 'ff', '88', 'a3', '5f', '9f', 'f6', 'e1', '92'], ['f0', 'c4', '3e', '31', '77', '4e', 'e9', '20', 'cc', '01', 'a2', '48', '2d', '72', '4b', 'fe', 'd0', '86', '67', '46'])\n",
      "(['81', '2a', 'a9', 'b6', '29', 'cb', '9b', '2a', '19', '19', 'ed', '01', 'de', '65', '12', '9e', 'f0', 'b2', 'a0', 'b7'], ['f0', 'c4', '3e', '31', '77', '4e', 'e9', '20', 'cc', '01', 'a2', '48', '2d', '72', '4b', 'fe', 'd0', '86', '67', '46'])\n",
      "(['15', '6a', '0f', 'ed', '89', '6c', '4d', '49', '80', 'e3', '6b', 'd1', '47', 'af', '52', 'b8', '94', '27', '67', '85'], ['f0', 'c4', '3e', '31', '77', '4e', 'e9', '20', 'cc', '01', 'a2', '48', '2d', '72', '4b', 'fe', 'd0', '86', '67', '46'])\n",
      "(['01', '8b', '04', 'a8', 'a1', '36', '0b', '14', '75', '08', '03', 'ef', 'ac', '53', 'ed', '62', '0d', 'b2', '17', '2a'], ['f0', 'c4', '3e', '31', '77', '4e', 'e9', '20', 'cc', '01', 'a2', '48', '2d', '72', '4b', 'fe', 'd0', '86', '67', '46'])\n",
      "(['10', 'e2', '6a', 'ac', '1d', 'bb', '07', '97', 'c4', 'db', '83', 'e6', '83', '14', 'cf', '4c', '4f', 'e4', '52', 'a8'], ['f0', 'c4', '3e', '31', '77', '4e', 'e9', '20', 'cc', '01', 'a2', '48', '2d', '72', '4b', 'fe', 'd0', '86', '67', '46'])\n",
      "(['6c', 'cb', '27', 'e5', 'fa', '8b', 'da', '9a', 'ff', '79', '13', '60', 'b2', 'd0', '74', '1f', 'cf', '33', 'd1', '63'], ['f0', 'c4', '3e', '31', '77', '4e', 'e9', '20', 'cc', '01', 'a2', '48', '2d', '72', '4b', 'fe', 'd0', '86', '67', '46'])\n",
      "(['9b', '9d', '7e', '4f', '7d', 'cd', '18', '62', '8d', '2e', '90', '93', '65', '58', '94', '53', '7b', 'c9', 'ef', 'd2'], ['f0', 'c4', '3e', '31', '77', '4e', 'e9', '20', 'cc', '01', 'a2', '48', '2d', '72', '4b', 'fe', 'd0', '86', '67', '46'])\n",
      "(['46', '07', '51', '21', 'a2', '4f', '49', '7b', '6f', '84', 'f0', '43', '2d', 'f7', '6f', '93', '38', '91', 'b3', 'e6'], ['f0', 'c4', '3e', '31', '77', '4e', 'e9', '20', 'cc', '01', 'a2', '48', '2d', '72', '4b', 'fe', 'd0', '86', '67', '46'])\n",
      "(['3e', '2b', '2d', '68', '8d', 'e4', 'b1', '05', '00', '55', '35', '9b', 'bf', '1c', 'ec', 'd4', '31', '03', '97', '3c'], ['f0', 'c4', '3e', '31', '77', '4e', 'e9', '20', 'cc', '01', 'a2', '48', '2d', '72', '4b', 'fe', 'd0', '86', '67', '46'])\n",
      "(['98', 'ca', '38', 'da', '3d', 'ee', 'ce', '5c', 'd8', 'f8', '34', '5a', '13', '13', '7f', 'a6', 'b1', '6a', 'af', '45'], ['f0', 'c4', '3e', '31', '77', '4e', 'e9', '20', 'cc', '01', 'a2', '48', '2d', '72', '4b', 'fe', 'd0', '86', '67', '46'])\n",
      "(['e2', '21', '89', '7c', '2e', '88', '85', '38', '75', 'e2', '01', '76', '26', 'c3', 'ba', 'dc', '56', '33', '44', '1c'], ['f0', 'c4', '3e', '31', '77', '4e', 'e9', '20', 'cc', '01', 'a2', '48', '2d', '72', '4b', 'fe', 'd0', '86', '67', '46'])\n",
      "(['53', '6d', '44', 'cb', 'ba', 'c1', '1f', 'eb', '31', '66', '33', 'bd', '71', 'd3', '91', '3b', 'e1', '93', 'fe', '7b'], ['f0', 'c4', '3e', '31', '77', '4e', 'e9', '20', 'cc', '01', 'a2', '48', '2d', '72', '4b', 'fe', 'd0', '86', '67', '46'])\n",
      "(['74', '11', 'c8', 'cd', '83', '27', '50', 'b9', '3e', 'ee', '3e', '78', '30', 'b6', '8f', '42', 'ce', 'c9', '0b', '9d'], ['f0', 'c4', '3e', '31', '77', '4e', 'e9', '20', 'cc', '01', 'a2', '48', '2d', '72', '4b', 'fe', 'd0', '86', '67', '46'])\n",
      "(['53', '7f', 'ac', '55', '55', '3b', 'fb', 'a2', '67', '21', '36', 'ac', 'a6', 'e7', '64', 'b2', '80', 'fa', 'be', '9a'], ['f0', 'c4', '3e', '31', '77', '4e', 'e9', '20', 'cc', '01', 'a2', '48', '2d', '72', '4b', 'fe', 'd0', '86', '67', '46'])\n",
      "(['2a', 'cd', 'f7', 'fb', '18', '39', '1e', '76', '48', '04', '1e', '77', 'f8', '6f', '58', 'a9', '88', '1a', 'c3', '22'], ['f0', 'c4', '3e', '31', '77', '4e', 'e9', '20', 'cc', '01', 'a2', '48', '2d', '72', '4b', 'fe', 'd0', '86', '67', '46'])\n",
      "(['00', '6c', '05', 'a5', '4c', '20', '07', '5f', '09', '9e', '93', '66', '12', '06', '01', '30', '51', '4b', '3c', '88'], ['f0', 'c4', '3e', '31', '77', '4e', 'e9', '20', 'cc', '01', 'a2', '48', '2d', '72', '4b', 'fe', 'd0', '86', '67', '46'])\n",
      "(['92', '27', '14', 'c0', 'ea', '18', 'bc', 'eb', 'fe', '77', '47', 'ec', '3e', 'ec', '52', '0d', '2d', 'd1', 'f4', '1e'], ['f0', 'c4', '3e', '31', '77', '4e', 'e9', '20', 'cc', '01', 'a2', '48', '2d', '72', '4b', 'fe', 'd0', '86', '67', '46'])\n",
      "(['30', '83', '08', 'f8', '0d', '4a', '12', '3b', '03', 'b0', '39', '17', 'd1', '26', '14', 'bb', '40', '1b', '90', '68'], ['f0', 'c4', '3e', '31', '77', '4e', 'e9', '20', 'cc', '01', 'a2', '48', '2d', '72', '4b', 'fe', 'd0', '86', '67', '46'])\n",
      "(['0e', '84', '9d', '0c', '44', '9c', '30', 'f5', '33', 'ff', '30', '16', '11', 'f5', 'ce', '1e', '0f', '60', 'f1', 'c8'], ['f0', 'c4', '3e', '31', '77', '4e', 'e9', '20', 'cc', '01', 'a2', '48', '2d', '72', '4b', 'fe', 'd0', '86', '67', '46'])\n",
      "(['19', '0c', 'c5', 'b5', 'f1', 'ee', '41', '86', '82', 'ce', 'a5', '7d', '5f', '99', '19', '87', '85', '11', '97', 'bc'], ['f0', 'c4', '3e', '31', '77', '4e', 'e9', '20', 'cc', '01', 'a2', '48', '2d', '72', '4b', 'fe', 'd0', '86', '67', '46'])\n",
      "(['6e', '6d', '4f', 'f2', '5c', '15', 'dd', 'f3', 'aa', '98', '11', '87', '21', 'c2', '98', '8f', '49', 'd5', '5c', '8f'], ['f0', 'c4', '3e', '31', '77', '4e', 'e9', '20', 'cc', '01', 'a2', '48', '2d', '72', '4b', 'fe', 'd0', '86', '67', '46'])\n",
      "(['f9', '39', '56', '22', '17', '30', '17', '48', '99', '3a', '10', '8c', '56', '48', '28', '50', '65', 'd3', '3c', '62'], ['f0', 'c4', '3e', '31', '77', '4e', 'e9', '20', 'cc', '01', 'a2', '48', '2d', '72', '4b', 'fe', 'd0', '86', '67', '46'])\n",
      "(['5d', '01', '19', '0a', '27', '7f', '8e', 'e5', '6c', 'ee', '67', '8e', '89', 'a2', 'b5', 'd2', '7b', 'df', '9c', 'd3'], ['f0', 'c4', '3e', '31', '77', '4e', 'e9', '20', 'cc', '01', 'a2', '48', '2d', '72', '4b', 'fe', 'd0', '86', '67', '46'])\n",
      "(['81', 'e3', '71', '09', '60', 'b0', '53', 'b4', 'c0', '86', '16', '51', 'ee', '9b', '46', '8c', '56', 'a1', '79', '58'], ['f0', 'c4', '3e', '31', '77', '4e', 'e9', '20', 'cc', '01', 'a2', '48', '2d', '72', '4b', 'fe', 'd0', '86', '67', '46'])\n",
      "(['01', 'e4', '18', '97', '30', 'dc', '4e', '33', '0e', '0a', '4b', '98', 'c7', '19', 'e7', '2b', 'd4', '5a', '18', 'd0'], ['f0', 'c4', '3e', '31', '77', '4e', 'e9', '20', 'cc', '01', 'a2', '48', '2d', '72', '4b', 'fe', 'd0', '86', '67', '46'])\n",
      "(['96', 'ed', 'd1', 'bb', 'c5', '0b', '99', '51', '07', '0b', 'c9', 'dd', 'f9', '94', '5f', '95', 'f3', '0d', 'a7', 'be'], ['f0', 'c4', '3e', '31', '77', '4e', 'e9', '20', 'cc', '01', 'a2', '48', '2d', '72', '4b', 'fe', 'd0', '86', '67', '46'])\n",
      "(['1a', '5d', '07', '08', '9c', 'cc', '44', 'd2', '4d', 'a7', '79', '7f', '2e', 'e5', '0f', '2c', '2b', '20', '76', '3f'], ['f0', 'c4', '3e', '31', '77', '4e', 'e9', '20', 'cc', '01', 'a2', '48', '2d', '72', '4b', 'fe', 'd0', '86', '67', '46'])\n",
      "(['e4', 'b0', '9a', '47', '8a', '9c', 'b5', '79', '7a', 'f5', '43', '97', 'f0', 'f2', 'f3', 'ea', 'be', 'dd', '59', 'ca'], ['f0', 'c4', '3e', '31', '77', '4e', 'e9', '20', 'cc', '01', 'a2', '48', '2d', '72', '4b', 'fe', 'd0', '86', '67', '46'])\n",
      "(['35', '89', 'b9', '9a', 'ca', '0d', '9e', 'e4', '8d', '74', 'c3', 'd1', 'a8', '4a', '96', '89', 'bb', 'e6', 'eb', '17'], ['f0', 'c4', '3e', '31', '77', '4e', 'e9', '20', 'cc', '01', 'a2', '48', '2d', '72', '4b', 'fe', 'd0', '86', '67', '46'])\n",
      "(['a6', '0e', '28', '06', '68', '1c', '8b', '87', 'b1', '58', '19', '94', 'a6', '05', '3d', '1c', '1e', '6f', 'f1', '63'], ['f0', 'c4', '3e', '31', '77', '4e', 'e9', '20', 'cc', '01', 'a2', '48', '2d', '72', '4b', 'fe', 'd0', '86', '67', '46'])\n",
      "(['36', '67', '59', '88', '47', '39', '44', '62', 'bb', 'eb', '6e', 'e0', 'fd', '19', '40', '32', '2e', '46', 'd2', 'e9'], ['f0', 'c4', '3e', '31', '77', '4e', 'e9', '20', 'cc', '01', 'a2', '48', '2d', '72', '4b', 'fe', 'd0', '86', '67', '46'])\n",
      "(['59', '0b', 'bb', '26', '3f', '24', 'a3', 'cd', 'b8', '3b', 'be', 'ee', '90', '36', '8b', '0e', 'c1', '6a', 'f1', '3d'], ['f0', 'c4', '3e', '31', '77', '4e', 'e9', '20', 'cc', '01', 'a2', '48', '2d', '72', '4b', 'fe', 'd0', '86', '67', '46'])\n",
      "(['a9', '99', '39', 'b9', '66', 'e1', '7c', '03', 'bb', 'c2', 'bf', '7c', '51', '82', 'c9', 'a9', '0e', 'a7', 'a5', '49'], ['f0', 'c4', '3e', '31', '77', '4e', 'e9', '20', 'cc', '01', 'a2', '48', '2d', '72', '4b', 'fe', 'd0', '86', '67', '46'])\n"
     ]
    },
    {
     "ename": "Exception",
     "evalue": "unexpected",
     "output_type": "error",
     "traceback": [
      "\u001b[1;31m---------------------------------------------------------------------------\u001b[0m",
      "\u001b[1;31mException\u001b[0m                                 Traceback (most recent call last)",
      "\u001b[1;32m<ipython-input-59-9e0aa9ca5218>\u001b[0m in \u001b[0;36m<module>\u001b[1;34m()\u001b[0m\n\u001b[0;32m     41\u001b[0m     \u001b[1;32mraise\u001b[0m \u001b[0mException\u001b[0m\u001b[1;33m(\u001b[0m\u001b[1;34m'unexpected'\u001b[0m\u001b[1;33m)\u001b[0m\u001b[1;33m\u001b[0m\u001b[0m\n\u001b[0;32m     42\u001b[0m \u001b[1;33m\u001b[0m\u001b[0m\n\u001b[1;32m---> 43\u001b[1;33m \u001b[1;32mprint\u001b[0m\u001b[1;33m(\u001b[0m\u001b[0mforgeValidatingHash\u001b[0m\u001b[1;33m(\u001b[0m\u001b[1;36m100\u001b[0m\u001b[1;33m,\u001b[0m \u001b[0mmessage\u001b[0m\u001b[1;33m,\u001b[0m \u001b[0mmessageDigest\u001b[0m\u001b[1;33m,\u001b[0m \u001b[1;34mb';admin=true'\u001b[0m\u001b[1;33m)\u001b[0m\u001b[1;33m)\u001b[0m\u001b[1;33m\u001b[0m\u001b[0m\n\u001b[0m",
      "\u001b[1;32m<ipython-input-59-9e0aa9ca5218>\u001b[0m in \u001b[0;36mforgeValidatingHash\u001b[1;34m(maxkeylen, message, digest, suffix)\u001b[0m\n\u001b[0;32m     39\u001b[0m         \u001b[1;32mif\u001b[0m \u001b[0mvalidate\u001b[0m\u001b[1;33m(\u001b[0m\u001b[0mforgedMessage\u001b[0m\u001b[1;33m,\u001b[0m \u001b[0mforgedDigest\u001b[0m\u001b[1;33m)\u001b[0m\u001b[1;33m:\u001b[0m\u001b[1;33m\u001b[0m\u001b[0m\n\u001b[0;32m     40\u001b[0m             \u001b[1;32mreturn\u001b[0m\u001b[1;33m(\u001b[0m\u001b[0mforgedMessage\u001b[0m\u001b[1;33m,\u001b[0m \u001b[0mforgedDigest\u001b[0m\u001b[1;33m)\u001b[0m\u001b[1;33m\u001b[0m\u001b[0m\n\u001b[1;32m---> 41\u001b[1;33m     \u001b[1;32mraise\u001b[0m \u001b[0mException\u001b[0m\u001b[1;33m(\u001b[0m\u001b[1;34m'unexpected'\u001b[0m\u001b[1;33m)\u001b[0m\u001b[1;33m\u001b[0m\u001b[0m\n\u001b[0m\u001b[0;32m     42\u001b[0m \u001b[1;33m\u001b[0m\u001b[0m\n\u001b[0;32m     43\u001b[0m \u001b[1;32mprint\u001b[0m\u001b[1;33m(\u001b[0m\u001b[0mforgeValidatingHash\u001b[0m\u001b[1;33m(\u001b[0m\u001b[1;36m100\u001b[0m\u001b[1;33m,\u001b[0m \u001b[0mmessage\u001b[0m\u001b[1;33m,\u001b[0m \u001b[0mmessageDigest\u001b[0m\u001b[1;33m,\u001b[0m \u001b[1;34mb';admin=true'\u001b[0m\u001b[1;33m)\u001b[0m\u001b[1;33m)\u001b[0m\u001b[1;33m\u001b[0m\u001b[0m\n",
      "\u001b[1;31mException\u001b[0m: unexpected"
     ]
    }
   ],
   "source": [
    "from Crypto.Random import random\n",
    "import struct\n",
    "\n",
    "def padSHA1(s):\n",
    "    l = len(s) * 8\n",
    "    s += b'\\x80'\n",
    "    s += b'\\x00' * ((56 - (len(s) % 64)) % 64)\n",
    "    s += struct.pack('>Q', l)\n",
    "    return s\n",
    "\n",
    "keylen = random.randint(0, 100)\n",
    "key = randbytes(keylen)\n",
    "\n",
    "def validate(message, digest):\n",
    "    global key\n",
    "    print (authSHA1(key, message), digest)\n",
    "    return authSHA1(key, message) == digest\n",
    "\n",
    "message = b'comment1=cooking%20MCs;userdata=foo;comment2=%20like%20a%20pound%20of%20bacon'\n",
    "messageDigest = authSHA1(key, message)\n",
    "\n",
    "\n",
    "def forgeHash(keylen, message, digest, suffix):\n",
    "    paddedForgedMessageWithKey = padSHA1(key + message) + suffix\n",
    "    forgedMessage = paddedForgedMessageWithKey[keylen:]\n",
    "    #h = struct.unpack('>5I', digest)\n",
    "    h=[]\n",
    "    h.append(int(\"\".join(digest[0:3]), 16))\n",
    "    h.append(int(\"\".join(digest[4:7]), 16))\n",
    "    h.append(int(\"\".join(digest[8:11]), 16))\n",
    "    h.append(int(\"\".join(digest[12:15]), 16))\n",
    "    h.append(int(\"\".join(digest[16:19]), 16))\n",
    "    forgedDigest = SHA1(suffix, h[0], h[1], h[2], h[3], h[4], len(paddedForgedMessageWithKey) * 8).digest()\n",
    "    return (forgedMessage, forgedDigest)\n",
    "\n",
    "def forgeValidatingHash(maxkeylen, message, digest, suffix):\n",
    "    for i in range(maxkeylen):\n",
    "        (forgedMessage, forgedDigest) = forgeHash(i, message, digest, suffix)\n",
    "        if validate(forgedMessage, forgedDigest):\n",
    "            return(forgedMessage, forgedDigest)\n",
    "    raise Exception('unexpected')\n",
    "\n",
    "print(forgeValidatingHash(100, message, messageDigest, b';admin=true'))"
   ]
  },
  {
   "cell_type": "code",
   "execution_count": 37,
   "metadata": {
    "collapsed": false
   },
   "outputs": [
    {
     "ename": "TypeError",
     "evalue": "ord() expected a character, but string of length 2 found",
     "output_type": "error",
     "traceback": [
      "\u001b[1;31m---------------------------------------------------------------------------\u001b[0m",
      "\u001b[1;31mTypeError\u001b[0m                                 Traceback (most recent call last)",
      "\u001b[1;32m<ipython-input-37-4bdcc487481f>\u001b[0m in \u001b[0;36m<module>\u001b[1;34m()\u001b[0m\n\u001b[0;32m      1\u001b[0m \u001b[0ma\u001b[0m \u001b[1;33m=\u001b[0m \u001b[1;33m[\u001b[0m\u001b[1;34m'7b'\u001b[0m\u001b[1;33m,\u001b[0m \u001b[1;34m'd9'\u001b[0m\u001b[1;33m,\u001b[0m \u001b[1;34m'a0'\u001b[0m\u001b[1;33m,\u001b[0m \u001b[1;34m'd9'\u001b[0m\u001b[1;33m,\u001b[0m \u001b[1;34m'84'\u001b[0m\u001b[1;33m,\u001b[0m \u001b[1;34m'be'\u001b[0m\u001b[1;33m,\u001b[0m \u001b[1;34m'49'\u001b[0m\u001b[1;33m,\u001b[0m \u001b[1;34m'35'\u001b[0m\u001b[1;33m,\u001b[0m \u001b[1;34m'97'\u001b[0m\u001b[1;33m,\u001b[0m \u001b[1;34m'83'\u001b[0m\u001b[1;33m,\u001b[0m \u001b[1;34m'86'\u001b[0m\u001b[1;33m,\u001b[0m \u001b[1;34m'c3'\u001b[0m\u001b[1;33m,\u001b[0m \u001b[1;34m'cc'\u001b[0m\u001b[1;33m,\u001b[0m \u001b[1;34m'65'\u001b[0m\u001b[1;33m,\u001b[0m \u001b[1;34m'37'\u001b[0m\u001b[1;33m,\u001b[0m \u001b[1;34m'0e'\u001b[0m\u001b[1;33m,\u001b[0m \u001b[1;34m'ab'\u001b[0m\u001b[1;33m,\u001b[0m \u001b[1;34m'23'\u001b[0m\u001b[1;33m,\u001b[0m \u001b[1;34m'43'\u001b[0m\u001b[1;33m,\u001b[0m \u001b[1;34m'c3'\u001b[0m\u001b[1;33m]\u001b[0m\u001b[1;33m\u001b[0m\u001b[0m\n\u001b[0;32m      2\u001b[0m \u001b[0mtoHex\u001b[0m \u001b[1;33m=\u001b[0m \u001b[1;32mlambda\u001b[0m \u001b[0mx\u001b[0m\u001b[1;33m:\u001b[0m\u001b[1;34m\"\"\u001b[0m\u001b[1;33m.\u001b[0m\u001b[0mjoin\u001b[0m\u001b[1;33m(\u001b[0m\u001b[1;33m[\u001b[0m\u001b[0mhex\u001b[0m\u001b[1;33m(\u001b[0m\u001b[0mord\u001b[0m\u001b[1;33m(\u001b[0m\u001b[0mc\u001b[0m\u001b[1;33m)\u001b[0m\u001b[1;33m)\u001b[0m\u001b[1;33m[\u001b[0m\u001b[1;36m2\u001b[0m\u001b[1;33m:\u001b[0m\u001b[1;33m]\u001b[0m\u001b[1;33m.\u001b[0m\u001b[0mzfill\u001b[0m\u001b[1;33m(\u001b[0m\u001b[1;36m2\u001b[0m\u001b[1;33m)\u001b[0m \u001b[1;32mfor\u001b[0m \u001b[0mc\u001b[0m \u001b[1;32min\u001b[0m \u001b[0mx\u001b[0m\u001b[1;33m]\u001b[0m\u001b[1;33m)\u001b[0m\u001b[1;33m\u001b[0m\u001b[0m\n\u001b[1;32m----> 3\u001b[1;33m \u001b[0mtoHex\u001b[0m\u001b[1;33m(\u001b[0m\u001b[0ma\u001b[0m\u001b[1;33m)\u001b[0m\u001b[1;33m\u001b[0m\u001b[0m\n\u001b[0m",
      "\u001b[1;32m<ipython-input-37-4bdcc487481f>\u001b[0m in \u001b[0;36m<lambda>\u001b[1;34m(x)\u001b[0m\n\u001b[0;32m      1\u001b[0m \u001b[0ma\u001b[0m \u001b[1;33m=\u001b[0m \u001b[1;33m[\u001b[0m\u001b[1;34m'7b'\u001b[0m\u001b[1;33m,\u001b[0m \u001b[1;34m'd9'\u001b[0m\u001b[1;33m,\u001b[0m \u001b[1;34m'a0'\u001b[0m\u001b[1;33m,\u001b[0m \u001b[1;34m'd9'\u001b[0m\u001b[1;33m,\u001b[0m \u001b[1;34m'84'\u001b[0m\u001b[1;33m,\u001b[0m \u001b[1;34m'be'\u001b[0m\u001b[1;33m,\u001b[0m \u001b[1;34m'49'\u001b[0m\u001b[1;33m,\u001b[0m \u001b[1;34m'35'\u001b[0m\u001b[1;33m,\u001b[0m \u001b[1;34m'97'\u001b[0m\u001b[1;33m,\u001b[0m \u001b[1;34m'83'\u001b[0m\u001b[1;33m,\u001b[0m \u001b[1;34m'86'\u001b[0m\u001b[1;33m,\u001b[0m \u001b[1;34m'c3'\u001b[0m\u001b[1;33m,\u001b[0m \u001b[1;34m'cc'\u001b[0m\u001b[1;33m,\u001b[0m \u001b[1;34m'65'\u001b[0m\u001b[1;33m,\u001b[0m \u001b[1;34m'37'\u001b[0m\u001b[1;33m,\u001b[0m \u001b[1;34m'0e'\u001b[0m\u001b[1;33m,\u001b[0m \u001b[1;34m'ab'\u001b[0m\u001b[1;33m,\u001b[0m \u001b[1;34m'23'\u001b[0m\u001b[1;33m,\u001b[0m \u001b[1;34m'43'\u001b[0m\u001b[1;33m,\u001b[0m \u001b[1;34m'c3'\u001b[0m\u001b[1;33m]\u001b[0m\u001b[1;33m\u001b[0m\u001b[0m\n\u001b[1;32m----> 2\u001b[1;33m \u001b[0mtoHex\u001b[0m \u001b[1;33m=\u001b[0m \u001b[1;32mlambda\u001b[0m \u001b[0mx\u001b[0m\u001b[1;33m:\u001b[0m\u001b[1;34m\"\"\u001b[0m\u001b[1;33m.\u001b[0m\u001b[0mjoin\u001b[0m\u001b[1;33m(\u001b[0m\u001b[1;33m[\u001b[0m\u001b[0mhex\u001b[0m\u001b[1;33m(\u001b[0m\u001b[0mord\u001b[0m\u001b[1;33m(\u001b[0m\u001b[0mc\u001b[0m\u001b[1;33m)\u001b[0m\u001b[1;33m)\u001b[0m\u001b[1;33m[\u001b[0m\u001b[1;36m2\u001b[0m\u001b[1;33m:\u001b[0m\u001b[1;33m]\u001b[0m\u001b[1;33m.\u001b[0m\u001b[0mzfill\u001b[0m\u001b[1;33m(\u001b[0m\u001b[1;36m2\u001b[0m\u001b[1;33m)\u001b[0m \u001b[1;32mfor\u001b[0m \u001b[0mc\u001b[0m \u001b[1;32min\u001b[0m \u001b[0mx\u001b[0m\u001b[1;33m]\u001b[0m\u001b[1;33m)\u001b[0m\u001b[1;33m\u001b[0m\u001b[0m\n\u001b[0m\u001b[0;32m      3\u001b[0m \u001b[0mtoHex\u001b[0m\u001b[1;33m(\u001b[0m\u001b[0ma\u001b[0m\u001b[1;33m)\u001b[0m\u001b[1;33m\u001b[0m\u001b[0m\n",
      "\u001b[1;31mTypeError\u001b[0m: ord() expected a character, but string of length 2 found"
     ]
    }
   ],
   "source": [
    "a = ['7b', 'd9', 'a0', 'd9', '84', 'be', '49', '35', '97', '83', '86', 'c3', 'cc', '65', '37', '0e', 'ab', '23', '43', 'c3']"
   ]
  },
  {
   "cell_type": "code",
   "execution_count": 49,
   "metadata": {
    "collapsed": false
   },
   "outputs": [
    {
     "ename": "ImportError",
     "evalue": "No module named request",
     "output_type": "error",
     "traceback": [
      "\u001b[1;31m---------------------------------------------------------------------------\u001b[0m",
      "\u001b[1;31mImportError\u001b[0m                               Traceback (most recent call last)",
      "\u001b[1;32m<ipython-input-49-8d15022d752a>\u001b[0m in \u001b[0;36m<module>\u001b[1;34m()\u001b[0m\n\u001b[0;32m      2\u001b[0m \u001b[1;32mimport\u001b[0m \u001b[0msys\u001b[0m\u001b[1;33m\u001b[0m\u001b[0m\n\u001b[0;32m      3\u001b[0m \u001b[1;32mimport\u001b[0m \u001b[0mtime\u001b[0m\u001b[1;33m\u001b[0m\u001b[0m\n\u001b[1;32m----> 4\u001b[1;33m \u001b[1;32mimport\u001b[0m \u001b[0murllib\u001b[0m\u001b[1;33m.\u001b[0m\u001b[0mrequest\u001b[0m\u001b[1;33m\u001b[0m\u001b[0m\n\u001b[0m\u001b[0;32m      5\u001b[0m \u001b[1;33m\u001b[0m\u001b[0m\n\u001b[0;32m      6\u001b[0m \u001b[1;32mdef\u001b[0m \u001b[0misValidSignature\u001b[0m\u001b[1;33m(\u001b[0m\u001b[0mfile\u001b[0m\u001b[1;33m,\u001b[0m \u001b[0msignature\u001b[0m\u001b[1;33m)\u001b[0m\u001b[1;33m:\u001b[0m\u001b[1;33m\u001b[0m\u001b[0m\n",
      "\u001b[1;31mImportError\u001b[0m: No module named request"
     ]
    }
   ],
   "source": [
    "import binascii\n",
    "import sys\n",
    "import time\n",
    "import urllib.request\n",
    "\n",
    "def isValidSignature(file, signature):\n",
    "    start = time.perf_counter()\n",
    "    try:\n",
    "        response = urllib.request.urlopen('http://localhost:9000/test?file=' + file + '&signature=' + signature)\n",
    "        end = time.perf_counter()\n",
    "        if response.status != 200:\n",
    "            raise Exception('unexpected status ' + str(response.status))\n",
    "        return (True, end - start)\n",
    "    except urllib.error.HTTPError as e:\n",
    "        end = time.perf_counter()\n",
    "        if e.code != 500:\n",
    "            raise\n",
    "        return (False, end - start)\n",
    "\n",
    "def guessNextByte(file, knownBytes, delay):\n",
    "    suffixlen = 20 - len(knownBytes)\n",
    "    expectedDuration = delay * len(knownBytes) + 0.01\n",
    "    start = time.perf_counter()\n",
    "\n",
    "    def print_info(i):\n",
    "        end = time.perf_counter()\n",
    "        print('Made {0} requests in {1:.2f}s; rps = {2:.2f}, max rps = {3:.2f}'.format(i, end - start, i / (end - start), 1 / expectedDuration))\n",
    "\n",
    "    for i in range(256):\n",
    "        suffix = bytes([i]) + (b'\\x00' * (suffixlen - 1))\n",
    "        signature = knownBytes + suffix\n",
    "        _, duration = isValidSignature(file, binascii.hexlify(signature).decode('ascii'))\n",
    "        if duration > expectedDuration + 0.8 * delay:\n",
    "            print_info(i)\n",
    "            return knownBytes + bytes([i])\n",
    "\n",
    "    raise Exception('unexpected')\n",
    "\n",
    "file = sys.argv[1]\n",
    "knownBytes = b''\n",
    "DELAY = 0.05\n",
    "for i in range(20):\n",
    "    knownBytes = guessNextByte(file, knownBytes, DELAY)\n",
    "    print(binascii.hexlify(knownBytes))\n",
    "print(binascii.hexlify(knownBytes))\n",
    "if not isValidSignature(file, binascii.hexlify(knownBytes).decode('ascii'))[0]:\n",
    "    raise Exception('unexpected')"
   ]
  },
  {
   "cell_type": "code",
   "execution_count": 50,
   "metadata": {
    "collapsed": false
   },
   "outputs": [
    {
     "ename": "ImportError",
     "evalue": "No module named http.server",
     "output_type": "error",
     "traceback": [
      "\u001b[1;31m---------------------------------------------------------------------------\u001b[0m",
      "\u001b[1;31mImportError\u001b[0m                               Traceback (most recent call last)",
      "\u001b[1;32m<ipython-input-50-e11e8b879340>\u001b[0m in \u001b[0;36m<module>\u001b[1;34m()\u001b[0m\n\u001b[0;32m      2\u001b[0m \u001b[1;32mfrom\u001b[0m \u001b[0mCrypto\u001b[0m\u001b[1;33m.\u001b[0m\u001b[0mUtil\u001b[0m\u001b[1;33m.\u001b[0m\u001b[0mstrxor\u001b[0m \u001b[1;32mimport\u001b[0m \u001b[0mstrxor\u001b[0m\u001b[1;33m\u001b[0m\u001b[0m\n\u001b[0;32m      3\u001b[0m \u001b[1;32mimport\u001b[0m \u001b[0mbinascii\u001b[0m\u001b[1;33m\u001b[0m\u001b[0m\n\u001b[1;32m----> 4\u001b[1;33m \u001b[1;32mimport\u001b[0m \u001b[0mhttp\u001b[0m\u001b[1;33m.\u001b[0m\u001b[0mserver\u001b[0m\u001b[1;33m\u001b[0m\u001b[0m\n\u001b[0m\u001b[0;32m      5\u001b[0m \u001b[1;32mimport\u001b[0m \u001b[0msocketserver\u001b[0m\u001b[1;33m\u001b[0m\u001b[0m\n\u001b[0;32m      6\u001b[0m \u001b[1;32mimport\u001b[0m \u001b[0mtime\u001b[0m\u001b[1;33m\u001b[0m\u001b[0m\n",
      "\u001b[1;31mImportError\u001b[0m: No module named http.server"
     ]
    }
   ],
   "source": [
    "from Crypto.Util.strxor import strxor_c\n",
    "from Crypto.Util.strxor import strxor\n",
    "import binascii\n",
    "import http.server\n",
    "import socketserver\n",
    "import time\n",
    "import urllib.parse\n",
    "import util\n",
    "\n",
    "PORT = 9000\n",
    "DELAY = 0.05\n",
    "\n",
    "blocksize = 64\n",
    "key = util.randbytes(100)\n",
    "\n",
    "def sha1(x):\n",
    "    return challenge28.SHA1(x).digest()\n",
    "\n",
    "def hmacSHA1(key, message):\n",
    "    if len(key) > blocksize:\n",
    "        key = sha1(key)\n",
    "    if len(key) < blocksize:\n",
    "        key += b'\\x00' * (blocksize - len(key))\n",
    "\n",
    "    opad = strxor_c(key, 0x5c)\n",
    "    ipad = strxor_c(key, 0x36)\n",
    "\n",
    "    return sha1(opad + sha1(ipad + message))\n",
    "\n",
    "def insecure_compare(x, y):\n",
    "    if len(x) != len(y):\n",
    "        return False\n",
    "    for i in range(len(x)):\n",
    "        if x[i] != y[i]:\n",
    "            return False\n",
    "        time.sleep(DELAY)\n",
    "    return True\n",
    "\n",
    "last_file = b''\n",
    "\n",
    "class RequestHandler(http.server.BaseHTTPRequestHandler):\n",
    "    def do_GET(self):\n",
    "        global last_file\n",
    "        result = urllib.parse.urlparse(self.path)\n",
    "        if result.path == '/test':\n",
    "            q = urllib.parse.parse_qs(result.query)\n",
    "            file = q['file'][0].encode('ascii')\n",
    "            digest = hmacSHA1(key, file)\n",
    "            signature = binascii.unhexlify(q['signature'][0])\n",
    "            if file != last_file:\n",
    "                last_file = file\n",
    "                print('New file:', file, binascii.hexlify(digest))\n",
    "            print(binascii.hexlify(digest), binascii.hexlify(signature))\n",
    "            if insecure_compare(digest, signature):\n",
    "                self.send_error(200)\n",
    "            else:\n",
    "                self.send_error(500)\n",
    "        else:\n",
    "            self.send_error(500)\n",
    "\n",
    "def serve_forever(delay):\n",
    "    global DELAY\n",
    "    DELAY = delay\n",
    "    socketserver.TCPServer.allow_reuse_address = True\n",
    "    httpd = socketserver.TCPServer((\"\", PORT), RequestHandler)\n",
    "    print(\"serving at port {0} with delay {1}\".format(PORT, DELAY))\n",
    "    httpd.serve_forever()\n",
    "\n",
    "serve_forever(DELAY)"
   ]
  },
  {
   "cell_type": "code",
   "execution_count": null,
   "metadata": {
    "collapsed": true
   },
   "outputs": [],
   "source": []
  }
 ],
 "metadata": {
  "kernelspec": {
   "display_name": "Python 2 (Ubuntu, plain)",
   "language": "python",
   "name": "python2-ubuntu"
  },
  "language_info": {
   "codemirror_mode": {
    "name": "ipython",
    "version": 2
   },
   "file_extension": ".py",
   "mimetype": "text/x-python",
   "name": "python",
   "nbconvert_exporter": "python",
   "pygments_lexer": "ipython2",
   "version": "2.7.10"
  }
 },
 "nbformat": 4,
 "nbformat_minor": 0
}
