{
 "cells": [
  {
   "cell_type": "markdown",
   "metadata": {},
   "source": [
    "Cryptography\n",
    "======\n",
    "\n",
    "Recall the basic setup of cryptography. We have two people, Anabel and Bartolo. Anabel wants to send Bartolo a secure message. What do we mean by \"secure?\" We mean that even though that dastardly Eve might intercept and read the transmitted message, Eve won't learn anything about the actual message Anabel wants to send to Bartolo.\n",
    "\n",
    "Before the 1970s, the only way for Anabel to send Bartolo a secure message required Anabel and Bartolo to get together beforehand and agree on a secret method of communicating. To communicate, Anabel first decides on a **message.** The original message is sometimes called the **plaintext.** She then **encrypts** the message, producing a **ciphertext.**\n",
    "\n",
    "She then sends the ciphertext. If Eve gets hold of hte ciphertext, she shouldn't be able to decode it (unless it's a poor encryption scheme).\n",
    "\n",
    "When Bartolo receives the ciphertext, he can **decrypt** it to recover the plaintext message, since he agreed on the encryption scheme beforehand."
   ]
  },
  {
   "cell_type": "markdown",
   "metadata": {},
   "source": [
    "Caesar Shift\n",
    "--------------\n",
    "\n",
    "The first known instance of cryptography came from Julius Caesar. It was not a very good method. To encrypt a message, he shifted each letter over by 2, so for instance \"A\" becomes \"C\", and \"B\" becomes \"D\", and so on.\n",
    "\n",
    "Let's see what sort of message comes out.\n"
   ]
  },
  {
   "cell_type": "code",
   "execution_count": 1,
   "metadata": {
    "collapsed": true
   },
   "outputs": [],
   "source": [
    "alpha = \"abcdefghijklmnopqrstuvwxyz\".upper()\n",
    "punct = \",.?:;'\\n \""
   ]
  },
  {
   "cell_type": "code",
   "execution_count": 2,
   "metadata": {
    "collapsed": false
   },
   "outputs": [],
   "source": [
    "from functools import partial\n",
    "\n",
    "def shift(l, s=2):\n",
    "    l = l.upper()\n",
    "    return alpha[(alpha.index(l) + s) % 26]\n",
    "\n",
    "def caesar_shift_encrypt(m, s=2):\n",
    "    m = m.upper()\n",
    "    c = \"\".join(map(partial(shift, s=s), m))\n",
    "    return c\n",
    "\n",
    "def caesar_shift_decrypt(c, s=-2):\n",
    "    c = c.upper()\n",
    "    m = \"\".join(map(partial(shift, s=s), c))\n",
    "    return m"
   ]
  },
  {
   "cell_type": "code",
   "execution_count": 3,
   "metadata": {
    "collapsed": false
   },
   "outputs": [
    {
     "name": "stdout",
     "output_type": "stream",
     "text": [
      "Original Message: HI\n",
      "Ciphertext: JK\n"
     ]
    }
   ],
   "source": [
    "print \"Original Message: HI\"\n",
    "print \"Ciphertext:\", caesar_shift_encrypt(\"hi\")"
   ]
  },
  {
   "cell_type": "code",
   "execution_count": 4,
   "metadata": {
    "collapsed": false
   },
   "outputs": [
    {
     "name": "stdout",
     "output_type": "stream",
     "text": [
      "Original Message:\n",
      "TobeornottobethatisthequestionWhethertisNoblerinthemindtosufferTheSlingsandArrowsofoutrageousFortuneOrtotakeArmsagainstaSeaoftroublesAndbyopposingendthem\n",
      "\n",
      "Ciphertext:\n",
      "VQDGQTPQVVQDGVJCVKUVJGSWGUVKQPYJGVJGTVKUPQDNGTKPVJGOKPFVQUWHHGTVJGUNKPIUCPFCTTQYUQHQWVTCIGQWUHQTVWPGQTVQVCMGCTOUCICKPUVCUGCQHVTQWDNGUCPFDAQRRQUKPIGPFVJGO\n"
     ]
    }
   ],
   "source": [
    "m = \"\"\"To be, or not to be, that is the question:\n",
    "Whether 'tis Nobler in the mind to suffer\n",
    "The Slings and Arrows of outrageous Fortune,\n",
    "Or to take Arms against a Sea of troubles,\n",
    "And by opposing end them.\"\"\"\n",
    "\n",
    "m = \"\".join([l for l in m if not l in punct])\n",
    "\n",
    "print \"Original Message:\"\n",
    "print m\n",
    "\n",
    "print\n",
    "print \"Ciphertext:\"\n",
    "tobe_ciphertext = caesar_shift_encrypt(m)\n",
    "print tobe_ciphertext"
   ]
  },
  {
   "cell_type": "code",
   "execution_count": 5,
   "metadata": {
    "collapsed": false
   },
   "outputs": [
    {
     "name": "stdout",
     "output_type": "stream",
     "text": [
      "Decrypted first message: HI\n"
     ]
    }
   ],
   "source": [
    "print \"Decrypted first message:\", caesar_shift_decrypt(\"JK\")"
   ]
  },
  {
   "cell_type": "code",
   "execution_count": 6,
   "metadata": {
    "collapsed": false
   },
   "outputs": [
    {
     "name": "stdout",
     "output_type": "stream",
     "text": [
      "Decrypted second message:\n",
      "TOBEORNOTTOBETHATISTHEQUESTIONWHETHERTISNOBLERINTHEMINDTOSUFFERTHESLINGSANDARROWSOFOUTRAGEOUSFORTUNEORTOTAKEARMSAGAINSTASEAOFTROUBLESANDBYOPPOSINGENDTHEM\n"
     ]
    }
   ],
   "source": [
    "print \"Decrypted second message:\"\n",
    "print caesar_shift_decrypt(tobe_ciphertext)"
   ]
  },
  {
   "cell_type": "markdown",
   "metadata": {},
   "source": [
    "Is this a good encryption scheme? No, not really. There are only 26 different things to try. This can be decrypted very quickly and easily, even if entirely by hand.\n",
    "\n",
    "Substitution Cipher\n",
    "----------------------\n",
    "\n",
    "A slightly different scheme is to choose a different letter for each letter. For instance, maybe \"A\" actually means \"G\" while \"B\" actually means \"E\". We call this a **substitution cipher** as each letter is substituted for another."
   ]
  },
  {
   "cell_type": "code",
   "execution_count": 7,
   "metadata": {
    "collapsed": false
   },
   "outputs": [],
   "source": [
    "import random\n",
    "permutation = list(alpha)\n",
    "random.shuffle(permutation)"
   ]
  },
  {
   "cell_type": "code",
   "execution_count": 8,
   "metadata": {
    "collapsed": false
   },
   "outputs": [
    {
     "name": "stdout",
     "output_type": "stream",
     "text": [
      "ABCDEFGHIJKLMNOPQRSTUVWXYZ\n",
      "EMJSLZKAYDGTWCHBXORVPNUQIF\n"
     ]
    }
   ],
   "source": [
    "# Display the new alphabet\n",
    "print alpha\n",
    "subs = \"\".join(permutation)\n",
    "print subs"
   ]
  },
  {
   "cell_type": "code",
   "execution_count": 9,
   "metadata": {
    "collapsed": false
   },
   "outputs": [],
   "source": [
    "def subs_cipher_encrypt(m):\n",
    "    m = \"\".join([l.upper() for l in m if not l in punct])\n",
    "    return \"\".join([subs[alpha.find(l)] for l in m])\n",
    "\n",
    "def subs_cipher_decrypt(c):\n",
    "    c = \"\".join([l.upper() for l in c if not l in punct])\n",
    "    return \"\".join([alpha[subs.find(l)] for l in c])"
   ]
  },
  {
   "cell_type": "code",
   "execution_count": 10,
   "metadata": {
    "collapsed": false
   },
   "outputs": [
    {
     "name": "stdout",
     "output_type": "stream",
     "text": [
      "Original message: this is a test\n",
      "\n",
      "Encrypted Message: VAYRYREVLRV\n",
      "\n",
      "Decrypted Message: THISISATEST\n"
     ]
    }
   ],
   "source": [
    "m1 = \"this is a test\"\n",
    "\n",
    "print \"Original message:\", m1\n",
    "c1 = subs_cipher_encrypt(m1)\n",
    "\n",
    "print\n",
    "print \"Encrypted Message:\", c1\n",
    "\n",
    "print\n",
    "print \"Decrypted Message:\", subs_cipher_decrypt(c1)"
   ]
  },
  {
   "cell_type": "code",
   "execution_count": 11,
   "metadata": {
    "collapsed": false
   },
   "outputs": [
    {
     "name": "stdout",
     "output_type": "stream",
     "text": [
      "Original message:\n",
      "TobeornottobethatisthequestionWhethertisNoblerinthemindtosufferTheSlingsandArrowsofoutrageousFortuneOrtotakeArmsagainstaSeaoftroublesAndbyopposingendthem\n",
      "\n",
      "Encrypted Message:\n",
      "VHMLHOCHVVHMLVAEVYRVALXPLRVYHCUALVALOVYRCHMTLOYCVALWYCSVHRPZZLOVALRTYCKRECSEOOHURHZHPVOEKLHPRZHOVPCLHOVHVEGLEOWREKEYCRVERLEHZVOHPMTLRECSMIHBBHRYCKLCSVALW\n",
      "\n",
      "Decrypted Message:\n",
      "TOBEORNOTTOBETHATISTHEQUESTIONWHETHERTISNOBLERINTHEMINDTOSUFFERTHESLINGSANDARROWSOFOUTRAGEOUSFORTUNEORTOTAKEARMSAGAINSTASEAOFTROUBLESANDBYOPPOSINGENDTHEM\n"
     ]
    }
   ],
   "source": [
    "print \"Original message:\"\n",
    "print m\n",
    "\n",
    "print\n",
    "c2 = subs_cipher_encrypt(m)\n",
    "print \"Encrypted Message:\"\n",
    "print c2\n",
    "\n",
    "print\n",
    "print \"Decrypted Message:\"\n",
    "print subs_cipher_decrypt(c2)"
   ]
  },
  {
   "cell_type": "markdown",
   "metadata": {},
   "source": [
    "Is this a good encryption scheme? Still no. In fact, these are routinely used as puzzles in newspapers or puzzle books, because given a reasonably long message, it's pretty easy to figure it out using things like the frequency of letters.\n",
    "\n",
    "For instance, in English, the letters RSTLNEAO are very common, and much more common than other letters. So one might start to guess that the most common letter in the ciphertext is one of these. More powerfully, one might try to see which pairs of letters (called bigrams) are common, and look for those in the ciphertext, and so on.\n",
    "\n",
    "From this sort of thought process, encryption schemes that ultimately rely on a single secret alphabet (even if it's not our typical alphabet) fall pretty quickly. So... what about polyalphabetic ciphers? For instance, what if each group of 5 letters uses a different set of alphabets?\n",
    "\n",
    "This is a great avenue for exploration, and there are lots of such encryption schemes that we won't discuss in this class. But a class on cryptography (or a book on cryptography) would certainly go into some of these. It might also be a reasonable avenue of exploration for a final project.\n",
    "\n",
    "The German Enigma\n",
    "-------------------\n",
    "\n",
    "One very well-known polyalphabetic encryption scheme is the **German Enigma** used before and during World War II. This was by far the most complicated cryptosystem in use up to that point, and the story of how it was broken is a long and tricky one. Intial successes towards breaking the Enigma came through the work of Polish mathematicians, fearful (and rightfully so) of the Germans across the border. By 1937, they had built replicas and understood many details of the Enigma system. But in 1938, the Germans shifted to a more secure and complicated cryptosystem. Just weeks before the German invasion of Poland and the beginning of World War II, Polish mathematicians sent their work and notes to mathematicians in France and Britain, who carried out this work.\n",
    "\n",
    "The second major progress towards breaking the Enigma occurred largely in Bletchley Park in Britain, a communication center with an enormous dedicated effort to breaking the Enigma. This is where the tragic tale of Alan Turing, recently popularized through the movie *The Imitation Game*, begins. This is also the origin tale for modern computers, as Alan Turing developed electromechanical computers to help break the Enigma.\n",
    "\n",
    "The Enigma worked by having a series of cogs or rotors whose positions determined a substitution cipher. After each letter, the positions were changed through a mechanical process. An Enigma machine is a very impressive machine to look at [and the \"computer\" Alan Turing used to help break them was also very impressive].\n",
    "\n",
    "Below, I have implemented an Enigma, by default set to 4 rotors. I don't expect one to understand the implementation. The interesting part is how meaningless the output message looks. Note that I've kept the spacing and punctuation from the original message for easier comparison. Really, you wouldn't do this.\n",
    "\n",
    "The plaintext used for demonstration is from Wikipedia's article on the Enigma."
   ]
  },
  {
   "cell_type": "code",
   "execution_count": 12,
   "metadata": {
    "collapsed": false
   },
   "outputs": [
    {
     "name": "stdout",
     "output_type": "stream",
     "text": [
      "Original Message:\n",
      "WHEN PLACED IN AN ENIGMA, EACH ROTOR CAN BE SET TO ONE OF 26 POSSIBLE POSITIONS. WHEN INSERTED, IT CAN BE TURNED BY HAND USING THE GROOVED FINGER-WHEEL, WHICH PROTRUDES FROM THE INTERNAL ENIGMA COVER WHEN CLOSED. SO THAT THE OPERATOR CAN KNOW THE ROTOR'S POSITION, EACH HAD AN ALPHABET TYRE (OR LETTER RING) ATTACHED TO THE OUTSIDE OF THE ROTOR DISK, WITH 26 CHARACTERS (TYPICALLY LETTERS); ONE OF THESE COULD BE SEEN THROUGH THE WINDOW, THUS INDICATING THE ROTATIONAL POSITION OF THE ROTOR. IN EARLY MODELS, THE ALPHABET RING WAS FIXED TO THE ROTOR DISK. A LATER IMPROVEMENT WAS THE ABILITY TO ADJUST THE ALPHABET RING RELATIVE TO THE ROTOR DISK. THE POSITION OF THE RING WAS KNOWN AS THE RINGSTELLUNG (\"RING SETTING\"), AND WAS A PART OF THE INITIAL SETTING PRIOR TO AN OPERATING SESSION. IN MODERN TERMS IT WAS A PART OF THE INITIALIZATION VECTOR.\n",
      "\n",
      "Encrypted Message\n",
      "RYQY LWMVIH OH EK GGWFBO, PDZN FNALL ZEP AP IUD JM FEV UG 26 HGRKODYT XWOLIYTSA. TJQK KBCNVMHG, VS YBB XI BYZTVU XP BGWP IFNIY UQZ IQUPTKJ QXPVYE-EAOVT, PYMNN RXFIOWYVK LWNN OJL JXZBTRVP YMQCXX STJQF KXNZ LXSWDC. LK KGRH ZKT RDZUMCWA GKY LYKC LLV ZNFAD'Z BAXLDFTH, QSHA NBY RZ SXEXDAMP FXUS (WC RWHZOX ARWP) VKYNDJQP WL OLW ICBALPI RV ISD GXSDQ ZKMJ, OHNN 26 IBGUHNYIQE (GDBNTEBWP QGECUNA); QPG SQ JYUQX NDBWB NM AAUF RUNKYDL OLD LMPZQV, ZMKP SQZFDEHKCI KLJ AKPZLRAZZX QXPJEXLV HS AFG IIMGK. NT PVAYP RFOKYV, XUY CHZAQEXG DUSS CKN YENSR FX PLS CYMZK YHTB. J RLZLB DNIDWNWAIOO HOK PGM HVXXHIJ VV SCTNIC QGM TFKPQYPQ XFQU PSAECHTX RA QUW CUNRV JCUW. LCP GFKZLLXW LN YWF OAQM CMF YVTQH EI JAU LZTXEYDGDFLQ (\"CDBS TQHUEIR\"), BLN QIG O UHJJ DV DQY KQGVFKI EBEFRCT WEZWG LJ WC NIAUKIYQJ EHZLZLS. TY XPZSBL IPGWN ZS IUY E YQMD BW NVF QYWSDMTRSNSHYO GJGNUL.\n",
      "\n",
      "Decrypted Message:\n",
      "WHEN PLACED IN AN ENIGMA, EACH ROTOR CAN BE SET TO ONE OF 26 POSSIBLE POSITIONS. WHEN INSERTED, IT CAN BE TURNED BY HAND USING THE GROOVED FINGER-WHEEL, WHICH PROTRUDES FROM THE INTERNAL ENIGMA COVER WHEN CLOSED. SO THAT THE OPERATOR CAN KNOW THE ROTOR'S POSITION, EACH HAD AN ALPHABET TYRE (OR LETTER RING) ATTACHED TO THE OUTSIDE OF THE ROTOR DISK, WITH 26 CHARACTERS (TYPICALLY LETTERS); ONE OF THESE COULD BE SEEN THROUGH THE WINDOW, THUS INDICATING THE ROTATIONAL POSITION OF THE ROTOR. IN EARLY MODELS, THE ALPHABET RING WAS FIXED TO THE ROTOR DISK. A LATER IMPROVEMENT WAS THE ABILITY TO ADJUST THE ALPHABET RING RELATIVE TO THE ROTOR DISK. THE POSITION OF THE RING WAS KNOWN AS THE RINGSTELLUNG (\"RING SETTING\"), AND WAS A PART OF THE INITIAL SETTING PRIOR TO AN OPERATING SESSION. IN MODERN TERMS IT WAS A PART OF THE INITIALIZATION VECTOR.\n"
     ]
    }
   ],
   "source": [
    "from random import shuffle,randint,choice  \n",
    "from copy import copy  \n",
    "num_alphabet = range(26)   \n",
    "    \n",
    "def en_shift(l, n):                         # Rotate cogs and arrays\n",
    "    return l[n:] + l[:n]  \n",
    "      \n",
    "    \n",
    "class Cog:                                  # Each cog has a substitution cipher  \n",
    "    def __init__(self):  \n",
    "        self.shuf = copy(num_alphabet)  \n",
    "        shuffle(self.shuf)                  # Create the individual substition cipher randomly\n",
    "        return                      # Really, these were not random, but were all chosen to be the same\n",
    "    \n",
    "    def subs_in(self,i):                    # Perform a substition\n",
    "        return self.shuf[i] \n",
    "    \n",
    "    def subs_out(self,i):                   # Perform a reverse substition\n",
    "        return self.shuf.index(i)\n",
    "    \n",
    "    def rotate(self):               # Rotate the cog by 1. Really, they could rotate by any number\n",
    "        self.shuf = en_shift(self.shuf, 1)\n",
    "        \n",
    "    def setcog(self,a):                     # Set up a particular substitution\n",
    "        self.shuf = a  \n",
    "\n",
    "        \n",
    "class Enigma:  \n",
    "    def __init__(self, numcogs,readability=True):  \n",
    "        self.readability = readability  \n",
    "        self.numcogs = numcogs  \n",
    "        self.cogs = []  \n",
    "        self.oCogs = []                     # \"Original Cog positions\"  \n",
    "          \n",
    "        for i in range(0,self.numcogs):     # Create the cogs\n",
    "            self.cogs.append(Cog())\n",
    "            self.oCogs.append(self.cogs[i].shuf)  \n",
    "            \n",
    "        refabet = copy(num_alphabet) \n",
    "        self.reflector = copy(num_alphabet)  \n",
    "        while len(refabet) > 0:             # Pair letters in the reflector\n",
    "            a = choice(refabet)  \n",
    "            refabet.remove(a)  \n",
    "            \n",
    "            b = choice(refabet)  \n",
    "            refabet.remove(b)  \n",
    "            \n",
    "            self.reflector[a] = b  \n",
    "            self.reflector[b] = a\n",
    "            \n",
    "  \n",
    "    def print_setup(self): # Print out substituion setup.\n",
    "        print \"Enigma Setup:\\nCogs: \",self.numcogs,\"\\nCog arrangement:\"  \n",
    "        for i in range(0,self.numcogs):  \n",
    "            print self.cogs[i].shuf  \n",
    "        print \"Reflector arrangement:\\n\",self.reflector,\"\\n\"  \n",
    "          \n",
    "    def reset(self):  \n",
    "        for i in range(0,self.numcogs):  \n",
    "            self.cogs[i].setcog(self.oCogs[i])  \n",
    "              \n",
    "    def encode(self,text):  \n",
    "        t = 0     # Ticker counter  \n",
    "        ciphertext=\"\"  \n",
    "        for l in text.lower():  \n",
    "            num = ord(l) % 97  \n",
    "            # Handle special characters for readability\n",
    "            if (num>25 or num<0):  \n",
    "                if (self.readability):\n",
    "                    ciphertext += l   \n",
    "                else:  \n",
    "                    pass  \n",
    "            \n",
    "            else:\n",
    "                # Pass through cogs, reflect, then return through cogs\n",
    "                t += 1  \n",
    "                for i in range(self.numcogs): \n",
    "                    num = self.cogs[i].subs_in(num)  \n",
    "                      \n",
    "                num = self.reflector[num]  \n",
    "                  \n",
    "                for i in range(self.numcogs):  \n",
    "                    num = self.cogs[self.numcogs-i-1].subs_out(num)  \n",
    "                ciphertext += \"\" + chr(97+num)\n",
    "                  \n",
    "                # Rotate cogs\n",
    "                for i in range(self.numcogs):\n",
    "                    if ( t % ((i*6)+1) == 0 ):\n",
    "                        self.cogs[i].rotate()  \n",
    "        return ciphertext.upper()  \n",
    "  \n",
    "plaintext=\"\"\"When placed in an Enigma, each rotor can be set to one of 26 possible positions. \n",
    "When inserted, it can be turned by hand using the grooved finger-wheel, which protrudes from \n",
    "the internal Enigma cover when closed. So that the operator can know the rotor's position, \n",
    "each had an alphabet tyre (or letter ring) attached to the outside of the rotor disk, with \n",
    "26 characters (typically letters); one of these could be seen through the window, thus indicating \n",
    "the rotational position of the rotor. In early models, the alphabet ring was fixed to the rotor \n",
    "disk. A later improvement was the ability to adjust the alphabet ring relative to the rotor disk. \n",
    "The position of the ring was known as the Ringstellung (\"ring setting\"), and was a part of the \n",
    "initial setting prior to an operating session. In modern terms it was a part of the \n",
    "initialization vector.\"\"\"\n",
    "\n",
    "# Remove newlines for encryption\n",
    "pt = \"\".join([l.upper() for l in plaintext if not l == \"\\n\"])\n",
    "# pt = \"\".join([l.upper() for l in plaintext if not l in punct])\n",
    "  \n",
    "x=Enigma(4)  \n",
    "#x.print_setup()  \n",
    "  \n",
    "print \"Original Message:\"\n",
    "print pt\n",
    "\n",
    "print\n",
    "ciphertext = x.encode(pt)  \n",
    "print \"Encrypted Message\"\n",
    "print ciphertext\n",
    "\n",
    "print\n",
    "# Decryption and encryption are symmetric, so to decode we reset and re-encrypt.\n",
    "x.reset()  \n",
    "decipheredtext = x.encode(ciphertext)  \n",
    "print \"Decrypted Message:\"\n",
    "print decipheredtext"
   ]
  },
  {
   "cell_type": "markdown",
   "metadata": {},
   "source": [
    "The advent of computers brought in a paradigm shift in approaches towards cryptography. Prior to computers, one of the ways of maintaining security was to come up with a hidden key and a hidden cryptosystem, and keep it safe merely by not letting anyone know anything about how it actually worked at all. This has the short cute name **security through obscurity.** As the number of type of attacks on cryptosystems are much, much higher with computers, a different model of security and safety became necessary.\n",
    "\n",
    "It is interesting to note that it is not obvious that security through obscurity is *always* bad, as long as it's *really really well-hidden.* This is relevant to some problems concerning current events and cryptography."
   ]
  },
  {
   "cell_type": "markdown",
   "metadata": {},
   "source": [
    "Public Key Cryptography\n",
    "=============\n",
    "\n",
    "The new model begins with a slightly different setup. We should think of Anabel and Bartolo as sitting on opposite sides of a classroom, trying to communicate securely even though there are lots of people in the middle of the classroom who might be listening in. In particular, Anabel has something she wants to tell Bartolo.\n",
    "\n",
    "Instead of keeping the cryptosystem secret, Bartolo tells everyone (in our metaphor, he shouts to the entire classroom) a public key K, and explains how to use it to send him a message. Anabel uses this key to encrypt her message. She then sends this message to Bartolo.\n",
    "\n",
    "If the system is well-designed, no one will be able to understand the ciphertext even though they all know how the cryptosystem works. This is why the system is called **Public Key.**\n",
    "\n",
    "Bartolo receives this message and (using something only he knows) he decrypts the message.\n",
    "\n",
    "We will learn one such cryptosystem here: RSA, named after Rivest, Shamir, and Addleman --- the first major public key cryptosystem."
   ]
  },
  {
   "cell_type": "markdown",
   "metadata": {},
   "source": [
    "RSA\n",
    "-----\n",
    "\n",
    "Bartolo takes two primes such as $p = 12553$ and $q = 13007$. He notes their product\n",
    "$$m = pq = 163276871$$\n",
    "and computes $\\varphi(m)$,\n",
    "$$\\varphi(m) = (p-1)(q-1) = 163251312.$$\n",
    "Finally, he chooses some integer $k$ relatively prime to $\\varphi(m)$, like say\n",
    "$$k = 79921.$$\n",
    "Then the public key he distributes is\n",
    "$$ (m, k) = (163276871, 79921).$$\n",
    "\n",
    "In order to send Bartolo a message using this key, Anabel must convert her message to numbers. She might use the identification A = 11, B = 12, C = 13, ... and concatenate her numbers. To send the word CAB, for instance, she would send 131112. Let's say that Anabel wants to send the message\n",
    "\n",
    "NUMBER THEORY IS THE QUEEN OF THE SCIENCES\n",
    "\n",
    "Then she needs to convert this to numbers."
   ]
  },
  {
   "cell_type": "code",
   "execution_count": 13,
   "metadata": {
    "collapsed": false
   },
   "outputs": [],
   "source": [
    "conversion_dict = dict()\n",
    "alpha = \"abcdefghijklmnopqrstuvwxyz\".upper()\n",
    "curnum = 11\n",
    "for l in alpha:\n",
    "    conversion_dict[l] = curnum\n",
    "    curnum += 1"
   ]
  },
  {
   "cell_type": "code",
   "execution_count": 14,
   "metadata": {
    "collapsed": false
   },
   "outputs": [
    {
     "name": "stdout",
     "output_type": "stream",
     "text": [
      "Original Message:\n",
      "NUMBERTHEORYISTHEQUEENOFTHESCIENCES\n",
      "\n",
      "Numerical Message:\n",
      "2431231215283018152528351929301815273115152425163018152913191524131529\n"
     ]
    }
   ],
   "source": [
    "print \"Original Message:\"\n",
    "msg = \"NUMBERTHEORYISTHEQUEENOFTHESCIENCES\"\n",
    "print msg\n",
    "print\n",
    "\n",
    "def letters_to_numbers(m):\n",
    "    return \"\".join([str(conversion_dict[l]) for l in m.upper()])\n",
    "\n",
    "print \"Numerical Message:\"\n",
    "msg_num = letters_to_numbers(msg)\n",
    "print msg_num"
   ]
  },
  {
   "cell_type": "markdown",
   "metadata": {},
   "source": [
    "So Anabel's message is the number\n",
    "\n",
    "$$2431231215283018152528351929301815273115152425163018152913191524131529$$\n",
    "\n",
    "which she wants to encrypt and send to Bartolo. To make this manageable, she cuts the message into 8-digit numbers,\n",
    "\n",
    "$$24312312, 15283018, 15252835, 19293018, 15273115, 15242516, 30181529, 13191524, 131529.$$\n",
    "\n",
    "To send her message, she takes one of the 8-digit blocks and raises it to the power of $k$ modulo $m$. That is, to transmit the first block, she computes\n",
    "\n",
    "$$ 24312312^{79921} \\equiv 13851252 \\pmod{163276871}.$$"
   ]
  },
  {
   "cell_type": "code",
   "execution_count": 15,
   "metadata": {
    "collapsed": false,
    "scrolled": true
   },
   "outputs": [
    {
     "name": "stdout",
     "output_type": "stream",
     "text": [
      "13851252\n"
     ]
    }
   ],
   "source": [
    "# Secret information\n",
    "p = 12553\n",
    "q = 13007\n",
    "phi = (p-1)*(q-1) # varphi(pq)\n",
    "\n",
    "# Public information\n",
    "m = p*q # 163276871\n",
    "k = 79921\n",
    "\n",
    "print pow(24312312, k, m)"
   ]
  },
  {
   "cell_type": "markdown",
   "metadata": {},
   "source": [
    "She sends this number\n",
    "$$13851252$$\n",
    "to Bartolo (maybe by shouting. Even though everyone can hear, they cannot decrypt it). How does Bartolo decrypt this message?\n",
    "\n",
    "He computes $\\varphi(m) = (p-1)(q-1)$ (which he can do because he knows $p$ and $q$ separately), and then finds a solution $u$ to\n",
    "$$ uk = 1 + \\varphi(m) v.$$\n",
    "This can be done quickly through the Euclidean Algorithm."
   ]
  },
  {
   "cell_type": "code",
   "execution_count": 16,
   "metadata": {
    "collapsed": true
   },
   "outputs": [],
   "source": [
    "def extended_euclidean(a,b):\n",
    "    if b == 0:\n",
    "        return (1,0,a)\n",
    "    else :\n",
    "        x, y, gcd = extended_euclidean(b, a % b) # Aside: Python has no tail recursion\n",
    "        return y, x - y * (a // b),gcd           # But it does have meaningful stack traces\n",
    "    \n",
    "# This version comes from Exercise 6.3 in the book, but without recursion\n",
    "def extended_euclidean2(a,b):\n",
    "    x = 1\n",
    "    g = a\n",
    "    v = 0\n",
    "    w = b\n",
    "    while w != 0:\n",
    "        q = g // w\n",
    "        t = g - q*w\n",
    "        s = x - q*v\n",
    "        x,g = v,w\n",
    "        v,w = s,t\n",
    "    y = (g - a*x) / b\n",
    "    return (x,y,g)\n",
    " \n",
    "def modular_inverse(a,m) :\n",
    "    x,y,gcd = extended_euclidean(a,m)\n",
    "    if gcd == 1 :\n",
    "        return x % m\n",
    "    else :\n",
    "        return None"
   ]
  },
  {
   "cell_type": "code",
   "execution_count": 17,
   "metadata": {
    "collapsed": false
   },
   "outputs": [
    {
     "name": "stdout",
     "output_type": "stream",
     "text": [
      "k, p, q: 79921 12553 13007\n",
      "\n",
      "145604785\n"
     ]
    }
   ],
   "source": [
    "print \"k, p, q:\", k, p, q\n",
    "print\n",
    "u = modular_inverse(k,(p-1)*(q-1))\n",
    "print u"
   ]
  },
  {
   "cell_type": "markdown",
   "metadata": {},
   "source": [
    "In particular, Bartolo computes that his $u = 145604785$. To recover the message, he takes the number $13851252$ sent to him by Anabel and raises it to the $u$ power. He computes\n",
    "$$ 13851252^{u} \\equiv 24312312 \\pmod{pq},$$\n",
    "which we can see must be true as\n",
    "$$ 13851252^{u} \\equiv (24312312^{k})^u \\equiv 24312312^{1 + \\varphi(pq)v} \\equiv 24312312 \\pmod{pq}.$$\n",
    "In this last step, we have used Euler's Theorem to see that\n",
    "$$ 24312312^{\\varphi(pq)v} \\equiv 1 \\pmod{pq}.$$\n"
   ]
  },
  {
   "cell_type": "code",
   "execution_count": 18,
   "metadata": {
    "collapsed": false
   },
   "outputs": [
    {
     "name": "stdout",
     "output_type": "stream",
     "text": [
      "24312312\n"
     ]
    }
   ],
   "source": [
    "# Checking this power explicitly.\n",
    "print pow(13851252, 145604785, m)"
   ]
  },
  {
   "cell_type": "markdown",
   "metadata": {},
   "source": [
    "Now Bartolo needs to perform this process for each 8-digit chunk that Anabel sent over. Note that the work is very easy, as he computes the integer $u$ only once. Each other time, he simply computes $c^u \\pmod m$ for each ciphertext $c$, and this is very fast with repeated-squaring.\n",
    "\n",
    "We do this below, in an automated fashion, step by step.\n",
    "\n",
    "First, we split the message into 8-digit chunks."
   ]
  },
  {
   "cell_type": "code",
   "execution_count": 19,
   "metadata": {
    "collapsed": false
   },
   "outputs": [
    {
     "name": "stdout",
     "output_type": "stream",
     "text": [
      "['24312312', '15283018', '15252835', '19293018', '15273115', '15242516', '30181529', '13191524', '131529']\n"
     ]
    }
   ],
   "source": [
    "# Break into chunks of 8 digits in length.\n",
    "def chunk8(message_number):\n",
    "    cp = str(message_number)\n",
    "    ret_list = []\n",
    "    while len(cp) > 7:\n",
    "        ret_list.append(cp[:8])\n",
    "        cp = cp[8:]\n",
    "    if cp:\n",
    "        ret_list.append(cp)\n",
    "    return ret_list\n",
    "\n",
    "msg_list = chunk8(msg_num)\n",
    "print msg_list"
   ]
  },
  {
   "cell_type": "markdown",
   "metadata": {},
   "source": [
    "This is a numeric representation of the message Anabel wants to send Bartolo. So she encrypts each chunk. This is done below"
   ]
  },
  {
   "cell_type": "code",
   "execution_count": 20,
   "metadata": {
    "collapsed": false
   },
   "outputs": [
    {
     "name": "stdout",
     "output_type": "stream",
     "text": [
      "[13851252, 14944940, 158577269, 117640431, 139757098, 25099917, 88562046, 6640362, 10543199]\n"
     ]
    }
   ],
   "source": [
    "# Compute ciphertexts separately on each 8-digit chunk.\n",
    "def encrypt_chunks(chunked_list):\n",
    "    ret_list = []\n",
    "    for chunk in chunked_list:\n",
    "        #print chunk\n",
    "        #print int(chunk)\n",
    "        ret_list.append(pow(int(chunk), k, m))\n",
    "    return ret_list\n",
    "\n",
    "cipher_list = encrypt_chunks(msg_list)\n",
    "print cipher_list"
   ]
  },
  {
   "cell_type": "markdown",
   "metadata": {},
   "source": [
    "This is the encrypted message. Having computed this, Anabel sends this message to Bartolo.\n",
    "\n",
    "To decrypt the message, Bartolo uses his knowledge of $u$, which comes from his ability to compute $\\varphi(pq)$, and decrypts each part of the message. This looks like below."
   ]
  },
  {
   "cell_type": "code",
   "execution_count": 21,
   "metadata": {
    "collapsed": false
   },
   "outputs": [
    {
     "name": "stdout",
     "output_type": "stream",
     "text": [
      "[24312312, 15283018, 15252835, 19293018, 15273115, 15242516, 30181529, 13191524, 131529]\n"
     ]
    }
   ],
   "source": [
    "# Decipher the ciphertexts all in the same way\n",
    "def decrypt_chunks(chunked_list):\n",
    "    ret_list = []\n",
    "    for chunk in chunked_list:\n",
    "        ret_list.append(pow(int(chunk), u, m))\n",
    "    return ret_list\n",
    "\n",
    "decipher_list = decrypt_chunks(cipher_list)\n",
    "print decipher_list"
   ]
  },
  {
   "cell_type": "markdown",
   "metadata": {},
   "source": [
    "Finally, Bartolo concatenates these numbers together and translates them back into letters. Will he get the right message back?"
   ]
  },
  {
   "cell_type": "code",
   "execution_count": 22,
   "metadata": {
    "collapsed": false
   },
   "outputs": [
    {
     "name": "stdout",
     "output_type": "stream",
     "text": [
      "NUMBERTHEORYISTHEQUEENOFTHESCIENCES\n"
     ]
    }
   ],
   "source": [
    "alpha = \"ABCDEFGHIJKLMNOPQRSTUVWXYZ\"\n",
    "\n",
    "# Collect deciphered texts into a single list, and translate back into letters.\n",
    "def chunks_to_letters(chunked_list):\n",
    "    s = \"\".join([str(chunk) for chunk in chunked_list])\n",
    "    ret_str = \"\"\n",
    "    while s:\n",
    "        ret_str += alpha[int(s[:2])-11].upper()\n",
    "        s = s[2:]\n",
    "    return ret_str\n",
    "\n",
    "print chunks_to_letters(decipher_list)"
   ]
  },
  {
   "cell_type": "markdown",
   "metadata": {},
   "source": [
    "Yes! Bartolo successfully decrypts the message and sees that Anabel thinks that **Number Theory is the Queen of the Sciences.** This is a quote from Gauss, the famous mathematician who has been popping up again and again in this course."
   ]
  },
  {
   "cell_type": "markdown",
   "metadata": {},
   "source": [
    "Why is this Secure?\n",
    "----------------------\n",
    "\n",
    "Let's pause to think about why this is secure.\n",
    "\n",
    "What if someone catches the message in transit? Suppose Eve is eavesdropping and hears Anabel's first chunk, $13851252$. How would she decrypt it?\n",
    "\n",
    "Eve knows that she wants to solve\n",
    "$$ x^k \\equiv 13851252 \\pmod {pq}$$\n",
    "or rather\n",
    "$$ x^{79921} \\equiv 13851252 \\pmod {163276871}.$$\n",
    "How can she do that? We can do that because we know to raise this to a particular power depending on $\\varphi(163276871)$. But Eve doesn't know what $\\varphi(163276871)$ is since she can't factor $163276871$. In fact, knowing $\\varphi(163276871)$ is *exactly* as hard as factoring $163276871$.\n",
    "\n",
    "But if Eve could somehow find $79921$st roots modulo $163276871$, or if Eve could factor $163276871$, then she would be able to decrypt the message. These are both really hard problems! And it's these problems that give the method its security.\n",
    "\n",
    "More generally, one might use primes $p$ and $q$ that are each about $200$ digits long, and a fairly large $k$. Then the resulting $m$ would be about $400$ digits, which is far larger than we know how to factor effectively. The reason for choosing a somewhat large $k$ is for security reasons that are beyond the scope of this segment. The relevant idea here is that since this is a publicly known encryption scheme, many people have strenghtened it over the years by making it more secure against every clever attack known. This is another, sometimes overlooked benefit of public-key cryptography: since the methodology isn't secret, everyone can contribute to its security --- indeed, it is in the interest of anyone desiring such security to contribute. This is sort of the exact opposite of **Security through Obscurity.**\n",
    "\n",
    "The nature of code being open, public, private, or secret is also very topical in current events. Recently, Volkswagen cheated in its car emissions-software and had it report false outputs, leading to a large scandal. Their software is proprietary and secret, and the deliberate bug went unnoticed for years. Some argue that this means that more software, and especially software that either serves the public or that is under strong jurisdiction, should be publicly viewable for analysis.\n",
    "\n",
    "Another relevant current case is that the code for most voting machines in the United States is proprietary and secret. Hopefully they aren't cheating!\n",
    "\n",
    "On the other side, many say that it is necessary for companies to be able to have secret software for at least some time period to recuperate the expenses that go into developing the software. This is similar to how drug companies have patents on new drugs for a number of years. This way, a new successful drug pays for its development since the company can charge above the otherwise-market-rate.\n",
    "\n",
    "Further, many say that opening some code would open it up to attacks from malicious users who otherwise wouldn't be able to see the code. Of course, this sounds a lot like trying for security through obscurity.\n",
    "\n",
    "This is a very relevant and big topic, and the shape it takes over the next few years may very well have long-lasting impacts."
   ]
  },
  {
   "cell_type": "markdown",
   "metadata": {},
   "source": [
    "Condensed Version\n",
    "--------------------\n",
    "\n",
    "Now that we've gone through it all once, we have a condensed RSA system set up with our $p, q,$ and $k$ from above. To show that this can be done quickly with a computer, let's do another right now.\n",
    "\n",
    "Let us encrypt, transmit, and decrypt the message\n",
    "\n",
    "\"I have never done anything useful. No discovery of mine has made, or is likely to make, directly or indirectly, for good or ill, the least difference to the amenity of the world\".\n",
    "\n",
    "First, we prepare the message for conversion to numbers."
   ]
  },
  {
   "cell_type": "code",
   "execution_count": 23,
   "metadata": {
    "collapsed": false
   },
   "outputs": [
    {
     "name": "stdout",
     "output_type": "stream",
     "text": [
      "Our message:\n",
      "IHAVENEVERDONEANYTHINGUSEFULNODISCOVERYOFMINEHASMADEORISLIKELYTOMAKEDIRECTLYORINDIRECTLYFORGOODORILLTHELEASTDIFFERENCETOTHEAMENITYOFTHEWORLD\n"
     ]
    }
   ],
   "source": [
    "message = \"\"\"I have never done anything useful. No discovery of mine has made, \n",
    "or is likely to make, directly or indirectly, for good or ill, the least \n",
    "difference to the amenity of the world\"\"\"\n",
    "\n",
    "message = \"\".join([l.upper() for l in message if not l in \"\\n .,\"])\n",
    "print \"Our message:\\n\"+message"
   ]
  },
  {
   "cell_type": "markdown",
   "metadata": {},
   "source": [
    "Now we convert the message to numbers, and transform those numbers into 8-digit chunks."
   ]
  },
  {
   "cell_type": "code",
   "execution_count": 24,
   "metadata": {
    "collapsed": false
   },
   "outputs": [
    {
     "name": "stdout",
     "output_type": "stream",
     "text": [
      "Our message, converted to numbers:\n",
      "1918113215241532152814252415112435301819241731291516312224251419291325321528352516231924151811292311141525281929221921152235302523112115141928151330223525281924141928151330223516252817252514252819222230181522151129301419161615281524131530253018151123152419303525163018153325282214\n",
      "\n",
      "Separated into 8-digit chunks:\n",
      "['19181132', '15241532', '15281425', '24151124', '35301819', '24173129', '15163122', '24251419', '29132532', '15283525', '16231924', '15181129', '23111415', '25281929', '22192115', '22353025', '23112115', '14192815', '13302235', '25281924', '14192815', '13302235', '16252817', '25251425', '28192222', '30181522', '15112930', '14191616', '15281524', '13153025', '30181511', '23152419', '30352516', '30181533', '25282214']\n"
     ]
    }
   ],
   "source": [
    "numerical_message = letters_to_numbers(message)\n",
    "print \"Our message, converted to numbers:\"\n",
    "print numerical_message\n",
    "print\n",
    "\n",
    "plaintext_chunks = chunk8(numerical_message)\n",
    "print \"Separated into 8-digit chunks:\"\n",
    "print plaintext_chunks"
   ]
  },
  {
   "cell_type": "markdown",
   "metadata": {},
   "source": [
    "We encrypt each chunk by computing $P^k \\bmod {m}$ for each plaintext chunk $P$."
   ]
  },
  {
   "cell_type": "code",
   "execution_count": 25,
   "metadata": {
    "collapsed": false
   },
   "outputs": [
    {
     "name": "stdout",
     "output_type": "stream",
     "text": [
      "[99080958, 142898385, 80369161, 11935375, 108220081, 82708130, 158605094, 96274325, 154177847, 121856444, 91409978, 47916550, 155466420, 92033719, 95710042, 86490776, 15468891, 139085799, 68027514, 53153945, 139085799, 68027514, 9216376, 155619290, 83776861, 132272900, 57738842, 119368739, 88984801, 83144549, 136916742, 13608445, 92485089, 89508242, 25375188]\n"
     ]
    }
   ],
   "source": [
    "ciphertext_chunks = encrypt_chunks(plaintext_chunks)\n",
    "print ciphertext_chunks"
   ]
  },
  {
   "cell_type": "markdown",
   "metadata": {},
   "source": [
    "This is the message that Anabel can sent Bartolo.\n",
    "\n",
    "To decrypt it, he computes $c^u \\bmod m$ for each ciphertext chunk $c$."
   ]
  },
  {
   "cell_type": "code",
   "execution_count": 26,
   "metadata": {
    "collapsed": false
   },
   "outputs": [
    {
     "name": "stdout",
     "output_type": "stream",
     "text": [
      "Deciphered chunks:\n",
      "[19181132, 15241532, 15281425, 24151124, 35301819, 24173129, 15163122, 24251419, 29132532, 15283525, 16231924, 15181129, 23111415, 25281929, 22192115, 22353025, 23112115, 14192815, 13302235, 25281924, 14192815, 13302235, 16252817, 25251425, 28192222, 30181522, 15112930, 14191616, 15281524, 13153025, 30181511, 23152419, 30352516, 30181533, 25282214]\n"
     ]
    }
   ],
   "source": [
    "deciphered_chunks = decrypt_chunks(ciphertext_chunks)\n",
    "print \"Deciphered chunks:\"\n",
    "print deciphered_chunks"
   ]
  },
  {
   "cell_type": "markdown",
   "metadata": {},
   "source": [
    "Finally, he translates the chunks back into letters."
   ]
  },
  {
   "cell_type": "code",
   "execution_count": 27,
   "metadata": {
    "collapsed": false
   },
   "outputs": [
    {
     "name": "stdout",
     "output_type": "stream",
     "text": [
      "Decoded Message:\n",
      "IHAVENEVERDONEANYTHINGUSEFULNODISCOVERYOFMINEHASMADEORISLIKELYTOMAKEDIRECTLYORINDIRECTLYFORGOODORILLTHELEASTDIFFERENCETOTHEAMENITYOFTHEWORLD\n"
     ]
    }
   ],
   "source": [
    "decoded_message = chunks_to_letters(deciphered_chunks)\n",
    "print \"Decoded Message:\"\n",
    "print decoded_message"
   ]
  },
  {
   "cell_type": "markdown",
   "metadata": {},
   "source": [
    "Even with large numbers, RSA is pretty fast. But one of the key things that one can do with RSA is securely transmit secret keys for other types of faster-encryption that don't work in a public-key sense. There is a lot of material in this subject, and it's very important.\n",
    "\n",
    "The study of sending and receiving secret messages is called **Cryptography.** There are lots of interesting related topics, some of which we'll touch on in class.\n",
    "\n",
    "The study of analyzing and breaking cryptosystems is called **Cryptanalysis,** and is something I find quite fun. But it's also quite intense.\n",
    "\n",
    "I should mention that in practice, RSA is performed a little bit differently to make it more secure."
   ]
  }
 ],
 "metadata": {
  "kernelspec": {
   "display_name": "Python 2 (SageMath)",
   "language": "python",
   "name": "python2"
  },
  "language_info": {
   "codemirror_mode": {
    "name": "ipython",
    "version": 2
   },
   "file_extension": ".py",
   "mimetype": "text/x-python",
   "name": "python",
   "nbconvert_exporter": "python",
   "pygments_lexer": "ipython2",
   "version": "2.7.10"
  }
 },
 "nbformat": 4,
 "nbformat_minor": 0
}
