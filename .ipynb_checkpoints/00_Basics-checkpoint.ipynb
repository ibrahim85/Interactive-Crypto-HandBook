{
 "cells": [
  {
   "cell_type": "markdown",
   "metadata": {
    "collapsed": false
   },
   "source": [
    "# Overview\n",
    "The best way to learn is by doing. In cryptography, we need to deal with big number which may not have native language support. The earliest comprehensive library is http://read.pudn.com/downloads85/sourcecode/crypt/325570/examples/onb/DH.example/onb.c__.htm http://www.amazon.com/Implementing-Elliptic-Cryptography-Michael-Rosing/dp/1884777694.\n",
    "\n",
    "> There are plenty of c library, like Miracl, PBC, OpenssL, Nacl, libsodium, etc. On the other hand, the low level routine like gmp, ntl, flint, gnugp are also popular. We will however focus on full open source LibTom project http://www.libtom.net/ and ocassionally use Miracl or others.\n",
    "\n",
    "The decision of choosing LibTom is its code is written for novice or student and it has accompanied book http://shop.oreilly.com/product/9781597491129.do and https://goo.gl/p2QWJt. Of course there is open tex file for each subprojects and a complete book called Tommath.pdf in the archieve file.\n",
    "\n",
    "Though it has built-in support for long integer. The cryptography modules inside python are not as plentiful as other fields like machine learning or network secruity (see https://lwn.net/Articles/595790/). To the best of our knowledge, the sympy provides somewhat complete cryptography tools http://docs.sympy.org/dev/_modules/sympy/crypto/crypto.html.\n",
    "\n",
    "If you would like to get a flavor of crypto, sage may be a good choice, and there are relative plenty source for it http://www.sagemath.org/library-publications.html#books.\n",
    "\n",
    "However, in this tutorial I will use pycrtpo and cryptography instead since it is directly builds upon python, and also contains a collections of great toolkit. See https://www.dlitz.net/software/pycrypto/doc/ and https://cryptography.io/en/latest/\n",
    "\n",
    "> Other python biding like pynacl may also be helpful, keep track with it !!"
   ]
  },
  {
   "cell_type": "markdown",
   "metadata": {
    "collapsed": false
   },
   "source": [
    "## Pycrypto\n",
    "How can we do encryption (only pairing x)"
   ]
  },
  {
   "cell_type": "code",
   "execution_count": 10,
   "metadata": {
    "collapsed": false
   },
   "outputs": [
    {
     "name": "stdout",
     "output_type": "stream",
     "text": [
      "292138362368e0cdd76508781b3f3b82\n"
     ]
    }
   ],
   "source": [
    "from Crypto.Cipher import AES\n",
    "key = 'starpasswordhere'\n",
    "plaintext = 'Martinet is god!'\n",
    " \n",
    "encobj = AES.new(key, AES.MODE_ECB)\n",
    "ciphertext = encobj.encrypt(plaintext)\n",
    "\n",
    "print ciphertext.encode('hex') # For read friendly"
   ]
  },
  {
   "cell_type": "markdown",
   "metadata": {},
   "source": [
    "> You might have noticed that the length of hex-encoded ciphertext is 32 characters. By encoding it in hex, we've doubled the size because each binary character is represented by two hex characters, thus the actual ciphertext is only 16 characters\n",
    "\n",
    "> The common encoding way in cryptography is **base64** (which is the same as many other applications), see http://blog.rlr-uk.com/2011/03/base64-encoding-is-not-cryptography.html for the reason\n",
    "\n",
    "> You may notice that we could not change the size of key and plaintext arbitrary in this example, we will relax this constraint by padding and utilizing so called KDF (key derivation function) in later sections"
   ]
  },
  {
   "cell_type": "code",
   "execution_count": 11,
   "metadata": {
    "collapsed": false
   },
   "outputs": [
    {
     "name": "stdout",
     "output_type": "stream",
     "text": [
      "Martinet is god!\n"
     ]
    }
   ],
   "source": [
    "import binascii\n",
    " \n",
    "key = 'starpasswordhere'\n",
    "ciphertext = binascii.unhexlify('292138362368e0cdd76508781b3f3b82')\n",
    " \n",
    "decobj = AES.new(key, AES.MODE_ECB)\n",
    "plaintext = decobj.decrypt(ciphertext)\n",
    " \n",
    "# Resulting plaintext\n",
    "print plaintext"
   ]
  },
  {
   "cell_type": "markdown",
   "metadata": {
    "collapsed": true
   },
   "source": [
    "## Cryptography\n",
    "Let's see another well-documented toolbox cryptography (exactly the name!!)"
   ]
  },
  {
   "cell_type": "code",
   "execution_count": 14,
   "metadata": {
    "collapsed": false
   },
   "outputs": [
    {
     "name": "stdout",
     "output_type": "stream",
     "text": [
      "292138362368e0cdd76508781b3f3b82\n"
     ]
    }
   ],
   "source": [
    "from cryptography.hazmat.primitives.ciphers import (\n",
    "    Cipher, algorithms, modes\n",
    ")\n",
    "from cryptography.hazmat.backends import default_backend\n",
    "key = 'starpasswordhere'\n",
    "plaintext = 'Martinet is god!'\n",
    "encryptor = Cipher(algorithms.AES(key),modes.ECB(),backend=default_backend()).encryptor()\n",
    "ciphertext = encryptor.update(plaintext) + encryptor.finalize()\n",
    "print ciphertext.encode('hex') "
   ]
  },
  {
   "cell_type": "code",
   "execution_count": 17,
   "metadata": {
    "collapsed": false
   },
   "outputs": [
    {
     "name": "stdout",
     "output_type": "stream",
     "text": [
      "Martinet is god!\n"
     ]
    }
   ],
   "source": [
    "decryptor = Cipher(algorithms.AES(key), modes.ECB(), backend=default_backend()).decryptor()\n",
    "plaintext = decryptor.update(ciphertext) + decryptor.finalize()\n",
    "print plaintext"
   ]
  },
  {
   "cell_type": "code",
   "execution_count": null,
   "metadata": {
    "collapsed": true
   },
   "outputs": [],
   "source": []
  }
 ],
 "metadata": {
  "kernelspec": {
   "display_name": "Python 2 (SageMath)",
   "language": "python",
   "name": "python2"
  },
  "language_info": {
   "codemirror_mode": {
    "name": "ipython",
    "version": 2
   },
   "file_extension": ".py",
   "mimetype": "text/x-python",
   "name": "python",
   "nbconvert_exporter": "python",
   "pygments_lexer": "ipython2",
   "version": "2.7.10"
  },
  "name": "00_Basics.ipynb"
 },
 "nbformat": 4,
 "nbformat_minor": 0
}
