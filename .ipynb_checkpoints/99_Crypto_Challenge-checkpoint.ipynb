{
 "cells": [
  {
   "cell_type": "markdown",
   "metadata": {
    "collapsed": false
   },
   "source": [
    "# The crypto challenge\n",
    "https://cryptopals.com/\n",
    "\n",
    "這個Challenge十分有趣，有點類似crypto的capture the flag\n",
    "\n",
    "應該很少人學樂器、打球、繪畫認為翻翻書就可以了\n",
    "\n",
    "程式也一樣 密碼學也一樣 所以實作吧...\n",
    "\n",
    "# Set1\n",
    "\n",
    "## Convert between encoding\n",
    "雖然說是密碼學，不過第一個set大多是在處理資料轉換\n",
    "\n",
    "> Always operate on raw bytes, never on encoded strings. Only use hex and base64 for pretty-printing.\n",
    "\n",
    "用``binascii`` 這個函式庫做資料轉換"
   ]
  },
  {
   "cell_type": "code",
   "execution_count": null,
   "metadata": {
    "collapsed": true
   },
   "outputs": [],
   "source": []
  }
 ],
 "metadata": {
  "kernelspec": {
   "display_name": "Python 2 (SageMath)",
   "language": "python",
   "name": "python2"
  },
  "language_info": {
   "codemirror_mode": {
    "name": "ipython",
    "version": 2
   },
   "file_extension": ".py",
   "mimetype": "text/x-python",
   "name": "python",
   "nbconvert_exporter": "python",
   "pygments_lexer": "ipython2",
   "version": "2.7.10"
  }
 },
 "nbformat": 4,
 "nbformat_minor": 0
}
