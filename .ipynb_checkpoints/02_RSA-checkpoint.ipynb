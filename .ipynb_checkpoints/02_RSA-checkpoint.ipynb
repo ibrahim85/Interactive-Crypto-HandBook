{
 "cells": [
  {
   "cell_type": "markdown",
   "metadata": {
    "collapsed": false
   },
   "source": [
    "# Public Key Cryptography\n",
    "\n",
    "Though RSA should be avoided for modern secure systems due to concerns with advancements in the discrete logarithm problem. We will still take a look at it.\n",
    "\n",
    "Public key cryptography is a type of cryptography that simplifies the key exchange problem: there is no need for a secure channel to communicate keys over. Instead, each user generates a private key with an associated public key. The public key can be given out without any security risk. There is still the challenge of distributing and verifying public keys, but that is outside the scope of this document.\n",
    "\n",
    "Let's delve into RSA first:"
   ]
  },
  {
   "cell_type": "code",
   "execution_count": 1,
   "metadata": {
    "collapsed": false
   },
   "outputs": [
    {
     "name": "stdout",
     "output_type": "stream",
     "text": [
      "Prime p:  2209278197029\n",
      "Prime q:  1229012748941\n"
     ]
    }
   ],
   "source": [
    "import random\n",
    "import math\n",
    "\n",
    "random.seed(1)\n",
    "# Function to test for composite. Return True for composite.\n",
    "def _func_composite_test(a,d,n,s):\n",
    "    if pow( a, d, n ) == 1:\n",
    "        return False\n",
    "    for i in range(s):\n",
    "        if pow( a, 2**i * d, n ) == n-1:\n",
    "            return False\n",
    "    return True\n",
    "\n",
    "# Function to test for primality using Miller Rabin.\n",
    "def _func_millerRabin_probable_prime(n):\n",
    "    assert n >= 2\n",
    "    if n == 2:\n",
    "        return True\n",
    "    if n % 2 == 0:\n",
    "        return False\n",
    "    # Write n-1 as 2**s * d\n",
    "    # Repeatedly try to divide n-1 by 2\n",
    "    s, d = 0, n-1\n",
    "    while True:\n",
    "        quotient, remainder = divmod(d, 2)\n",
    "        if remainder == 1:\n",
    "            break\n",
    "        s += 1\n",
    "        d = quotient\n",
    "    assert ( 2**s * d == n-1 )\n",
    "    # test the base a to see whether it is a witness for the compositeness of n\n",
    "    for i in range(0,10): # range is arbitrary...\n",
    "        a = random.randint( 2, n-1 )\n",
    "        if _func_composite_test(a,d,n,s):\n",
    "            return False\n",
    "    # Return True because n is not found to be a composite.\n",
    "    return True\n",
    "\n",
    "# Function to find a prime between a lower and an upper limit.\n",
    "def find_prime( limit_lower, limit_upper ):\n",
    "    # Return a pseudo prime number roughly between a and b (can be larger than b).\n",
    "    # Raise ValueError if cannot find a pseudo prime after 10 * ln(x) + 3 tries.\n",
    "    x = random.randint(limit_lower, limit_upper)\n",
    "    for i in range( 0, int(10 * math.log(x) + 3) ):\n",
    "        if _func_millerRabin_probable_prime(x):\n",
    "            return x\n",
    "        else:\n",
    "            x += 1\n",
    "    raise ValueError\n",
    "\n",
    "# Create a prime and show it.\n",
    "print 'Prime p: ', find_prime( limit_lower=10**12, limit_upper=10**13 )\n",
    "print 'Prime q: ', find_prime( limit_lower=10**12, limit_upper=10**13 )"
   ]
  },
  {
   "cell_type": "markdown",
   "metadata": {},
   "source": [
    "We now have two prime numbers and we will use these to generate a large co-prime N. \n",
    "\n",
    "$N=p∗q$\n",
    "\n",
    "The amazing thing about these co-primes is that their factors are p and q. No other integers form the factors of this large co-prime. Since the **factorization** of large numbers is a mathematically hard problem (One-way trapdoor function) this gives us a perfect number that is easy to calculate when you know _p_ and _q_, but very hard to work back from when you only know _N_ and not know _p_ and _q_. "
   ]
  },
  {
   "cell_type": "code",
   "execution_count": 2,
   "metadata": {
    "collapsed": false
   },
   "outputs": [
    {
     "name": "stdout",
     "output_type": "stream",
     "text": [
      "N:  2715231070106027509096289\n"
     ]
    }
   ],
   "source": [
    "p = 2209278197029 \n",
    "q = 1229012748941\n",
    "N = p * q\n",
    "print 'N: ', N"
   ]
  },
  {
   "cell_type": "markdown",
   "metadata": {},
   "source": [
    "The main idea behind RSA is that we want to have both a part of the key that is public (i.e., everybody can know that part/those parts) and a part that is private (i.e., only we know that part).\n",
    "In order to achieve this we are going to use another piece of mathematics that is also very easy to calculate but very hard to undo: Modular Arithmetics."
   ]
  },
  {
   "cell_type": "code",
   "execution_count": 3,
   "metadata": {
    "collapsed": false
   },
   "outputs": [
    {
     "name": "stdout",
     "output_type": "stream",
     "text": [
      "Phi of N:    2715231070102589218150320\n",
      "Difference:  3438290945969\n"
     ]
    }
   ],
   "source": [
    "phi_N = N - p - q + 1\n",
    "print 'Phi of N:   ', phi_N\n",
    "print 'Difference: ', N - phi_N"
   ]
  },
  {
   "cell_type": "markdown",
   "metadata": {},
   "source": [
    "We now need to select two integers _e_ and _d_ \n",
    "It is standard practice to select _e = 65537 when N - p - q + 1 > 65537_. We can then select d accordingly. "
   ]
  },
  {
   "cell_type": "code",
   "execution_count": 4,
   "metadata": {
    "collapsed": false
   },
   "outputs": [
    {
     "name": "stdout",
     "output_type": "stream",
     "text": [
      "prime p:     2209278197029\n",
      "prime q:     1229012748941\n",
      "co-prime N:  2715231070106027509096289\n",
      "Phi of N:    2715231070102589218150320\n",
      "e:           65537\n",
      "d:           1662689065800343477772993\n"
     ]
    }
   ],
   "source": [
    "# Function to get d from e and phi(N)\n",
    "def fn_rsa_get_d( e, phi ):\n",
    "    N_phi = phi\n",
    "    x = lasty = 0\n",
    "    lastx = y = 1\n",
    "    while phi != 0:\n",
    "        q = e // phi\n",
    "        e, phi = phi, e % phi\n",
    "        x, lastx = lastx - q*x, x\n",
    "        y, lasty = lasty - q*y, y\n",
    "    if lastx < 0:\n",
    "        lastx += N_phi\n",
    "    return lastx\n",
    "\n",
    "# Lets try this\n",
    "e = 65537\n",
    "d = fn_rsa_get_d( e=e, phi=phi_N )\n",
    "print 'prime p:    ', p\n",
    "print 'prime q:    ', q\n",
    "print 'co-prime N: ', N\n",
    "print 'Phi of N:   ', phi_N\n",
    "print 'e:          ', e\n",
    "print 'd:          ', d"
   ]
  },
  {
   "cell_type": "code",
   "execution_count": 5,
   "metadata": {
    "collapsed": false
   },
   "outputs": [
    {
     "name": "stdout",
     "output_type": "stream",
     "text": [
      "message:  2328\n",
      "cipher:   993844035141996221196954\n",
      "decrypt:  2328\n"
     ]
    }
   ],
   "source": [
    "mp = 2328\n",
    "mc = pow( mp,e,N )\n",
    "md = pow( mc,d,N )\n",
    "print 'message: ', mp\n",
    "print 'cipher:  ', mc\n",
    "print 'decrypt: ', md"
   ]
  },
  {
   "cell_type": "markdown",
   "metadata": {},
   "source": [
    "Now Let's look at how to use pycrypto to do this, it is easy to generate a private/public key pair with pycrypto. We need to specify the size of the key in bits: we picked 1024 bits. Larger is more secure. We also need to specify a random number generator function, we use the Random module of pycrypto for that."
   ]
  },
  {
   "cell_type": "code",
   "execution_count": 11,
   "metadata": {
    "collapsed": false
   },
   "outputs": [
    {
     "data": {
      "text/plain": [
       "<_RSAobj @0x7fa105ffcd40 n(1024),e,d,p,q,u,private>"
      ]
     },
     "execution_count": 11,
     "metadata": {},
     "output_type": "execute_result"
    }
   ],
   "source": [
    "from Crypto.PublicKey import RSA\n",
    "from Crypto import Random\n",
    "random_generator = Random.new().read\n",
    "key = RSA.generate(1024, random_generator)\n",
    "key"
   ]
  },
  {
   "cell_type": "markdown",
   "metadata": {},
   "source": [
    "Now that we have our key pair, we can encrypt some data. First, we extract the public key from the key pair and use it to encrypt some data. 32 is a random parameter used by the RSA algorithm to encrypt the data. This step simulates us publishing the encryption key and someone using it to encrypt some data before sending it to us."
   ]
  },
  {
   "cell_type": "code",
   "execution_count": 16,
   "metadata": {
    "collapsed": false
   },
   "outputs": [
    {
     "data": {
      "text/plain": [
       "('\\r\\xd3\\xbby\\x87\\x1d\\xd0K9\\x08\\x8f\\x81N\\xa7\\x02\\xfath\\xf4BH\\x82\\xc7\\xc9w\\xe3\\x96T+\\x00\\x95\\x8ce\\xc8\\x0b+\\x12\\x81\\xc3\\xba\\x90\\'\\xb3\\xd8\\xa2\\xb6`\\x9b~v|t\\xdb+\\xcfx\\x96\\x92\\xc4\\xfa\\x7f\\x93v]q\\xf5\\xc3\\\\RB\\xbe\\xff\\xb8\\xc5\\x90\\x89\\xe8MUi\\xa7\\xc4\\xd6\\xc8\\x10\\xda\\xc7hk_\\xe0\\x82\\xbb\\xdb\\xc7\\xb5\\xce\\xac65\\x15\\xa2\\xdd2m?\\x98Y\"\\xa9\\xbdn0\\xdd\\x8b\\xfb\\xa5\\xb9t\\xb6\\xea.H+\\x8c\\xf6\\xd3\\x90',)"
      ]
     },
     "execution_count": 16,
     "metadata": {},
     "output_type": "execute_result"
    }
   ],
   "source": [
    "public_key = key.publickey()\n",
    "enc_data = public_key.encrypt(r'abcdefgh', 32)\n",
    "enc_data"
   ]
  },
  {
   "cell_type": "code",
   "execution_count": 17,
   "metadata": {
    "collapsed": false
   },
   "outputs": [
    {
     "data": {
      "text/plain": [
       "'abcdefgh'"
      ]
     },
     "execution_count": 17,
     "metadata": {},
     "output_type": "execute_result"
    }
   ],
   "source": [
    "key.decrypt(enc_data)"
   ]
  },
  {
   "cell_type": "code",
   "execution_count": 18,
   "metadata": {
    "collapsed": true
   },
   "outputs": [],
   "source": [
    "from Crypto.Hash import SHA256\n",
    "from Crypto.PublicKey import RSA\n",
    "from Crypto import Random\n",
    "key = RSA.generate(1024, random_generator)\n",
    "text = r'abcdefgh'\n",
    "hash = SHA256.new(text).digest()\n",
    "signature = key.sign(hash, '')"
   ]
  },
  {
   "cell_type": "code",
   "execution_count": 19,
   "metadata": {
    "collapsed": false
   },
   "outputs": [
    {
     "data": {
      "text/plain": [
       "False"
      ]
     },
     "execution_count": 19,
     "metadata": {},
     "output_type": "execute_result"
    }
   ],
   "source": [
    "text = r'abcdefgh'\n",
    "hash = SHA256.new(text).digest()\n",
    "public_key.verify(hash, signature)"
   ]
  },
  {
   "cell_type": "code",
   "execution_count": null,
   "metadata": {
    "collapsed": true
   },
   "outputs": [],
   "source": []
  },
  {
   "cell_type": "code",
   "execution_count": 20,
   "metadata": {
    "collapsed": false
   },
   "outputs": [
    {
     "name": "stdout",
     "output_type": "stream",
     "text": [
      "Edward Snowden received from PyTn:\n",
      "You are a patriot!\n",
      "\n",
      "PyTN received from Edward Snowden:\n",
      "Russia is really nice this time of year...\n",
      "Use encryption and make the NSA CPUs churn and burn!\n"
     ]
    }
   ],
   "source": [
    "import Crypto\n",
    "from Crypto.PublicKey import RSA\n",
    "from Crypto import Random\n",
    "from Crypto.Hash import MD5\n",
    " \n",
    "# Use a larger key length in practice...\n",
    "KEY_LENGTH = 1024  # Key size (in bits)\n",
    "random_gen = Random.new().read\n",
    " \n",
    "# Generate RSA private/public key pairs for both parties...\n",
    "keypair_snowden = RSA.generate(KEY_LENGTH, random_gen)\n",
    "keypair_pytn    = RSA.generate(KEY_LENGTH, random_gen)\n",
    " \n",
    "# Public key export for exchange between parties...\n",
    "pubkey_snowden  = keypair_snowden.publickey()\n",
    "pubkey_pytn     = keypair_pytn.publickey()\n",
    " \n",
    "# Plain text messages...\n",
    "message_to_snowden  = 'You are a patriot!'\n",
    "message_to_pytn     = \"Russia is really nice this time of year...\\nUse encryption and make the NSA CPUs churn and burn!\"\n",
    " \n",
    "# Generate digital signatures using private keys...\n",
    "hash_of_snowden_message = SHA256.new(message_to_snowden).digest()\n",
    "signature_pytn          = keypair_pytn.sign(hash_of_snowden_message, '')\n",
    "hash_of_pytn_message    = SHA256.new(message_to_pytn).digest()\n",
    "signature_snowden       = keypair_snowden.sign(hash_of_pytn_message, '')\n",
    " \n",
    "# Encrypt messages using the other party's public key...\n",
    "encrypted_for_snowden   = pubkey_snowden.encrypt(message_to_snowden, 32)    #from PyTN\n",
    "encrypted_for_pytn      = pubkey_pytn.encrypt(message_to_pytn, 32)          #from Snowden\n",
    " \n",
    "# Decrypt messages using own private keys...\n",
    "decrypted_snowden   = keypair_snowden.decrypt(encrypted_for_snowden)\n",
    "decrypted_pytn      = keypair_pytn.decrypt(encrypted_for_pytn)\n",
    " \n",
    "# Signature validation and console output...\n",
    "hash_snowden_decrypted = SHA256.new(decrypted_snowden).digest()\n",
    "if pubkey_pytn.verify(hash_snowden_decrypted, signature_pytn):\n",
    "    print \"Edward Snowden received from PyTn:\"\n",
    "    print decrypted_snowden\n",
    "    print \"\"\n",
    " \n",
    "hash_pytn_decrypted = SHA256.new(decrypted_pytn).digest()\n",
    "if pubkey_snowden.verify(hash_pytn_decrypted, signature_snowden):\n",
    "   print \"PyTN received from Edward Snowden:\"\n",
    "   print decrypted_pytn"
   ]
  },
  {
   "cell_type": "code",
   "execution_count": null,
   "metadata": {
    "collapsed": true
   },
   "outputs": [],
   "source": []
  }
 ],
 "metadata": {
  "kernelspec": {
   "display_name": "Python 2 (SageMath)",
   "language": "python",
   "name": "python2"
  },
  "language_info": {
   "codemirror_mode": {
    "name": "ipython",
    "version": 2
   },
   "file_extension": ".py",
   "mimetype": "text/x-python",
   "name": "python",
   "nbconvert_exporter": "python",
   "pygments_lexer": "ipython2",
   "version": "2.7.10"
  },
  "name": "02_RSA_Demo.ipynb"
 },
 "nbformat": 4,
 "nbformat_minor": 0
}
