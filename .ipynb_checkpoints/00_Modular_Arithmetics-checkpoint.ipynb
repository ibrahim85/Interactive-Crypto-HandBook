{
 "cells": [
  {
   "cell_type": "markdown",
   "metadata": {
    "collapsed": true
   },
   "source": [
    "- A multiple precision algorithm would augment the precision of the destination to accomodate the result while a single precision system would truncate excess bits to maintain a ﬁxed level of precision.\n",
    "- The same algorithms based on multiple precision integers can accomodate any reasonable size input without the designer’s explicit forethought. This leads to lower cost of ownership for the code as it only has to be written and tested once.\n",
    "\n",
    "```\n",
    "typedef struct {\n",
    "int used, alloc, sign;\n",
    "mp_digit *dp;\n",
    "} mp_int;\n",
    "```\n",
    "\n",
    "> The pointer *dp* points to a dynamically allocated array of digits that represent the given multiple precision integer.  It is padded with *alloc - used* zero digits.  The array is maintained in a `least significant digit order`.  As a pencil and paper analogy the array is organized such that the right most digits are stored first starting at the location indexed by zero in the array.  For example, if *dp* contains $\\lbrace a, b, c, \\ldots \\rbrace$ where *dp_0 = a*, *dp_1 = b*, *dp_2 = c*, $\\ldots$ then it would represent the integer $a + b\\beta + c\\beta^2 + \\ldots$\n",
    "\n",
    "Calling convention (MPI style)\n",
    "```\n",
    "mp_mul(&a, &b, &c); /* c = a * b */\n",
    "mp_add(&a, &b, &a); /* a = a + b */\n",
    "mp_sqr(&a, &b); /* b = a * a */\n",
    "```"
   ]
  },
  {
   "cell_type": "markdown",
   "metadata": {},
   "source": [
    "$$c = a - b \\cdot \\lfloor (a \\cdot \\lfloor 2^q / b \\rfloor)/2^q \\rfloor$$\n",
    "\n",
    "$$c = a - b \\cdot \\lfloor (a \\cdot \\mu)/2^q \\rfloor$$\n",
    "\n",
    "Let $q_0 = \\lfloor a/\\beta^{m-1} \\rfloor$ represent the input with the irrelevant digits trimmed. Now the modular reduction is trimmed to the almost equivalent equation\n",
    "\n",
    "$$c = a - b \\cdot \\lfloor (q_0 \\cdot \\mu) / \\beta^{m+1} \\rfloor$$\n",
    "\n",
    "|Algorithm 1 **mp\\_reduce**.                                                                      |\n",
    "|------------------------------------------------------------------------------------------------|\n",
    "|**Input**. mp\\_int $a$, mp\\_int $b$ and $\\mu = \\lfloor \\beta^{2m}/b \\rfloor, m = \\lceil lg_{\\beta}(b) \\rceil, (0 \\le a < b^2, b > 1)$  |\n",
    "|**Output**. $a \\mbox{ (mod }b\\mbox{)}$                                                      |\n",
    "|Let $m$ represent the number of digits in $b$.                                              |\n",
    "|1. Make a copy of $a$ and store it in $q$. (*mp\\_init\\_copy*)                                 |\n",
    "|2. $q \\leftarrow \\lfloor q / \\beta^{m - 1} \\rfloor$ (*mp\\_rshd*) |\n",
    "|Produce the quotient.  |\n",
    "|3. $q \\leftarrow q \\cdot \\mu$ (*note: only produce digits at or above $m-1$*)|       \n",
    "|4. $q \\leftarrow \\lfloor q / \\beta^{m + 1} \\rfloor$                                           |\n",
    "|Subtract the multiple of modulus from the input.                                             |\n",
    "|5. $a \\leftarrow a \\mbox{ (mod }\\beta^{m+1}\\mbox{)}$ (*mp\\_mod\\_2d*)                      |\n",
    "|6. $q \\leftarrow q \\cdot b \\mbox{ (mod }\\beta^{m+1}\\mbox{)}$  (*s\\_mp\\_mul\\_digs*)   |\n",
    "|7. $a \\leftarrow a - q$ (*mp\\_sub*)                                                            |\n",
    "|Add $\\beta^{m+1}$ if a carry occured.                                                          |\n",
    "|8. If $a < 0$ then (*mp\\_cmp\\_d*)                                                              |\n",
    "|8.1 $q \\leftarrow 1$ (*mp\\_set*)                                                              |\n",
    "|8.2 $q \\leftarrow q \\cdot \\beta^{m+1}$ (*mp\\_lshd*)                                            |\n",
    "|8.3 $a \\leftarrow a + q$                                                                       |\n",
    "|Now subtract the modulus if the residue is too large (e.g. quotient too small.)                |       \n",
    "|9. While $a \\ge b$ do (*mp\\_cmp*)                                                              |\n",
    "|9.1 $c \\leftarrow a - b$                                                                       |\n",
    "|10. Clear $q$.                                                                                 |\n",
    "|11. Return(*MP\\_OKAY*)                                                                         |"
   ]
  },
  {
   "cell_type": "markdown",
   "metadata": {},
   "source": [
    "|Algorithm 2 Barrett Reduction                                                                                  |\n",
    "|:--------------------------------------------------------------------|\n",
    "|Input: $0 \\leq T = (T_{2k−1}, T_{2k−2},..., T_1, T_0)_b < b^{2k}, N, b \\geq 3$, $k = \\lfloor logb N \\rfloor +1$ and $\\mu$|\n",
    "|Output: $R ≡ (R_{k−1}, ... ,R_0)_b = T\\mbox{ (mod }mod N\\mbox{)}$                                                               |\n",
    "|1: $q_1 =\\lfloor T/b^{k-1} \\rfloor$ (Bitwise Shift Right)                                                                       |\n",
    "|2: $q_2 = q_1 · μ $ (Multiplication)                                                                               |\n",
    "|3: $q_3 = \\lfloor q_2/b^{k+1} \\rfloor$ (Bitwise Shift Right)                                                                      |\n",
    "|4: $R_1 = T \\mbox{ (mod } b^{k+1}\\mbox{)}$ (Truncation)                                                                          |\n",
    "|5: $R_2 = q_3 · N \\mbox{ (mod } b^{k+1}\\mbox{)}$ (Multiplication + Truncation)                                                    |\n",
    "|6: $R = R_1 − R_2$ (Subtraction)                                                                                  |\n",
    "|7: If $(R < 0)$ then $R = R + b^{k+1}$ (Addition)                                                               |\n",
    "|8: While ($R \\geq N)$ do $R = R − N$ (Subtraction)                                                              |\n",
    "|9: Return $R$                                                                                                   |"
   ]
  },
  {
   "cell_type": "markdown",
   "metadata": {},
   "source": [
    "|Algorithm 3 Computation of $\\mu$                                               |\n",
    "|------------------------------------------|\n",
    "|Input: $p$, and $k = \\lfloor logb N\\rfloor + 1$                                 |\n",
    "|Output: $\\mu = \\lfloor b^{2k}/N \\rfloor$                                        |\n",
    "|1: $\\mu = b^k$                                                                  |\n",
    "|2: Repeat                                                                       |\n",
    "|3: $S = μ$                                                                      |\n",
    "|4: $μ = 2μ − \\lfloor (\\lfloor μ^2/b^k \\rfloor \\cdot N )/ b^k \\rfloor  $           |\n",
    "|5: Until $μ \\leq S$                                                             |\n",
    "|6: $t = b^{2k} − N \\cdot μ$                                                     |\n",
    "|7: While ($t < 0$) do                                                           |\n",
    "|8: $μ = μ − 1$                                                                  |\n",
    "|9: $t = t + N$                                                                  |\n",
    "|10: Return $R$                                                                  |"
   ]
  },
  {
   "cell_type": "raw",
   "metadata": {},
   "source": [
    "The example:"
   ]
  },
  {
   "cell_type": "code",
   "execution_count": 11,
   "metadata": {
    "collapsed": false
   },
   "outputs": [
    {
     "name": "stdout",
     "output_type": "stream",
     "text": [
      "Overwriting barret.cpp\n"
     ]
    }
   ],
   "source": [
    "%%writefile barret.cpp\n",
    "\n",
    "\n",
    "#include <iostream>\n",
    "#include \"big.h\"\n",
    "using namespace std;\n",
    "Miracl precision(400,10);\n",
    "\n",
    "Big barret_setup (Big b)\n",
    "{\n",
    "  Big     x;\n",
    "  x = pow((Big)2, 2*bits(b));\n",
    "  x = x/b;\n",
    "  return x;\n",
    "}\n",
    "\n",
    "Big barret_reduction (Big x, Big m, Big mu)\n",
    "{\n",
    "  Big  q, b, temp, zero;\n",
    "  int ix, iq;\n",
    "  temp = 1;\n",
    "  /* q = x */\n",
    "  q = x;\n",
    "  q = q >> (bits(m)-1);\n",
    "  q = mu * q;\n",
    "\n",
    "  q = q >> (bits(m)+1);\n",
    "\n",
    "  temp = pow((Big)2, bits(m)+1);\n",
    "  x = x % temp;\n",
    "  \n",
    "  cout << \"x=\"<< x << endl;\n",
    "\n",
    "  q =q * m;\n",
    "  temp = pow((Big)2, bits(m)+1);\n",
    "  q = q % temp;\n",
    "  cout << \"q=\" << q << endl <<\"m=\" << m << endl;\n",
    "  x = x - q;\n",
    "  if (x < 0) {\n",
    "    b = pow((Big)2, bits(m)+1);\n",
    "    x = x + b;\n",
    "    cout << \"b=\" << b << endl;\n",
    "  }\n",
    "  while (x > m)  x = x - m; \n",
    "  cout << \"x=\" << x << endl;\n",
    "\n",
    "  return x;\n",
    "}\n",
    "int  main()\n",
    "{\n",
    "    Big a,b,c,mu;\n",
    "   /*  initialize  a,b  to  desired  values,  mp_init  mu, c  and  set  c  to  1...we  want  to  compute  a^3  mod  b   */\n",
    "    a = 1601613;\n",
    "    b = 201;\n",
    "    /*  get  mu  value  */\n",
    "    mu = barret_setup(b);\n",
    "    /*  now  reduce a modulo b */\n",
    "    c = barret_reduction (a, b, mu);\n",
    "    cout << \"number = \" << c << endl;\n",
    "    \n",
    "    return  1;\n",
    "}"
   ]
  },
  {
   "cell_type": "code",
   "execution_count": 12,
   "metadata": {
    "collapsed": false
   },
   "outputs": [
    {
     "name": "stdout",
     "output_type": "stream",
     "text": [
      "x=77\n",
      "q=142\n",
      "m=201\n",
      "b=512\n",
      "x=45\n",
      "number = 45\n"
     ]
    }
   ],
   "source": [
    "%%bash \n",
    "g++ barret.cpp big.cpp miracl.a -o barret\n",
    "./barret"
   ]
  },
  {
   "cell_type": "markdown",
   "metadata": {},
   "source": [
    "### Montgomery Mutiplication"
   ]
  },
  {
   "cell_type": "code",
   "execution_count": 13,
   "metadata": {
    "collapsed": false
   },
   "outputs": [
    {
     "name": "stdout",
     "output_type": "stream",
     "text": [
      "Writing Mont.cpp\n"
     ]
    }
   ],
   "source": [
    "%%writefile Mont.cpp\n",
    "#include <iostream>\n",
    "#include \"big.h\"\n",
    "#include \"zzn.h\"\n",
    "#include <math.h>\n",
    "\n",
    "using namespace std;\n",
    "\n",
    "Miracl precision(400,10);\n",
    "\n",
    "Big bitvar(Big a, int base, int inradix ){\n",
    "   Big x, temp;\n",
    "   int i;\n",
    "   x = 0;\n",
    "   temp = 1;\n",
    "   for (i=0; i < inradix; i++){\n",
    "        x = x + bit(a,base+i)*temp;\n",
    "        temp = temp *2;     \n",
    "    }\n",
    "   return x;\n",
    "}    \n",
    "   \n",
    "\n",
    "Big mont_setup (Big p, int radix)\n",
    "{\n",
    "  Big     x, temp;\n",
    "  temp = pow((Big)2, radix);\n",
    "  x = inverse(p, temp);//p^-1 mod 2\n",
    "  x = (temp-x)%temp;\n",
    "  return x;\n",
    "}\n",
    "\n",
    "Big mont_full (Big a, Big b, Big p, Big p_p)\n",
    "{\n",
    "    Big c, q, temp;\n",
    "    temp = pow((Big)2, bits(p));\n",
    "    c = a*b;\n",
    "    q = ((c % temp) * p_p) % temp;\n",
    "    c = (c+q*p)/temp;\n",
    "    if(c>=p)  c = c -p;\n",
    "    return c;\n",
    "}\n",
    "\n",
    "\n",
    "Big mont_mul (Big a, Big b, Big p, Big p_p, int inradix)\n",
    "{\n",
    "  Big  q, temp, c;\n",
    "  int i, iter;\n",
    "  temp = 0;\n",
    "  c = 0;\n",
    "  temp = pow((Big)2, inradix);\n",
    "  if(bits(p)%2==0)  iter = bits(p)/inradix;\n",
    "  else      iter = (bits(p)/inradix)+1;\n",
    "\n",
    "  for (i=0; i< iter; i++){\n",
    "    // method 1\n",
    "        q = ((bitvar(c,0,inradix)+bitvar(a,i*inradix,inradix)*bitvar(b,0,inradix))*p_p) % temp;\n",
    " //       for(int j = inradix-1; j>=0; j--)\n",
    " //           cout<<bit(c,j);\n",
    " //       cout << endl;\n",
    "         c = c+bitvar(a,i*inradix,inradix)*b+q*p;\n",
    "  //      cout << \"c=\" << c << endl;\n",
    "  //      for(int j =inradix-1; j>=0; j--)\n",
    "  //          cout<<bit(c,j);\n",
    "  //      cout << endl;\n",
    "        c = c /temp;\n",
    "        \n",
    "        /*\n",
    "       // method 2\n",
    "         c = c + bit(a,i)*b;\n",
    "         q = inverse(bit(p,0), 2);\n",
    "         q = (bit(c,0)*q)%2;\n",
    "         \n",
    "         //cout << \"q=\" << q << endl;\n",
    "         c = c+q*p;\n",
    "         c = c/2;\n",
    "      */ \n",
    "      /*\n",
    "      // method 3\n",
    "         c = c + bit(a,i)*b;\n",
    "         if(bit(c,0)==1){\n",
    "            c = c + p;\n",
    "        }\n",
    "         c=c/2;\n",
    "        */\n",
    "  }\n",
    " /* Back off if it's too big */\n",
    "  if (c >= p) {\n",
    "    c = c - p;\n",
    "  }\n",
    "  //cout << \"c=\" << c << endl;\n",
    "\n",
    "  return c;\n",
    "}\n",
    "  \n",
    "\n",
    "int  main()\n",
    "{\n",
    "    Big a, b, c, p, mu, ina, inb, outc, temp, test;\n",
    "    ZZn na, nb, nc;\n",
    "    int radix, inradix;\n",
    "    a = 155;\n",
    "    b = 174;\n",
    "    p = 201;\n",
    "    temp = pow((Big)2, 2*bits(p));\n",
    "    temp = temp % 201;\n",
    "        \n",
    "    inradix = 0;\n",
    "    radix = 16;// 2^4\n",
    "    while (radix > 1){\n",
    "        inradix = inradix+1;\n",
    "        radix = radix/2;\n",
    "    }\n",
    "    /*  get  mu  value  */\n",
    "    mu = mont_setup(bitvar(p,0,inradix), inradix);\n",
    "    cout << \"mu=\" << mu <<endl;\n",
    "        \n",
    "    // using radix2\n",
    "    ina = mont_mul(a, temp, p, mu, inradix);\n",
    "    inb = mont_mul(b, temp, p, mu, inradix);\n",
    "    cout << \"ina=\" << ina << endl;\n",
    "    cout << \"inb=\" << inb << endl;\n",
    "    outc =  mont_mul(ina, inb, p, mu, inradix);\n",
    "    cout << \"outc=\" << outc << endl;\n",
    "    /*  now  reduce a modulo b */\n",
    "    c = mont_mul (outc,(Big)1, p, mu, inradix);\n",
    "    cout << \"number = \" << c << endl;\n",
    "    \n",
    "    // using full word, no radix   \n",
    "    temp = pow((Big)2, 16);\n",
    "      \n",
    "    mu = mont_setup(p, bits(p));\n",
    "    cout << \"mu2=\" << mu <<endl;\n",
    "       \n",
    "    temp = temp % 201;\n",
    "    ina = mont_full(a, temp, p, mu);\n",
    "    inb = mont_full(b, temp, p, mu);\n",
    "    outc = mont_full(ina, inb, p, mu);\n",
    "    cout <<\"ina=\" << ina << endl;\n",
    "    cout <<\"inb=\" << inb << endl;\n",
    "    cout <<\"outc=\" << outc << endl;\n",
    "    c = mont_full(outc, (Big)1, p, mu);\n",
    "    cout << \"number2 = \" << c << endl;\n",
    "      \n",
    "    // Using built-in montgomery multiplication\n",
    "    modulo(p);\n",
    "    //prepare_monty((Big)201);\n",
    "    na = a;\n",
    "    nb = b;\n",
    "    nc = a*b;\n",
    "    c = nc;\n",
    "    /*\n",
    "    nres(a, ina);\n",
    "    nres(b, inb);\n",
    "    nres_modmult(ina, inb , outc);\n",
    "    redc(outc,c);\n",
    "    */\n",
    "    temp= inverse(a, p);\n",
    "    //temp((Big)na.getzzn());\n",
    "    temp = 26*temp;\n",
    "    cout << \"ina=\";\n",
    "    otnum(na.getzzn(), stdout);\n",
    "    cout << \"inb=\" ;\n",
    "    otnum(nb.getzzn(), stdout);\n",
    "    cout << \"outc=\";\n",
    "    otnum(nc.getzzn(), stdout);\n",
    "    cout << \"number3=\" <<  c << endl;    \n",
    "    return  1;\n",
    "}\n"
   ]
  },
  {
   "cell_type": "code",
   "execution_count": 18,
   "metadata": {
    "collapsed": false
   },
   "outputs": [
    {
     "name": "stdout",
     "output_type": "stream",
     "text": [
      "mu=7\n",
      "ina=83\n",
      "inb=123\n",
      "outc=171\n",
      "number = 36\n",
      "mu2=135\n",
      "ina=83\n",
      "inb=123\n",
      "outc=171\n",
      "number2 = 36\n",
      "ina=26\n",
      "inb=24\n",
      "outc=102\n",
      "number3=36\n"
     ]
    }
   ],
   "source": [
    "%%bash\n",
    "g++ Mont.cpp big.cpp zzn.cpp miracl.a -o Mont\n",
    "./Mont"
   ]
  },
  {
   "cell_type": "markdown",
   "metadata": {},
   "source": [
    "### Karatsuba Multiplication"
   ]
  },
  {
   "cell_type": "code",
   "execution_count": 37,
   "metadata": {
    "collapsed": false
   },
   "outputs": [
    {
     "name": "stdout",
     "output_type": "stream",
     "text": [
      "Overwriting karatsuba.cpp\n"
     ]
    }
   ],
   "source": [
    "%%writefile karatsuba.cpp\n",
    "\n",
    "#include <iostream>\n",
    "#include \"big.h\"\n",
    "using namespace std;\n",
    "Miracl precision(400,10);\n",
    "\n",
    "\n",
    "const int _CUTOFF = 1536;\n",
    "\n",
    "Big karatsuba_mul (Big x, Big y)\n",
    "{\n",
    "  Big  mask, xlow, ylow, xhigh, yhigh, a, b, c, d;\n",
    "  int n, half;\n",
    "  // Base case\n",
    "  if ( bits(x) <= _CUTOFF || bits(y) <= _CUTOFF)  return x * y ;\n",
    "  else {\n",
    "        n = max(bits(x), bits(y));\n",
    "        half = (n + 32) / 64 * 32 ;\n",
    "        mask = Big((1 << half) - 1);\n",
    "        xlow = land(x, mask);\n",
    "        ylow = land(y, mask);\n",
    "        xhigh = x >> half;\n",
    "        yhigh = y >> half;\n",
    "\n",
    "        a = karatsuba_mul(xhigh, yhigh);\n",
    "        b = karatsuba_mul(xlow + xhigh, ylow + yhigh);\n",
    "        c = karatsuba_mul(xlow, ylow);\n",
    "        d = b - a - c\n",
    "        return (((a << half) + d) << half) + c;\n",
    "  }\n",
    "  \n",
    "}\n",
    "int  main()\n",
    "{\n",
    "    Big a,b,c;\n",
    "    a = 1601613;\n",
    "    b = 201;\n",
    "    c = karatsuba_mul (a, b);\n",
    "    cout << \"number = \" << c << endl;  \n",
    "    return  1;\n",
    "}"
   ]
  },
  {
   "cell_type": "code",
   "execution_count": 38,
   "metadata": {
    "collapsed": false
   },
   "outputs": [
    {
     "name": "stderr",
     "output_type": "stream",
     "text": [
      "karatsuba.cpp: In function ‘Big karatsuba_mul(Big, Big)’:\n",
      "karatsuba.cpp:20:18: error: no match for ‘operator&’ (operand types are ‘Big’ and ‘Big’)\n",
      "         xlow = x & mask;\n",
      "                  ^\n",
      "In file included from /usr/include/c++/5/ios:42:0,\n",
      "                 from /usr/include/c++/5/ostream:38,\n",
      "                 from /usr/include/c++/5/iostream:39,\n",
      "                 from karatsuba.cpp:2:\n",
      "/usr/include/c++/5/bits/ios_base.h:81:3: note: candidate: std::_Ios_Fmtflags std::operator&(std::_Ios_Fmtflags, std::_Ios_Fmtflags)\n",
      "   operator&(_Ios_Fmtflags __a, _Ios_Fmtflags __b)\n",
      "   ^\n",
      "/usr/include/c++/5/bits/ios_base.h:81:3: note:   no known conversion for argument 1 from ‘Big’ to ‘std::_Ios_Fmtflags’\n",
      "/usr/include/c++/5/bits/ios_base.h:121:3: note: candidate: std::_Ios_Openmode std::operator&(std::_Ios_Openmode, std::_Ios_Openmode)\n",
      "   operator&(_Ios_Openmode __a, _Ios_Openmode __b)\n",
      "   ^\n",
      "/usr/include/c++/5/bits/ios_base.h:121:3: note:   no known conversion for argument 1 from ‘Big’ to ‘std::_Ios_Openmode’\n",
      "/usr/include/c++/5/bits/ios_base.h:159:3: note: candidate: std::_Ios_Iostate std::operator&(std::_Ios_Iostate, std::_Ios_Iostate)\n",
      "   operator&(_Ios_Iostate __a, _Ios_Iostate __b)\n",
      "   ^\n",
      "/usr/include/c++/5/bits/ios_base.h:159:3: note:   no known conversion for argument 1 from ‘Big’ to ‘std::_Ios_Iostate’\n",
      "karatsuba.cpp:21:18: error: no match for ‘operator&’ (operand types are ‘Big’ and ‘Big’)\n",
      "         ylow = y & mask;\n",
      "                  ^\n",
      "In file included from /usr/include/c++/5/ios:42:0,\n",
      "                 from /usr/include/c++/5/ostream:38,\n",
      "                 from /usr/include/c++/5/iostream:39,\n",
      "                 from karatsuba.cpp:2:\n",
      "/usr/include/c++/5/bits/ios_base.h:81:3: note: candidate: std::_Ios_Fmtflags std::operator&(std::_Ios_Fmtflags, std::_Ios_Fmtflags)\n",
      "   operator&(_Ios_Fmtflags __a, _Ios_Fmtflags __b)\n",
      "   ^\n",
      "/usr/include/c++/5/bits/ios_base.h:81:3: note:   no known conversion for argument 1 from ‘Big’ to ‘std::_Ios_Fmtflags’\n",
      "/usr/include/c++/5/bits/ios_base.h:121:3: note: candidate: std::_Ios_Openmode std::operator&(std::_Ios_Openmode, std::_Ios_Openmode)\n",
      "   operator&(_Ios_Openmode __a, _Ios_Openmode __b)\n",
      "   ^\n",
      "/usr/include/c++/5/bits/ios_base.h:121:3: note:   no known conversion for argument 1 from ‘Big’ to ‘std::_Ios_Openmode’\n",
      "/usr/include/c++/5/bits/ios_base.h:159:3: note: candidate: std::_Ios_Iostate std::operator&(std::_Ios_Iostate, std::_Ios_Iostate)\n",
      "   operator&(_Ios_Iostate __a, _Ios_Iostate __b)\n",
      "   ^\n",
      "/usr/include/c++/5/bits/ios_base.h:159:3: note:   no known conversion for argument 1 from ‘Big’ to ‘std::_Ios_Iostate’\n",
      "karatsuba.cpp:29:9: error: expected ‘;’ before ‘return’\n",
      "         return (((a << half) + d) << half) + c;\n",
      "         ^\n"
     ]
    }
   ],
   "source": [
    "%%bash\n",
    "g++ karatsuba.cpp big.cpp miracl.a -o karatsuba"
   ]
  },
  {
   "cell_type": "code",
   "execution_count": 22,
   "metadata": {
    "collapsed": false
   },
   "outputs": [],
   "source": [
    "# Requires Python version >= 2.7 because of long.bit_length().\n",
    "# Requirement: _CUTOFF >= 64, or else there will be infinite recursion.\n",
    "_CUTOFF = 1536\n",
    "\n",
    "def multiply(x, y):\n",
    "    if x.bit_length() <= _CUTOFF or y.bit_length() <= _CUTOFF:  # Base case\n",
    "        return x * y  \n",
    "    else:\n",
    "        n = max(x.bit_length(), y.bit_length())\n",
    "        half = (n + 32) // 64 * 32\n",
    "        mask = (1 << half) - 1\n",
    "        xlow = x & mask\n",
    "        ylow = y & mask\n",
    "        xhigh = x >> half\n",
    "        yhigh = y >> half\n",
    "\n",
    "        a = multiply(xhigh, yhigh)\n",
    "        b = multiply(xlow + xhigh, ylow + yhigh)\n",
    "        c = multiply(xlow, ylow)\n",
    "        d = b - a - c\n",
    "        return (((a << half) + d) << half) + c"
   ]
  },
  {
   "cell_type": "code",
   "execution_count": 24,
   "metadata": {
    "collapsed": false
   },
   "outputs": [
    {
     "data": {
      "text/plain": [
       "'0x11111110eeeeeeef'"
      ]
     },
     "execution_count": 24,
     "metadata": {},
     "output_type": "execute_result"
    }
   ],
   "source": [
    "hex(multiply(0xFFFFFFFF, 0x11111111))"
   ]
  },
  {
   "cell_type": "code",
   "execution_count": 25,
   "metadata": {
    "collapsed": false
   },
   "outputs": [
    {
     "data": {
      "text/plain": [
       "'0x5a4013dfa63fa51db98a302172759f4140ff7f8f0100f7611012289b5371283d537fccc3202cd44ae56e00920e05cc4d0b31b29143bb076927f702854dc138a0'"
      ]
     },
     "execution_count": 25,
     "metadata": {},
     "output_type": "execute_result"
    }
   ],
   "source": [
    "hex(multiply(0x87609798870979228866001198790ACDFFFFEEEE756868ABAABB564312345678, 0xAAAA1122907567841367868987091789876582228769815290789878AAA7DCAC))"
   ]
  },
  {
   "cell_type": "code",
   "execution_count": null,
   "metadata": {
    "collapsed": true
   },
   "outputs": [],
   "source": []
  }
 ],
 "metadata": {
  "kernelspec": {
   "display_name": "Python 3",
   "language": "python",
   "name": "python3"
  },
  "language_info": {
   "codemirror_mode": {
    "name": "ipython",
    "version": 3
   },
   "file_extension": ".py",
   "mimetype": "text/x-python",
   "name": "python",
   "nbconvert_exporter": "python",
   "pygments_lexer": "ipython3",
   "version": "3.4.3+"
  }
 },
 "nbformat": 4,
 "nbformat_minor": 0
}
