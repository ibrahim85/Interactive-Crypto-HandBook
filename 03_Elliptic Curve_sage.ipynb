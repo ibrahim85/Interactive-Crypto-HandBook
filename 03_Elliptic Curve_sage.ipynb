{
 "cells": [
  {
   "cell_type": "markdown",
   "metadata": {},
   "source": [
    "## Introduction to Sage\n",
    "這個system是建構在python, pari/gp等上面的domain specific language，我們試著建立一個field看看\n",
    "\n",
    "http://defeo.lu/docet/class/2015/09/23/sagemath-intro/\n",
    "\n",
    "http://www.sagemath.org/files/thesis/hansen-thesis-2009.pdf\n",
    "\n",
    "http://martinlauridsen.info/pub/intro_to_pairings_lattices.pdf\n",
    "\n",
    "https://github.com/guanzhi/CryptoWithSageMath\n",
    "\n",
    "http://sagemath.blogspot.tw/\n",
    "\n",
    "http://doc.sagemath.org/html/en/reference/plane_curves/index.html#elliptic-curves\n",
    "\n",
    "https://people.irisa.fr/Arnaud.Tisserand/docs/slides-semcairn09-ecc-4p.pdf\n",
    "\n",
    "https://github.com/scipr-lab/ecfactory\n",
    "\n",
    "GUI: https://github.com/zoofIO/flexx or kivi\n",
    "\n",
    "matlabplot tweak sage object"
   ]
  },
  {
   "cell_type": "code",
   "execution_count": null,
   "metadata": {
    "collapsed": false
   },
   "outputs": [],
   "source": [
    "p = plot(EllipticCurve([3,3]))\n",
    "plt = p\n",
    "plt.matplotlib()"
   ]
  },
  {
   "cell_type": "code",
   "execution_count": null,
   "metadata": {
    "collapsed": false
   },
   "outputs": [],
   "source": [
    "import matplotlib.pyplot as plt\n",
    "%matplotlib inline\n",
    "\n",
    "def interactive_tree(a=3, b=3):\n",
    "    show(plot(EllipticCurve([a,b])))\n",
    "from IPython.html.widgets import interact\n",
    "\n",
    "a = interact(interactive_tree, a=[1, 5], b=[1,5])"
   ]
  },
  {
   "cell_type": "code",
   "execution_count": null,
   "metadata": {
    "collapsed": true
   },
   "outputs": [],
   "source": [
    "def point_add(P, Q):\n",
    "    x1 = P[0]\n",
    "    y1 = P[1]\n",
    "    x2 = Q[0]\n",
    "    y2 = Q[1]\n",
    "\n",
    "    # check P == O\n",
    "    if P == [0, 0]:\n",
    "        return Q\n",
    "    \n",
    "    # check Q == O\n",
    "    if Q == [0, 0]:\n",
    "        return P\n",
    "\n",
    "    # check Q == -P\n",
    "    if x1 == x2 and y1 + y2 == 0:\n",
    "        return [0, 0]\n",
    "\n",
    "    # check P == Q\n",
    "    if P == Q:\n",
    "        return point_double(P)\n",
    "\n",
    "    slope = F((y2 - y1)/(x2 - x1))\n",
    "    x3 = F(slope**2 - x1 - x2)\n",
    "    y3 = F(slope * (x1 - x3) - y1)\n",
    "\n",
    "    return [x3, y3]"
   ]
  },
  {
   "cell_type": "code",
   "execution_count": null,
   "metadata": {
    "collapsed": false
   },
   "outputs": [],
   "source": [
    "import numpy as np\n",
    "import matplotlib.pyplot as plt\n",
    "\n",
    "def interactive_curve(a=-4, b=4):\n",
    "    if 4*a^3 + 27*b^2 == 0:\n",
    "        html('The choice of $a$ = %s and $b$ = %s does not define an elliptic curve because this makes $27a^3 + 4b^2 = 0.$'%(a,b))\n",
    "    else:\n",
    "        y, x = np.ogrid[-5:5:100j, -5:5:100j]\n",
    "        plt.contour(x.ravel(), y.ravel(), pow(y, 2) - pow(x, 3) - x * a - b, [0])\n",
    "        plt.grid()\n",
    "        plt.show()\n",
    "\n",
    "from IPython.html.widgets import interact\n",
    "interact(interactive_curve, a=[-10, 3], b=[-10,10])"
   ]
  },
  {
   "cell_type": "code",
   "execution_count": 1,
   "metadata": {
    "collapsed": false
   },
   "outputs": [
    {
     "ename": "NameError",
     "evalue": "name 'interact' is not defined",
     "output_type": "error",
     "traceback": [
      "\u001b[1;31m---------------------------------------------------------------------------\u001b[0m",
      "\u001b[1;31mNameError\u001b[0m                                 Traceback (most recent call last)",
      "\u001b[1;32m<ipython-input-1-c1b939d1ca21>\u001b[0m in \u001b[0;36m<module>\u001b[1;34m()\u001b[0m\n\u001b[0;32m      1\u001b[0m \u001b[1;32mfrom\u001b[0m \u001b[0mIPython\u001b[0m\u001b[1;33m.\u001b[0m\u001b[0mutils\u001b[0m\u001b[1;33m.\u001b[0m\u001b[0mpy3compat\u001b[0m \u001b[1;32mimport\u001b[0m \u001b[0mannotate\u001b[0m\u001b[1;33m\u001b[0m\u001b[0m\n\u001b[1;32m----> 2\u001b[1;33m \u001b[1;33m@\u001b[0m\u001b[0minteract\u001b[0m\u001b[1;33m(\u001b[0m\u001b[0mx\u001b[0m\u001b[1;33m=\u001b[0m\u001b[1;33m(\u001b[0m\u001b[1;36m0.0\u001b[0m\u001b[1;33m,\u001b[0m\u001b[1;36m20.0\u001b[0m\u001b[1;33m,\u001b[0m\u001b[1;36m0.5\u001b[0m\u001b[1;33m)\u001b[0m\u001b[1;33m)\u001b[0m\u001b[1;33m\u001b[0m\u001b[0m\n\u001b[0m\u001b[0;32m      3\u001b[0m \u001b[1;32mdef\u001b[0m \u001b[0mh\u001b[0m\u001b[1;33m(\u001b[0m\u001b[0mx\u001b[0m\u001b[1;33m=\u001b[0m\u001b[1;36m5.5\u001b[0m\u001b[1;33m)\u001b[0m\u001b[1;33m:\u001b[0m\u001b[1;33m\u001b[0m\u001b[0m\n\u001b[0;32m      4\u001b[0m     \u001b[1;32mreturn\u001b[0m \u001b[0mx\u001b[0m\u001b[1;33m\u001b[0m\u001b[0m\n",
      "\u001b[1;31mNameError\u001b[0m: name 'interact' is not defined"
     ]
    }
   ],
   "source": [
    "from IPython.utils.py3compat import annotate\n",
    "@interact(x=(0.0,20.0,0.5))\n",
    "def h(x=5.5):\n",
    "    return x"
   ]
  },
  {
   "cell_type": "code",
   "execution_count": 2,
   "metadata": {
    "collapsed": false
   },
   "outputs": [
    {
     "ename": "TypeError",
     "evalue": "interact() takes exactly 1 argument (0 given)",
     "output_type": "error",
     "traceback": [
      "\u001b[1;31m---------------------------------------------------------------------------\u001b[0m",
      "\u001b[1;31mTypeError\u001b[0m                                 Traceback (most recent call last)",
      "\u001b[1;32m<ipython-input-2-ac3f8244220d>\u001b[0m in \u001b[0;36m<module>\u001b[1;34m()\u001b[0m\n\u001b[0;32m      1\u001b[0m \u001b[1;32mfrom\u001b[0m \u001b[0mIPython\u001b[0m\u001b[1;33m.\u001b[0m\u001b[0mutils\u001b[0m\u001b[1;33m.\u001b[0m\u001b[0mpy3compat\u001b[0m \u001b[1;32mimport\u001b[0m \u001b[0mannotate\u001b[0m\u001b[1;33m\u001b[0m\u001b[0m\n\u001b[0;32m      2\u001b[0m \u001b[0mb\u001b[0m\u001b[1;33m=\u001b[0m\u001b[0mInteger\u001b[0m\u001b[1;33m(\u001b[0m\u001b[1;36m1\u001b[0m\u001b[1;33m)\u001b[0m\u001b[1;33m\u001b[0m\u001b[0m\n\u001b[1;32m----> 3\u001b[1;33m \u001b[1;33m@\u001b[0m\u001b[0minteract\u001b[0m\u001b[1;33m(\u001b[0m\u001b[0ma\u001b[0m\u001b[1;33m=\u001b[0m\u001b[1;33m(\u001b[0m\u001b[0mInteger\u001b[0m\u001b[1;33m(\u001b[0m\u001b[1;36m0\u001b[0m\u001b[1;33m)\u001b[0m\u001b[1;33m,\u001b[0m\u001b[0mInteger\u001b[0m\u001b[1;33m(\u001b[0m\u001b[1;36m20\u001b[0m\u001b[1;33m)\u001b[0m\u001b[1;33m,\u001b[0m\u001b[0mInteger\u001b[0m\u001b[1;33m(\u001b[0m\u001b[1;36m1\u001b[0m\u001b[1;33m)\u001b[0m\u001b[1;33m)\u001b[0m\u001b[1;33m)\u001b[0m\u001b[1;33m\u001b[0m\u001b[0m\n\u001b[0m\u001b[0;32m      4\u001b[0m \u001b[1;32mdef\u001b[0m \u001b[0mplot_curve_test\u001b[0m\u001b[1;33m(\u001b[0m\u001b[0ma\u001b[0m\u001b[1;33m=\u001b[0m\u001b[0mInteger\u001b[0m\u001b[1;33m(\u001b[0m\u001b[1;36m2\u001b[0m\u001b[1;33m)\u001b[0m\u001b[1;33m)\u001b[0m\u001b[1;33m:\u001b[0m\u001b[1;33m\u001b[0m\u001b[0m\n\u001b[0;32m      5\u001b[0m     \u001b[1;32mif\u001b[0m \u001b[0mInteger\u001b[0m\u001b[1;33m(\u001b[0m\u001b[1;36m4\u001b[0m\u001b[1;33m)\u001b[0m\u001b[1;33m*\u001b[0m\u001b[0ma\u001b[0m\u001b[1;33m**\u001b[0m\u001b[0mInteger\u001b[0m\u001b[1;33m(\u001b[0m\u001b[1;36m3\u001b[0m\u001b[1;33m)\u001b[0m \u001b[1;33m+\u001b[0m \u001b[0mInteger\u001b[0m\u001b[1;33m(\u001b[0m\u001b[1;36m27\u001b[0m\u001b[1;33m)\u001b[0m\u001b[1;33m*\u001b[0m\u001b[0mb\u001b[0m\u001b[1;33m**\u001b[0m\u001b[0mInteger\u001b[0m\u001b[1;33m(\u001b[0m\u001b[1;36m2\u001b[0m\u001b[1;33m)\u001b[0m \u001b[1;33m==\u001b[0m \u001b[0mInteger\u001b[0m\u001b[1;33m(\u001b[0m\u001b[1;36m0\u001b[0m\u001b[1;33m)\u001b[0m\u001b[1;33m:\u001b[0m\u001b[1;33m\u001b[0m\u001b[0m\n",
      "\u001b[1;32m/projects/sage/sage-dev/src/sage/misc/lazy_import.pyx\u001b[0m in \u001b[0;36msage.misc.lazy_import.LazyImport.__call__ (/projects/sage/sage-dev/src/build/cythonized/sage/misc/lazy_import.c:3627)\u001b[1;34m()\u001b[0m\n\u001b[0;32m    384\u001b[0m             \u001b[0mTrue\u001b[0m\u001b[1;33m\u001b[0m\u001b[0m\n\u001b[0;32m    385\u001b[0m         \"\"\"\n\u001b[1;32m--> 386\u001b[1;33m         \u001b[1;32mreturn\u001b[0m \u001b[0mself\u001b[0m\u001b[1;33m.\u001b[0m\u001b[0m_get_object\u001b[0m\u001b[1;33m(\u001b[0m\u001b[1;33m)\u001b[0m\u001b[1;33m(\u001b[0m\u001b[1;33m*\u001b[0m\u001b[0margs\u001b[0m\u001b[1;33m,\u001b[0m \u001b[1;33m**\u001b[0m\u001b[0mkwds\u001b[0m\u001b[1;33m)\u001b[0m\u001b[1;33m\u001b[0m\u001b[0m\n\u001b[0m\u001b[0;32m    387\u001b[0m \u001b[1;33m\u001b[0m\u001b[0m\n\u001b[0;32m    388\u001b[0m     \u001b[1;32mdef\u001b[0m \u001b[0m__repr__\u001b[0m\u001b[1;33m(\u001b[0m\u001b[0mself\u001b[0m\u001b[1;33m)\u001b[0m\u001b[1;33m:\u001b[0m\u001b[1;33m\u001b[0m\u001b[0m\n",
      "\u001b[1;31mTypeError\u001b[0m: interact() takes exactly 1 argument (0 given)"
     ]
    }
   ],
   "source": [
    "from IPython.utils.py3compat import annotate\n",
    "b=1\n",
    "@interact(a=(0,20,1))\n",
    "def plot_curve_test(a=2):\n",
    "    if 4*a^3 + 27*b^2 == 0:\n",
    "        html('The choice of $a$ = %s and $b$ = %s does not define an elliptic curve because this makes $27a^3 + 4b^2 = 0.$'%(a,b))\n",
    "    else:\n",
    "        E = EllipticCurve([a,b])\n",
    "        s = '$E(\\mathbb{R}) = \\{ (x,y) \\in \\mathbb{R} \\\\times \\mathbb{R}\\ |\\ %s \\} \\cup \\{ \\mathcal{O} \\}$'%(latex(E))\n",
    "        html('<font size=5>'+s+'</font>')\n",
    "        show(plot(E,xmax=3),axes_labels=['x','y'])"
   ]
  },
  {
   "cell_type": "code",
   "execution_count": null,
   "metadata": {
    "collapsed": false
   },
   "outputs": [],
   "source": [
    "import numpy"
   ]
  },
  {
   "cell_type": "code",
   "execution_count": null,
   "metadata": {
    "collapsed": false
   },
   "outputs": [],
   "source": [
    "from sage.all import *\n",
    "E = EllipticCurve([-7,10])\n",
    "type(E)"
   ]
  },
  {
   "cell_type": "code",
   "execution_count": null,
   "metadata": {
    "collapsed": false
   },
   "outputs": [],
   "source": [
    "F = FiniteField(17)                  # Generate a finite field\n",
    "print(F)"
   ]
  },
  {
   "cell_type": "code",
   "execution_count": null,
   "metadata": {
    "collapsed": false
   },
   "outputs": [],
   "source": [
    "F(3)  # Generate an integer over the field"
   ]
  },
  {
   "cell_type": "code",
   "execution_count": null,
   "metadata": {
    "collapsed": false
   },
   "outputs": [],
   "source": [
    "type(F(3))                           # Show its type"
   ]
  },
  {
   "cell_type": "code",
   "execution_count": null,
   "metadata": {
    "collapsed": false
   },
   "outputs": [],
   "source": [
    " F(3) * 123                           # Do modular multiplication"
   ]
  },
  {
   "cell_type": "code",
   "execution_count": null,
   "metadata": {
    "collapsed": false
   },
   "outputs": [],
   "source": [
    "#F(3) ^ -1                            # Do modular inversion\n",
    "F(3) ** (-1)"
   ]
  },
  {
   "cell_type": "code",
   "execution_count": null,
   "metadata": {
    "collapsed": false
   },
   "outputs": [],
   "source": [
    "F(3) * 6                             # Check the result for correctness"
   ]
  },
  {
   "cell_type": "code",
   "execution_count": null,
   "metadata": {
    "collapsed": false
   },
   "outputs": [],
   "source": [
    "F(8).sqrt()                          # Square root an invertible integer"
   ]
  },
  {
   "cell_type": "code",
   "execution_count": null,
   "metadata": {
    "collapsed": false
   },
   "outputs": [],
   "source": [
    "F(5) * 5                             # Check the result"
   ]
  },
  {
   "cell_type": "code",
   "execution_count": null,
   "metadata": {
    "collapsed": false
   },
   "outputs": [],
   "source": [
    "F(3).sqrt()                          # Square root a non-invertible integer"
   ]
  },
  {
   "cell_type": "code",
   "execution_count": null,
   "metadata": {
    "collapsed": false
   },
   "outputs": [],
   "source": [
    "## (F(3).sqrt()) ^ 2                    # Check the result\n",
    "(F(3).sqrt())**2"
   ]
  },
  {
   "cell_type": "markdown",
   "metadata": {},
   "source": [
    "我們試著用sage來觀察ECC的相關概念，首先我們先釐清\n",
    "\n",
    "1. \"Elliptic\" 並不是真的橢圓，其為歷史因素\n",
    "2. \"Curve\" 只有在rational 成立，在 field $F_p$ 中你會看到一堆點"
   ]
  },
  {
   "cell_type": "markdown",
   "metadata": {},
   "source": [
    "## Elliptic Curve Equation\n",
    "如前notebook 所述， Elliptic curve in $F_p$是 cloud of points 滿足  \"curve equation\"。其方程式為:\n",
    "\n",
    "$ y^2 = x^3+ax+b \\pmod p$\n",
    "\n",
    "這邊 $y, x, a$ 和 $b$ 都在 $F_p$中， 注意 coefficients 必須滿足:\n",
    "\n",
    "$4a^3+27b^2 \\neq 0$\n",
    "\n",
    "來確保他不是 singular curve。"
   ]
  },
  {
   "cell_type": "markdown",
   "metadata": {},
   "source": [
    "## Point representation\n",
    "若定義在 affine coordinate中。 Points 是用常見的 x 和 y 座標表示。 除了注意 x 和 y 是 modulo p。"
   ]
  },
  {
   "cell_type": "markdown",
   "metadata": {},
   "source": [
    "## Elliptic Curve Over Rational Field\n",
    "預設是在rational field中。"
   ]
  },
  {
   "cell_type": "code",
   "execution_count": null,
   "metadata": {
    "collapsed": false
   },
   "outputs": [],
   "source": [
    "E = EllipticCurve([-7,10])\n",
    "E"
   ]
  },
  {
   "cell_type": "markdown",
   "metadata": {},
   "source": [
    "預設座標是在projective coordinate中, identity element為$(0:1:0)$"
   ]
  },
  {
   "cell_type": "code",
   "execution_count": null,
   "metadata": {
    "collapsed": false
   },
   "outputs": [],
   "source": [
    "P = E([1,2])\n",
    "Q = E([3,4])\n",
    "y = E.lift_x(4)\n",
    "P+Q, E(0), 2*P, y"
   ]
  },
  {
   "cell_type": "code",
   "execution_count": null,
   "metadata": {
    "collapsed": false
   },
   "outputs": [],
   "source": [
    "L = line([(1,2),(3,4)])\n",
    "slope = (P.xy()[1] - Q.xy()[1])/(P.xy()[0] - Q.xy()[0])\n",
    "d =5\n",
    "L1 = line([(P.xy()[0]-d, P.xy()[1]-d*slope), (Q.xy()[0]+d, Q.xy()[1]+d*slope)])"
   ]
  },
  {
   "cell_type": "markdown",
   "metadata": {},
   "source": [
    "在sage中要畫多個圖在同一張上用``+``串接即可"
   ]
  },
  {
   "cell_type": "code",
   "execution_count": null,
   "metadata": {
    "collapsed": false
   },
   "outputs": [],
   "source": [
    "p1 = [P.xy()[0], Q.xy()[0]]\n",
    "q1 = [P.xy()[1], Q.xy()[1]]\n",
    "r1 = [(P+Q).xy()[0], (P+Q).xy()[1]]\n",
    "plt.plot(p1, 'o')\n",
    "plt.plot(q1, 'o')\n",
    "plt.plot(r1, 'o')\n",
    "plt.xlim([-3,3])\n",
    "plt.ylim([-5,5])"
   ]
  },
  {
   "cell_type": "code",
   "execution_count": null,
   "metadata": {
    "collapsed": false
   },
   "outputs": [],
   "source": [
    "g = plot(P, color='red', size=30)+plot(Q, color='green',size=30)+plot(P + Q, color='orange',size=30)+plot(L)+plot(E)+plot(L1)\n",
    "show(g, aspect_ratio=0.3)"
   ]
  },
  {
   "cell_type": "markdown",
   "metadata": {},
   "source": [
    "## Elliptic Curve Over Finite Field"
   ]
  },
  {
   "cell_type": "code",
   "execution_count": null,
   "metadata": {
    "collapsed": false
   },
   "outputs": [],
   "source": [
    "F = FiniteField(263)                  # Generate a finite field\n",
    "C = EllipticCurve(F, [ 2, 3 ])        # Set a, b\n",
    "print(C)"
   ]
  },
  {
   "cell_type": "code",
   "execution_count": null,
   "metadata": {
    "collapsed": false
   },
   "outputs": [],
   "source": [
    "print(C.cardinality())                # Count number of points on curve"
   ]
  },
  {
   "cell_type": "code",
   "execution_count": null,
   "metadata": {
    "collapsed": false
   },
   "outputs": [],
   "source": [
    "print(C.points()[:4])                 # Show the first four points"
   ]
  },
  {
   "cell_type": "markdown",
   "metadata": {},
   "source": [
    "來選一個generator並看他的order是多少"
   ]
  },
  {
   "cell_type": "code",
   "execution_count": null,
   "metadata": {
    "collapsed": false
   },
   "outputs": [],
   "source": [
    "G = C.point((200, 39))\n",
    "G"
   ]
  },
  {
   "cell_type": "code",
   "execution_count": null,
   "metadata": {
    "collapsed": false
   },
   "outputs": [],
   "source": [
    "G.order()"
   ]
  },
  {
   "cell_type": "markdown",
   "metadata": {},
   "source": [
    "來找看看 order比較低的一些generator，並排序他們"
   ]
  },
  {
   "cell_type": "code",
   "execution_count": null,
   "metadata": {
    "collapsed": false
   },
   "outputs": [],
   "source": [
    "[ p for p in C.points() if (p.order() < 10) ]"
   ]
  },
  {
   "cell_type": "code",
   "execution_count": null,
   "metadata": {
    "collapsed": false
   },
   "outputs": [],
   "source": [
    "[ (p.order(), p) for p in C.points() if (p.order() < 10) ]"
   ]
  },
  {
   "cell_type": "code",
   "execution_count": null,
   "metadata": {
    "collapsed": false
   },
   "outputs": [],
   "source": [
    "sorted([ (p.order(), p) for p in C.points() if (p.order() < 10) ])"
   ]
  },
  {
   "cell_type": "markdown",
   "metadata": {},
   "source": [
    "找出例如$(126, 76)$ 構成的subgroup"
   ]
  },
  {
   "cell_type": "code",
   "execution_count": null,
   "metadata": {
    "collapsed": false
   },
   "outputs": [],
   "source": [
    "H = C.point((126, 76))\n",
    "H.order()"
   ]
  },
  {
   "cell_type": "code",
   "execution_count": null,
   "metadata": {
    "collapsed": false
   },
   "outputs": [],
   "source": [
    "pts = [ H * x for x in range(H.order()) ]\n",
    "pts"
   ]
  },
  {
   "cell_type": "code",
   "execution_count": null,
   "metadata": {
    "collapsed": false
   },
   "outputs": [],
   "source": [
    "pts[4]"
   ]
  },
  {
   "cell_type": "code",
   "execution_count": null,
   "metadata": {
    "collapsed": false
   },
   "outputs": [],
   "source": [
    "plot(pts[4])"
   ]
  },
  {
   "cell_type": "code",
   "execution_count": null,
   "metadata": {
    "collapsed": false
   },
   "outputs": [],
   "source": [
    "plot(pts[4]) + plot(pts[5])"
   ]
  },
  {
   "cell_type": "markdown",
   "metadata": {},
   "source": [
    "畫出subgroup"
   ]
  },
  {
   "cell_type": "code",
   "execution_count": null,
   "metadata": {
    "collapsed": false
   },
   "outputs": [],
   "source": [
    "plot1 = sum([ plot(p, hue = 0.1) for p in pts ])\n",
    "plot1"
   ]
  },
  {
   "cell_type": "code",
   "execution_count": null,
   "metadata": {
    "collapsed": false
   },
   "outputs": [],
   "source": [
    "plot(C, aspect_ratio = 1)"
   ]
  },
  {
   "cell_type": "markdown",
   "metadata": {},
   "source": [
    "畫出所有點和$H$所generate出來的subgroup"
   ]
  },
  {
   "cell_type": "code",
   "execution_count": null,
   "metadata": {
    "collapsed": false
   },
   "outputs": [],
   "source": [
    "plot((plot(C) + plot1))"
   ]
  },
  {
   "cell_type": "markdown",
   "metadata": {},
   "source": [
    "找出他們的structure"
   ]
  },
  {
   "cell_type": "code",
   "execution_count": null,
   "metadata": {
    "collapsed": false
   },
   "outputs": [],
   "source": [
    "C.abelian_group()"
   ]
  },
  {
   "cell_type": "code",
   "execution_count": null,
   "metadata": {
    "collapsed": false
   },
   "outputs": [],
   "source": [
    "EllipticCurve(GF(229),[0,-1]).abelian_group()"
   ]
  },
  {
   "cell_type": "code",
   "execution_count": null,
   "metadata": {
    "collapsed": false
   },
   "outputs": [],
   "source": [
    "p = next_prime(2^20)\n",
    "E = EllipticCurve(GF(p), [0,1,0,2,3])\n",
    "E"
   ]
  },
  {
   "cell_type": "code",
   "execution_count": null,
   "metadata": {
    "collapsed": true
   },
   "outputs": [],
   "source": [
    "E.lift_x?"
   ]
  },
  {
   "cell_type": "code",
   "execution_count": null,
   "metadata": {
    "collapsed": false
   },
   "outputs": [],
   "source": [
    "P = E.random_point()\n",
    "Q = E.lift_x(123)\n",
    "P, Q"
   ]
  },
  {
   "cell_type": "code",
   "execution_count": null,
   "metadata": {
    "collapsed": false
   },
   "outputs": [],
   "source": [
    "Q.order().factor()"
   ]
  },
  {
   "cell_type": "code",
   "execution_count": null,
   "metadata": {
    "collapsed": false
   },
   "outputs": [],
   "source": [
    "R = 9*23*241*Q"
   ]
  },
  {
   "cell_type": "code",
   "execution_count": null,
   "metadata": {
    "collapsed": false
   },
   "outputs": [],
   "source": [
    "R.order()"
   ]
  },
  {
   "cell_type": "code",
   "execution_count": null,
   "metadata": {
    "collapsed": false
   },
   "outputs": [],
   "source": [
    "R.division_points(7)"
   ]
  },
  {
   "cell_type": "markdown",
   "metadata": {},
   "source": [
    "## Pairing"
   ]
  },
  {
   "cell_type": "code",
   "execution_count": null,
   "metadata": {
    "collapsed": false
   },
   "outputs": [],
   "source": [
    "L.<z> = GF(p^2)\n",
    "EE = E.change_ring(L)\n",
    "EE"
   ]
  },
  {
   "cell_type": "code",
   "execution_count": null,
   "metadata": {
    "collapsed": false
   },
   "outputs": [],
   "source": [
    "EE.cardinality().factor()"
   ]
  },
  {
   "cell_type": "code",
   "execution_count": null,
   "metadata": {
    "collapsed": false
   },
   "outputs": [],
   "source": [
    "T = EE.lift_x(912851*z + 87136)\n",
    "T.order()"
   ]
  },
  {
   "cell_type": "code",
   "execution_count": null,
   "metadata": {
    "collapsed": false
   },
   "outputs": [],
   "source": [
    "w = T.weil_pairing(EE(R), 3)\n",
    "w"
   ]
  },
  {
   "cell_type": "code",
   "execution_count": null,
   "metadata": {
    "collapsed": false
   },
   "outputs": [],
   "source": [
    "w.multiplicative_order()"
   ]
  },
  {
   "cell_type": "code",
   "execution_count": null,
   "metadata": {
    "collapsed": false
   },
   "outputs": [],
   "source": [
    "T.weil_pairing(2*T, 3)"
   ]
  },
  {
   "cell_type": "code",
   "execution_count": null,
   "metadata": {
    "collapsed": false
   },
   "outputs": [],
   "source": []
  },
  {
   "cell_type": "code",
   "execution_count": null,
   "metadata": {
    "collapsed": true
   },
   "outputs": [],
   "source": []
  }
 ],
 "metadata": {
  "kernelspec": {
   "display_name": "Python 2 (Ubuntu, plain)",
   "language": "python",
   "name": "python2-ubuntu"
  },
  "language_info": {
   "codemirror_mode": {
    "name": "ipython",
    "version": 2
   },
   "file_extension": ".py",
   "mimetype": "text/x-python",
   "name": "python",
   "nbconvert_exporter": "python",
   "pygments_lexer": "ipython2",
   "version": "2.7.10"
  },
  "name": "03_Elliptic Curve.ipynb"
 },
 "nbformat": 4,
 "nbformat_minor": 0
}
