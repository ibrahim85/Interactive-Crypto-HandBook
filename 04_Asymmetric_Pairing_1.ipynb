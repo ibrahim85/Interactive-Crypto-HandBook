{
 "cells": [
  {
   "cell_type": "code",
   "execution_count": 1,
   "metadata": {
    "collapsed": false
   },
   "outputs": [],
   "source": [
    "from pypbc import *"
   ]
  },
  {
   "cell_type": "code",
   "execution_count": 2,
   "metadata": {
    "collapsed": true
   },
   "outputs": [],
   "source": [
    "stored_params = \"\"\"type a\n",
    "q 8780710799663312522437781984754049815806883199414208211028653399266475630880222957078625179422662221423155858769582317459277713367317481324925129998224791\n",
    "h 12016012264891146079388821366740534204802954401251311822919615131047207289359704531102844802183906537786776\n",
    "r 730750818665451621361119245571504901405976559617\n",
    "exp2 159\n",
    "exp1 107\n",
    "sign1 1\n",
    "sign0 1\n",
    "\"\"\""
   ]
  },
  {
   "cell_type": "code",
   "execution_count": 3,
   "metadata": {
    "collapsed": true
   },
   "outputs": [],
   "source": [
    "params = Parameters(param_string=stored_params)\n",
    "pairing = Pairing(params)"
   ]
  },
  {
   "cell_type": "code",
   "execution_count": 4,
   "metadata": {
    "collapsed": true
   },
   "outputs": [],
   "source": [
    "# build the common parameter g\n",
    "g = Element.random(pairing, G2)"
   ]
  },
  {
   "cell_type": "code",
   "execution_count": 5,
   "metadata": {
    "collapsed": true
   },
   "outputs": [],
   "source": [
    "# build the public and private keys\n",
    "private_key = Element.random(pairing, Zr)\n",
    "public_key = Element(pairing, G2, value=g**private_key)"
   ]
  },
  {
   "cell_type": "code",
   "execution_count": 6,
   "metadata": {
    "collapsed": true
   },
   "outputs": [],
   "source": [
    "# set the magic hash value\n",
    "hash_value = Element.from_hash(pairing, G1, \"hashofmessage\")\n",
    "# create the signature\n",
    "signature = hash_value**private_key\n",
    "# build the temps\n",
    "temp1 = Element(pairing, GT)\n",
    "temp2 = Element(pairing, GT)"
   ]
  },
  {
   "cell_type": "code",
   "execution_count": 7,
   "metadata": {
    "collapsed": false
   },
   "outputs": [
    {
     "name": "stdout",
     "output_type": "stream",
     "text": [
      "True\n",
      "False\n"
     ]
    }
   ],
   "source": [
    "# fill temp1\n",
    "temp1 = pairing.apply(signature, g)\n",
    "#fill temp2\n",
    "temp2 = pairing.apply(hash_value, public_key)\n",
    "# and again...\n",
    "temp1 = pairing.apply(signature, g)\n",
    "# compare\n",
    "print(temp1 == temp2)\n",
    "# compare to random signature\n",
    "rnd = Element.random(pairing, G1)\n",
    "temp1 = pairing.apply(rnd, g)\n",
    "\n",
    "# compare\n",
    "print(temp1 == temp2)"
   ]
  },
  {
   "cell_type": "code",
   "execution_count": 9,
   "metadata": {
    "collapsed": false
   },
   "outputs": [
    {
     "ename": "NameError",
     "evalue": "name 'pypbc' is not defined",
     "output_type": "error",
     "traceback": [
      "\u001b[1;31m---------------------------------------------------------------------------\u001b[0m",
      "\u001b[1;31mNameError\u001b[0m                                 Traceback (most recent call last)",
      "\u001b[1;32m<ipython-input-9-a7c7c26d7200>\u001b[0m in \u001b[0;36m<module>\u001b[1;34m()\u001b[0m\n\u001b[1;32m----> 1\u001b[1;33m \u001b[0mhelp\u001b[0m\u001b[1;33m(\u001b[0m\u001b[0mpypbc\u001b[0m\u001b[1;33m)\u001b[0m\u001b[1;33m\u001b[0m\u001b[0m\n\u001b[0m",
      "\u001b[1;31mNameError\u001b[0m: name 'pypbc' is not defined"
     ]
    }
   ],
   "source": [
    "%reload_ext version_information\n",
    "%version_information numpy, scipy, matplotlib, py, version_information"
   ]
  },
  {
   "cell_type": "code",
   "execution_count": null,
   "metadata": {
    "collapsed": true
   },
   "outputs": [],
   "source": []
  }
 ],
 "metadata": {
  "kernelspec": {
   "display_name": "Python 3",
   "language": "python",
   "name": "python3"
  },
  "language_info": {
   "codemirror_mode": {
    "name": "ipython",
    "version": 3
   },
   "file_extension": ".py",
   "mimetype": "text/x-python",
   "name": "python",
   "nbconvert_exporter": "python",
   "pygments_lexer": "ipython3",
   "version": "3.4.3+"
  }
 },
 "nbformat": 4,
 "nbformat_minor": 0
}
