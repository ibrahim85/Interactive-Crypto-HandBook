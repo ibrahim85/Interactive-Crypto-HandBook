{
 "cells": [
  {
   "cell_type": "markdown",
   "metadata": {},
   "source": [
    "# Multiprecision Number\n",
    "\n",
    "- A multiple precision algorithm would augment the precision of the destination to accomodate the result while a single precision system would truncate excess bits to maintain a ﬁxed level of precision.\n",
    "- The same algorithms based on multiple precision integers can accomodate any reasonable size input without the designer’s explicit forethought. This leads to lower cost of ownership for the code as it only has to be written and tested once.\n",
    "\n",
    "## Miracl\n",
    "\n",
    "- The MIRACL library consists of two new data-types are defined - big for large integers and flash (short for floating-slash) for large rational numbers. The large integer routines are based on Knuth’s algorithms, described in Chapter 4 of his classic work ‘The Art of Computer Programming’. Floating-slash arithmetic, which works with rounded fractions, was originally proposed by D. Matula and P. Kornerup. \n",
    "\n",
    "- The former is used to store multi-precision integers, and the latter stores multi-precision fractions as numerator and denominator in ‘floating-slash’ form. Both take the form of a fixed length array of digits, with sign and length information encoded in a separate 32-bit integer. The data type defined as mr_small used to store the number digits will be one of the built in types, for example int, long or even double. This is referred to as the “underlying type”.\n",
    "\n",
    "```\n",
    "struct bigtype\n",
    "{\n",
    "     mr_unsign32 L;\n",
    "     mr_small *d;\n",
    "};\n",
    "typedef struct bigtype *big;\n",
    "typedef struct bigtype *flash;\n",
    "```\n",
    "> Observe that a big is just a pointer. The memory needed for each big or flash number instance is taken from the heap (or from the stack). Therefore each big or flash number must be initialised before use, and the required memory assigned to it.\n",
    "> Structure of big and flash data-types where s is the sign of the number, n and d are the lengths of the numerator and denominator respectively, and LSW and MSW mean ‘Least significant word and ‘Most significant word’ respectively\n",
    "![](https://i.imgur.com/4hmQ9S8.png)\n",
    "> It does mean that when doing a calculation on big integers that the results of all intermediate calculations must be less than or equal to the fixed size initially specified to mirsys\n",
    "> Montgomery arithmetic is used internally by many of the MIRACL library routines that require extensive modular arithmetic, such as the highly optimised modular "
   ]
  },
  {
   "cell_type": "markdown",
   "metadata": {},
   "source": [
    "### Optimization\n",
    "The Comba and KCM methods, are implemented in the files mrcomba.c and mrkcm.c respectively. These files are created from template files mrcomba.tpl and mrkcm.tpl by inserting macros defined in a .mcs file. This is done automatically using the supplied macro expansion utility mex. Compile and run config.c on your target system to automatically create a suitable mirdef.h and for advise on how to proceed. Also read kcmcomba.txt. \n",
    "> To get the fastest possible performance for your embedded application it is recommended that you should develop your own x.mcs file, if one is not already provided for your processor/compiler.\n",
    "\n",
    "By default MIRACL obtains memory for Big and Flash variables from the heap. This can be quite time-consuming, and all such objects need ultimately to be destroyed. It would be faster to assign memory instead from the stack, especially for relative small big numbers. This can now be achieved by defining BIGS=m at compilation time. For example if using the Microsoft C++ compiler from the command line:-\n",
    "\n",
    "C:miracl>cl /O2 /GX /DBIGS=50 brent.cpp big.cpp zzn.cpp miracl.lib\n",
    "\n",
    "> Note that the value of m should be the same as or less than the value of n that is specified in the call to mirsys(n,0); or in Miracl precision=n; in the main program.\n",
    "> When using finite-field arithmetic, valid numbers are always less than a certain fixed modulus. For example in the finite field mod n, the class defined in zzn.h and zzn.cpp might handle numbers with respect to a 512-bit modulus n, which is set by modulo(n). In this case one can define ZZNS=16 so that all elements are of a size 16x32=512, and are created on the stack. (This works particularly well in combination with the Comba mechanism described in Chapter 5.)\n",
    "\n",
    "In a similar fashion, when working over the field GF(2283) , one can define GF2MS=9, so that all elements in the field are stored in a fixed memory allocation of 9 words taken from the stack."
   ]
  },
  {
   "cell_type": "markdown",
   "metadata": {},
   "source": [
    "### Interface\n",
    "The MIRACL library is interfaced to C++ via the header files big.h, flash.h, zzn.h, gf2m.h, ecn.h and ec2.h. Function implementation is in the associated files big.cpp,  flash.cpp, zzn.cpp, gf2m.cpp,  ecn.cpp and ec2.cpp, which must be linked into any application that requires them. The Chinese Remainder Theorem is also elegantly implemented as a class, in files crt.h and crt.cpp. See decode.cpp for an example of use. The Comb method for fast modular exponentiation with precomputation [HAC] is implemented in brick.h. See brick.cpp for an example of use. The GF(p) elliptic curve equivalents are in ebrick.h and ebrick.cpp and the GF(2m) elliptic curve equivalents in ebrick2.h and ebrick2.cpp respectively.\n",
    "\n",
    "In many of the example programs, particularly the factoring programs, all the arithmetic is done mod n. To avoid the tedious reduction mod n required after each operation, a new C++ class ZZn has been used, and defined in the file zzn.h. This class ZZn (for ZZ(n) or the ring of integers mod n ) has its arithmetic operators defined to automatically perform the reduction. The function modulo(n) sets the modulus. In an analogous fashion the C++ class GF2m deals with elements of the field defined over GF(2m). In this case the “modulus” is set via modulo(m,a,b,c), which also specifies either a trinomial basis tm + ta +1, (and set b=c=0), or a pentanomial basis tm + ta + tb + tc +1. Internally the ZZn class uses Montgomery representation. See zzn.h. Note that the internal implementation of ZZn is hidden from the application programmer, a classic feature of C++. Thus the awkward internals of Montgomery representation need not concern the C++ programmer. The class ECn defined in ecn.h makes manipulation of points on GF (p) elliptic curves a simple matter, again hiding all the grizzly details. The class EC2 defined in ec2.h does the same for GF(2m) elliptic curves.\n",
    "\n",
    "![](https://i.imgur.com/eaM7r9S.png)"
   ]
  },
  {
   "cell_type": "markdown",
   "metadata": {},
   "source": [
    "## Barret Reduction\n",
    "\n",
    "$$c = a - b \\cdot \\lfloor (a \\cdot \\lfloor 2^q / b \\rfloor)/2^q \\rfloor$$\n",
    "\n",
    "$$c = a - b \\cdot \\lfloor (a \\cdot \\mu)/2^q \\rfloor$$\n",
    "\n",
    "Let $t_0 = \\lfloor a/\\beta^{m-1} \\rfloor$ represent the input with the irrelevant digits trimmed. Now the modular reduction is trimmed to the almost equivalent equation\n",
    "\n",
    "$$c = a - b \\cdot \\lfloor (t_0 \\cdot \\mu) / \\beta^{m+1} \\rfloor$$\n"
   ]
  },
  {
   "cell_type": "markdown",
   "metadata": {},
   "source": [
    "Let $\\beta = 2$, which is typical case in hardware design\n",
    "\n",
    "|Algorithm 1  Barrett Reduction                                                                                  |\n",
    "|:--------------------------------------------------------------------|\n",
    "|Input: $0 \\leq T = (T_{2m−1}, T_{2m−2},..., T_1, T_0)_b < b^{2k}, N, b \\geq 3$, $m = \\lfloor logb N \\rfloor +1$ and $\\mu$|\n",
    "|Output: $R ≡ (R_{k−1}, ... ,R_0)_b = T \\mbox{ (mod } N\\mbox{)}$                                                               |\n",
    "|1: $q_1 =\\lfloor T/b^{m-1} \\rfloor$ (Bitwise Shift Right)                                                                       |\n",
    "|2: $q_2 = q_1 · μ $ (m*m Multiplication)                                                                               |\n",
    "|3: $q_3 = \\lfloor q_2/b^{m+1} \\rfloor$ (Bitwise Shift Right)                                                                      |\n",
    "|4: $R_1 = T \\mbox{ (mod } b^{m+1}\\mbox{)}$ (Truncation)                                                                          |\n",
    "|5: $R_2 = q_3 · N \\mbox{ (mod } b^{m+1}\\mbox{)}$ (m*m Multiplication + Truncation)                                                    |\n",
    "|6: $R = R_1 − R_2$ (Subtraction)                                                                                  |\n",
    "|7: If $(R < 0)$ then $R = R + b^{m+1}$ (Addition)                                                               |\n",
    "|8: While ($R \\geq N)$ do $R = R − N$ (Subtraction)                                                              |\n",
    "|9: Return $R$                                                                                                   |"
   ]
  },
  {
   "cell_type": "markdown",
   "metadata": {},
   "source": [
    "|Algorithm 2 Computation of $\\mu$                                               |\n",
    "|------------------------------------------|\n",
    "|Input: $p$, and $k = \\lfloor logb N\\rfloor + 1$                                 |\n",
    "|Output: $\\mu = \\lfloor b^{2k}/N \\rfloor$                                        |\n",
    "|1: $\\mu = b^k$                                                                  |\n",
    "|2: Repeat                                                                       |\n",
    "|3: $S = μ$                                                                      |\n",
    "|4: $μ = 2μ − \\lfloor (\\lfloor μ^2/b^k \\rfloor \\cdot N )/ b^k \\rfloor  $           |\n",
    "|5: Until $μ \\leq S$                                                             |\n",
    "|6: $t = b^{2k} − N \\cdot μ$                                                     |\n",
    "|7: While ($t < 0$) do                                                           |\n",
    "|8: $μ = μ − 1$                                                                  |\n",
    "|9: $t = t + N$                                                                  |\n",
    "|10: Return $R$                                                                  |"
   ]
  },
  {
   "cell_type": "code",
   "execution_count": 11,
   "metadata": {
    "collapsed": false
   },
   "outputs": [
    {
     "name": "stdout",
     "output_type": "stream",
     "text": [
      "Overwriting barret.cpp\n"
     ]
    }
   ],
   "source": [
    "%%writefile barret.cpp\n",
    "\n",
    "\n",
    "#include <iostream>\n",
    "#include \"big.h\"\n",
    "using namespace std;\n",
    "Miracl precision(400,10);\n",
    "\n",
    "Big barret_setup (Big b)\n",
    "{\n",
    "  Big     x;\n",
    "  x = pow((Big)2, 2*bits(b));\n",
    "  x = x/b;\n",
    "  return x;\n",
    "}\n",
    "\n",
    "Big barret_reduction (Big x, Big m, Big mu)\n",
    "{\n",
    "  Big  q, b, temp, zero;\n",
    "  int ix, iq;\n",
    "  temp = 1;\n",
    "  /* q = x */\n",
    "  q = x;\n",
    "  q = q >> (bits(m)-1);\n",
    "  q = mu * q;\n",
    "  q = q >> (bits(m)+1);\n",
    "  temp = pow((Big)2, bits(m)+1);\n",
    "  x = x % temp;\n",
    "  cout << \"x=\"<< x << endl;\n",
    "\n",
    "  q =q * m;\n",
    "  temp = pow((Big)2, bits(m)+1);\n",
    "  q = q % temp;\n",
    "  cout << \"q=\" << q << endl <<\"m=\" << m << endl;\n",
    "  x = x - q;\n",
    "  if (x < 0) {\n",
    "    b = pow((Big)2, bits(m)+1);\n",
    "    x = x + b;\n",
    "    cout << \"b=\" << b << endl;\n",
    "  }\n",
    "  while (x > m)  x = x - m; \n",
    "  cout << \"x=\" << x << endl;\n",
    "\n",
    "  return x;\n",
    "}\n",
    "int  main()\n",
    "{\n",
    "    Big a,b,c,mu;\n",
    "   /*  initialize  a,b  to  desired  values,  mp_init  mu, c  and  set  c  to  1...we  want  to  compute  a^3  mod  b   */\n",
    "    a = 1601613;\n",
    "    b = 201;\n",
    "    /*  get  mu  value  */\n",
    "    mu = barret_setup(b);\n",
    "    /*  now  reduce a modulo b */\n",
    "    c = barret_reduction (a, b, mu);\n",
    "    cout << \"number = \" << c << endl;\n",
    "    \n",
    "    return  1;\n",
    "}"
   ]
  },
  {
   "cell_type": "code",
   "execution_count": 12,
   "metadata": {
    "collapsed": false
   },
   "outputs": [
    {
     "name": "stdout",
     "output_type": "stream",
     "text": [
      "x=77\n",
      "q=142\n",
      "m=201\n",
      "b=512\n",
      "x=45\n",
      "number = 45\n"
     ]
    }
   ],
   "source": [
    "%%bash \n",
    "g++ barret.cpp big.cpp miracl.a -o barret\n",
    "./barret"
   ]
  },
  {
   "cell_type": "markdown",
   "metadata": {},
   "source": [
    "## Montgomery Mutiplication"
   ]
  },
  {
   "cell_type": "code",
   "execution_count": 13,
   "metadata": {
    "collapsed": false
   },
   "outputs": [
    {
     "name": "stdout",
     "output_type": "stream",
     "text": [
      "Writing Mont.cpp\n"
     ]
    }
   ],
   "source": [
    "%%writefile Mont.cpp\n",
    "#include <iostream>\n",
    "#include \"big.h\"\n",
    "#include \"zzn.h\"\n",
    "#include <math.h>\n",
    "\n",
    "using namespace std;\n",
    "\n",
    "Miracl precision(400,10);\n",
    "\n",
    "Big bitvar(Big a, int base, int inradix ){\n",
    "   Big x, temp;\n",
    "   int i;\n",
    "   x = 0;\n",
    "   temp = 1;\n",
    "   for (i=0; i < inradix; i++){\n",
    "        x = x + bit(a,base+i)*temp;\n",
    "        temp = temp *2;     \n",
    "    }\n",
    "   return x;\n",
    "}    \n",
    "   \n",
    "\n",
    "Big mont_setup (Big p, int radix)\n",
    "{\n",
    "  Big     x, temp;\n",
    "  temp = pow((Big)2, radix);\n",
    "  x = inverse(p, temp);//p^-1 mod 2\n",
    "  x = (temp-x)%temp;\n",
    "  return x;\n",
    "}\n",
    "\n",
    "Big mont_full (Big a, Big b, Big p, Big p_p)\n",
    "{\n",
    "    Big c, q, temp;\n",
    "    temp = pow((Big)2, bits(p));\n",
    "    c = a*b;\n",
    "    q = ((c % temp) * p_p) % temp;\n",
    "    c = (c+q*p)/temp;\n",
    "    if(c>=p)  c = c -p;\n",
    "    return c;\n",
    "}\n",
    "\n",
    "\n",
    "Big mont_mul (Big a, Big b, Big p, Big p_p, int inradix)\n",
    "{\n",
    "  Big  q, temp, c;\n",
    "  int i, iter;\n",
    "  temp = 0;\n",
    "  c = 0;\n",
    "  temp = pow((Big)2, inradix);\n",
    "  if(bits(p)%2==0)  iter = bits(p)/inradix;\n",
    "  else      iter = (bits(p)/inradix)+1;\n",
    "\n",
    "  for (i=0; i< iter; i++){\n",
    "    // method 1\n",
    "        q = ((bitvar(c,0,inradix)+bitvar(a,i*inradix,inradix)*bitvar(b,0,inradix))*p_p) % temp;\n",
    " //       for(int j = inradix-1; j>=0; j--)\n",
    " //           cout<<bit(c,j);\n",
    " //       cout << endl;\n",
    "         c = c+bitvar(a,i*inradix,inradix)*b+q*p;\n",
    "  //      cout << \"c=\" << c << endl;\n",
    "  //      for(int j =inradix-1; j>=0; j--)\n",
    "  //          cout<<bit(c,j);\n",
    "  //      cout << endl;\n",
    "        c = c /temp;\n",
    "        \n",
    "        /*\n",
    "       // method 2\n",
    "         c = c + bit(a,i)*b;\n",
    "         q = inverse(bit(p,0), 2);\n",
    "         q = (bit(c,0)*q)%2;\n",
    "         \n",
    "         //cout << \"q=\" << q << endl;\n",
    "         c = c+q*p;\n",
    "         c = c/2;\n",
    "      */ \n",
    "      /*\n",
    "      // method 3\n",
    "         c = c + bit(a,i)*b;\n",
    "         if(bit(c,0)==1){\n",
    "            c = c + p;\n",
    "        }\n",
    "         c=c/2;\n",
    "        */\n",
    "  }\n",
    " /* Back off if it's too big */\n",
    "  if (c >= p) {\n",
    "    c = c - p;\n",
    "  }\n",
    "  //cout << \"c=\" << c << endl;\n",
    "\n",
    "  return c;\n",
    "}\n",
    "  \n",
    "\n",
    "int  main()\n",
    "{\n",
    "    Big a, b, c, p, mu, ina, inb, outc, temp, test;\n",
    "    ZZn na, nb, nc;\n",
    "    int radix, inradix;\n",
    "    a = 155;\n",
    "    b = 174;\n",
    "    p = 201;\n",
    "    temp = pow((Big)2, 2*bits(p));\n",
    "    temp = temp % 201;\n",
    "        \n",
    "    inradix = 0;\n",
    "    radix = 16;// 2^4\n",
    "    while (radix > 1){\n",
    "        inradix = inradix+1;\n",
    "        radix = radix/2;\n",
    "    }\n",
    "    /*  get  mu  value  */\n",
    "    mu = mont_setup(bitvar(p,0,inradix), inradix);\n",
    "    cout << \"mu=\" << mu <<endl;\n",
    "        \n",
    "    // using radix2\n",
    "    ina = mont_mul(a, temp, p, mu, inradix);\n",
    "    inb = mont_mul(b, temp, p, mu, inradix);\n",
    "    cout << \"ina=\" << ina << endl;\n",
    "    cout << \"inb=\" << inb << endl;\n",
    "    outc =  mont_mul(ina, inb, p, mu, inradix);\n",
    "    cout << \"outc=\" << outc << endl;\n",
    "    /*  now  reduce a modulo b */\n",
    "    c = mont_mul (outc,(Big)1, p, mu, inradix);\n",
    "    cout << \"number = \" << c << endl;\n",
    "    \n",
    "    // using full word, no radix   \n",
    "    temp = pow((Big)2, 16);\n",
    "      \n",
    "    mu = mont_setup(p, bits(p));\n",
    "    cout << \"mu2=\" << mu <<endl;\n",
    "       \n",
    "    temp = temp % 201;\n",
    "    ina = mont_full(a, temp, p, mu);\n",
    "    inb = mont_full(b, temp, p, mu);\n",
    "    outc = mont_full(ina, inb, p, mu);\n",
    "    cout <<\"ina=\" << ina << endl;\n",
    "    cout <<\"inb=\" << inb << endl;\n",
    "    cout <<\"outc=\" << outc << endl;\n",
    "    c = mont_full(outc, (Big)1, p, mu);\n",
    "    cout << \"number2 = \" << c << endl;\n",
    "      \n",
    "    // Using built-in montgomery multiplication\n",
    "    modulo(p);\n",
    "    //prepare_monty((Big)201);\n",
    "    na = a;\n",
    "    nb = b;\n",
    "    nc = a*b;\n",
    "    c = nc;\n",
    "    /*\n",
    "    nres(a, ina);\n",
    "    nres(b, inb);\n",
    "    nres_modmult(ina, inb , outc);\n",
    "    redc(outc,c);\n",
    "    */\n",
    "    temp= inverse(a, p);\n",
    "    //temp((Big)na.getzzn());\n",
    "    temp = 26*temp;\n",
    "    cout << \"ina=\";\n",
    "    otnum(na.getzzn(), stdout);\n",
    "    cout << \"inb=\" ;\n",
    "    otnum(nb.getzzn(), stdout);\n",
    "    cout << \"outc=\";\n",
    "    otnum(nc.getzzn(), stdout);\n",
    "    cout << \"number3=\" <<  c << endl;    \n",
    "    return  1;\n",
    "}\n"
   ]
  },
  {
   "cell_type": "code",
   "execution_count": 18,
   "metadata": {
    "collapsed": false
   },
   "outputs": [
    {
     "name": "stdout",
     "output_type": "stream",
     "text": [
      "mu=7\n",
      "ina=83\n",
      "inb=123\n",
      "outc=171\n",
      "number = 36\n",
      "mu2=135\n",
      "ina=83\n",
      "inb=123\n",
      "outc=171\n",
      "number2 = 36\n",
      "ina=26\n",
      "inb=24\n",
      "outc=102\n",
      "number3=36\n"
     ]
    }
   ],
   "source": [
    "%%bash\n",
    "g++ Mont.cpp big.cpp zzn.cpp miracl.a -o Mont\n",
    "./Mont"
   ]
  },
  {
   "cell_type": "markdown",
   "metadata": {},
   "source": [
    "## Karatsuba Multiplication"
   ]
  },
  {
   "cell_type": "code",
   "execution_count": 50,
   "metadata": {
    "collapsed": false
   },
   "outputs": [
    {
     "name": "stdout",
     "output_type": "stream",
     "text": [
      "Overwriting karatsuba.cpp\n"
     ]
    }
   ],
   "source": [
    "%%writefile karatsuba.cpp\n",
    "\n",
    "#include <iostream>\n",
    "#include \"big.h\"\n",
    "using namespace std;\n",
    "Miracl precision(400,10);\n",
    "\n",
    "\n",
    "const int _CUTOFF = 1536;\n",
    "\n",
    "Big karatsuba_mul (Big x, Big y)\n",
    "{\n",
    "  Big  mask, xlow, ylow, xhigh, yhigh, a, b, c, d;\n",
    "  int n, half;\n",
    "  // Base case\n",
    "  if ( bits(x) <= _CUTOFF || bits(y) <= _CUTOFF)  return x * y ;\n",
    "  else {\n",
    "        n = max(bits(x), bits(y));\n",
    "        half = (n + 32) / 64 * 32 ;\n",
    "        mask = Big((1 << half) - 1);\n",
    "        xlow = land(x, mask);\n",
    "        ylow = land(y, mask);\n",
    "        xhigh = x >> half;\n",
    "        yhigh = y >> half;\n",
    "\n",
    "        a = karatsuba_mul(xhigh, yhigh);\n",
    "        b = karatsuba_mul(xlow + xhigh, ylow + yhigh);\n",
    "        c = karatsuba_mul(xlow, ylow);\n",
    "        d = b - a - c;\n",
    "        return (((a << half) + d) << half) + c;\n",
    "  }\n",
    "  \n",
    "}\n",
    "int  main()\n",
    "{\n",
    "    Big a,b,c;\n",
    "    miracl *mip=&precision;\n",
    "    char aa[100]=\"87609798870979228866001198790ACDFFFFEEEE756868ABAABB564312345678\";\n",
    "    char bb[100]=\"AAAA1122907567841367868987091789876582228769815290789878AAA7DCAC\";\n",
    "    mip->IOBASE=16;\n",
    "    a = aa;\n",
    "    b = bb;\n",
    "    c = karatsuba_mul (a, b);\n",
    "    cout << \"number = \" << c << endl;  \n",
    "    return  1;\n",
    "}"
   ]
  },
  {
   "cell_type": "code",
   "execution_count": 51,
   "metadata": {
    "collapsed": false
   },
   "outputs": [
    {
     "name": "stdout",
     "output_type": "stream",
     "text": [
      "number = 5A4013DFA63FA51DB98A302172759F4140FF7F8F0100F7611012289B5371283D537FCCC3202CD44AE56E00920E05CC4D0B31B29143BB076927F702854DC138A0\n"
     ]
    }
   ],
   "source": [
    "%%bash\n",
    "g++ karatsuba.cpp big.cpp miracl.a -o karatsuba\n",
    "./karatsuba"
   ]
  },
  {
   "cell_type": "code",
   "execution_count": 22,
   "metadata": {
    "collapsed": false
   },
   "outputs": [],
   "source": [
    "# Requires Python version >= 2.7 because of long.bit_length().\n",
    "# Requirement: _CUTOFF >= 64, or else there will be infinite recursion.\n",
    "_CUTOFF = 1536\n",
    "\n",
    "def multiply(x, y):\n",
    "    if x.bit_length() <= _CUTOFF or y.bit_length() <= _CUTOFF:  # Base case\n",
    "        return x * y  \n",
    "    else:\n",
    "        n = max(x.bit_length(), y.bit_length())\n",
    "        half = (n + 32) // 64 * 32\n",
    "        mask = (1 << half) - 1\n",
    "        xlow = x & mask\n",
    "        ylow = y & mask\n",
    "        xhigh = x >> half\n",
    "        yhigh = y >> half\n",
    "\n",
    "        a = multiply(xhigh, yhigh)\n",
    "        b = multiply(xlow + xhigh, ylow + yhigh)\n",
    "        c = multiply(xlow, ylow)\n",
    "        d = b - a - c\n",
    "        return (((a << half) + d) << half) + c"
   ]
  },
  {
   "cell_type": "code",
   "execution_count": 24,
   "metadata": {
    "collapsed": false
   },
   "outputs": [
    {
     "data": {
      "text/plain": [
       "'0x11111110eeeeeeef'"
      ]
     },
     "execution_count": 24,
     "metadata": {},
     "output_type": "execute_result"
    }
   ],
   "source": [
    "hex(multiply(0xFFFFFFFF, 0x11111111))"
   ]
  },
  {
   "cell_type": "code",
   "execution_count": 25,
   "metadata": {
    "collapsed": false
   },
   "outputs": [
    {
     "data": {
      "text/plain": [
       "'0x5a4013dfa63fa51db98a302172759f4140ff7f8f0100f7611012289b5371283d537fccc3202cd44ae56e00920e05cc4d0b31b29143bb076927f702854dc138a0'"
      ]
     },
     "execution_count": 25,
     "metadata": {},
     "output_type": "execute_result"
    }
   ],
   "source": [
    "hex(multiply(0x87609798870979228866001198790ACDFFFFEEEE756868ABAABB564312345678, 0xAAAA1122907567841367868987091789876582228769815290789878AAA7DCAC))"
   ]
  },
  {
   "cell_type": "code",
   "execution_count": null,
   "metadata": {
    "collapsed": true
   },
   "outputs": [],
   "source": []
  }
 ],
 "metadata": {
  "kernelspec": {
   "display_name": "Python 3",
   "language": "python",
   "name": "python3"
  },
  "language_info": {
   "codemirror_mode": {
    "name": "ipython",
    "version": 3
   },
   "file_extension": ".py",
   "mimetype": "text/x-python",
   "name": "python",
   "nbconvert_exporter": "python",
   "pygments_lexer": "ipython3",
   "version": "3.4.3+"
  }
 },
 "nbformat": 4,
 "nbformat_minor": 0
}
