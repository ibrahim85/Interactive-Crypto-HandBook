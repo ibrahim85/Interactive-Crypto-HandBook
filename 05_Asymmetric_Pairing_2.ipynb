{
 "cells": [
  {
   "cell_type": "markdown",
   "metadata": {},
   "source": [
    "## Pairing Based Cryptography\n",
    "\n",
    "要implement此類crypto至少需要以下計算:\n",
    "\n",
    "1. Arithmetic in $Z_p$: 可以建構在 GMP library 上 (提供了 number theoretic functions 像是 inversion modulo a prime 和  Jacobi symbol 等)\n",
    "\n",
    "2. Elliptic curve groups: 解 $y^2=x^3+ax+b over Zp$, point addition 和 multiplication (可參考前一份notebook)\n",
    "\n",
    "3. Bilinear pairing: Miller’s algorithm\n",
    "\n",
    "上述可以實現出 Type A and B (and A1) pairings- 快速但是elements 需要很多空間來表示，如果要實現起他 pairing 就必須實現 Field extensions  \n",
    "\n",
    "> 另外還要尋找 pairing-friendly curves。 像是 MNT curve construction method 需要 finding roots modulo a given prime, testing polynomial irreducibility, computing Hilbert polynomials. 這些都需要 high precision complex floating point arithmetic 和解 Pell-type equation\n",
    "\n",
    "> 另外我們要隨機在 elliptic curve 上產生點，常見做法是隨機選擇 x-coordinate 然後解上述的 quadratic equation 來得到 y. (若無解， 則再換下一個x座標)。對於 odd characteristics， 如果我們可以找到 square roots of elements這可以一次達成。 在 finite field of prime order 中 square roots 可以藉由解 Tonelli-Shanks algorithm來得到。 至於其他field 則要參考其他新的文獻。(一個解法是去解 $x^2−a$ 用 Cantor-Zassenhaus method (Legendre’s method))。\n",
    "\n",
    "> 對於特定情況有更簡潔的方式可以產生隨機點。 例如若 p 是質數且 $p = 2 \\pmod 3 $ 則 x 的三次方根(Fq中) 為 $x^{(2p−1)/3}$. 故若方程式中 a=0，我們可以選擇先挑y然後解x。"
   ]
  },
  {
   "cell_type": "markdown",
   "metadata": {},
   "source": [
    "## Introduction to Charm"
   ]
  },
  {
   "cell_type": "markdown",
   "metadata": {},
   "source": [
    "### Group Abstractions\n",
    "\n",
    "實做scheme的第一步是去選擇適當的 group。 Modern cryptographic algorithms 通常建構在提供特定數學難題性質的group上。\n",
    "\n",
    "在charm中提供了三種cryptographic settings：\n",
    "1. Integergroups\n",
    "2. ecgroups\n",
    "3. pairinggroups\n",
    "\n",
    "要 initialize a group in the elliptic curve (EC) setting, 請參考 toolbox.eccurve 中實做的成員和方法以及了解提供相關的 NIST approved curves (e.g., prime192v1). \n",
    "\n",
    "對 EC with billinear maps (or pairings)來說，提供了 symmetric 和 asymmetric 的 curves。 例如: 'SS512' 是一個 symmetric curve with a 512-bit base field 而'MNT159' 代表了 asymmetric curve with 159-bit base field. \n",
    "\n",
    "> 注意這些 curves 是 **prime order**。\n",
    "\n",
    "最後，對於 Integer groups, 通常定義大質數 p and q 就足以產生一個 RSA group. 若要用其他像 schnorr groups, 可能會需要一些時間來產生相關參數，因為 **他們要求safe primes (例如: p = 2q + 1)**. 接下來我們呈現 integer 和 pairing groups:"
   ]
  },
  {
   "cell_type": "code",
   "execution_count": 1,
   "metadata": {
    "collapsed": false
   },
   "outputs": [],
   "source": [
    "from charm.toolbox.integergroup import IntegerGroup"
   ]
  },
  {
   "cell_type": "code",
   "execution_count": 2,
   "metadata": {
    "collapsed": false
   },
   "outputs": [
    {
     "data": {
      "text/plain": [
       "(126718448021159160359934194216188095011790673518005716410613543976340376974278448597790040322847143185433823665947065637251234257564106575743327925315904954382029410181060274119654492467467774183754126146625693787497308897378581695879881453929327673070841693575677968169801425342568443195419423231977141754097 mod 146387814195932295811560398007442941509458707484784815804609238347035622430759630713176807594240242584931794104219240551716512180979843746398733268419038482881533449536896341597914992638585710806314664438710916425069737942346080470960996393474483523953020825613327803479363327437117739164965953523999292861663,\n",
       " integer.Element)"
      ]
     },
     "execution_count": 2,
     "metadata": {},
     "output_type": "execute_result"
    }
   ],
   "source": [
    "group1 = IntegerGroup()\n",
    "group1.paramgen(1024)\n",
    "\n",
    "g = group1.randomGen()\n",
    "g, type(g)"
   ]
  },
  {
   "cell_type": "code",
   "execution_count": 3,
   "metadata": {
    "collapsed": false
   },
   "outputs": [
    {
     "data": {
      "text/plain": [
       "['__add__',\n",
       " '__class__',\n",
       " '__delattr__',\n",
       " '__dir__',\n",
       " '__doc__',\n",
       " '__eq__',\n",
       " '__format__',\n",
       " '__ge__',\n",
       " '__getattribute__',\n",
       " '__gt__',\n",
       " '__hash__',\n",
       " '__iadd__',\n",
       " '__imod__',\n",
       " '__imul__',\n",
       " '__init__',\n",
       " '__int__',\n",
       " '__invert__',\n",
       " '__ipow__',\n",
       " '__isub__',\n",
       " '__itruediv__',\n",
       " '__le__',\n",
       " '__lt__',\n",
       " '__mod__',\n",
       " '__mul__',\n",
       " '__ne__',\n",
       " '__new__',\n",
       " '__pow__',\n",
       " '__radd__',\n",
       " '__reduce__',\n",
       " '__reduce_ex__',\n",
       " '__repr__',\n",
       " '__rmod__',\n",
       " '__rmul__',\n",
       " '__rpow__',\n",
       " '__rsub__',\n",
       " '__rtruediv__',\n",
       " '__rxor__',\n",
       " '__setattr__',\n",
       " '__sizeof__',\n",
       " '__str__',\n",
       " '__sub__',\n",
       " '__subclasshook__',\n",
       " '__truediv__',\n",
       " '__xor__',\n",
       " 'isCoPrime',\n",
       " 'isCongruent',\n",
       " 'set']"
      ]
     },
     "execution_count": 3,
     "metadata": {},
     "output_type": "execute_result"
    }
   ],
   "source": [
    "dir(g)"
   ]
  },
  {
   "cell_type": "code",
   "execution_count": 4,
   "metadata": {
    "collapsed": true
   },
   "outputs": [],
   "source": [
    "from charm.toolbox.pairinggroup import PairingGroup,ZR,G1,G2,GT,pair"
   ]
  },
  {
   "cell_type": "code",
   "execution_count": 5,
   "metadata": {
    "collapsed": true
   },
   "outputs": [],
   "source": [
    "group2 = PairingGroup('SS512')\n",
    "g1 = group2.random(G1)\n",
    "g2 = group2.random(G2)"
   ]
  },
  {
   "cell_type": "code",
   "execution_count": 6,
   "metadata": {
    "collapsed": false
   },
   "outputs": [
    {
     "data": {
      "text/plain": [
       "([2251021704668406136088146871006530026846893698475890645666363261293403196332004278537290526145717405038710071673290796822594018723099992097248009610699466, 8688876508258939519243795439777296838356618304489807431400070599193325115516183043074990852499908990948942843609788265350584904262664376503615708296580130],\n",
       " [6758123494869216936709646680834919013415475770376483777454167823268182453261911643122742240807730364186107488571827177842175136324980567083086904271378617, 6390593899781115686086873936571112849813387941676454537589652218906564478997157473777061152544271434973259767484961113431593428291541630778825739579273745],\n",
       " pairing.Element)"
      ]
     },
     "execution_count": 6,
     "metadata": {},
     "output_type": "execute_result"
    }
   ],
   "source": [
    "g1, g2, type(g1)"
   ]
  },
  {
   "cell_type": "code",
   "execution_count": 7,
   "metadata": {
    "collapsed": false
   },
   "outputs": [
    {
     "name": "stdout",
     "output_type": "stream",
     "text": [
      "Help on Element object:\n",
      "\n",
      "class Element(builtins.object)\n",
      " |  Pairing element objects\n",
      " |  \n",
      " |  Methods defined here:\n",
      " |  \n",
      " |  __add__(self, value, /)\n",
      " |      Return self+value.\n",
      " |  \n",
      " |  __eq__(self, value, /)\n",
      " |      Return self==value.\n",
      " |  \n",
      " |  __ge__(self, value, /)\n",
      " |      Return self>=value.\n",
      " |  \n",
      " |  __gt__(self, value, /)\n",
      " |      Return self>value.\n",
      " |  \n",
      " |  __hash__(self, /)\n",
      " |      Return hash(self).\n",
      " |  \n",
      " |  __iadd__(self, value, /)\n",
      " |      Return self+=value.\n",
      " |  \n",
      " |  __imul__(self, value, /)\n",
      " |      Return self*=value.\n",
      " |  \n",
      " |  __init__(self, /, *args, **kwargs)\n",
      " |      Initialize self.  See help(type(self)) for accurate signature.\n",
      " |  \n",
      " |  __int__(self, /)\n",
      " |      int(self)\n",
      " |  \n",
      " |  __invert__(self, /)\n",
      " |      ~self\n",
      " |  \n",
      " |  __ipow__(self, value, /)\n",
      " |      Return self**=value.\n",
      " |  \n",
      " |  __isub__(self, value, /)\n",
      " |      Return self-=value.\n",
      " |  \n",
      " |  __itruediv__(self, value, /)\n",
      " |      Return self/=value.\n",
      " |  \n",
      " |  __le__(self, value, /)\n",
      " |      Return self<=value.\n",
      " |  \n",
      " |  __lt__(self, value, /)\n",
      " |      Return self<value.\n",
      " |  \n",
      " |  __mul__(self, value, /)\n",
      " |      Return self*value.\n",
      " |  \n",
      " |  __ne__(self, value, /)\n",
      " |      Return self!=value.\n",
      " |  \n",
      " |  __neg__(self, /)\n",
      " |      -self\n",
      " |  \n",
      " |  __new__(*args, **kwargs) from builtins.type\n",
      " |      Create and return a new object.  See help(type) for accurate signature.\n",
      " |  \n",
      " |  __pow__(self, value, mod=None, /)\n",
      " |      Return pow(self, value, mod).\n",
      " |  \n",
      " |  __radd__(self, value, /)\n",
      " |      Return value+self.\n",
      " |  \n",
      " |  __repr__(self, /)\n",
      " |      Return repr(self).\n",
      " |  \n",
      " |  __rmul__(self, value, /)\n",
      " |      Return value*self.\n",
      " |  \n",
      " |  __rpow__(self, value, mod=None, /)\n",
      " |      Return pow(value, self, mod).\n",
      " |  \n",
      " |  __rsub__(self, value, /)\n",
      " |      Return value-self.\n",
      " |  \n",
      " |  __rtruediv__(self, value, /)\n",
      " |      Return value/self.\n",
      " |  \n",
      " |  __str__(self, /)\n",
      " |      Return str(self).\n",
      " |  \n",
      " |  __sub__(self, value, /)\n",
      " |      Return self-value.\n",
      " |  \n",
      " |  __truediv__(self, value, /)\n",
      " |      Return self/value.\n",
      " |  \n",
      " |  initPP(...)\n",
      " |      Initialize the pre-processing field of element.\n",
      " |  \n",
      " |  set(...)\n",
      " |      Set an element to a fixed value.\n",
      " |  \n",
      " |  ----------------------------------------------------------------------\n",
      " |  Data descriptors defined here:\n",
      " |  \n",
      " |  initialized\n",
      " |      determine initialization status\n",
      " |  \n",
      " |  type\n",
      " |      group type\n",
      "\n"
     ]
    }
   ],
   "source": [
    "help(g1)"
   ]
  },
  {
   "cell_type": "code",
   "execution_count": 8,
   "metadata": {
    "collapsed": false
   },
   "outputs": [
    {
     "data": {
      "text/plain": [
       "pairing.Element"
      ]
     },
     "execution_count": 8,
     "metadata": {},
     "output_type": "execute_result"
    }
   ],
   "source": [
    "type(g2)"
   ]
  },
  {
   "cell_type": "markdown",
   "metadata": {},
   "source": [
    "### Implement a Scheme\n",
    "\n",
    "通常採用OOP的實作方法來增進可重複利用以及延伸性。 事實上內建了許多 base classes 對許多 cryptographic primitives 含有 standard interfaces 像是 PKEnc(public-key encryption)， PKSig(public-key signatures)， ABEnc(attribute-based encryption) 等等。**第一步是去繼承這些class** (下面我們說明如何用 Charm 實現 Cramer-Shoup PKEnc scheme。)\n",
    "\n",
    "> 在 charm toolbox 中每種 cryptographic setting 有一個對應的 group abstraction 像是前面提到的 elliptic curve group , pairing group, 和 integer groups。 這些 abstractions 提供了 convenient 且 simple 的界面來選擇 group parameters, 運算 group operations, 和 benchmarking.\n",
    "\n",
    "接下來，針對所要實現的 cryptographic scheme **要 import 我們要實現相關的 group setting**。\n",
    "\n",
    "在 class initialization時，會呼叫 __init__， 在這個例子中會定義PKEnc基本的 security properties: 把 NIST standard elliptic curve identifier當成input。另外， 在這例子中，我們將 group object 定義為 global variable. \n",
    "\n",
    "> 另一種方法是定義 group 為class member，例如: self.group = ECGroup(curve)."
   ]
  },
  {
   "cell_type": "code",
   "execution_count": 9,
   "metadata": {
    "collapsed": false
   },
   "outputs": [],
   "source": [
    "from charm.toolbox.PKEnc import PKEnc\n",
    "from charm.toolbox.ecgroup import ECGroup\n",
    "\n",
    "class CS98(PKEnc):\n",
    "    def __init__(self, curve):\n",
    "        PKEnc.__init__(self)\n",
    "        global group\n",
    "        group = ECGroup(curve)"
   ]
  },
  {
   "cell_type": "markdown",
   "metadata": {},
   "source": [
    "接下來看 Keygen， 他只接受一個 security parameter，然後產生 public 和 private keys 給 user， 注意這邊我們需要選一個 hash function H\n",
    "\n",
    "$\\begin{array}{c}\n",
    "    g_1, g_2 \\in G \\\\\n",
    "    x_1, x_2, y_1, y_2, z \\in Z_q \\\\\n",
    "    c = g_1^{x_1} \\cdot g_2^{x_2}, d = g_1^{y_1} \\cdot g_2^{y_2}, h = g_1^z \\\\\n",
    "    pk = (g_1, g_2, c, d, h, H) \\\\\n",
    "    sk = (x_1, x_2, y_1, y_2, z)\n",
    "\\end{array}$"
   ]
  },
  {
   "cell_type": "code",
   "execution_count": 10,
   "metadata": {
    "collapsed": true
   },
   "outputs": [],
   "source": [
    "def keygen(self, secparam): # Security parameter only\n",
    "    g1, g2 = group.random(G), group.random(G)\n",
    "    x1, x2, y1, y2, z = group.random(ZR), group.random(ZR), group.random(ZR), group.random(ZR), group.random(ZR)\n",
    "    c = (g1 ** x1) * (g2 ** x2)\n",
    "    d = (g1 ** y1) * (g2 ** y2)\n",
    "    h = (g1 ** z)\n",
    "\n",
    "    pk = { 'g1' : g1, 'g2' : g2, 'c' : c, 'd' : d, 'h' : h, 'H' : group.hash } #dict class\n",
    "    sk = { 'x1' : x1, 'x2' : x2, 'y1' : y1, 'y2' : y2, 'z' : z }\n",
    "    return (pk, sk)"
   ]
  },
  {
   "cell_type": "markdown",
   "metadata": {},
   "source": [
    "encryption 在 paper中敘述如下，我們利用group的encode幫我們轉換message到運算domain\n",
    "\n",
    "$\\begin{array}{c}\n",
    "    m \\in G, r \\in Z_q \\\\\n",
    "    u_1 = g_1^r, u_2 = g_2^r, e = h^r \\cdot m , \\alpha = H(u_1, u_2, e), v = c^r \\cdot d^{r\\alpha} \\\\\n",
    "    (u_1, u_2, e, v) \n",
    "\\end{array}$"
   ]
  },
  {
   "cell_type": "code",
   "execution_count": 11,
   "metadata": {
    "collapsed": true
   },
   "outputs": [],
   "source": [
    "def encrypt(self, pk, m):\n",
    "    r   = group.random(ZR)\n",
    "    u1  = pk['g1'] ** r\n",
    "    u2  = pk['g2'] ** r\n",
    "    e   = group.encode(m) * (pk['h'] ** r)\n",
    "    alpha = pk['H'](u1, u2, e)\n",
    "    v   = (pk['c'] ** r) * (pk['d'] ** (r * alpha))\n",
    "\n",
    "    return { 'u1' : u1, 'u2' : u2, 'e' : e, 'v' : v }"
   ]
  },
  {
   "cell_type": "markdown",
   "metadata": {},
   "source": [
    "decryption 在 paper中敘述如下\n",
    "\n",
    "$\\begin{array}{c}\n",
    "    \\alpha = H(u_1, u_2, e) \\\\\n",
    "    v = u_1^{x_1+y_1\\alpha} \\cdot u_2^{x_2+y_2\\alpha} \\\\\n",
    "    m = e/{u_1^z} \n",
    "\\end{array}$"
   ]
  },
  {
   "cell_type": "code",
   "execution_count": 12,
   "metadata": {
    "collapsed": true
   },
   "outputs": [],
   "source": [
    "def decrypt(self, pk, sk, c):\n",
    "    alpha = pk['H'](c['u1'], c['u2'], c['e'])\n",
    "\n",
    "    v_prime = (c['u1'] ** (sk['x1'] + (sk['y1'] * alpha))) * (c['u2'] ** (sk['x2'] + (sk['y2'] * alpha)))\n",
    "    if (c['v'] != v_prime):\n",
    "        return 'reject'\n",
    "    return group.decode(c['e'] / (c['u1'] ** sk['z']))"
   ]
  },
  {
   "cell_type": "markdown",
   "metadata": {},
   "source": [
    "這類scheme會將 messages 定義為 group element，故我們利用charm內建的 encode/decode methods 來將message轉換進入 G。 然而目前沒有支援直接轉進pairing group的 encode/decode。 因此將用別種方式來替代直接轉換"
   ]
  },
  {
   "cell_type": "markdown",
   "metadata": {},
   "source": [
    "## Reuse Tools\n",
    "先在這邊找找看有沒有可用的工具吧! https://jhuisi.github.io/charm/toolbox.html#toolbox"
   ]
  },
  {
   "cell_type": "markdown",
   "metadata": {
    "collapsed": false
   },
   "source": [
    "### Test and Benchmark\n",
    "設計好shceme之後需要做驗證和量測performance。 charm提供了兩個 approaches: \n",
    "\n",
    "- Define a test routine that executes the algorithms in your scheme via test vectors if they exist a\n",
    "- **embedding the test routine as a docstring in your scheme’s class definition**. \n",
    "\n",
    "> Docstrings 可用下列方法直接執行! ``python -m doctest myScheme.py``\n",
    "\n",
    "另外有下列benchmark flag可以使用: **RealTime, CpuTime, Add, Sub, Mul, Div, and Exp**. 以下是對 EC setting 使用 Charm 的 benchmark interface"
   ]
  },
  {
   "cell_type": "code",
   "execution_count": 13,
   "metadata": {
    "collapsed": false
   },
   "outputs": [
    {
     "name": "stdout",
     "output_type": "stream",
     "text": [
      "<=== General Benchmarks ===>\n",
      "Mul :=  10\n",
      "Div :=  10\n",
      "Exp :=  20\n",
      "<=== Granular Benchmarks ===>\n",
      "G mul   :=  10\n",
      "G exp   :=  20\n"
     ]
    }
   ],
   "source": [
    "from charm.toolbox.ecgroup import ECGroup,ZR,G\n",
    "from charm.toolbox.eccurve import prime192v1\n",
    "\n",
    "trials = 10\n",
    "group = ECGroup(prime192v1)\n",
    "g = group.random(G)\n",
    "h = group.random(G)\n",
    "i = group.random(G)\n",
    "\n",
    "assert group.InitBenchmark(), \"failed to initialize benchmark\"\n",
    "group.StartBenchmark([\"Mul\", \"Div\", \"Exp\", \"Granular\"])\n",
    "for a in range(trials):\n",
    "    j = g * h\n",
    "    k = h ** group.random(ZR)\n",
    "    t = (j ** group.random(ZR)) / k\n",
    "group.EndBenchmark()\n",
    "\n",
    "msmtDict = group.GetGeneralBenchmarks()\n",
    "print (\"<=== General Benchmarks ===>\")\n",
    "print (\"Mul := \", msmtDict[\"Mul\"])\n",
    "print (\"Div := \", msmtDict[\"Div\"])\n",
    "print (\"Exp := \", msmtDict[\"Exp\"])\n",
    "granDict = group.GetGranularBenchmarks()\n",
    "print (\"<=== Granular Benchmarks ===>\")\n",
    "print (\"G mul   := \", granDict[\"Mul\"][G])\n",
    "print (\"G exp   := \", granDict[\"Exp\"][G])"
   ]
  },
  {
   "cell_type": "markdown",
   "metadata": {},
   "source": [
    "以上的 benchmark function 也可以用在其他的 group settings。 pairing base module同樣支援 **granular level (operation count per group)**的 benchmark。 如下:"
   ]
  },
  {
   "cell_type": "code",
   "execution_count": 14,
   "metadata": {
    "collapsed": false
   },
   "outputs": [
    {
     "name": "stdout",
     "output_type": "stream",
     "text": [
      "<=== General Benchmarks ===>\n",
      "Results  :=  {'Add': 0, 'Exp': 20, 'Div': 0, 'Pair': 10, 'Mul': 10, 'CpuTime': 0.0, 'Sub': 0, 'RealTime': 0.0}\n",
      "<=== Granular Benchmarks ===>\n",
      "G1 mul   :=  10\n",
      "G2 exp   :=  10\n"
     ]
    }
   ],
   "source": [
    "from charm.toolbox.pairinggroup import PairingGroup,ZR,G1,G2,GT,pair\n",
    "\n",
    "trials = 10\n",
    "group = PairingGroup(\"SS1024\")\n",
    "g = group.random(G1)\n",
    "h = group.random(G1)\n",
    "i = group.random(G2)\n",
    "\n",
    "assert group.InitBenchmark(), \"failed to initialize benchmark\"\n",
    "group.StartBenchmark([\"Mul\", \"Exp\", \"Pair\", \"Granular\"])\n",
    "for a in range(trials):\n",
    "    j = g * h\n",
    "    k = i ** group.random(ZR)\n",
    "    t = (j ** group.random(ZR)) / h\n",
    "    n = pair(h, i)\n",
    "group.EndBenchmark()\n",
    "\n",
    "msmtDict = group.GetGeneralBenchmarks()\n",
    "granDict = group.GetGranularBenchmarks()\n",
    "print(\"<=== General Benchmarks ===>\")\n",
    "print(\"Results  := \", msmtDict)\n",
    "print(\"<=== Granular Benchmarks ===>\")\n",
    "print(\"G1 mul   := \", granDict[\"Mul\"][G1])\n",
    "print(\"G2 exp   := \", granDict[\"Exp\"][G2])"
   ]
  },
  {
   "cell_type": "markdown",
   "metadata": {},
   "source": [
    "另外針對 integer module， 我們可以 benchmarking without a group object:"
   ]
  },
  {
   "cell_type": "code",
   "execution_count": 15,
   "metadata": {
    "collapsed": false
   },
   "outputs": [
    {
     "name": "stdout",
     "output_type": "stream",
     "text": [
      "General Benchmarks:  {'Add': 0, 'Exp': 20, 'Div': 0, 'Mul': 20, 'CpuTime': 0.0, 'Sub': 0, 'RealTime': 0.153699}\n"
     ]
    }
   ],
   "source": [
    "from charm.core.math.integer import *\n",
    "trials = 10\n",
    "a = integer(1234)\n",
    "\n",
    "assert InitBenchmark(), \"failed to initialize benchmark\"\n",
    "StartBenchmark([\"RealTime\", \"Exp\", \"Mul\"])\n",
    "for k in range(trials):\n",
    "    r = randomPrime(512)\n",
    "    s = r * (r ** a)\n",
    "    j = r * (r ** a)\n",
    "EndBenchmark()\n",
    "\n",
    "msmtDict1 = GetGeneralBenchmarks()\n",
    "print (\"General Benchmarks: \", msmtDict1)"
   ]
  },
  {
   "cell_type": "markdown",
   "metadata": {},
   "source": [
    "## Optimization\n",
    "針對 pairing base module， charm提供了 pre-computation tables 來加速 group exponentiation。 要使用的話，先呼叫 `initPP()` method 在 pairing object in G1, G2, or GT 上。 `initPP()` 會儲存 pre-computed values。 見以下比較10次 exponential 有用和沒有用的差別"
   ]
  },
  {
   "cell_type": "code",
   "execution_count": 16,
   "metadata": {
    "collapsed": false
   },
   "outputs": [
    {
     "name": "stdout",
     "output_type": "stream",
     "text": [
      "With PP:  0.0039\n",
      "Without:  0.022098\n"
     ]
    }
   ],
   "source": [
    "from charm.toolbox.pairinggroup import PairingGroup,ZR,G1,G2,GT,pair\n",
    "\n",
    "count = 10\n",
    "group = PairingGroup(\"MNT224\")\n",
    "g = group.random(GT)\n",
    "assert g.initPP(), \"failed to init pre-computation table\"\n",
    "h = group.random(GT)\n",
    "a, b = group.random(ZR, 2)\n",
    "\n",
    "assert group.InitBenchmark(), \"failed to initialize benchmark\"\n",
    "group.StartBenchmark([\"RealTime\"])\n",
    "for i in range(count):\n",
    "    A = g ** a\n",
    "group.EndBenchmark()\n",
    "print (\"With PP: \", group.GetBenchmark(\"RealTime\"))\n",
    "\n",
    "\n",
    "\n",
    "assert group.InitBenchmark(), \"failed to initialize benchmark\"\n",
    "group.StartBenchmark([\"RealTime\"])\n",
    "for i in range(count):\n",
    "    B = h ** b\n",
    "group.EndBenchmark()\n",
    "print (\"Without: \", group.GetBenchmark(\"RealTime\"))"
   ]
  },
  {
   "cell_type": "markdown",
   "metadata": {},
   "source": [
    "## Implement Application\n",
    "\n",
    "拉高一個 abstraction level 來看，我們可以在應用中拿內建的sheme(https://jhuisi.github.io/charm/schemes.html#schemes)。 每一個內建scheme都有example的main function吃 default的test。 因此我們可以看main來了解如何使用它， 底下為在application中使用 Cramer-Shoup scheme:"
   ]
  },
  {
   "cell_type": "code",
   "execution_count": 17,
   "metadata": {
    "collapsed": false
   },
   "outputs": [
    {
     "data": {
      "text/plain": [
       "({'e': [491750628481418803602493522010939058512036971758417264302, 6027390645016250781082412440918421485655789926614433235604],\n",
       "  'u1': [1857476881424227546302697882386080616110484101053772334153, 4143999534637894579530291758516509813789445391955291868696],\n",
       "  'u2': [3567833863139880730546011706019261902031859474140046502360, 1144532107149268674365367065558755186081823873210741661695],\n",
       "  'v': [4252544097880324260374018465787155639262423472841079645810, 58621827712002745818319214738851036403104134531967622465]},\n",
       " b'Hello World!')"
      ]
     },
     "execution_count": 17,
     "metadata": {},
     "output_type": "execute_result"
    }
   ],
   "source": [
    "from charm.schemes.pkenc.pkenc_cs98 import CS98\n",
    "from charm.toolbox.eccurve import prime192v1\n",
    "from charm.toolbox.ecgroup import ECGroup\n",
    "\n",
    "groupObj = ECGroup(prime192v1)\n",
    "pkenc = CS98(groupObj)\n",
    "\n",
    "(pk, sk) = pkenc.keygen()\n",
    "\n",
    "M = b'Hello World!'\n",
    "ciphertext = pkenc.encrypt(pk, M)\n",
    "\n",
    "message = pkenc.decrypt(pk, sk, ciphertext)\n",
    "(ciphertext, message)"
   ]
  },
  {
   "cell_type": "markdown",
   "metadata": {},
   "source": [
    "### Serial API\n",
    "為了支援 key或 ciphertext的 serialization，charm toolbox 中提供了兩個 high-level API 來 serialize charm objects (和 python structures (e.g., lists, tuples, or dictionaries, etc)做轉換) 亦即`charm.core.engine.util` packag 中的 `objectToBytes()` 和 `bytesToObject()`。 這些function可以將 keys 和 ciphertexts 轉換成 **base 64 encoded strings**。\n",
    "\n",
    "以下說明如何使用 upported group objects (integergroup, pairinggroup or ecgroup)的這個 API:\n",
    "\n",
    "```\n",
    "from charm.core.engine.util import objectToBytes,bytesToObject\n",
    "\n",
    "pk_bytes = objectToBytes(pk, group)\n",
    "orig_pk = bytesToObject(pk_bytes, group)\n",
    "```"
   ]
  },
  {
   "cell_type": "markdown",
   "metadata": {},
   "source": [
    "若想要加入 custom serialization routine，以下說明 schemes based on the integergroup 如何在不需要 group object下達成:"
   ]
  },
  {
   "cell_type": "markdown",
   "metadata": {},
   "source": [
    "```\n",
    "from charm.core.math.integer import integer,serialize,deserialize\n",
    "\n",
    "class mySerializeAPI:\n",
    "        def __init__(self)\n",
    "                ...\n",
    "\n",
    "        def serialize(self, charm_object):\n",
    "            assert type(charm_object) == integer, \"required type is integer, not: \", type(charm_object)\n",
    "            return serialize(charm_object)\n",
    "\n",
    "        def deserialize(self, object):\n",
    "            assert type(object) == bytes, \"required type is bytes, not: \", type(object)\n",
    "            return deserialize(object)\n",
    "\n",
    "from charm.core.engine.util import objectToBytes,bytesToObject\n",
    "\n",
    "serObject = mySerializeAPI()\n",
    "pk_bytes = objectToBytes(pk, serObject)\n",
    "orig_pk = bytesToObject(pk_bytes, serObject)\n",
    "```"
   ]
  },
  {
   "cell_type": "markdown",
   "metadata": {},
   "source": [
    "## ABE example"
   ]
  },
  {
   "cell_type": "code",
   "execution_count": 18,
   "metadata": {
    "collapsed": false
   },
   "outputs": [
    {
     "name": "stdout",
     "output_type": "stream",
     "text": [
      "Attributes => ['THREE', 'ONE', 'TWO']\n",
      "Policy => ((ONE or THREE) and (ONE or FOUR))\n",
      "sk :=> {'Djp': {'THREE': [2891643987289506771429640795284614363316891494402903331472663646478103766288600231975108722404270343234840928042535420077641217495927903589418868456270693, 8081657435447258940000010088378982647010384737505222468660280887221290559576241125075575470385855154326771011201276472278963536034122381178384913040649285], 'TWO': [388526237479738603992410148870954227856376946329079868818437984129831891152801859202339800495040561781259165065173023511653400446082823730963468073986136, 3248617884528091925911708623354329682436781316737426664728615659081290847388503047220015338836642883835569736417190095931908834449068268453829717413605037], 'ONE': [3148684062761606271735893752702914818801234575605744005533241818815974804456024775980838150064227071581088467960940961822920048405089005222546719343685656, 7615143648694482091724749198748715054598719352101248251388447555423228846328473160655276435731924641540223216090887882733397332446758984412355940654159986]}, 'S': ['THREE', 'ONE', 'TWO'], 'Dj': {'THREE': [1900855771311265619064092406546965399453454118639928987622368902592460374321906868999491516041588848830769788292448252536610978518777020008169729631629201, 2938060918229733539912019193193544847873492122486493341024934182264291498705588882578054043562652060185731068612901095703951635666932427336667374913922444], 'TWO': [3070671522584073347122510405221164529899055455960967838007791681047475740168851582240844098738986195929315515710629171508164776897380907364280108553121428, 3831615667438571098393342344440119708189090393874553643297993485758936140478067241328619533196302687026221117899407533309188532446283856964792830813398124], 'ONE': [235274040641104767723268172396040164552303762323899706554414597710462877103654080719314585588420508679955947692069765295191271908560041596466078630936459, 2476019050256427369722959375202553862946647253926973115707572419618242323541486907490809343668304569161161030763233338846519882712132260382091817773543881]}, 'D': [6547148493438287158895308492975043783525030486919274850327875037405009590249272424940899579265211528688554749576940794136299517553120677676508705905026914, 3431513308615368450778740422186542153546231369732329720562240327710439253402314224648534674286031366477084614344248694570718731773156533908715063242707666]}\n",
      "msg => [4812292565743393660245475933930799606669667592807513739841790932086520570732753732160624717798087009212248001556211196205873091074640804516379498358150676, 8018354089968291944748685225659190728942201855815541116106091890425338841268603703199287694309687467096185833250918531536798668061200320391065929818948072]\n",
      "\n",
      "\n",
      "Ciphertext...\n",
      "\n",
      "\n",
      "\n",
      "Decrypt...\n",
      "\n",
      "Rec msg => [4812292565743393660245475933930799606669667592807513739841790932086520570732753732160624717798087009212248001556211196205873091074640804516379498358150676, 8018354089968291944748685225659190728942201855815541116106091890425338841268603703199287694309687467096185833250918531536798668061200320391065929818948072]\n",
      "Successful Decryption!!!\n"
     ]
    }
   ],
   "source": [
    "from charm.schemes.abenc.abenc_bsw07 import CPabe_BSW07\n",
    "from charm.toolbox.pairinggroup import PairingGroup,GT\n",
    "\n",
    "debug = True\n",
    "groupObj = PairingGroup('SS512')\n",
    "\n",
    "cpabe = CPabe_BSW07(groupObj)\n",
    "attrs = ['THREE', 'ONE', 'TWO']\n",
    "access_policy = '((ONE or THREE) and (ONE or FOUR))'\n",
    "if debug:\n",
    "    print(\"Attributes =>\", attrs); print(\"Policy =>\", access_policy)\n",
    "\n",
    "(pk, mk) = cpabe.setup()\n",
    "\n",
    "sk = cpabe.keygen(pk, mk, attrs)\n",
    "print(\"sk :=>\", sk)\n",
    "\n",
    "rand_msg = groupObj.random(GT)\n",
    "if debug: print(\"msg =>\", rand_msg)\n",
    "ct = cpabe.encrypt(pk, rand_msg, access_policy)\n",
    "\n",
    "if debug: print(\"\\n\\nCiphertext...\\n\")\n",
    "groupObj.debug(ct)\n",
    "\n",
    "rec_msg = cpabe.decrypt(pk, sk, ct)\n",
    "if debug: print(\"\\n\\nDecrypt...\\n\")\n",
    "if debug: print(\"Rec msg =>\", rec_msg)\n",
    "\n",
    "assert rand_msg == rec_msg, \"FAILED Decryption: message is incorrect\"\n",
    "if debug: print(\"Successful Decryption!!!\")"
   ]
  },
  {
   "cell_type": "code",
   "execution_count": 19,
   "metadata": {
    "collapsed": false
   },
   "outputs": [],
   "source": [
    "from charm.toolbox.pairinggroup import PairingGroup,ZR,G1,G2,GT,pair\n",
    "from charm.toolbox.secretutil import SecretUtil\n",
    "from charm.toolbox.ABEnc import ABEnc\n",
    "\n",
    "class CPabe09(ABEnc):\n",
    "    \"\"\"\n",
    "    >>> from charm.toolbox.pairinggroup import PairingGroup,GT\n",
    "    >>> group = PairingGroup('SS512')\n",
    "    >>> cpabe = CPabe09(group)\n",
    "    >>> msg = group.random(GT)\n",
    "    >>> (master_secret_key, master_public_key) = cpabe.setup()\n",
    "    >>> policy = '((ONE or THREE) and (TWO or FOUR))'\n",
    "    >>> attr_list = ['THREE', 'ONE', 'TWO']\n",
    "    >>> secret_key = cpabe.keygen(master_public_key, master_secret_key, attr_list)\n",
    "    >>> cipher_text = cpabe.encrypt(master_public_key, msg, policy)\n",
    "    >>> decrypted_msg = cpabe.decrypt(master_public_key, secret_key, cipher_text)\n",
    "    >>> decrypted_msg == msg\n",
    "    True\n",
    "    \"\"\"\n",
    "    \n",
    "    def __init__(self, groupObj):\n",
    "        ABEnc.__init__(self)\n",
    "        global util, group\n",
    "        util = SecretUtil(groupObj, debug)        \n",
    "        group = groupObj\n",
    "                        \n",
    "    def setup(self):\n",
    "        g1, g2 = group.random(G1), group.random(G2)\n",
    "        alpha, a = group.random(), group.random()        \n",
    "        e_gg_alpha = pair(g1,g2) ** alpha\n",
    "        msk = {'g1^alpha':g1 ** alpha, 'g2^alpha':g2 ** alpha}        \n",
    "        pk = {'g1':g1, 'g2':g2, 'e(gg)^alpha':e_gg_alpha, 'g1^a':g1 ** a, 'g2^a':g2 ** a}\n",
    "        return (msk, pk)\n",
    "    \n",
    "    def keygen(self, pk, msk, attributes):        \n",
    "        t = group.random()\n",
    "        K = msk['g2^alpha'] * (pk['g2^a'] ** t)\n",
    "        L = pk['g2'] ** t\n",
    "        k_x = [group.hash(s, G1) ** t for s in attributes]\n",
    "        \n",
    "        K_x = {}\n",
    "        for i in range(0, len(k_x)):\n",
    "            K_x[ attributes[i] ] = k_x[i]    \n",
    "\n",
    "        key = { 'K':K, 'L':L, 'K_x':K_x, 'attributes':attributes }\n",
    "        return key\n",
    "    \n",
    "    def encrypt(self, pk, M, policy_str):\n",
    "        # Extract the attributes as a list\n",
    "        policy = util.createPolicy(policy_str)        \n",
    "        p_list = util.getAttributeList(policy)\n",
    "        s = group.random()\n",
    "        C_tilde = (pk['e(gg)^alpha'] ** s) * M\n",
    "        C_0 = pk['g1'] ** s\n",
    "        C, D = {}, {}\n",
    "        secret = s\n",
    "        shares = util.calculateSharesList(secret, policy)\n",
    "\n",
    "        # ciphertext\n",
    "        for i in range(len(p_list)):\n",
    "            r = group.random()\n",
    "            if shares[i][0] == p_list[i]:\n",
    "               attr = shares[i][0].getAttribute() \n",
    "               C[ p_list[i] ] = ((pk['g1^a'] ** shares[i][1]) * (group.hash(attr, G1) ** -r))\n",
    "               D[ p_list[i] ] = (pk['g2'] ** r)\n",
    "        \n",
    "        if debug: print(\"SessionKey: %s\" % C_tilde)\n",
    "        return { 'C0':C_0, 'C':C, 'D':D , 'C_tilde':C_tilde, 'policy':policy_str, 'attribute':p_list }\n",
    "    \n",
    "    def decrypt(self, pk, sk, ct):\n",
    "        policy = util.createPolicy(ct['policy'])\n",
    "        pruned = util.prune(policy, sk['attributes'])\n",
    "        if pruned == False:\n",
    "            return False\n",
    "        coeffs = util.getCoefficients(policy)\n",
    "        numerator = pair(ct['C0'], sk['K'])\n",
    "        \n",
    "        # create list for attributes in order...\n",
    "        k_x, w_i = {}, {}\n",
    "        for i in pruned:\n",
    "            j = i.getAttributeAndIndex()\n",
    "            k = i.getAttribute()\n",
    "            k_x[ j ] = sk['K_x'][k]\n",
    "            w_i[ j ] = coeffs[j]\n",
    "            #print('Attribute %s: coeff=%s, k_x=%s' % (j, w_i[j], k_x[j]))\n",
    "            \n",
    "        C, D = ct['C'], ct['D']\n",
    "        denominator = 1\n",
    "        for i in pruned:\n",
    "            j = i.getAttributeAndIndex()\n",
    "            denominator *= ( pair(C[j] ** w_i[j], sk['L']) * pair(k_x[j] ** w_i[j], D[j]) )   \n",
    "        return ct['C_tilde'] / (numerator / denominator)"
   ]
  },
  {
   "cell_type": "code",
   "execution_count": 20,
   "metadata": {
    "collapsed": false
   },
   "outputs": [
    {
     "name": "stdout",
     "output_type": "stream",
     "text": [
      "SessionKey: [374081390243472460414255142214019168642664288964032589151348346326788405201900105520548082275752271006101404827987566470502946194264005495495548745864962, 922485868452072429572737217329939172690950473107730927512300780908444090016036347053120673945732902115508937564737316230458880546100480991652102906278652]\n"
     ]
    },
    {
     "data": {
      "text/plain": [
       "True"
      ]
     },
     "execution_count": 20,
     "metadata": {},
     "output_type": "execute_result"
    }
   ],
   "source": [
    "from charm.toolbox.pairinggroup import PairingGroup,GT\n",
    "debug = True\n",
    "group = PairingGroup('SS512')\n",
    "cpabe = CPabe09(group)\n",
    "msg = group.random(GT)\n",
    "(master_secret_key, master_public_key) = cpabe.setup()\n",
    "policy = '((ONE or THREE) and (TWO or FOUR))'\n",
    "attr_list = ['THREE', 'ONE', 'TWO']\n",
    "secret_key = cpabe.keygen(master_public_key, master_secret_key, attr_list)\n",
    "cipher_text = cpabe.encrypt(master_public_key, msg, policy)\n",
    "decrypted_msg = cpabe.decrypt(master_public_key, secret_key, cipher_text)\n",
    "decrypted_msg == msg"
   ]
  },
  {
   "cell_type": "markdown",
   "metadata": {},
   "source": [
    "## Appendix - CryptoBase"
   ]
  },
  {
   "cell_type": "code",
   "execution_count": 21,
   "metadata": {
    "collapsed": true
   },
   "outputs": [],
   "source": [
    "from charm.toolbox.paddingschemes import PKCS7Padding\n",
    "from charm.toolbox.securerandom import OpenSSLRand\n",
    "from charm.core.crypto.cryptobase import MODE_CBC,AES,selectPRP\n",
    "import json\n",
    "from base64 import b64encode,b64decode\n",
    "\n",
    "class SymmetricCryptoAbstraction(object):\n",
    "    \"\"\"\n",
    "    Abstraction for symmetric encryption and decryption of data.\n",
    "    Ideally provide an INDCCA2 secure symmetric container for arbitrary data.\n",
    "    Currently only supports primitives that JSON can encode and decode.\n",
    "  \n",
    "    A large number of the schemes can only encrypt group elements \n",
    "    and do not provide an efficient mechanism for encoding byte in\n",
    "    those elements. As such we don't pick a symmetric key and encrypt \n",
    "    it asymmetrically. Rather, we hash a random group element to get the\n",
    "    symmetric key.\n",
    "    >>> from charm.toolbox.pairinggroup import PairingGroup,GT\n",
    "    >>> groupObj = PairingGroup('SS512')\n",
    "    >>> from charm.core.math.pairing import hashPair as extractor\n",
    "    >>> a = SymmetricCryptoAbstraction(extractor(groupObj.random(GT)))\n",
    "    >>> ct = a.encrypt(b\"Friendly Fire Isn't\")\n",
    "    >>> a.decrypt(ct)\n",
    "    b\"Friendly Fire Isn't\"\n",
    "    \"\"\"\n",
    "\n",
    "    def __init__(self,key, alg = AES, mode = MODE_CBC):\n",
    "        self._alg = alg\n",
    "        self.key_len = 16\n",
    "        self._block_size = 16 \n",
    "        self._mode = mode\n",
    "        self._key = key[0:self.key_len]\n",
    "        self._padding = PKCS7Padding();\n",
    " \n",
    "    def _initCipher(self,IV = None):\n",
    "        if IV == None :\n",
    "            IV =  OpenSSLRand().getRandomBytes(self._block_size)\n",
    "        self._IV = IV\n",
    "        return selectPRP(self._alg,(self._key,self._mode,self._IV))\n",
    "\n",
    "    def __encode_decode(self,data,func):\n",
    "        data['IV'] = func(data['IV'])\n",
    "        data['CipherText'] = func(data['CipherText'])\n",
    "        return data\n",
    "\n",
    "    #This code should be factored out into  another class\n",
    "    #Because json is only defined over strings, we need to base64 encode the encrypted data\n",
    "    # and convert the base 64 byte array into a utf8 string\n",
    "    def _encode(self,data):\n",
    "        return self.__encode_decode(data,lambda x:b64encode(x).decode('utf-8'))\n",
    "\n",
    "    def _decode(self,data):\n",
    "        return self.__encode_decode(data,lambda x:b64decode(bytes(x,'utf-8')))\n",
    "\n",
    "    def encrypt(self, message):\n",
    "        #This should be removed when all crypto functions deal with bytes\"\n",
    "        if type(message) != bytes :\n",
    "            message = bytes(message,\"utf-8\")\n",
    "        ct = self._encrypt(message)\n",
    "        #JSON strings cannot have binary data in them, so we must base64 encode  cipher\n",
    "        cte = json.dumps(self._encode(ct))\n",
    "        return cte\n",
    "\n",
    "    def _encrypt(self,message):\n",
    "        #Because the IV cannot be set after instantiation, decrypt and encrypt \n",
    "        # must operate on their own instances of the cipher \n",
    "        cipher = self._initCipher() \n",
    "        ct= {'ALG':self._alg,\n",
    "            'MODE':self._mode,\n",
    "            'IV':self._IV,\n",
    "            'CipherText':cipher.encrypt(self._padding.encode(message))\n",
    "            }\n",
    "        return ct\n",
    "\n",
    "    def decrypt(self,cipherText):\n",
    "        f = json.loads(cipherText)\n",
    "        return self._decrypt(self._decode(f)) #.decode(\"utf-8\")\n",
    "\n",
    "    def _decrypt(self,cipherText):\n",
    "        cipher = self._initCipher(cipherText['IV'])\n",
    "        msg = cipher.decrypt(cipherText['CipherText'])\n",
    "        return self._padding.decode(msg)"
   ]
  },
  {
   "cell_type": "code",
   "execution_count": 8,
   "metadata": {
    "collapsed": false
   },
   "outputs": [
    {
     "data": {
      "text/plain": [
       "b\"Friendly Fire Isn't\""
      ]
     },
     "execution_count": 8,
     "metadata": {},
     "output_type": "execute_result"
    }
   ],
   "source": [
    "from charm.toolbox.pairinggroup import PairingGroup,GT\n",
    "groupObj = PairingGroup('SS512')\n",
    "from charm.core.math.pairing import hashPair as extractor\n",
    "a = SymmetricCryptoAbstraction(extractor(groupObj.random(GT)))\n",
    "ct = a.encrypt(b\"Friendly Fire Isn't\")\n",
    "a.decrypt(ct)"
   ]
  },
  {
   "cell_type": "code",
   "execution_count": 22,
   "metadata": {
    "collapsed": false
   },
   "outputs": [
    {
     "data": {
      "application/json": {
       "Software versions": [
        {
         "module": "Python",
         "version": "3.4.3+ 64bit [GCC 5.2.1 20151010]"
        },
        {
         "module": "IPython",
         "version": "4.0.0"
        },
        {
         "module": "OS",
         "version": "Linux 4.2.0 30 generic x86_64 with Ubuntu 15.10 wily"
        },
        {
         "module": "numpy",
         "version": "1.10.4"
        },
        {
         "module": "scipy",
         "version": "0.14.1"
        },
        {
         "module": "matplotlib",
         "version": "1.4.2"
        },
        {
         "module": "charm",
         "version": "The 'charm' distribution was not found and is required by the application"
        },
        {
         "module": "version_information",
         "version": "The 'version_information' distribution was not found and is required by the application"
        }
       ]
      },
      "text/html": [
       "<table><tr><th>Software</th><th>Version</th></tr><tr><td>Python</td><td>3.4.3+ 64bit [GCC 5.2.1 20151010]</td></tr><tr><td>IPython</td><td>4.0.0</td></tr><tr><td>OS</td><td>Linux 4.2.0 30 generic x86_64 with Ubuntu 15.10 wily</td></tr><tr><td>numpy</td><td>1.10.4</td></tr><tr><td>scipy</td><td>0.14.1</td></tr><tr><td>matplotlib</td><td>1.4.2</td></tr><tr><td>charm</td><td>The 'charm' distribution was not found and is required by the application</td></tr><tr><td>version_information</td><td>The 'version_information' distribution was not found and is required by the application</td></tr><tr><td colspan='2'>Wed Jul 20 11:40:20 2016 UTC</td></tr></table>"
      ],
      "text/latex": [
       "\\begin{tabular}{|l|l|}\\hline\n",
       "{\\bf Software} & {\\bf Version} \\\\ \\hline\\hline\n",
       "Python & 3.4.3+ 64bit [GCC 5.2.1 20151010] \\\\ \\hline\n",
       "IPython & 4.0.0 \\\\ \\hline\n",
       "OS & Linux 4.2.0 30 generic x86\\_64 with Ubuntu 15.10 wily \\\\ \\hline\n",
       "numpy & 1.10.4 \\\\ \\hline\n",
       "scipy & 0.14.1 \\\\ \\hline\n",
       "matplotlib & 1.4.2 \\\\ \\hline\n",
       "charm & The 'charm' distribution was not found and is required by the application \\\\ \\hline\n",
       "version_information & The 'version\\_information' distribution was not found and is required by the application \\\\ \\hline\n",
       "\\hline \\multicolumn{2}{|l|}{Wed Jul 20 11:40:20 2016 UTC} \\\\ \\hline\n",
       "\\end{tabular}\n"
      ],
      "text/plain": [
       "Software versions\n",
       "Python 3.4.3+ 64bit [GCC 5.2.1 20151010]\n",
       "IPython 4.0.0\n",
       "OS Linux 4.2.0 30 generic x86_64 with Ubuntu 15.10 wily\n",
       "numpy 1.10.4\n",
       "scipy 0.14.1\n",
       "matplotlib 1.4.2\n",
       "charm The 'charm' distribution was not found and is required by the application\n",
       "version_information The 'version_information' distribution was not found and is required by the application\n",
       "Wed Jul 20 11:40:20 2016 UTC"
      ]
     },
     "execution_count": 22,
     "metadata": {},
     "output_type": "execute_result"
    }
   ],
   "source": [
    "%reload_ext version_information\n",
    "%version_information numpy, scipy, matplotlib, charm, version_information"
   ]
  },
  {
   "cell_type": "code",
   "execution_count": null,
   "metadata": {
    "collapsed": true
   },
   "outputs": [],
   "source": []
  }
 ],
 "metadata": {
  "kernelspec": {
   "display_name": "Python 3",
   "language": "python",
   "name": "python3"
  },
  "language_info": {
   "codemirror_mode": {
    "name": "ipython",
    "version": 3
   },
   "file_extension": ".py",
   "mimetype": "text/x-python",
   "name": "python",
   "nbconvert_exporter": "python",
   "pygments_lexer": "ipython3",
   "version": "3.4.3+"
  },
  "name": "04_Pairing.ipynb"
 },
 "nbformat": 4,
 "nbformat_minor": 0
}
