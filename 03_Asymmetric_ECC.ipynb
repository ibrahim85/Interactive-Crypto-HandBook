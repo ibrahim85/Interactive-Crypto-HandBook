{
 "cells": [
  {
   "cell_type": "markdown",
   "metadata": {
    "collapsed": false
   },
   "source": [
    "# ECC\n",
    "先推薦一些不錯的教材:[1](http://andrea.corbellini.name/tag/ecc/),[2](https://engineering.purdue.edu/kak/compsec/NewLectures/Lecture14.pdf),[3](https://blog.cloudflare.com/a-relatively-easy-to-understand-primer-on-elliptic-curve-cryptography/),[4](https://jeremykun.com/category/cryptography/page/2/)\n",
    "\n",
    "跟RSA一樣同樣用 elliptic curves, 通常我們可以做以下兩件事:\n",
    "\n",
    "- Digital signatures (public key equivalent of message authentication codes) Alice 用 private key 簽署, 然後其他人用 public key 驗證\n",
    "- Encryption with elliptic curves: 通常用來作金鑰交換， Alice 用 elliptic curve Diffie-Hellman (ECDH) 來產生跟Bob的 shared key\n",
    "\n",
    "## Standard Curve\n",
    "\n",
    "除了[certicom](https://www.certicom.com/)外，IEEE1363和NIST方面有定義出一些建議使用的curve，其中NIST三條標準的 elliptic curve 為:\n",
    "\n",
    "- NIST P256 curve, which is equivalent to an AES-128 key (also known as secp256r1)\n",
    "- NIST P384 curve, which is equivalent to an AES-192 key (also known as secp384r1)\n",
    "- NIST P521 curve, which is equivalent to an AES-256 key (also known as secp521r1)\n",
    "\n",
    "另外還有其他著名的curve像是 Curve25519 curve (key exchange使用)，Ed25519 curve (數位簽章使用)，更多curve 選擇[可參考](http://safecurves.cr.yp.to/)\n",
    "\n",
    "> 這篇文章講到最近密碼系統的現象：「On the Impending Crypto Monoculture」https://blog.gslin.org/archives/2016/03/28/6459/%E5%AF%86%E7%A2%BC%E7%B3%BB%E7%B5%B1%E7%9A%84-monoculture/\n",
    "\n",
    "> 目前常在用的密碼系統包括了 RSA、DH、ECDH、ECDSA、SHA-2、AES 這些演算法，而最近這幾年大家在推廣使用的演算法都出自於同一個人手裡，Dan Bernstein，也就是 djb： A major feature of these changes includes the dropping of traditional encryption algorithms and mechanisms like RSA, DH, ECDH/ECDSA, SHA-2, and AES, for a completely different set of mechanisms, including Curve25519 (designed by Dan Bernstein et al), EdDSA (Bernstein and colleagues), Poly1305 (Bernstein again) and ChaCha20 (by, you guessed it, Bernstein).\n",
    "\n",
    "> 這些演算法或是定義，包括了 Curve25519、EdDSA、Poly1305、ChaCha20。而這篇文章試著說明造成這樣情況的背景以及原因，以及這樣會導致什麼問題。當實際分析時會發現，檯面上沒幾個能用的演算法，而看起來能用的那幾個又有專利 (像是 OCB)，不然就是看起來被 NSA 放了一些說明不了的參數 (像是 P-256 Curve)。然後 djb 弄出來的演算法不只看起來乾淨許多，也直接用數學模型證明安全性。而且他的實作也很理論派，像是還蠻堅持要做到 constant time implementation 以避開各種 side channel attack。就... 理論很強，又很實戰派的一個人啊.....，檯面上真的沒幾隻可以打的贏啊 XD\n",
    "\n",
    "> 最近也有一個有趣的專案[Million Dollar Curve](http://cryptoexperts.github.io/million-dollar-curve/)，想要用樂透等公開random source來建立第三方可驗證的curve\n",
    "\n",
    "ECC的 Key Exchange (ECDH) 紀錄在 in NIST publication [800-56Ar2](http://nvlpubs.nist.gov/nistpubs/SpecialPublications/NIST.SP.800-56Ar2.pdf)中"
   ]
  },
  {
   "cell_type": "markdown",
   "metadata": {},
   "source": [
    "## Mathematics Behind Elliptic Curves\n",
    "\n",
    "Elliptic curve是什麼呢? 事實上著名的Fermat's Last Theorem便是由elliptic curve解開的(不過是定義於實數域的elliptic curve)，可參考[數學女孩](http://www.books.com.tw/products/0010507212)\n",
    "\n",
    "> [Wolfram MathWorld](http://mathworld.wolfram.com/EllipticCurve.html)有完整數學上的定義\n",
    "\n",
    "我們可以把他想成由以下方程式組成的點:\n",
    "\n",
    "$y^2=x^3+ax+b$\n",
    "\n",
    "其中 $4a^3+27b^2 \\neq 0$ (用來排除 singular curves). 這種形式稱為 Weierstrass normal form for elliptic curves\n",
    "\n",
    "根據不同的a, b值, elliptic curves 會呈現不同的形狀， 我們在實數上畫出來 elliptic curves 是對稱x軸的!\n",
    "\n",
    "通常我們會把**無窮遠點**也加入 curve中，我們將它標記為 0\n",
    "\n",
    "故納入無窮遠點後的橢圓曲線為:\n",
    "\n",
    "$\\{(x,y)∈R^2 | y^2=x^3+ax+b, 4a^3+27b^2 \\neq 0\\} ∪ \\{0\\}$， 以下我們簡單的畫出elliptic curve和上面的點加法(後面會進一步介紹)給讀者參考:"
   ]
  },
  {
   "cell_type": "code",
   "execution_count": 1,
   "metadata": {
    "collapsed": false
   },
   "outputs": [
    {
     "data": {
      "image/png": "[encoded data removed]",
      "text/plain": [
       "<matplotlib.figure.Figure at 0x7efc85008e90>"
      ]
     },
     "metadata": {},
     "output_type": "display_data"
    },
    {
     "data": {
      "text/plain": [
       "<function __main__.interactive_curve>"
      ]
     },
     "execution_count": 1,
     "metadata": {},
     "output_type": "execute_result"
    }
   ],
   "source": [
    "import numpy as np\n",
    "import matplotlib.pyplot as plt\n",
    "from elliptic import *\n",
    "from fractions import Fraction as frac\n",
    "import numpy.polynomial.polynomial as poly\n",
    "\n",
    "def drawLine2P(x,y,xlims):\n",
    "    xrange = np.arange(xlims[0],xlims[1],0.1)\n",
    "    A = np.vstack([x, np.ones(len(x))]).T\n",
    "    k, b = np.linalg.lstsq(A, y)[0]\n",
    "    plt.plot(xrange, k*xrange + b, 'k')\n",
    "\n",
    "def interactive_curve(a=-4, b=4, Px=3, Qx=-2):\n",
    "    if 4*a^3 + 27*b^2 == 0:\n",
    "        print 'The choice of a = %s and b = %s does not define an elliptic curve because this makes 27a^3 + 4b^2 = 0.'%(a,b)\n",
    "    else:\n",
    "        y, x = np.ogrid[-5:5:100j, -5:5:100j]\n",
    "        plt.contour(x.ravel(), y.ravel(), pow(y, 2) - pow(x, 3) - x * a - b, [0])\n",
    "        C = EllipticCurve(a=frac(a), b=frac(b))\n",
    "        ro = poly.polyroots((b,a,0,1))\n",
    "        ro = ro[np.isreal(ro)]\n",
    "        if(len(ro) == 1):\n",
    "            if Px < ro[0].real:\n",
    "                Px = ro[0].real\n",
    "            if Qx < ro[0].real:\n",
    "                Qx = ro[0].real\n",
    "        else:\n",
    "            if ro[1].real < Px < ro[2].real:\n",
    "                Px = ro[1].real\n",
    "        P = C.from_x(frac(Px))\n",
    "        Q = C.from_x(frac(Qx))\n",
    "        R =  P + Q\n",
    "        zero = Ideal(C)\n",
    "        drawLine2P([float(P[0]),float(Q[0])],[float(P[1]),float(Q[1])],[-5,5])\n",
    "        plt.plot(float(P[0]),float(P[1]), 'o')\n",
    "        plt.plot(float(Q[0]),float(Q[1]), 'o')\n",
    "        plt.plot(float(R[0]),float(R[1]), 'o')\n",
    "        plt.xlim([-5,5])\n",
    "        plt.ylim([-5,5])\n",
    "        plt.annotate(r'$P$',\n",
    "             xy=(float(P[0]), float(P[1])), xycoords='data',\n",
    "             xytext=(+10, +30), textcoords='offset points', fontsize=16,\n",
    "             arrowprops=dict(arrowstyle=\"->\", connectionstyle=\"arc3,rad=.2\"))\n",
    "        plt.annotate(r'$Q$',\n",
    "             xy=(float(Q[0]), float(Q[1])), xycoords='data',\n",
    "             xytext=(+10, +30), textcoords='offset points', fontsize=16,\n",
    "             arrowprops=dict(arrowstyle=\"->\", connectionstyle=\"arc3,rad=.2\"))\n",
    "        plt.annotate(r'$R$',\n",
    "             xy=(float(R[0]), float(R[1])), xycoords='data',\n",
    "             xytext=(+10, +30), textcoords='offset points', fontsize=16,\n",
    "             arrowprops=dict(arrowstyle=\"->\", connectionstyle=\"arc3,rad=.2\"))\n",
    "\n",
    "        plt.grid()\n",
    "        plt.show()\n",
    "\n",
    "from IPython.html.widgets import interact\n",
    "interact(interactive_curve, a=[-10, 3], b=[-10,10], Px=[-20,20], Qx=[-20, 20])"
   ]
  },
  {
   "cell_type": "markdown",
   "metadata": {},
   "source": [
    "### Group\n",
    "我們這邊簡單介紹一些abstract algebra中的群論：一個set我們定義 \"addition\" 並標示為 +， 此 set G 稱之為 group, addition 必續根據下列四個性質來定義!\n",
    "\n",
    "1. Closure: 若$a,b$在$G$內, 則$a+b$也要在 $G$內\n",
    "2. Associativity: $(a+b)+c=a+(b+c)$\n",
    "3. 有 identity element $0$ 使得 $a+0=0+a=a$\n",
    "4. 所有元素有 inverse, 亦即對任意 $a$ 一定找的到 $b$ 使得 $a+b=0$\n",
    "\n",
    ">若再加上 commutativity: $a+b=b+a$ 則此 group 稱為 abelian group.\n",
    "\n",
    "我們常見的加法配上 integer numbers 組成的set $Z$ 便是 group (事實上他是 abelian group).然而自然數$N$就不是了，因為不符合第四個條件。\n",
    "\n",
    "若我們能證明某一set滿足以上性質，我們就可以借用抽象代數中的群的相關特性!! 例如: identity element是唯一的，inverse也是唯一的"
   ]
  },
  {
   "cell_type": "markdown",
   "metadata": {},
   "source": [
    "### Group Law of Elliptic Curve\n",
    "#### Geometric addition\n",
    "\n",
    "我們可以定義橢圓曲線群如下:\n",
    "\n",
    "1. Group 中的元素是 elliptic curve上的點\n",
    "2. Identity element 是無窮遠點 0;\n",
    "3. 橢圓曲線上點 P 的 inverse 是對 x 軸鏡射的點\n",
    "\n",
    "Addition定義為: 給定三個 aligned 且 non-zero 的點 P, Q, R, P+Q+R=0\n",
    "![](http://andrea.corbellini.name/images/three-aligned-points.png)\n",
    "\n",
    "經由這樣的定義我們可以得知這個點是無順序性不相關的，也就是說假設 P, Q, R 是 aligned, 則 P+(Q+R)=Q+(P+R)=R+(P+Q)=⋯=0. 因此我們的 ``+`` operator 是 associative 且 commutative 故為一個 abelian group! 既然在abelian group我們就可以把 P+Q+R=0 寫成 P+Q=-R 因此得到圖像加法如下:\n",
    "![](http://andrea.corbellini.name/images/point-addition.png)\n",
    "\n",
    "> 可以由[此](https://cdn.rawgit.com/andreacorbellini/ecc/920b29a/interactive/reals-add.html)來感受加法!!\n",
    "\n",
    "#### Algebraic addition\n",
    "接下來我們把上述加法寫成數學式，考慮兩個點$P=(x_P,y_P), Q=(x_Q,y_Q)$，假設兩者不同，通過兩點的線斜率為\n",
    "\n",
    "$m = \\frac{y_P - y_Q}{x_P - x_Q}$\n",
    "\n",
    "而他與橢圓曲線的交點為$R = (x_R, y_R)$\n",
    "\n",
    "$\\begin{array}{rcl}\n",
    "    x_R & = & m^2 - x_P - x_Q \\\\\n",
    "    y_R & = & y_P + m(x_R - x_P)\n",
    "\\end{array}$\n",
    "\n",
    "因此$(x_P, y_P) + (x_Q, y_Q) = (x_R, -y_R)$\n",
    "\n",
    "> 若$P=Q$的話，經由微分$y_P = \\pm \\sqrt{x_P^3 + ax_P + b}$ 可得 $m = \\frac{3 x_P^2 + a}{2 y_P}$\n",
    "\n",
    "### Scalar Multiplication\n",
    "連加$n$次$P$可寫成$nP$此運算稱為scalar multiplication。\n",
    "> [這邊](https://cdn.rawgit.com/andreacorbellini/ecc/920b29a/interactive/reals-mul.html)可感受乘法\n",
    "\n",
    "在實際時做上，我們可以藉由double-and-add來加速此運算"
   ]
  },
  {
   "cell_type": "markdown",
   "metadata": {},
   "source": [
    "```\n",
    "def bits(n):\n",
    "    \"\"\"\n",
    "    Generates the binary digits of n, starting\n",
    "    from the least significant bit.\n",
    "\n",
    "    bits(151) -> 1, 1, 1, 0, 1, 0, 0, 1\n",
    "    \"\"\"\n",
    "    while n:\n",
    "        yield n & 1\n",
    "        n >>= 1\n",
    "\n",
    "def double_and_add(n, x):\n",
    "    \"\"\"\n",
    "    Returns the result of n * x, computed using\n",
    "    the double and add algorithm.\n",
    "    \"\"\"\n",
    "    result = 0\n",
    "    addend = x\n",
    "\n",
    "    for bit in bits(n):\n",
    "        if bit == 1:\n",
    "            result += addend\n",
    "        addend *= 2\n",
    "\n",
    "    return result\n",
    "```"
   ]
  },
  {
   "cell_type": "markdown",
   "metadata": {},
   "source": [
    "### Logarithm\n",
    "橢圓曲線基於的數學問題是elliptic curve discret logarithm problem(ECDLP): 給定$n, P$我們可以很快利用上述方法算出$Q=nP$，然而給$Q$和$P$要推$n$就不容易了...。\n",
    "\n",
    "### Finite Field\n",
    "實數域的elliptic curve並不能拿來密碼學使用(前述是在實數中)，這邊我們介紹Galois Field (Finite Field)。 Finite field 是一個元素為有限數目的set， 一個簡單的例子是 integers modulo p ($p$為質數)。 我們通常寫成 $Z/p, GF(p), F_p$. \n",
    "\n",
    "在 field 中我們有兩種 binary operations: addition (+) 和 multiplication (·)， 兩者皆為 closed, associative 且 commutative。對此兩種運算, 都存在著唯一的identity element， 且對field內的 element 都有唯一的 inverse element。 最後 multiplicationy在field中是 distributive over addition: $x⋅(y+z)=x⋅y+x⋅z$\n",
    "\n",
    "> $x/y$在field中可寫成$x*y^{-1}$，"
   ]
  },
  {
   "cell_type": "markdown",
   "metadata": {},
   "source": [
    "## EC over Finite Field\n",
    "接下來我們將elliptic curve限制在 Finit Field中 (注意其仍為abelian group!)\n",
    "\n",
    "$\n",
    "\\begin{array}{rcl}\n",
    "  \\left\\{(x, y) \\in (\\mathbb{F}_p)^2 \\right. & \\left. | \\right. & \\left. y^2 \\equiv x^3 + ax + b \\pmod{p}, \\right. \\\\\n",
    "  & & \\left. 4a^3 + 27b^2 \\not\\equiv 0 \\pmod{p}\\right\\}\\ \\cup\\ \\left\\{0\\right\\}\n",
    "\\end{array}\n",
    "$\n",
    "\n",
    "0 為無窮遠點, 且 a 和 b 為兩個 $F_p$中的 integer.\n",
    "\n",
    "來感受一下現在他長怎麼樣吧( $y^2 \\equiv x^3 - 7x + 10 \\pmod{p}$ 當 $p=19,97,127,487$ 對每一x最多會有兩點y。 另外點是對 $y=p/2$ 對稱的!)\n",
    "\n",
    "![](http://andrea.corbellini.name/images/elliptic-curves-mod-p.png)\n",
    "\n",
    "經過此一限制之後，geometric addition會變得不太一樣(可以玩前述tool)，不過我們保持定義的話，algebra addition仍然可保持相同公式(多了modulus P)。\n",
    "\n",
    "接下來我們可以證明出 multiples of P 實際上是一個 ``cyclic subgroup of the group formed by the elliptic curve``，藉此我們進一步定義出elliptic curve的order(所有點的數目)和點的order(加幾次可以回到自己)。"
   ]
  },
  {
   "cell_type": "markdown",
   "metadata": {},
   "source": [
    "## Elliptic Curve for Cryptography\n",
    "對密碼學應用來說，我們會去選擇高order的 subgroups。 實務上我們會先選 elliptic curve, 然後計算 order (N), 選擇 high divisor的(n) 來當 subgroup order， 最後找到適合的 base point。\n",
    "\n",
    "Lagrange's theorem 告訴我們 $h=N/n$ 永遠是整數 (因為 $n$ 為 $N$的 divisor). $h$ 稱作 cofactor of the subgroup.\n",
    "\n",
    "假設 $E$ 為定義在 field $K$ 上的 elliptic curve，根據 group addition law 我們可以知道每一個$E$上的點都可以產生出一個 cyclic group $G$。若這個 $G$ 的 order 是質數的話就可以用在cryptography上。\n",
    "\n",
    "> 這表示group operation, inversion, hasing都可以很快完成，但是DLP很難解\n",
    "\n",
    "因此跟$F^*$乘法群的對照便是**我們可以用$E(K)$上的點配上點加法來類比乘法群元素**。在乘法群中，我們會選擇一個$F^*$的subgroup $G$ order為$n$，但任意選通常不會有此order，因此常見的做法是用演算法隨機hash到一個 $x \\in F^*$，然後再把他exponential 成 $N/n$，($N$為 $F^*$的元素數量)。\n",
    "\n",
    "橢圓曲線也是如此，假設$N = \\#E(K)$，\n",
    "\n",
    "  - 選一個curve $E(K)$，計算他的 order N\n",
    "  - 選一個prime $n$整除$N$，但是$n^2$不能整除$N$， 來建立出 order 為 $n$的 subgroup。並計算 cofactor $h=N/n$\n",
    "  - 選擇隨機點 $P$，然後計算 $G=hP$ (hashing也是如此做)\n",
    "  - 接下來group operation用addition，negate去反轉$y$做標，點乘法用point multiplication。\n",
    "\n",
    "若 $G$ 為 $O$, 回到 step 3. 最後我們得到 subgroup with order $n$ 和 cofactor $h$.\n",
    "\n",
    "\n",
    "### Domain Parameter\n",
    "Elliptic curve algorithms 是定義於 **cyclic subgroup of an elliptic curve over a finite field** 因此我們會有下列參數:\n",
    "\n",
    "- The prime $p$ that specifies the size of the finite field.\n",
    "- The coefficients $a$ and $b$ of the elliptic curve equation.\n",
    "- The base point $G$ that generates our subgroup.\n",
    "- The order $n$ of the subgrouop.\n",
    "- The cofactor $h$ of the subgroup.\n",
    "\n",
    "也就是 domain parameters包含tuple $(p,a,b,G,n,h)$\n",
    "\n",
    "事實上有些curve是不安全的，我們如何確保選出的curve是安全的呢，有一種常見作法如下\n",
    "![](http://andrea.corbellini.name/images/random-parameters-generation.png)\n",
    "\n",
    "> Curve 用此方法產生稱作 verifiably random. 這個用 hashes 產生 parameters 的方法叫 \"nothing up my sleeve\", 常常被用於 cryptography中\n",
    "\n",
    "他給我們一些信心，curve不會是 crafted 而有特定 vulnerabilities 只有設計者知道。 事實上設計者給我們seed和curve， 他沒辦法控制我們選取 parameters $a$ 和 $b$， 因此比較有安全感。\n",
    "\n",
    "> 標準產生和驗證 random curves 的方法訂於 ANSI X9.62 並用到 SHA-1. 可以看[SECG](http://www.secg.org/sec1-v2.pdf)的相關說明\n",
    "\n",
    "可以用以下程式來確認:"
   ]
  },
  {
   "cell_type": "code",
   "execution_count": 2,
   "metadata": {
    "collapsed": false
   },
   "outputs": [
    {
     "name": "stdout",
     "output_type": "stream",
     "text": [
      "prime192v1: ok\n",
      "prime192v2: ok\n",
      "prime192v3: ok\n",
      "prime239v1: ok\n",
      "prime239v2: ok\n",
      "prime239v3: ok\n",
      "prime256v1: ok\n",
      "secp112r1: ok\n",
      "secp112r2: ok\n",
      "secp128r1: ok\n",
      "secp128r2: ok\n",
      "secp160r1: ok\n",
      "secp160r2: ok\n",
      "secp224r1: ok\n",
      "secp384r1: ok\n",
      "secp521r1: ok\n",
      "wrong192v1: failed\n",
      "wrong192v2: failed\n",
      "wrong192v3: failed\n",
      "wrong192v4: failed\n"
     ]
    }
   ],
   "source": [
    "%%bash\n",
    "python3 verifyrandom.py"
   ]
  },
  {
   "cell_type": "markdown",
   "metadata": {},
   "source": [
    "## ECC\n",
    "\n",
    "- Private key 為在$\\{1,…,n−1\\}$之間的 random integer $d$ ($n$ 為 subgroup 的order).\n",
    "- Public key 為 $H=dG$ 這個point ($G$ 為 subgroup的base point).\n",
    "\n",
    "接下來我們將重點放在 ECDH (Elliptic curve Diffie-Hellman)(用於加密), 和 ECDSA (Elliptic Curve Digital Signature Algorithm)(用於簽章)"
   ]
  },
  {
   "cell_type": "code",
   "execution_count": 3,
   "metadata": {
    "collapsed": false
   },
   "outputs": [
    {
     "name": "stdout",
     "output_type": "stream",
     "text": [
      "Curve: secp256k1\n",
      "Alice's private key: 0xfe87acc1df5d3e122da8818d34a4d6627b38d9a563fc407fff15a232575f5ec1\n",
      "Alice's public key: (0xd14173fd42abcc2afae88de724c03b2ffd263236d7449c5bdf9a7814804094ee, 0x61f9604e3bdc276bafcbe0bbc88a791ef58a0942b7a109f3cead5641f6b54b41)\n",
      "Bob's private key: 0x90d1ed12fb4df83d0eb733527cc34830a6ad8d8fa2f29cafd9c30385922ff80d\n",
      "Bob's public key: (0xf8732340a6795a006d036b21cb19117733a279e4121d0b45cc2b21ca9c022052, 0x819d30959eb3b726e834ec650b266c243ac11d0479a09a7c3e23fca774f8d969)\n",
      "Shared secret: (0xbed0955dd53e27578e53d1f23e950e1241b7160d50dcc328308dbaa65f32da92, 0x6912aa2503a8c5d4d3bbf42e2819816b1c259a427830a92f4256ebc163de31ec)\n"
     ]
    }
   ],
   "source": [
    "%%bash\n",
    "python3 ecdhe.py"
   ]
  },
  {
   "cell_type": "code",
   "execution_count": 4,
   "metadata": {
    "collapsed": false
   },
   "outputs": [
    {
     "name": "stdout",
     "output_type": "stream",
     "text": [
      "Curve: secp256k1\n",
      "Private key: 0x9a15596a2a3c2d4b1f25715a9724d09ec7741a20681bf8af3f3ec6260fdb2e3f\n",
      "Public key: (0x59c38faead652e20cd34bc9b723919ef27143ac9efdc1374266e260c77d0f332, 0xae2d13aee73a28f4cfca2c36e2ca0b569d8f4685d082f09c9e01d2ff4c2125c0)\n",
      "\n",
      "Message: b'Hello!'\n",
      "Signature: (0xc22e373ddcd1863f8a08ef2ddfb28224108aa623c5da1017e3d44c8c869ec414, 0xe9cf2d0fe54fe1e4528b5f9a63d9201e59d7113aff5c4660f6364f6f46ba47ce)\n",
      "Verification: signature matches\n",
      "\n",
      "Message: b'Hi there!'\n",
      "Verification: invalid signature\n",
      "\n",
      "Message: b'Hello!'\n",
      "Public key: (0x7fef30696cb1d9d905c564e80212c55260471d5355a1bbb444ebae80f685e4c2, 0xc2d39bdec913e70cdc7273b89224d8388ee3907fa6e2c8e8ec68bafbee308b01)\n",
      "Verification: invalid signature\n"
     ]
    }
   ],
   "source": [
    "%%bash\n",
    "python3 ecdsa.py"
   ]
  },
  {
   "cell_type": "markdown",
   "metadata": {},
   "source": [
    "> 最後，我們上述都是在prime filed, affine coordinate, Weierstrass form curve，更多的其他選擇和加法公式可參考 [EFD](https://hyperelliptic.org/EFD/)"
   ]
  },
  {
   "cell_type": "markdown",
   "metadata": {},
   "source": [
    "## Pyelliptic\n",
    "在這邊我們先使用 PyElliptic 這個提供 ECC class 的library，來實際應用在金鑰交換以及數位簽章上\n",
    "\n",
    "### Generating Keys\n",
    "\n",
    "假設我們AES用256 bit, 所以這邊至少要用到 P521的curve"
   ]
  },
  {
   "cell_type": "code",
   "execution_count": 5,
   "metadata": {
    "collapsed": true
   },
   "outputs": [],
   "source": [
    "import pyelliptic\n",
    "def generate_key():\n",
    "     return pyelliptic.ECC(curve='secp521r1')"
   ]
  },
  {
   "cell_type": "markdown",
   "metadata": {},
   "source": [
    "Public 和 private keys 可以從curve exported 出來"
   ]
  },
  {
   "cell_type": "code",
   "execution_count": 6,
   "metadata": {
    "collapsed": false
   },
   "outputs": [
    {
     "name": "stdout",
     "output_type": "stream",
     "text": [
      "secp521r1\n",
      "011daa58782f1da37bb392ea5e715bea15f3e15330368ad01303d9f95e4a5753d999bb2bad0342f229056d3ccc245310180f0f1ceadd60b1d336b81b3f74fe0fab53 132 66\n",
      "0401032e7dbd63c1fe986626e2710d01b247e835aa7b5e9c1258449bbdaa371bc44df1e034d91735f63894ac4f97abe3f86e55fb1ed0283ff27309e47cb5dd61a0c4ac01035ac5ea33ff53b062a1a94e3dc2c6c906350bf1d719b6e883df66e2e564c6c27fa75eace5feaebb950d1c4d7f281933faccdf7d8b00dddd9c4c4ed4e1a4099dc3 266 133\n"
     ]
    }
   ],
   "source": [
    "curve = generate_key()\n",
    "priv = curve.get_privkey()\n",
    "pub = curve.get_pubkey()\n",
    "print curve.get_curve()\n",
    "print priv.encode('hex'), len(priv.encode('hex')), len(priv)\n",
    "print pub.encode('hex'), len(pub.encode('hex')), len(pub)"
   ]
  },
  {
   "cell_type": "markdown",
   "metadata": {},
   "source": [
    "### Signing Messages\n",
    "\n",
    "通常做數位簽章的時候， 我們會先計算 message 的 hash 再做簽章。 PyElliptic 會使用 SHA-512 來做 ECDSA."
   ]
  },
  {
   "cell_type": "code",
   "execution_count": 7,
   "metadata": {
    "collapsed": true
   },
   "outputs": [],
   "source": [
    "def sign(key, msg):\n",
    "    \"\"\"Sign a message with the ECDSA key.\"\"\"\n",
    "    return key.sign(msg)"
   ]
  },
  {
   "cell_type": "markdown",
   "metadata": {},
   "source": [
    "驗證時候的input是 serialised public key 然後匯入 pyelliptic.ecc.ECC instance 做運算"
   ]
  },
  {
   "cell_type": "code",
   "execution_count": 8,
   "metadata": {
    "collapsed": true
   },
   "outputs": [],
   "source": [
    "def verify(pub, msg, sig):\n",
    "    \"\"\"Verify the signature on a message.\"\"\"\n",
    "    return pyelliptic.ECC(curve='secp521r1', pubkey=pub).verify(sig, msg)"
   ]
  },
  {
   "cell_type": "markdown",
   "metadata": {},
   "source": [
    "### Encryption\n",
    "\n",
    "現在來說明如何用ECDH來產生shared key"
   ]
  },
  {
   "cell_type": "markdown",
   "metadata": {},
   "source": [
    "用 pyelliptic時， private key 要是 instance of pyelliptic.ecc.ECC; 而 public key 要是 serialised form."
   ]
  },
  {
   "cell_type": "code",
   "execution_count": 9,
   "metadata": {
    "collapsed": false
   },
   "outputs": [
    {
     "data": {
      "text/plain": [
       "32"
      ]
     },
     "execution_count": 9,
     "metadata": {},
     "output_type": "execute_result"
    }
   ],
   "source": [
    "shared_key = curve.get_ecdh_key(pub)\n",
    "len(shared_key)"
   ]
  },
  {
   "cell_type": "code",
   "execution_count": 10,
   "metadata": {
    "collapsed": true
   },
   "outputs": [],
   "source": [
    "def shared_key(curve, pub):\n",
    "    \"\"\"Generate a new shared encryption key from a keypair.\"\"\"\n",
    "    shared_key = curve.get_ecdh_key(pub)\n",
    "    return shared_key"
   ]
  },
  {
   "cell_type": "markdown",
   "metadata": {},
   "source": [
    "### Ephemeral keys\n",
    "\n",
    "接下來我們來看看常見的 hybrid encryption的方式，我們會用 ephemeral keys 來做 encryption;也就是我們每次加密會產生 elliptic curve key pair 這種加密方法叫 elliptic curve integrated encryption scheme,  ECIES。 (或更準確來說，因為 key exchange 為 on the fly 完成，故稱為 ECDHE)"
   ]
  },
  {
   "cell_type": "code",
   "execution_count": 11,
   "metadata": {
    "collapsed": false
   },
   "outputs": [],
   "source": [
    "import struct\n",
    "import Crypto.Random.OSRNG.posix as RNG\n",
    "import Crypto.Cipher.AES as AES \n",
    "__AES_KEYLEN = 32\n",
    "\n",
    "def generate_nonce():\n",
    "    \"\"\"Generate a random number used once.\"\"\"\n",
    "    return RNG.new().read(AES.block_size)\n",
    "\n",
    "def pad_data(data):\n",
    "    \"\"\"pad_data pads out the data to an AES block length.\"\"\"\n",
    "    # return data if no padding is required\n",
    "    if len(data) % 16 == 0:\n",
    "        return data\n",
    "\n",
    "    # subtract one byte that should be the 0x80\n",
    "    # if 0 bytes of padding are required, it means only\n",
    "    # a single \\x80 is required.\n",
    "\n",
    "    padding_required = 15 - (len(data) % 16)\n",
    "\n",
    "    data = '%s\\x80' % data\n",
    "    data = '%s%s' % (data, '\\x00' * padding_required)\n",
    "\n",
    "    return data\n",
    "\n",
    "def unpad_data(data):\n",
    "    \"\"\"unpad_data removes padding from the data.\"\"\"\n",
    "    if not data:\n",
    "        return data\n",
    "\n",
    "    data = data.rstrip('\\x00')\n",
    "    if data[-1] == '\\x80':\n",
    "        return data[:-1]\n",
    "    else:\n",
    "        return data\n",
    "\n",
    "def sym_encrypt(data, key):\n",
    "     \"\"\"\n",
    "     Encrypt data using AES in CBC mode. The IV is prepended to the\n",
    "     ciphertext.\n",
    "     \"\"\"\n",
    "     data = pad_data(data)\n",
    "     ivec = generate_nonce()\n",
    "     aes = AES.new(key, AES.MODE_CBC, ivec)\n",
    "     ctxt = aes.encrypt(data)\n",
    "     return ivec + ctxt\n",
    " \n",
    " \n",
    "def sym_decrypt(ciphertext, key):\n",
    "     \"\"\"\n",
    "     Decrypt a ciphertext encrypted with AES in CBC mode; assumes the IV\n",
    "     has been prepended to the ciphertext.\n",
    "     \"\"\"\n",
    "     if len(ciphertext) <= AES.block_size:\n",
    "         raise Exception(\"Invalid ciphertext.\")\n",
    "     ivec = ciphertext[:AES.block_size]\n",
    "     ciphertext = ciphertext[AES.block_size:]\n",
    "     aes = AES.new(key, AES.MODE_CBC, ivec)\n",
    "     data = aes.decrypt(ciphertext)\n",
    "     return unpad_data(data)\n",
    "\n",
    "\n",
    "def encrypt(pub, msg):\n",
    "    \"\"\"\n",
    "    Encrypt the message to the public key using ECIES. The public key\n",
    "    should be a serialised public key.\n",
    "    \"\"\"\n",
    "    ephemeral = generate_key() # Alice's private key\n",
    "    key = shared_key(ephemeral, pub) #Symmetric key derives from ECDH (alice_priv + bob_pub)\n",
    "    ephemeral_pub = struct.pack('>H', len(ephemeral.get_pubkey()))\n",
    "    print ephemeral_pub, len(ephemeral.get_pubkey())\n",
    "    ephemeral_pub += ephemeral.get_pubkey() # Alice's public key\n",
    "    print ephemeral_pub\n",
    "    return ephemeral_pub + sym_encrypt(msg, key)\n",
    "\n",
    "def decrypt(priv, msg):\n",
    "    \"\"\"\n",
    "    Decrypt an ECIES-encrypted message with the private key.\n",
    "    \"\"\"\n",
    "    ephemeral_len = struct.unpack('>H', msg[:2])[0]\n",
    "    ephemeral_pub = msg[2:2+ephemeral_len] # Alice's public key\n",
    "    key = shared_key(priv, ephemeral_pub) #symmetric key derives from ECDH(bob_priv, alice_pub)\n",
    "    return sym_decrypt(msg[2+ephemeral_len:], key)"
   ]
  },
  {
   "cell_type": "markdown",
   "metadata": {},
   "source": [
    "上述我們將 public key 加到開頭， 包含 public key 的長度，然後將 ciphertext 接在後面。 解密時需要解回 public key (先讀取 length 然後從  message 中擷取出 public key) 接著用ECDH 找出 shared key後進行訊息加密"
   ]
  },
  {
   "cell_type": "code",
   "execution_count": 12,
   "metadata": {
    "collapsed": false
   },
   "outputs": [
    {
     "name": "stdout",
     "output_type": "stream",
     "text": [
      "\u0000� 133\n",
      "\u0000�\u0004\u0001Y�I�J\t���T\u0017�\u0019�d�0x`l:�\u001c",
      "��\u000e�@j��aԬ��M�{�K�\u0010m��'��C\u001d",
      "Ș�|N�o�!n#\n",
      "\u0001�-�\u0000s\u000b",
      "\u0013,�w�t���I<5k\u0000��\u0001��h�jh\u0002�'�K��J���^�\u000f�4�\u000b",
      "�\u000f55��\n",
      "8��8F�����\n",
      "AG is god\n"
     ]
    }
   ],
   "source": [
    "curve = generate_key() # Bob generate private key\n",
    "pub  = curve.get_pubkey() # Alice get the pubkey from Bob\n",
    "plaintext = 'AG is god'\n",
    "ciphertext = encrypt(pub, plaintext) # Alice encrypt message\n",
    "print decrypt(curve, ciphertext) #Bob decrypt it"
   ]
  },
  {
   "cell_type": "markdown",
   "metadata": {},
   "source": [
    "### Key Exchange\n",
    "\n",
    "那麼 Alice 要如何得知public key是真的屬於Bob的呢? 認證方法有兩種: centralised and decentralised. \n",
    "\n",
    "TLS/SSL用的是 centralised 的方法: root certificate1 authority (CA) 簽署 intermediary CA 的 key, 然後intermediate CA 再簽署 user keys. 例如 Bob 產生 SSL keypair. 然後接著產生 certificate signing request (CSR) 並送給 CA 要求認證. CA根據不同等級進行收費和認證，最後進行簽署. Bob 將簽署好的 SSL certificate放上webserver， Alice 若相信簽署的CA就會用Bob的 public key，通常 Alice 的 web browser 會有 計載了部分 CA 的 public keys (像是 VeriSigns) 並幫她驗證各個網站的憑證. 這套系統就是 public key infrastructure (PKI)\n",
    "\n",
    "另一個做法是 PGP 用 decentralised model. 在 PGP 中有一個 Web of Trust (信任網). 例如當 Carol 要傳訊息給 Bob 並把她的 public key給Bob， Bob 會去確認 Carol的 key 是否經過其他人簽署. 例如若　Bob 知道Alice的public key屬於 Alice 且相信她， 而 Alice 曾簽署 Carol’s key. Bob 在其憑證上看到 Alice的 signature 則他對 Carol的信任度就會提高. 接著假設 Dave 的 key 有被 Carol 簽署過, Bob 會對 Dave多一些信心, 但可能沒那麼高，因為他未必相信Carol是合法的簽署者. 基由以上機制，Bob會有 **various trust levels**, 進而形成 web of trust \n",
    "\n",
    "接下來看一個完整的例子"
   ]
  },
  {
   "cell_type": "code",
   "execution_count": 13,
   "metadata": {
    "collapsed": false
   },
   "outputs": [
    {
     "name": "stdout",
     "output_type": "stream",
     "text": [
      "Hello Bob\n",
      "True\n",
      "For ECDH key agreement, the keys must be defined on the same curve !\n",
      "04c50c42da4996c0d136176e03129cdfe74cc6e2ccf94de8a19c817006675514\n",
      "04c50c42da4996c0d136176e03129cdfe74cc6e2ccf94de8a19c817006675514\n"
     ]
    }
   ],
   "source": [
    "import binascii\n",
    "# Asymmetric encryption\n",
    "alice = pyelliptic.ECC() # default curve: sect283r1\n",
    "bob = pyelliptic.ECC(curve='sect571r1')\n",
    "\n",
    "ciphertext = alice.encrypt(\"Hello Bob\", bob.get_pubkey(),\n",
    "                           ephemcurve='sect571r1')\n",
    "print(bob.decrypt(ciphertext))\n",
    "\n",
    "signature = bob.sign(\"Hello Alice\")\n",
    "# alice's job :\n",
    "print(pyelliptic.ECC(pubkey=bob.get_pubkey(),\n",
    "                     curve='sect571r1').verify(signature, \"Hello Alice\"))\n",
    "\n",
    "# ERROR !!!\n",
    "try:\n",
    "    key = alice.get_ecdh_key(bob.get_pubkey())\n",
    "except:\n",
    "    print(\"For ECDH key agreement, the keys must be defined on the same curve !\")\n",
    "\n",
    "alice = pyelliptic.ECC(curve='sect571r1')\n",
    "print(binascii.hexlify(alice.get_ecdh_key(bob.get_pubkey())))\n",
    "print(binascii.hexlify(bob.get_ecdh_key(alice.get_pubkey())))"
   ]
  },
  {
   "cell_type": "code",
   "execution_count": 17,
   "metadata": {
    "collapsed": false
   },
   "outputs": [
    {
     "data": {
      "application/json": {
       "Software versions": [
        {
         "module": "Python",
         "version": "2.7.10 64bit [GCC 5.2.1 20151010]"
        },
        {
         "module": "IPython",
         "version": "5.0.0"
        },
        {
         "module": "OS",
         "version": "Linux 4.2.0 30 generic x86_64 with Ubuntu 15.10 wily"
        },
        {
         "module": "numpy",
         "version": "1.8.2"
        },
        {
         "module": "scipy",
         "version": "0.14.1"
        },
        {
         "module": "matplotlib",
         "version": "1.4.2"
        },
        {
         "module": "pycrypto",
         "version": "2.6.1"
        },
        {
         "module": "pyelliptic",
         "version": "1.5.7"
        },
        {
         "module": "version_information",
         "version": "1.0.3"
        }
       ]
      },
      "text/html": [
       "<table><tr><th>Software</th><th>Version</th></tr><tr><td>Python</td><td>2.7.10 64bit [GCC 5.2.1 20151010]</td></tr><tr><td>IPython</td><td>5.0.0</td></tr><tr><td>OS</td><td>Linux 4.2.0 30 generic x86_64 with Ubuntu 15.10 wily</td></tr><tr><td>numpy</td><td>1.8.2</td></tr><tr><td>scipy</td><td>0.14.1</td></tr><tr><td>matplotlib</td><td>1.4.2</td></tr><tr><td>pycrypto</td><td>2.6.1</td></tr><tr><td>pyelliptic</td><td>1.5.7</td></tr><tr><td>version_information</td><td>1.0.3</td></tr><tr><td colspan='2'>Wed Jul 20 07:14:30 2016 UTC</td></tr></table>"
      ],
      "text/latex": [
       "\\begin{tabular}{|l|l|}\\hline\n",
       "{\\bf Software} & {\\bf Version} \\\\ \\hline\\hline\n",
       "Python & 2.7.10 64bit [GCC 5.2.1 20151010] \\\\ \\hline\n",
       "IPython & 5.0.0 \\\\ \\hline\n",
       "OS & Linux 4.2.0 30 generic x86\\_64 with Ubuntu 15.10 wily \\\\ \\hline\n",
       "numpy & 1.8.2 \\\\ \\hline\n",
       "scipy & 0.14.1 \\\\ \\hline\n",
       "matplotlib & 1.4.2 \\\\ \\hline\n",
       "pycrypto & 2.6.1 \\\\ \\hline\n",
       "pyelliptic & 1.5.7 \\\\ \\hline\n",
       "version_information & 1.0.3 \\\\ \\hline\n",
       "\\hline \\multicolumn{2}{|l|}{Wed Jul 20 07:14:30 2016 UTC} \\\\ \\hline\n",
       "\\end{tabular}\n"
      ],
      "text/plain": [
       "Software versions\n",
       "Python 2.7.10 64bit [GCC 5.2.1 20151010]\n",
       "IPython 5.0.0\n",
       "OS Linux 4.2.0 30 generic x86_64 with Ubuntu 15.10 wily\n",
       "numpy 1.8.2\n",
       "scipy 0.14.1\n",
       "matplotlib 1.4.2\n",
       "pycrypto 2.6.1\n",
       "pyelliptic 1.5.7\n",
       "version_information 1.0.3\n",
       "Wed Jul 20 07:14:30 2016 UTC"
      ]
     },
     "execution_count": 17,
     "metadata": {},
     "output_type": "execute_result"
    }
   ],
   "source": [
    "%reload_ext version_information\n",
    "%version_information numpy, scipy, matplotlib, pycrypto, pyelliptic, version_information"
   ]
  },
  {
   "cell_type": "markdown",
   "metadata": {
    "collapsed": true
   },
   "source": [
    "## Cryptography"
   ]
  },
  {
   "cell_type": "markdown",
   "metadata": {},
   "source": [
    "我們進一步貼近實務，通常key會經過key derivation function，上述的ECDHE 會比 ECDH更好，因為它提供了 forward secrecy\n",
    "\n",
    "> 記得對於每次 exchange() 我們需要有對應的  generate_private_key() (ECDHE key exchange)"
   ]
  },
  {
   "cell_type": "code",
   "execution_count": 4,
   "metadata": {
    "collapsed": false
   },
   "outputs": [
    {
     "name": "stdout",
     "output_type": "stream",
     "text": [
      "Downloading/unpacking cryptography==1.4\n",
      "  Downloading cryptography-1.4.tar.gz (399kB): 399kB downloaded\n",
      "  Running setup.py (path:/tmp/pip-build-JOAQBL/cryptography/setup.py) egg_info for package cryptography\n",
      "    \n",
      "    no previously-included directories found matching 'docs/_build'\n",
      "    warning: no previously-included files matching '*' found under directory 'vectors'\n",
      "Downloading/unpacking idna>=2.0 (from cryptography==1.4)\n",
      "  Downloading idna-2.1-py2.py3-none-any.whl (54kB): 54kB downloaded\n",
      "Downloading/unpacking pyasn1>=0.1.8 (from cryptography==1.4)\n",
      "  Downloading pyasn1-0.1.9-py2.py3-none-any.whl\n",
      "Downloading/unpacking six>=1.4.1 (from cryptography==1.4)\n",
      "  Downloading six-1.10.0-py2.py3-none-any.whl\n",
      "Downloading/unpacking setuptools>=11.3 (from cryptography==1.4)\n",
      "  Downloading setuptools-24.0.3-py2.py3-none-any.whl (441kB): 441kB downloaded\n",
      "Downloading/unpacking enum34 (from cryptography==1.4)\n",
      "  Downloading enum34-1.1.6-py2-none-any.whl\n",
      "Downloading/unpacking ipaddress (from cryptography==1.4)\n",
      "  Downloading ipaddress-1.0.16-py27-none-any.whl\n",
      "Downloading/unpacking cffi>=1.4.1 (from cryptography==1.4)\n",
      "  Downloading cffi-1.7.0.tar.gz (400kB): 400kB downloaded\n",
      "  Running setup.py (path:/tmp/pip-build-JOAQBL/cffi/setup.py) egg_info for package cffi\n",
      "    \n",
      "Downloading/unpacking pycparser (from cffi>=1.4.1->cryptography==1.4)\n",
      "  Downloading pycparser-2.14.tar.gz (223kB): 223kB downloaded\n",
      "  Running setup.py (path:/tmp/pip-build-JOAQBL/pycparser/setup.py) egg_info for package pycparser\n",
      "    \n",
      "    warning: no previously-included files matching 'yacctab.*' found under directory 'tests'\n",
      "    warning: no previously-included files matching 'lextab.*' found under directory 'tests'\n",
      "    warning: no previously-included files matching 'yacctab.*' found under directory 'examples'\n",
      "    warning: no previously-included files matching 'lextab.*' found under directory 'examples'\n",
      "Installing collected packages: cryptography, idna, pyasn1, six, setuptools, enum34, ipaddress, cffi, pycparser\n",
      "  Running setup.py install for cryptography\n",
      "    \n",
      "    no previously-included directories found matching 'docs/_build'\n",
      "    warning: no previously-included files matching '*' found under directory 'vectors'\n",
      "    generating cffi module 'build/temp.linux-x86_64-2.7/_padding.c'\n",
      "    generating cffi module 'build/temp.linux-x86_64-2.7/_constant_time.c'\n",
      "    generating cffi module 'build/temp.linux-x86_64-2.7/_openssl.c'\n",
      "    building '_openssl' extension\n",
      "    gcc -fno-strict-aliasing -g -O2 -DNDEBUG -g -fwrapv -O3 -Wall -fPIC -I/projects/sage/sage-6.10/local/include/python2.7 -c build/temp.linux-x86_64-2.7/_openssl.c -o build/temp.linux-x86_64-2.7/build/temp.linux-x86_64-2.7/_openssl.o\n",
      "    gcc -pthread -shared -L/projects/sage/sage-6.10/local/lib build/temp.linux-x86_64-2.7/build/temp.linux-x86_64-2.7/_openssl.o -L/projects/sage/sage-6.10/local/lib -lssl -lcrypto -lpython2.7 -o build/lib.linux-x86_64-2.7/cryptography/hazmat/bindings/_openssl.so\n",
      "    building '_constant_time' extension\n",
      "    gcc -fno-strict-aliasing -g -O2 -DNDEBUG -g -fwrapv -O3 -Wall -fPIC -I/projects/sage/sage-6.10/local/include/python2.7 -c build/temp.linux-x86_64-2.7/_constant_time.c -o build/temp.linux-x86_64-2.7/build/temp.linux-x86_64-2.7/_constant_time.o\n",
      "    gcc -pthread -shared -L/projects/sage/sage-6.10/local/lib build/temp.linux-x86_64-2.7/build/temp.linux-x86_64-2.7/_constant_time.o -L/projects/sage/sage-6.10/local/lib -lpython2.7 -o build/lib.linux-x86_64-2.7/cryptography/hazmat/bindings/_constant_time.so\n",
      "    building '_padding' extension\n",
      "    gcc -fno-strict-aliasing -g -O2 -DNDEBUG -g -fwrapv -O3 -Wall -fPIC -I/projects/sage/sage-6.10/local/include/python2.7 -c build/temp.linux-x86_64-2.7/_padding.c -o build/temp.linux-x86_64-2.7/build/temp.linux-x86_64-2.7/_padding.o\n",
      "    gcc -pthread -shared -L/projects/sage/sage-6.10/local/lib build/temp.linux-x86_64-2.7/build/temp.linux-x86_64-2.7/_padding.o -L/projects/sage/sage-6.10/local/lib -lpython2.7 -o build/lib.linux-x86_64-2.7/cryptography/hazmat/bindings/_padding.so\n",
      "\u001b[33m  Could not find .egg-info directory in install record for cryptography==1.4\n",
      "\u001b[0m  Running setup.py install for cffi\n",
      "    building '_cffi_backend' extension\n",
      "    gcc -fno-strict-aliasing -g -O2 -DNDEBUG -g -fwrapv -O3 -Wall -fPIC -DUSE__THREAD -I/projects/sage/sage-6.10/local/include/python2.7 -c c/_cffi_backend.c -o build/temp.linux-x86_64-2.7/c/_cffi_backend.o\n",
      "    gcc -pthread -shared -L/projects/sage/sage-6.10/local/lib build/temp.linux-x86_64-2.7/c/_cffi_backend.o -L/projects/sage/sage-6.10/local/lib -lffi -lpython2.7 -o build/lib.linux-x86_64-2.7/_cffi_backend.so\n",
      "    \n",
      "\u001b[33m  Could not find .egg-info directory in install record for cffi>=1.4.1 (from cryptography==1.4)\n",
      "\u001b[0m  Running setup.py install for pycparser\n",
      "    \n",
      "    warning: no previously-included files matching 'yacctab.*' found under directory 'tests'\n",
      "    warning: no previously-included files matching 'lextab.*' found under directory 'tests'\n",
      "    warning: no previously-included files matching 'yacctab.*' found under directory 'examples'\n",
      "    warning: no previously-included files matching 'lextab.*' found under directory 'examples'\n",
      "    Build the lexing/parsing tables\n",
      "\u001b[33m  Could not find .egg-info directory in install record for pycparser (from cffi>=1.4.1->cryptography==1.4)\n",
      "\u001b[0mSuccessfully installed cryptography idna pyasn1 six setuptools enum34 ipaddress cffi pycparser\n",
      "Cleaning up...\n"
     ]
    }
   ],
   "source": [
    "!pip install cryptography==1.4"
   ]
  },
  {
   "cell_type": "code",
   "execution_count": 3,
   "metadata": {
    "collapsed": false
   },
   "outputs": [],
   "source": [
    "import sys\n",
    "from os.path import expanduser\n",
    "sys.path.insert(0, expanduser('~/.local/lib/python2.7/site-packages/'))"
   ]
  },
  {
   "cell_type": "code",
   "execution_count": 4,
   "metadata": {
    "collapsed": false
   },
   "outputs": [
    {
     "name": "stdout",
     "output_type": "stream",
     "text": [
      "<module 'cryptography' from '/projects/7171577f-a330-4f46-8f6d-303bd01a7bdc/.local/lib/python2.7/site-packages/cryptography/__init__.pyc'>\n",
      "1.4\n"
     ]
    }
   ],
   "source": [
    "import cryptography\n",
    "print cryptography\n",
    "print (cryptography.__version__)"
   ]
  },
  {
   "cell_type": "code",
   "execution_count": 5,
   "metadata": {
    "collapsed": false
   },
   "outputs": [
    {
     "name": "stdout",
     "output_type": "stream",
     "text": [
      "('\\xb0\\xfdD\\x9b\\xdf\\xd3\\xec\\x9a\\x86d\\xb7\\x1b3c-\\x16\\x99p\\xeb\\x92\\x93\\x18\\x85\\xe2?\\xb2I\\x80\\x10\\xef\\x81\\xbb\\xe2*)\\xefd\\xe1\\xb6\\x14$\\xfb\\x15@\\xbey\\xe8\\x07', 48)\n"
     ]
    }
   ],
   "source": [
    "from cryptography.hazmat.backends import default_backend\n",
    "from cryptography.hazmat.primitives.asymmetric import ec\n",
    "\n",
    "message = b\"encrypted data\"\n",
    "private_key = ec.generate_private_key(\n",
    "    ec.SECP384R1(), default_backend()\n",
    ") # Alice private key\n",
    "peer_public_key = ec.generate_private_key(\n",
    "    ec.SECP384R1(), default_backend()\n",
    ").public_key() # Bob's private key and public key\n",
    "shared_key = private_key.exchange(ec.ECDH(), peer_public_key)\n",
    "print (shared_key, len(shared_key))"
   ]
  },
  {
   "cell_type": "markdown",
   "metadata": {
    "collapsed": true
   },
   "source": [
    "簽章看看吧，我們依照[FIPS 186-4](http://nvlpubs.nist.gov/nistpubs/FIPS/NIST.FIPS.186-4.pdf) 來簽\n",
    "\n",
    "``decode_dss_signature()`` 可以解回DER形式儲存的 signature\n",
    "\n",
    "> 複習一下，PEM 為 encapsulation format,他可以是數種不同的 key types. 另外 PEM keys 是可讀的會有以下形式: -----BEGIN {format}----- ....-----END {format}-----.\n",
    "\n",
    "> 另一方面，DER 是 ASN.1 encoding type.他不是encapsulation且 data 是 binary"
   ]
  },
  {
   "cell_type": "code",
   "execution_count": 6,
   "metadata": {
    "collapsed": false
   },
   "outputs": [
    {
     "name": "stdout",
     "output_type": "stream",
     "text": [
      "('0e\\x020E\\xbb8\\xda\\r?\\x03\\xed\\x91\\xb2\\xc5>\\x8cku\\xa4\\xfc\\xd3J\\xae\\xfe\\x00\\xa9OH#\\xbaY\\xdc\\xe2[\\x1b\\xac\\xb1|\\\\\\xd7yv\\x05rj@\\xe6\\x9f\\x01N\\xd2\\x021\\x00\\xf3\\x87|&R\\xb4\\xaf\\x06\\xcd\\xda\\xc6!\\xd2\\xa8 \\x9c\\xb3\\xda\\xfe\\xaf\\xb8\\xe4\\xe1p\\xa2\\xe0\\xe4\\xfa\\x86\\xa8\\xb3d\\xee\\xba\\x0eA\\xe3\\xcc4I\\x0f\\xafk\\xd5\\xd0s\\xda\\xfc', (10732634931934614946651172655697691162809083884759133819765412693530184615913104662494149326616520739442363174309586L, 37482580271750377263786983274074406872736715159614656871339724431020335622131783853426372467313188754138993962244860L))\n"
     ]
    },
    {
     "data": {
      "text/plain": [
       "True"
      ]
     },
     "execution_count": 6,
     "metadata": {},
     "output_type": "execute_result"
    }
   ],
   "source": [
    "from cryptography.hazmat.backends import default_backend\n",
    "from cryptography.hazmat.primitives import hashes\n",
    "from cryptography.hazmat.primitives.asymmetric import ec\n",
    "from cryptography.hazmat.primitives.asymmetric.utils import decode_dss_signature\n",
    "\n",
    "private_key = ec.generate_private_key(\n",
    "    ec.SECP384R1(), default_backend()\n",
    ") # Alice private key\n",
    "public_key = private_key.public_key() # Alice public key\n",
    "signer = private_key.signer(ec.ECDSA(hashes.SHA256())) # Specify signing alog. and hash function\n",
    "message = b\"this is some data I'd like to sign\"\n",
    "signer.update(message)\n",
    "signature = signer.finalize()\n",
    "print (signature, decode_dss_signature(signature))\n",
    "verifier = public_key.verifier(signature,ec.ECDSA(hashes.SHA256()))\n",
    "verifier.update(message)\n",
    "verifier.verify()"
   ]
  },
  {
   "cell_type": "markdown",
   "metadata": {},
   "source": [
    "## OpenSSL\n",
    "\n",
    "1) Use Nacl, Ed25519, or RFC6979.\n",
    "\n",
    "You care about this if: you're designing a new cryptocurrency. Or, a system to sign Ruby Gems or Vagrant images, or a DRM scheme, where the authenticity of a series of files arriving at random times needs to be checked offline against the same secret key. Or, you're designing an encrypted message transport.\n",
    "\n",
    "The allegations from the previous answer are incorporated herein as if stated in full.\n",
    "\n",
    "In 10+ years of doing software security assessments I can count on none fingers the number of RSA-PSS users I was paid to look at. RSA-PSS is an academic recommendation.\n",
    "\n",
    "The two dominating use cases within the last 10 years for asymmetric signatures are cryptocurrencies and forward-secret key agreement, as with ECDHE-TLS. The dominating algorithms for these use cases are all elliptic-curve based. Be wary of new systems that use RSA signatures.\n",
    "\n",
    "In the last few years there has been a major shift away from conventional DSA signatures and towards misuse-resistent \"deterministic\" signature schemes, of which EdDSA and RFC6979 are the best examples. You can think of these schemes as \"user-proofed\" responses to the Playstation 3 ECDSA flaw, in which reuse of a random number leaked secret keys. Use deterministic signatures in preference to any other signature scheme.\n",
    "\n",
    "Avoid: RSA-PKCS1v15, RSA, ECDSA, DSA; really, especially avoid conventional DSA and ECDSA.\n",
    "\n",
    "\n",
    "\n",
    "\n",
    "2) Diffie-Hellman (Was: Operate over the 2048-bit Group #14 with a generator of 2): Probably still DH-2048, or Nacl.\n",
    "\n",
    "You care about this if: you're designing an encrypted transport or messaging system that will be used someday by a stranger, and so static AES keys won't work.\n",
    "\n",
    "This is the trickiest one. Here is roughly the set of considerations:\n",
    "\n",
    "If you can just use Nacl, use Nacl. You don't even have to care what Nacl does.\n",
    "If you can use a very trustworthy library, use Curve25519; it's the modern ECDH curve with the best software support and the most analysis. People really beat the crap out of Curve25519 when they tried to get it standardized for TLS. There are stronger curves, but none supported as well as Curve25519.\n",
    "\n",
    "But don't implement Curve25519 yourself or port the C code for it.\n",
    "\n",
    "If you can't use a very trustworthy library for ECDH but can for DH, use DH-2048 with a standard 2048 bit group, like Colin says, but only if you can hardcode the DH parameters.\n",
    "\n",
    "But don't use conventional DH if you need to negotiate parameters or interoperate with other implementations.\n",
    "If you have to do handshake negotiation or interoperate with older software, consider using NIST P-256, which has very widespread software support. Hardcoded-param DH-2048 is safer than NIST P-256, but NIST P-256 is safer than negotiated DH. But only if you have very trustworthy library support, because NIST P-256 has some pitfalls. P-256 is probably the safest of the NIST curves; don't go down to -224. Isn't crypto fun?\n",
    "\n",
    "If your threat model is criminals, prefer DH-1024 to sketchy curve libraries. If your threat model is governments, prefer sketchy curve libraries to DH-1024. But come on, find a way to one of the previous recommendations.\n",
    "It sucks that DH (really, \"key agreement\") is such an important crypto building block, but it is.\n",
    "\n",
    "Avoid: conventional DH, SRP, J-PAKE, handshakes and negotiation, elaborate key negotiation schemes that only use block ciphers, srand(time()).\n",
    "\n",
    "\n",
    "\n",
    "3) Website security (Was: Use OpenSSL.): Remains: OpenSSL, or BoringSSL if you can. Or just use AWS ELBs.\n",
    "\n",
    "You care about this if: you have a website.\n",
    "\n",
    "By \"website security\", Colin means \"the library you use to make your web server speak HTTPS\". Believe it or not, OpenSSL is still probably the right decision here, if you can't just delegate this to Amazon and use HTTPS elastic load balancers, which makes this their problem not yours.\n",
    "\n",
    "Avoid: offbeat TLS libraries like PolarSSL, GnuTLS, and MatrixSSL.\n",
    "\n",
    "4) Client-server application security (Was: ship RSA keys and do custom RSA protocol) Use TLS.\n",
    "\n",
    "You care about this if: the previous recommendations about public-key crypto were relevant to you.\n",
    "\n",
    "What happens when you design your own custom RSA protocol is that 1-18 months afterwards, hopefully sooner but often later, you discover that you made a mistake and your protocol had virtually no security. That happened to Colin, but a better example is Salt Stack. Salt managed to deploy e=1 RSA.\n",
    "\n",
    "It seems a little crazy to recommend TLS given its recent history:\n",
    "\n",
    "The Logjam DH negotiation attack\n",
    "The FREAK export cipher attack\n",
    "The POODLE CBC oracle attack\n",
    "The RC4 fiasco\n",
    "The CRIME compression attack\n",
    "The Lucky13 CBC padding oracle timing attack\n",
    "The BEAST CBC chained IV attack\n",
    "Heartbleed\n",
    "Renegotiation\n",
    "Triple Handshakes\n",
    "Compromised CAs\n",
    "Here's why you should still use TLS for your custom transport problem:\n",
    "\n",
    "Many of these attacks only work against browsers, because they rely on the victim accepting and executing attacker-controlled Javascript in order to generate repeated known/chosen plaintexts.\n",
    "Most of these attacks can be mitigated by hardcoding TLS 1.2+, ECDHE and AES-GCM. That sounds tricky, and it is, but it's less tricky than designing your own transport protocol with ECDHE and AES-GCM!\n",
    "In a custom transport scenario, you don't need to depend on CAs: you can self-sign a certificate and ship it with your code, just like Colin suggests you do with RSA keys.\n",
    "Avoid: designing your own encrypted transport, which is a genuinely hard engineering problem; using TLS but in a default configuration, like, with \"curl\"; using \"curl\", IPSEC.\n",
    "\n",
    "5) Online backups (Was: Use Tarsnap): Remains Tarsnap.\n"
   ]
  },
  {
   "cell_type": "code",
   "execution_count": 7,
   "metadata": {
    "collapsed": false
   },
   "outputs": [
    {
     "name": "stdout",
     "output_type": "stream",
     "text": [
      "  secp112r1 : SECG/WTLS curve over a 112 bit prime field\n",
      "  secp112r2 : SECG curve over a 112 bit prime field\n",
      "  secp128r1 : SECG curve over a 128 bit prime field\n",
      "  secp128r2 : SECG curve over a 128 bit prime field\n",
      "  secp160k1 : SECG curve over a 160 bit prime field\n",
      "  secp160r1 : SECG curve over a 160 bit prime field\n",
      "  secp160r2 : SECG/WTLS curve over a 160 bit prime field\n",
      "  secp192k1 : SECG curve over a 192 bit prime field\n",
      "  secp224k1 : SECG curve over a 224 bit prime field\n",
      "  secp224r1 : NIST/SECG curve over a 224 bit prime field\n",
      "  secp256k1 : SECG curve over a 256 bit prime field\n",
      "  secp384r1 : NIST/SECG curve over a 384 bit prime field\n",
      "  secp521r1 : NIST/SECG curve over a 521 bit prime field\n",
      "  prime192v1: NIST/X9.62/SECG curve over a 192 bit prime field\n",
      "  prime192v2: X9.62 curve over a 192 bit prime field\n",
      "  prime192v3: X9.62 curve over a 192 bit prime field\n",
      "  prime239v1: X9.62 curve over a 239 bit prime field\n",
      "  prime239v2: X9.62 curve over a 239 bit prime field\n",
      "  prime239v3: X9.62 curve over a 239 bit prime field\n",
      "  prime256v1: X9.62/SECG curve over a 256 bit prime field\n",
      "  sect113r1 : SECG curve over a 113 bit binary field\n",
      "  sect113r2 : SECG curve over a 113 bit binary field\n",
      "  sect131r1 : SECG/WTLS curve over a 131 bit binary field\n",
      "  sect131r2 : SECG curve over a 131 bit binary field\n",
      "  sect163k1 : NIST/SECG/WTLS curve over a 163 bit binary field\n",
      "  sect163r1 : SECG curve over a 163 bit binary field\n",
      "  sect163r2 : NIST/SECG curve over a 163 bit binary field\n",
      "  sect193r1 : SECG curve over a 193 bit binary field\n",
      "  sect193r2 : SECG curve over a 193 bit binary field\n",
      "  sect233k1 : NIST/SECG/WTLS curve over a 233 bit binary field\n",
      "  sect233r1 : NIST/SECG/WTLS curve over a 233 bit binary field\n",
      "  sect239k1 : SECG curve over a 239 bit binary field\n",
      "  sect283k1 : NIST/SECG curve over a 283 bit binary field\n",
      "  sect283r1 : NIST/SECG curve over a 283 bit binary field\n",
      "  sect409k1 : NIST/SECG curve over a 409 bit binary field\n",
      "  sect409r1 : NIST/SECG curve over a 409 bit binary field\n",
      "  sect571k1 : NIST/SECG curve over a 571 bit binary field\n",
      "  sect571r1 : NIST/SECG curve over a 571 bit binary field\n",
      "  c2pnb163v1: X9.62 curve over a 163 bit binary field\n",
      "  c2pnb163v2: X9.62 curve over a 163 bit binary field\n",
      "  c2pnb163v3: X9.62 curve over a 163 bit binary field\n",
      "  c2pnb176v1: X9.62 curve over a 176 bit binary field\n",
      "  c2tnb191v1: X9.62 curve over a 191 bit binary field\n",
      "  c2tnb191v2: X9.62 curve over a 191 bit binary field\n",
      "  c2tnb191v3: X9.62 curve over a 191 bit binary field\n",
      "  c2pnb208w1: X9.62 curve over a 208 bit binary field\n",
      "  c2tnb239v1: X9.62 curve over a 239 bit binary field\n",
      "  c2tnb239v2: X9.62 curve over a 239 bit binary field\n",
      "  c2tnb239v3: X9.62 curve over a 239 bit binary field\n",
      "  c2pnb272w1: X9.62 curve over a 272 bit binary field\n",
      "  c2pnb304w1: X9.62 curve over a 304 bit binary field\n",
      "  c2tnb359v1: X9.62 curve over a 359 bit binary field\n",
      "  c2pnb368w1: X9.62 curve over a 368 bit binary field\n",
      "  c2tnb431r1: X9.62 curve over a 431 bit binary field\n",
      "  wap-wsg-idm-ecid-wtls1: WTLS curve over a 113 bit binary field\n",
      "  wap-wsg-idm-ecid-wtls3: NIST/SECG/WTLS curve over a 163 bit binary field\n",
      "  wap-wsg-idm-ecid-wtls4: SECG curve over a 113 bit binary field\n",
      "  wap-wsg-idm-ecid-wtls5: X9.62 curve over a 163 bit binary field\n",
      "  wap-wsg-idm-ecid-wtls6: SECG/WTLS curve over a 112 bit prime field\n",
      "  wap-wsg-idm-ecid-wtls7: SECG/WTLS curve over a 160 bit prime field\n",
      "  wap-wsg-idm-ecid-wtls8: WTLS curve over a 112 bit prime field\n",
      "  wap-wsg-idm-ecid-wtls9: WTLS curve over a 160 bit prime field\n",
      "  wap-wsg-idm-ecid-wtls10: NIST/SECG/WTLS curve over a 233 bit binary field\n",
      "  wap-wsg-idm-ecid-wtls11: NIST/SECG/WTLS curve over a 233 bit binary field\n",
      "  wap-wsg-idm-ecid-wtls12: WTLS curvs over a 224 bit prime field\n",
      "  Oakley-EC2N-3: \n",
      "\tIPSec/IKE/Oakley curve #3 over a 155 bit binary field.\n",
      "\tNot suitable for ECDSA.\n",
      "\tQuestionable extension field!\n",
      "  Oakley-EC2N-4: \n",
      "\tIPSec/IKE/Oakley curve #4 over a 185 bit binary field.\n",
      "\tNot suitable for ECDSA.\n",
      "\tQuestionable extension field!\n",
      "  brainpoolP160r1: RFC 5639 curve over a 160 bit prime field\n",
      "  brainpoolP160t1: RFC 5639 curve over a 160 bit prime field\n",
      "  brainpoolP192r1: RFC 5639 curve over a 192 bit prime field\n",
      "  brainpoolP192t1: RFC 5639 curve over a 192 bit prime field\n",
      "  brainpoolP224r1: RFC 5639 curve over a 224 bit prime field\n",
      "  brainpoolP224t1: RFC 5639 curve over a 224 bit prime field\n",
      "  brainpoolP256r1: RFC 5639 curve over a 256 bit prime field\n",
      "  brainpoolP256t1: RFC 5639 curve over a 256 bit prime field\n",
      "  brainpoolP320r1: RFC 5639 curve over a 320 bit prime field\n",
      "  brainpoolP320t1: RFC 5639 curve over a 320 bit prime field\n",
      "  brainpoolP384r1: RFC 5639 curve over a 384 bit prime field\n",
      "  brainpoolP384t1: RFC 5639 curve over a 384 bit prime field\n",
      "  brainpoolP512r1: RFC 5639 curve over a 512 bit prime field\n",
      "  brainpoolP512t1: RFC 5639 curve over a 512 bit prime field\n"
     ]
    }
   ],
   "source": [
    "%%bash\n",
    "openssl ecparam -list_curves"
   ]
  },
  {
   "cell_type": "code",
   "execution_count": 8,
   "metadata": {
    "collapsed": false
   },
   "outputs": [
    {
     "name": "stdout",
     "output_type": "stream",
     "text": [
      "Field Type: prime-field\n",
      "Prime:\n",
      "    00:db:7c:2a:bf:62:e3:5e:66:80:76:be:ad:20:8b\n",
      "A:   \n",
      "    00:db:7c:2a:bf:62:e3:5e:66:80:76:be:ad:20:88\n",
      "B:   \n",
      "    65:9e:f8:ba:04:39:16:ee:de:89:11:70:2b:22\n",
      "Generator (uncompressed):\n",
      "    04:09:48:72:39:99:5a:5e:e7:6b:55:f9:c2:f0:98:\n",
      "    a8:9c:e5:af:87:24:c0:a2:3e:0e:0f:f7:75:00\n",
      "Order: \n",
      "    00:db:7c:2a:bf:62:e3:5e:76:28:df:ac:65:61:c5\n",
      "Cofactor:  1 (0x1)\n"
     ]
    }
   ],
   "source": [
    "%%bash\n",
    "openssl ecparam -param_enc explicit -conv_form uncompressed -text -noout -no_seed -name secp112r1"
   ]
  },
  {
   "cell_type": "markdown",
   "metadata": {},
   "source": [
    "> 6-4 sony ps3的 attack"
   ]
  },
  {
   "cell_type": "markdown",
   "metadata": {
    "collapsed": true
   },
   "source": [
    "## Discrte Logarithm Problem\n",
    "給定橢圓曲線上兩點 $P$ 和 $Q$ 試著找出滿足 $Q=xP$ 的整數$x$。 記得這些點為 elliptic curve的一個subgroup， base point 為 $G$，而$G$的order 為 $n$。"
   ]
  },
  {
   "cell_type": "markdown",
   "metadata": {},
   "source": [
    "### Baby-step, giant-step\n",
    "我們可以把一個整數 $x$ 寫成 $x=am+b$，其中 $a, m, b$ 皆為任意的整數。 例如我們可以把 $10$ 寫成 $2⋅3+4$\n",
    "\n",
    "同理我們可以把 discrete logarithm problem 寫成：\n",
    "\n",
    "$\n",
    "Q=xP\n",
    "$\n",
    "\n",
    "$\n",
    "Q=(am+b)P\n",
    "$\n",
    "\n",
    "$\n",
    "Q=amP+bP\n",
    "$\n",
    "\n",
    "$\n",
    "Q−amP=bP\n",
    "$\n",
    "\n",
    "Baby-step giant-step 的想法是 \"meet in the middle\"。 和 brute-force attack 不一樣的地方是，攻擊者先計算 \"一些\" $bP$ 的數值和 \"一些\" $Q−amP$ 的數值直到它們相等，如下所示:\n",
    "\n",
    "1.計算 $m=\\lceil\\sqrt n\\rceil $\n",
    "\n",
    "2.對於每一個在 $0,...,m$ 的 $b$ 計算 $bP$ 然後將它存入 hash table。\n",
    "\n",
    "3.對於每一個在 $0,...,m$ 的 $a$\n",
    "\n",
    "    1. 計算$amP$\n",
    "    \n",
    "    1. 計算 $Q−amP$\n",
    "    \n",
    "    1. 尋找 hash table 中是否存在一個點 $bP$ 使得 $Q−amP=bP$\n",
    "    \n",
    "    1. 若存在我們回傳 $x=am+b$"
   ]
  },
  {
   "cell_type": "code",
   "execution_count": 10,
   "metadata": {
    "collapsed": false
   },
   "outputs": [
    {
     "data": {
      "application/json": {
       "Software versions": [
        {
         "module": "Python",
         "version": "2.7.10 64bit [GCC 5.2.1 20151010]"
        },
        {
         "module": "IPython",
         "version": "5.0.0"
        },
        {
         "module": "OS",
         "version": "Linux 4.2.0 30 generic x86_64 with Ubuntu 15.10 wily"
        },
        {
         "module": "numpy",
         "version": "1.8.2"
        },
        {
         "module": "scipy",
         "version": "0.14.1"
        },
        {
         "module": "matplotlib",
         "version": "1.4.2"
        },
        {
         "module": "pycrypto",
         "version": "2.6.1"
        },
        {
         "module": "cryptography",
         "version": "1.4"
        },
        {
         "module": "pyopenssl",
         "version": "0.15.1"
        },
        {
         "module": "pyelliptic",
         "version": "1.5.7"
        },
        {
         "module": "version_information",
         "version": "1.0.3"
        }
       ]
      },
      "text/html": [
       "<table><tr><th>Software</th><th>Version</th></tr><tr><td>Python</td><td>2.7.10 64bit [GCC 5.2.1 20151010]</td></tr><tr><td>IPython</td><td>5.0.0</td></tr><tr><td>OS</td><td>Linux 4.2.0 30 generic x86_64 with Ubuntu 15.10 wily</td></tr><tr><td>numpy</td><td>1.8.2</td></tr><tr><td>scipy</td><td>0.14.1</td></tr><tr><td>matplotlib</td><td>1.4.2</td></tr><tr><td>pycrypto</td><td>2.6.1</td></tr><tr><td>cryptography</td><td>1.4</td></tr><tr><td>pyopenssl</td><td>0.15.1</td></tr><tr><td>pyelliptic</td><td>1.5.7</td></tr><tr><td>version_information</td><td>1.0.3</td></tr><tr><td colspan='2'>Wed Jul 20 11:38:29 2016 UTC</td></tr></table>"
      ],
      "text/latex": [
       "\\begin{tabular}{|l|l|}\\hline\n",
       "{\\bf Software} & {\\bf Version} \\\\ \\hline\\hline\n",
       "Python & 2.7.10 64bit [GCC 5.2.1 20151010] \\\\ \\hline\n",
       "IPython & 5.0.0 \\\\ \\hline\n",
       "OS & Linux 4.2.0 30 generic x86\\_64 with Ubuntu 15.10 wily \\\\ \\hline\n",
       "numpy & 1.8.2 \\\\ \\hline\n",
       "scipy & 0.14.1 \\\\ \\hline\n",
       "matplotlib & 1.4.2 \\\\ \\hline\n",
       "pycrypto & 2.6.1 \\\\ \\hline\n",
       "cryptography & 1.4 \\\\ \\hline\n",
       "pyopenssl & 0.15.1 \\\\ \\hline\n",
       "pyelliptic & 1.5.7 \\\\ \\hline\n",
       "version_information & 1.0.3 \\\\ \\hline\n",
       "\\hline \\multicolumn{2}{|l|}{Wed Jul 20 11:38:29 2016 UTC} \\\\ \\hline\n",
       "\\end{tabular}\n"
      ],
      "text/plain": [
       "Software versions\n",
       "Python 2.7.10 64bit [GCC 5.2.1 20151010]\n",
       "IPython 5.0.0\n",
       "OS Linux 4.2.0 30 generic x86_64 with Ubuntu 15.10 wily\n",
       "numpy 1.8.2\n",
       "scipy 0.14.1\n",
       "matplotlib 1.4.2\n",
       "pycrypto 2.6.1\n",
       "cryptography 1.4\n",
       "pyopenssl 0.15.1\n",
       "pyelliptic 1.5.7\n",
       "version_information 1.0.3\n",
       "Wed Jul 20 11:38:29 2016 UTC"
      ]
     },
     "execution_count": 10,
     "metadata": {},
     "output_type": "execute_result"
    }
   ],
   "source": [
    "%reload_ext version_information\n",
    "%version_information numpy, scipy, matplotlib, pycrypto, cryptography, pyopenssl, pyelliptic, version_information"
   ]
  },
  {
   "cell_type": "markdown",
   "metadata": {
    "collapsed": true
   },
   "source": [
    "## Post quantum\n",
    "Google:\n",
    "https://security.googleblog.com/2016/07/experimenting-with-post-quantum.html"
   ]
  },
  {
   "cell_type": "code",
   "execution_count": null,
   "metadata": {
    "collapsed": true
   },
   "outputs": [],
   "source": []
  }
 ],
 "metadata": {
  "kernelspec": {
   "display_name": "Python [Root]",
   "language": "python",
   "name": "Python [Root]"
  },
  "language_info": {
   "codemirror_mode": {
    "name": "ipython",
    "version": 2
   },
   "file_extension": ".py",
   "mimetype": "text/x-python",
   "name": "python",
   "nbconvert_exporter": "python",
   "pygments_lexer": "ipython2",
   "version": "2.7.11"
  },
  "name": "03_ECC.ipynb"
 },
 "nbformat": 4,
 "nbformat_minor": 0
}
